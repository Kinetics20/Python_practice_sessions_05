{
 "cells": [
  {
   "metadata": {},
   "cell_type": "markdown",
   "source": [
    "### Interning \n",
    "\n",
    "- special feature in python to store value for references due to reusing values\n",
    "- only for immutable types and short strings without spaces\n",
    "- for number in range from -5 to 256"
   ],
   "id": "c5aceec3ddf7ec8f"
  },
  {
   "metadata": {
    "ExecuteTime": {
     "end_time": "2024-11-18T15:01:13.855733Z",
     "start_time": "2024-11-18T15:01:13.848940Z"
    }
   },
   "cell_type": "code",
   "source": [
    "x = [[1, 2], [3, 4]]\n",
    "\n",
    "y = x\n",
    "print(x == y, x is y )"
   ],
   "id": "96d804d0b04a667",
   "outputs": [
    {
     "name": "stdout",
     "output_type": "stream",
     "text": [
      "True True\n"
     ]
    }
   ],
   "execution_count": 2
  },
  {
   "metadata": {
    "ExecuteTime": {
     "end_time": "2024-11-18T15:01:46.205182Z",
     "start_time": "2024-11-18T15:01:46.199591Z"
    }
   },
   "cell_type": "code",
   "source": [
    "x[0][0] = 42\n",
    "print(x, y)"
   ],
   "id": "7c65c216a371c326",
   "outputs": [
    {
     "name": "stdout",
     "output_type": "stream",
     "text": [
      "[[42, 2], [3, 4]] [[42, 2], [3, 4]]\n"
     ]
    }
   ],
   "execution_count": 3
  },
  {
   "metadata": {
    "ExecuteTime": {
     "end_time": "2024-11-18T15:25:56.883231Z",
     "start_time": "2024-11-18T15:25:56.866838Z"
    }
   },
   "cell_type": "code",
   "source": [
    "z = x.copy()\n",
    "print(z == x, z is x)\n",
    "z[0][0] = 1024\n",
    "print(x, y, z)\n",
    "z[0] = [42, 2]\n",
    "print(x, y, z)\n",
    "z[-1] = x[0]\n",
    "x[0][0] = 666\n",
    "print(x, y, z)"
   ],
   "id": "f19b914781970f9d",
   "outputs": [
    {
     "name": "stdout",
     "output_type": "stream",
     "text": [
      "True False\n",
      "[[1024, 2], [3, 4]] [[1024, 2], [3, 4]] [[1024, 2], [3, 4]]\n",
      "[[1024, 2], [3, 4]] [[1024, 2], [3, 4]] [[42, 2], [3, 4]]\n",
      "[[666, 2], [3, 4]] [[666, 2], [3, 4]] [[42, 2], [666, 2]]\n"
     ]
    }
   ],
   "execution_count": 8
  },
  {
   "metadata": {},
   "cell_type": "markdown",
   "source": [
    "# functions parametrers order :\n",
    "- 1/positional\n",
    "- 2/*args -> tuple\n",
    "- 3/named\n",
    "- 4/optional / default\n",
    "- 5/**kwargs -> dictionary"
   ],
   "id": "ffedd48e3587e947"
  },
  {
   "metadata": {},
   "cell_type": "code",
   "outputs": [],
   "execution_count": null,
   "source": "",
   "id": "beb32861c2e33d67"
  }
 ],
 "metadata": {
  "kernelspec": {
   "display_name": "Python 3",
   "language": "python",
   "name": "python3"
  },
  "language_info": {
   "codemirror_mode": {
    "name": "ipython",
    "version": 2
   },
   "file_extension": ".py",
   "mimetype": "text/x-python",
   "name": "python",
   "nbconvert_exporter": "python",
   "pygments_lexer": "ipython2",
   "version": "2.7.6"
  }
 },
 "nbformat": 4,
 "nbformat_minor": 5
}
