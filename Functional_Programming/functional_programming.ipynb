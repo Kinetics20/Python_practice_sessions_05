{
 "cells": [
  {
   "metadata": {},
   "cell_type": "markdown",
   "source": [
    "# Functional programming\n",
    "\n",
    "1. Pure Function\n",
    "2. First-Class Functions - in the same time functions are objects and data\n",
    "3. Higher-Order Functions - can take declaration function like a parameter or return declaration function\n",
    "4. Function Composition is better way to create flexible code that inheritance\n",
    "5. Lambda Functions\n",
    "6. Closure\n",
    "7. Recursion\n",
    "8. Lazy evaluation\n",
    "9. Immutability\n",
    "10. Decorators\n",
    "11. Generators and Iterators\n",
    "12. Curring and Partial Applications\n",
    "13. Referential Transparency\n",
    "14. Streams and Pipelines\n",
    "15. Monads and Functors\n",
    "\n",
    "\n",
    "## Pure functions\n",
    "- for the same input return the sme output\n",
    "- can't have side effects ( it means : can't modify things outside function and nothing outside functions can't affect on it )\n",
    "\n",
    "#### Types of side effects\n",
    "1. work with files , read files , problem with accessibility \n",
    "2. work with API ( application programming interface )\n",
    "3. work with db\n",
    "\n",
    "```python\n",
    "\n",
    "def add(a, b):\n",
    "    return a + b\n",
    "\n",
    "add(1, 2) #3\n",
    "add(1, 2) #3\n",
    "\n",
    "```\n"
   ],
   "id": "b7b564e473ee817e"
  },
  {
   "metadata": {},
   "cell_type": "markdown",
   "source": [
    "### Closure\n",
    "\n",
    "Creating closure:\n",
    "- min. two functions , one into another\n",
    "- outside function ( outer ) has to return declaration inside function ( inner )\n",
    "- inside function has to use sth ( identifier ) from outside function \n",
    "\n",
    "advantage:\n",
    "- persistence , durability\n",
    "\n",
    "disadvantage\n",
    "- potential memory-leak\n",
    "\n",
    "Definition:\n",
    "- access to variables from outside the current working range\n"
   ],
   "id": "5cdfe60654994ad5"
  },
  {
   "metadata": {},
   "cell_type": "markdown",
   "source": [
    "#### Composition\n",
    "\n",
    "Composition is when one function takes another function in the case of second function we get different action"
   ],
   "id": "e1dde5628945cab3"
  },
  {
   "metadata": {},
   "cell_type": "markdown",
   "source": [
    "### Decorators\n",
    "\n",
    "- Design pattern\n",
    "- functionality python\n",
    "    - functions decorators ( it's necessary use closure )\n",
    "    - classes decorators ( sexy alternative to metaclass )\n",
    "    \n",
    "functions decorators is the ability to modify the operation of a function without changing its implementation"
   ],
   "id": "7f6cb59781a3f608"
  },
  {
   "metadata": {},
   "cell_type": "code",
   "outputs": [],
   "execution_count": null,
   "source": "",
   "id": "460e2bc7c7b3649a"
  },
  {
   "metadata": {},
   "cell_type": "code",
   "outputs": [],
   "execution_count": null,
   "source": "",
   "id": "64dc548f41dda30d"
  },
  {
   "metadata": {},
   "cell_type": "code",
   "outputs": [],
   "execution_count": null,
   "source": "",
   "id": "cfac24df332b409e"
  }
 ],
 "metadata": {
  "kernelspec": {
   "display_name": "Python 3",
   "language": "python",
   "name": "python3"
  },
  "language_info": {
   "codemirror_mode": {
    "name": "ipython",
    "version": 2
   },
   "file_extension": ".py",
   "mimetype": "text/x-python",
   "name": "python",
   "nbconvert_exporter": "python",
   "pygments_lexer": "ipython2",
   "version": "2.7.6"
  }
 },
 "nbformat": 4,
 "nbformat_minor": 5
}
