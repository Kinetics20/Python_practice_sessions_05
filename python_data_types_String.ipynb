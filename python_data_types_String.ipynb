{
 "cells": [
  {
   "metadata": {},
   "cell_type": "code",
   "outputs": [],
   "execution_count": null,
   "source": "",
   "id": "9532f2ce77d685b5"
  },
  {
   "metadata": {},
   "cell_type": "markdown",
   "source": [
    "# String\n",
    "1. Collection charpoints\n",
    "2. ordered / index /\n",
    "3. homogeneous / string in python is made up of strings /\n",
    "4. immutable / \n",
    "\n",
    "\n",
    "```python\n",
    "\n",
    "x = 'ala ma kota'\n",
    "type(x)  # str\n",
    "```\n",
    "---\n",
    "\n",
    "\n"
   ],
   "id": "8f8f82e1a14461b7"
  },
  {
   "metadata": {
    "ExecuteTime": {
     "end_time": "2024-10-21T12:29:29.622754Z",
     "start_time": "2024-10-21T12:29:29.607111Z"
    }
   },
   "cell_type": "code",
   "source": [
    "sentence = 'ala ma kota'\n",
    "type(sentence) # type is metaclass , that return type of object / data type /"
   ],
   "id": "42eeb99f874024bc",
   "outputs": [
    {
     "data": {
      "text/plain": [
       "str"
      ]
     },
     "execution_count": 2,
     "metadata": {},
     "output_type": "execute_result"
    }
   ],
   "execution_count": 2
  },
  {
   "metadata": {
    "jupyter": {
     "is_executing": true
    }
   },
   "cell_type": "code",
   "source": "type(type)",
   "id": "18f80146ffd31623",
   "outputs": [],
   "execution_count": null
  },
  {
   "metadata": {},
   "cell_type": "markdown",
   "source": [
    "# double underscores /i.e : __ __add__ __ ) / --> read --> **dunder** \n",
    "is a convention of mark inbuilt things in python / low level /"
   ],
   "id": "d73e3221c663fe80"
  },
  {
   "metadata": {
    "ExecuteTime": {
     "end_time": "2024-10-20T19:03:11.584687Z",
     "start_time": "2024-10-20T19:03:11.579330Z"
    }
   },
   "cell_type": "code",
   "source": [
    "# return all objects methods / functionalism /\n",
    "dir(sentence)\n"
   ],
   "id": "65fd10c1432fef34",
   "outputs": [
    {
     "data": {
      "text/plain": [
       "['__add__',\n",
       " '__class__',\n",
       " '__contains__',\n",
       " '__delattr__',\n",
       " '__dir__',\n",
       " '__doc__',\n",
       " '__eq__',\n",
       " '__format__',\n",
       " '__ge__',\n",
       " '__getattribute__',\n",
       " '__getitem__',\n",
       " '__getnewargs__',\n",
       " '__getstate__',\n",
       " '__gt__',\n",
       " '__hash__',\n",
       " '__init__',\n",
       " '__init_subclass__',\n",
       " '__iter__',\n",
       " '__le__',\n",
       " '__len__',\n",
       " '__lt__',\n",
       " '__mod__',\n",
       " '__mul__',\n",
       " '__ne__',\n",
       " '__new__',\n",
       " '__reduce__',\n",
       " '__reduce_ex__',\n",
       " '__repr__',\n",
       " '__rmod__',\n",
       " '__rmul__',\n",
       " '__setattr__',\n",
       " '__sizeof__',\n",
       " '__str__',\n",
       " '__subclasshook__',\n",
       " 'capitalize',\n",
       " 'casefold',\n",
       " 'center',\n",
       " 'count',\n",
       " 'encode',\n",
       " 'endswith',\n",
       " 'expandtabs',\n",
       " 'find',\n",
       " 'format',\n",
       " 'format_map',\n",
       " 'index',\n",
       " 'isalnum',\n",
       " 'isalpha',\n",
       " 'isascii',\n",
       " 'isdecimal',\n",
       " 'isdigit',\n",
       " 'isidentifier',\n",
       " 'islower',\n",
       " 'isnumeric',\n",
       " 'isprintable',\n",
       " 'isspace',\n",
       " 'istitle',\n",
       " 'isupper',\n",
       " 'join',\n",
       " 'ljust',\n",
       " 'lower',\n",
       " 'lstrip',\n",
       " 'maketrans',\n",
       " 'partition',\n",
       " 'removeprefix',\n",
       " 'removesuffix',\n",
       " 'replace',\n",
       " 'rfind',\n",
       " 'rindex',\n",
       " 'rjust',\n",
       " 'rpartition',\n",
       " 'rsplit',\n",
       " 'rstrip',\n",
       " 'split',\n",
       " 'splitlines',\n",
       " 'startswith',\n",
       " 'strip',\n",
       " 'swapcase',\n",
       " 'title',\n",
       " 'translate',\n",
       " 'upper',\n",
       " 'zfill']"
      ]
     },
     "execution_count": 5,
     "metadata": {},
     "output_type": "execute_result"
    }
   ],
   "execution_count": 5
  },
  {
   "metadata": {
    "ExecuteTime": {
     "end_time": "2024-10-20T19:18:52.652528Z",
     "start_time": "2024-10-20T19:18:52.646040Z"
    }
   },
   "cell_type": "code",
   "source": "sentence.upper()",
   "id": "ec287c70552041ab",
   "outputs": [
    {
     "data": {
      "text/plain": [
       "'ALA MA KOTA'"
      ]
     },
     "execution_count": 6,
     "metadata": {},
     "output_type": "execute_result"
    }
   ],
   "execution_count": 6
  },
  {
   "metadata": {
    "ExecuteTime": {
     "end_time": "2024-10-20T19:19:29.761496Z",
     "start_time": "2024-10-20T19:19:29.754123Z"
    }
   },
   "cell_type": "code",
   "source": "sentence.lower()",
   "id": "2648bde4e6c93e7d",
   "outputs": [
    {
     "data": {
      "text/plain": [
       "'ala ma kota'"
      ]
     },
     "execution_count": 7,
     "metadata": {},
     "output_type": "execute_result"
    }
   ],
   "execution_count": 7
  },
  {
   "metadata": {
    "ExecuteTime": {
     "end_time": "2024-10-20T19:19:37.950626Z",
     "start_time": "2024-10-20T19:19:37.944215Z"
    }
   },
   "cell_type": "code",
   "source": "sentence.title()",
   "id": "6fc35a637eee3947",
   "outputs": [
    {
     "data": {
      "text/plain": [
       "'Ala Ma Kota'"
      ]
     },
     "execution_count": 8,
     "metadata": {},
     "output_type": "execute_result"
    }
   ],
   "execution_count": 8
  },
  {
   "metadata": {
    "ExecuteTime": {
     "end_time": "2024-10-20T19:19:58.071693Z",
     "start_time": "2024-10-20T19:19:58.067590Z"
    }
   },
   "cell_type": "code",
   "source": "sentence.capitalize()",
   "id": "626fb2c296ef4bb8",
   "outputs": [
    {
     "data": {
      "text/plain": [
       "'Ala ma kota'"
      ]
     },
     "execution_count": 9,
     "metadata": {},
     "output_type": "execute_result"
    }
   ],
   "execution_count": 9
  },
  {
   "metadata": {
    "ExecuteTime": {
     "end_time": "2024-10-20T19:21:53.560616Z",
     "start_time": "2024-10-20T19:21:53.553746Z"
    }
   },
   "cell_type": "code",
   "source": "sentence.startswith('ala')",
   "id": "ad54c3a7a15b10a0",
   "outputs": [
    {
     "data": {
      "text/plain": [
       "True"
      ]
     },
     "execution_count": 11,
     "metadata": {},
     "output_type": "execute_result"
    }
   ],
   "execution_count": 11
  },
  {
   "metadata": {
    "ExecuteTime": {
     "end_time": "2024-10-20T19:22:13.098001Z",
     "start_time": "2024-10-20T19:22:13.093215Z"
    }
   },
   "cell_type": "code",
   "source": "sentence.endswith('roman')",
   "id": "f43afb4505c38f9e",
   "outputs": [
    {
     "data": {
      "text/plain": [
       "False"
      ]
     },
     "execution_count": 12,
     "metadata": {},
     "output_type": "execute_result"
    }
   ],
   "execution_count": 12
  },
  {
   "metadata": {
    "ExecuteTime": {
     "end_time": "2024-10-20T19:22:39.833577Z",
     "start_time": "2024-10-20T19:22:39.824267Z"
    }
   },
   "cell_type": "code",
   "source": "sentence.replace('ala', 'roman')",
   "id": "95a1bbf6cdaf9d84",
   "outputs": [
    {
     "data": {
      "text/plain": [
       "'roman ma kota'"
      ]
     },
     "execution_count": 13,
     "metadata": {},
     "output_type": "execute_result"
    }
   ],
   "execution_count": 13
  },
  {
   "metadata": {
    "ExecuteTime": {
     "end_time": "2024-10-20T19:25:05.527995Z",
     "start_time": "2024-10-20T19:25:05.520959Z"
    }
   },
   "cell_type": "code",
   "source": "sentence.split()",
   "id": "77f13011334b1d3e",
   "outputs": [
    {
     "data": {
      "text/plain": [
       "['ala', 'ma', 'kota']"
      ]
     },
     "execution_count": 14,
     "metadata": {},
     "output_type": "execute_result"
    }
   ],
   "execution_count": 14
  },
  {
   "metadata": {
    "ExecuteTime": {
     "end_time": "2024-10-20T19:27:18.518934Z",
     "start_time": "2024-10-20T19:27:18.504618Z"
    }
   },
   "cell_type": "code",
   "source": "sentence.split('ma')",
   "id": "cc9782641f81cf71",
   "outputs": [
    {
     "data": {
      "text/plain": [
       "['ala ', ' kota']"
      ]
     },
     "execution_count": 15,
     "metadata": {},
     "output_type": "execute_result"
    }
   ],
   "execution_count": 15
  },
  {
   "metadata": {
    "ExecuteTime": {
     "end_time": "2024-10-21T12:29:43.896976Z",
     "start_time": "2024-10-21T12:29:43.868810Z"
    }
   },
   "cell_type": "code",
   "source": "sentence.split('ala')",
   "id": "36f83254b9ef0747",
   "outputs": [
    {
     "data": {
      "text/plain": [
       "['', ' ma kota']"
      ]
     },
     "execution_count": 3,
     "metadata": {},
     "output_type": "execute_result"
    }
   ],
   "execution_count": 3
  },
  {
   "metadata": {
    "ExecuteTime": {
     "end_time": "2024-10-21T12:46:31.191486Z",
     "start_time": "2024-10-21T12:46:31.180928Z"
    }
   },
   "cell_type": "code",
   "source": "l1 = ['ala', 'ma', 'kota']",
   "id": "5dd034b9a0a242a",
   "outputs": [],
   "execution_count": 4
  },
  {
   "metadata": {
    "ExecuteTime": {
     "end_time": "2024-10-20T19:36:57.958094Z",
     "start_time": "2024-10-20T19:36:57.952565Z"
    }
   },
   "cell_type": "code",
   "source": [
    "n_l1 = ', '.join(l1)\n",
    "n_l1"
   ],
   "id": "b2a1dc81f1510404",
   "outputs": [
    {
     "data": {
      "text/plain": [
       "'ala, ma, kota'"
      ]
     },
     "execution_count": 19,
     "metadata": {},
     "output_type": "execute_result"
    }
   ],
   "execution_count": 19
  },
  {
   "metadata": {
    "ExecuteTime": {
     "end_time": "2024-10-20T19:38:16.927268Z",
     "start_time": "2024-10-20T19:38:16.922866Z"
    }
   },
   "cell_type": "code",
   "source": [
    "nl2 = ' '.join(l1)\n",
    "nl2"
   ],
   "id": "87698b7d9c60d88",
   "outputs": [
    {
     "data": {
      "text/plain": [
       "'ala ma kota'"
      ]
     },
     "execution_count": 22,
     "metadata": {},
     "output_type": "execute_result"
    }
   ],
   "execution_count": 22
  },
  {
   "metadata": {
    "ExecuteTime": {
     "end_time": "2024-10-20T19:41:33.656969Z",
     "start_time": "2024-10-20T19:41:33.650611Z"
    }
   },
   "cell_type": "code",
   "source": "'^^^___$$$$'.join(l1)",
   "id": "77cd72c16907edd0",
   "outputs": [
    {
     "data": {
      "text/plain": [
       "'ala^^^___$$$$ma^^^___$$$$kota'"
      ]
     },
     "execution_count": 23,
     "metadata": {},
     "output_type": "execute_result"
    }
   ],
   "execution_count": 23
  },
  {
   "metadata": {
    "ExecuteTime": {
     "end_time": "2024-10-20T19:43:39.683979Z",
     "start_time": "2024-10-20T19:43:39.676450Z"
    }
   },
   "cell_type": "code",
   "source": "'\\n'.join(l1)",
   "id": "9b884e4579dd7f89",
   "outputs": [
    {
     "data": {
      "text/plain": [
       "'ala\\nma\\nkota'"
      ]
     },
     "execution_count": 24,
     "metadata": {},
     "output_type": "execute_result"
    }
   ],
   "execution_count": 24
  },
  {
   "metadata": {
    "ExecuteTime": {
     "end_time": "2024-10-20T19:43:57.651687Z",
     "start_time": "2024-10-20T19:43:57.646599Z"
    }
   },
   "cell_type": "code",
   "source": "print('\\n'.join(l1))",
   "id": "557077e0b92d404b",
   "outputs": [
    {
     "name": "stdout",
     "output_type": "stream",
     "text": [
      "ala\n",
      "ma\n",
      "kota\n"
     ]
    }
   ],
   "execution_count": 25
  },
  {
   "metadata": {
    "ExecuteTime": {
     "end_time": "2024-10-20T19:46:55.108881Z",
     "start_time": "2024-10-20T19:46:55.102796Z"
    }
   },
   "cell_type": "code",
   "source": "'house'.isdigit()",
   "id": "112065262fd532ae",
   "outputs": [
    {
     "data": {
      "text/plain": [
       "False"
      ]
     },
     "execution_count": 26,
     "metadata": {},
     "output_type": "execute_result"
    }
   ],
   "execution_count": 26
  },
  {
   "metadata": {
    "ExecuteTime": {
     "end_time": "2024-10-20T19:47:44.746932Z",
     "start_time": "2024-10-20T19:47:44.739938Z"
    }
   },
   "cell_type": "code",
   "source": "'125'.isdigit()",
   "id": "701ddc47ef1072fb",
   "outputs": [
    {
     "data": {
      "text/plain": [
       "True"
      ]
     },
     "execution_count": 28,
     "metadata": {},
     "output_type": "execute_result"
    }
   ],
   "execution_count": 28
  },
  {
   "metadata": {},
   "cell_type": "markdown",
   "source": [
    "## Slicing\n",
    "  a  | l  | a  |    | m  | a  |\n",
    ":---:|:--:|:--:|:--:|:--:|:--:   \n",
    "|  0  | 1  | 2  | 3  | 4  | 5  |\n",
    "| -6 | -5 | -4 | -3 | -2 | -1 |\n",
    "\n",
    "```python\n",
    "\n",
    "# start - przedzial zamkniety\n",
    "# stop - przedzial otwarty\n",
    "\n",
    "sentence[3] # sentence[index]\n",
    "sentence[1:2] # sentence[start:stop]\n",
    "sentence[1:5:2] # sentence[start:stop:step]\n",
    "\n",
    "```"
   ],
   "id": "383a404d2d43b232"
  },
  {
   "metadata": {
    "ExecuteTime": {
     "end_time": "2024-10-20T20:02:45.437409Z",
     "start_time": "2024-10-20T20:02:45.432798Z"
    }
   },
   "cell_type": "code",
   "source": "sentence",
   "id": "e4ece64c159e59d0",
   "outputs": [
    {
     "data": {
      "text/plain": [
       "'ala ma kota'"
      ]
     },
     "execution_count": 29,
     "metadata": {},
     "output_type": "execute_result"
    }
   ],
   "execution_count": 29
  },
  {
   "metadata": {
    "ExecuteTime": {
     "end_time": "2024-10-20T20:02:57.100405Z",
     "start_time": "2024-10-20T20:02:57.094905Z"
    }
   },
   "cell_type": "code",
   "source": "sentence[:3]",
   "id": "cae6caebcfc3b5b0",
   "outputs": [
    {
     "data": {
      "text/plain": [
       "'ala'"
      ]
     },
     "execution_count": 30,
     "metadata": {},
     "output_type": "execute_result"
    }
   ],
   "execution_count": 30
  },
  {
   "metadata": {
    "ExecuteTime": {
     "end_time": "2024-10-20T20:04:26.686467Z",
     "start_time": "2024-10-20T20:04:26.681325Z"
    }
   },
   "cell_type": "code",
   "source": "sentence[7:]",
   "id": "3e57d685e5ca9e7b",
   "outputs": [
    {
     "data": {
      "text/plain": [
       "'kota'"
      ]
     },
     "execution_count": 31,
     "metadata": {},
     "output_type": "execute_result"
    }
   ],
   "execution_count": 31
  },
  {
   "metadata": {
    "ExecuteTime": {
     "end_time": "2024-10-20T20:05:47.097706Z",
     "start_time": "2024-10-20T20:05:47.090034Z"
    }
   },
   "cell_type": "code",
   "source": "sentence[-4:]",
   "id": "e3244038ce750572",
   "outputs": [
    {
     "data": {
      "text/plain": [
       "'kota'"
      ]
     },
     "execution_count": 32,
     "metadata": {},
     "output_type": "execute_result"
    }
   ],
   "execution_count": 32
  },
  {
   "metadata": {
    "ExecuteTime": {
     "end_time": "2024-10-20T20:11:23.259661Z",
     "start_time": "2024-10-20T20:11:23.246857Z"
    }
   },
   "cell_type": "code",
   "source": "sentence.index('k')",
   "id": "c4072e9c2da1add8",
   "outputs": [
    {
     "data": {
      "text/plain": [
       "7"
      ]
     },
     "execution_count": 35,
     "metadata": {},
     "output_type": "execute_result"
    }
   ],
   "execution_count": 35
  },
  {
   "metadata": {
    "ExecuteTime": {
     "end_time": "2024-10-20T20:11:44.082178Z",
     "start_time": "2024-10-20T20:11:44.076296Z"
    }
   },
   "cell_type": "code",
   "source": "sentence.find('k')",
   "id": "42e4ef5d4e544f53",
   "outputs": [
    {
     "data": {
      "text/plain": [
       "7"
      ]
     },
     "execution_count": 36,
     "metadata": {},
     "output_type": "execute_result"
    }
   ],
   "execution_count": 36
  },
  {
   "metadata": {
    "ExecuteTime": {
     "end_time": "2024-10-20T20:12:08.068468Z",
     "start_time": "2024-10-20T20:12:08.063760Z"
    }
   },
   "cell_type": "code",
   "source": "sentence.count('a')",
   "id": "54c486a315b07759",
   "outputs": [
    {
     "data": {
      "text/plain": [
       "4"
      ]
     },
     "execution_count": 37,
     "metadata": {},
     "output_type": "execute_result"
    }
   ],
   "execution_count": 37
  },
  {
   "metadata": {
    "ExecuteTime": {
     "end_time": "2024-10-20T20:19:51.664596Z",
     "start_time": "2024-10-20T20:19:51.659375Z"
    }
   },
   "cell_type": "code",
   "source": "sentence[::2]",
   "id": "77eaa48710b2ea96",
   "outputs": [
    {
     "data": {
      "text/plain": [
       "'aam oa'"
      ]
     },
     "execution_count": 38,
     "metadata": {},
     "output_type": "execute_result"
    }
   ],
   "execution_count": 38
  },
  {
   "metadata": {
    "ExecuteTime": {
     "end_time": "2024-10-20T20:21:41.038422Z",
     "start_time": "2024-10-20T20:21:41.032981Z"
    }
   },
   "cell_type": "code",
   "source": "sentence[::-1]",
   "id": "aa8e6ee101a5631f",
   "outputs": [
    {
     "data": {
      "text/plain": [
       "'atok am ala'"
      ]
     },
     "execution_count": 39,
     "metadata": {},
     "output_type": "execute_result"
    }
   ],
   "execution_count": 39
  },
  {
   "metadata": {
    "ExecuteTime": {
     "end_time": "2024-10-20T20:23:15.880089Z",
     "start_time": "2024-10-20T20:23:15.874745Z"
    }
   },
   "cell_type": "code",
   "source": "sentence[:-5:-1]",
   "id": "d95b8b9b5376bd80",
   "outputs": [
    {
     "data": {
      "text/plain": [
       "'atok'"
      ]
     },
     "execution_count": 41,
     "metadata": {},
     "output_type": "execute_result"
    }
   ],
   "execution_count": 41
  },
  {
   "metadata": {
    "ExecuteTime": {
     "end_time": "2024-10-20T20:30:53.609681Z",
     "start_time": "2024-10-20T20:30:53.604808Z"
    }
   },
   "cell_type": "code",
   "source": "sentence[-4:][::-1]",
   "id": "200e6716c6d78743",
   "outputs": [
    {
     "data": {
      "text/plain": [
       "'atok'"
      ]
     },
     "execution_count": 42,
     "metadata": {},
     "output_type": "execute_result"
    }
   ],
   "execution_count": 42
  },
  {
   "metadata": {
    "ExecuteTime": {
     "end_time": "2024-10-20T20:31:24.776706Z",
     "start_time": "2024-10-20T20:31:24.770120Z"
    }
   },
   "cell_type": "code",
   "source": "sentence[:6:-1]",
   "id": "4427cb7d8ace16c9",
   "outputs": [
    {
     "data": {
      "text/plain": [
       "'atok'"
      ]
     },
     "execution_count": 43,
     "metadata": {},
     "output_type": "execute_result"
    }
   ],
   "execution_count": 43
  },
  {
   "metadata": {
    "ExecuteTime": {
     "end_time": "2024-10-20T20:33:53.197937Z",
     "start_time": "2024-10-20T20:33:53.192581Z"
    }
   },
   "cell_type": "code",
   "source": "sentence[3:6][::-1]",
   "id": "1318a1c7054e142e",
   "outputs": [
    {
     "data": {
      "text/plain": [
       "'am '"
      ]
     },
     "execution_count": 44,
     "metadata": {},
     "output_type": "execute_result"
    }
   ],
   "execution_count": 44
  },
  {
   "metadata": {
    "ExecuteTime": {
     "end_time": "2024-10-20T20:36:55.824753Z",
     "start_time": "2024-10-20T20:36:55.815820Z"
    }
   },
   "cell_type": "code",
   "source": "sentence[-6:-9:-1]",
   "id": "af525f95557f2c50",
   "outputs": [
    {
     "data": {
      "text/plain": [
       "'am '"
      ]
     },
     "execution_count": 48,
     "metadata": {},
     "output_type": "execute_result"
    }
   ],
   "execution_count": 48
  },
  {
   "metadata": {
    "ExecuteTime": {
     "end_time": "2024-10-21T14:08:38.552404Z",
     "start_time": "2024-10-21T14:08:38.540216Z"
    }
   },
   "cell_type": "code",
   "source": [
    "import math\n",
    "print(vars(math))"
   ],
   "id": "17b13ea66bbf3389",
   "outputs": [
    {
     "name": "stdout",
     "output_type": "stream",
     "text": [
      "{'__name__': 'math', '__doc__': 'This module provides access to the mathematical functions\\ndefined by the C standard.', '__package__': '', '__loader__': <class '_frozen_importlib.BuiltinImporter'>, '__spec__': ModuleSpec(name='math', loader=<class '_frozen_importlib.BuiltinImporter'>, origin='built-in'), 'acos': <built-in function acos>, 'acosh': <built-in function acosh>, 'asin': <built-in function asin>, 'asinh': <built-in function asinh>, 'atan': <built-in function atan>, 'atan2': <built-in function atan2>, 'atanh': <built-in function atanh>, 'cbrt': <built-in function cbrt>, 'ceil': <built-in function ceil>, 'copysign': <built-in function copysign>, 'cos': <built-in function cos>, 'cosh': <built-in function cosh>, 'degrees': <built-in function degrees>, 'dist': <built-in function dist>, 'erf': <built-in function erf>, 'erfc': <built-in function erfc>, 'exp': <built-in function exp>, 'exp2': <built-in function exp2>, 'expm1': <built-in function expm1>, 'fabs': <built-in function fabs>, 'factorial': <built-in function factorial>, 'floor': <built-in function floor>, 'fmod': <built-in function fmod>, 'frexp': <built-in function frexp>, 'fsum': <built-in function fsum>, 'gamma': <built-in function gamma>, 'gcd': <built-in function gcd>, 'hypot': <built-in function hypot>, 'isclose': <built-in function isclose>, 'isfinite': <built-in function isfinite>, 'isinf': <built-in function isinf>, 'isnan': <built-in function isnan>, 'isqrt': <built-in function isqrt>, 'lcm': <built-in function lcm>, 'ldexp': <built-in function ldexp>, 'lgamma': <built-in function lgamma>, 'log': <built-in function log>, 'log1p': <built-in function log1p>, 'log10': <built-in function log10>, 'log2': <built-in function log2>, 'modf': <built-in function modf>, 'pow': <built-in function pow>, 'radians': <built-in function radians>, 'remainder': <built-in function remainder>, 'sin': <built-in function sin>, 'sinh': <built-in function sinh>, 'sqrt': <built-in function sqrt>, 'tan': <built-in function tan>, 'tanh': <built-in function tanh>, 'trunc': <built-in function trunc>, 'prod': <built-in function prod>, 'perm': <built-in function perm>, 'comb': <built-in function comb>, 'nextafter': <built-in function nextafter>, 'ulp': <built-in function ulp>, 'pi': 3.141592653589793, 'e': 2.718281828459045, 'tau': 6.283185307179586, 'inf': inf, 'nan': nan}\n"
     ]
    }
   ],
   "execution_count": 7
  },
  {
   "metadata": {},
   "cell_type": "code",
   "outputs": [],
   "execution_count": null,
   "source": "",
   "id": "662f5be1dfeb192e"
  }
 ],
 "metadata": {
  "kernelspec": {
   "display_name": "Python 3",
   "language": "python",
   "name": "python3"
  },
  "language_info": {
   "codemirror_mode": {
    "name": "ipython",
    "version": 2
   },
   "file_extension": ".py",
   "mimetype": "text/x-python",
   "name": "python",
   "nbconvert_exporter": "python",
   "pygments_lexer": "ipython2",
   "version": "2.7.6"
  }
 },
 "nbformat": 4,
 "nbformat_minor": 5
}
