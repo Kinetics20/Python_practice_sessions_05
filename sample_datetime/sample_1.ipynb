{
 "cells": [
  {
   "cell_type": "code",
   "id": "initial_id",
   "metadata": {
    "collapsed": true,
    "ExecuteTime": {
     "end_time": "2025-03-14T16:28:49.083318Z",
     "start_time": "2025-03-14T16:28:49.073514Z"
    }
   },
   "source": [
    "import os\n",
    "from datetime import date, datetime, time"
   ],
   "outputs": [],
   "execution_count": 48
  },
  {
   "metadata": {
    "ExecuteTime": {
     "end_time": "2025-03-14T14:23:29.967839Z",
     "start_time": "2025-03-14T14:23:29.958612Z"
    }
   },
   "cell_type": "code",
   "source": [
    "import pandas as pd\n",
    "import numpy as np"
   ],
   "id": "132875939190f5f7",
   "outputs": [],
   "execution_count": 4
  },
  {
   "metadata": {
    "ExecuteTime": {
     "end_time": "2025-03-14T14:24:51.264548Z",
     "start_time": "2025-03-14T14:24:51.257750Z"
    }
   },
   "cell_type": "code",
   "source": [
    "today = date.today()\n",
    "print(f'today is {today}')"
   ],
   "id": "372deb40577a4a3b",
   "outputs": [
    {
     "name": "stdout",
     "output_type": "stream",
     "text": [
      "today is 2025-03-14\n"
     ]
    }
   ],
   "execution_count": 5
  },
  {
   "metadata": {
    "ExecuteTime": {
     "end_time": "2025-03-14T14:53:14.112432Z",
     "start_time": "2025-03-14T14:53:14.095005Z"
    }
   },
   "cell_type": "code",
   "source": [
    "day_1 = today.day\n",
    "month_1 = today.month\n",
    "year_1 = today.year\n",
    "list[day_1, month_1, year_1]"
   ],
   "id": "34a7833a460a2a19",
   "outputs": [
    {
     "data": {
      "text/plain": [
       "list[14, 3, 2025]"
      ]
     },
     "execution_count": 8,
     "metadata": {},
     "output_type": "execute_result"
    }
   ],
   "execution_count": 8
  },
  {
   "metadata": {
    "ExecuteTime": {
     "end_time": "2025-03-14T15:05:54.407004Z",
     "start_time": "2025-03-14T15:05:54.395121Z"
    }
   },
   "cell_type": "code",
   "source": [
    "c = today.strftime('%A, %dth of %B %Y')\n",
    "c"
   ],
   "id": "7fe954f3e3b0935e",
   "outputs": [
    {
     "data": {
      "text/plain": [
       "'Friday, 14th of March 2025'"
      ]
     },
     "execution_count": 16,
     "metadata": {},
     "output_type": "execute_result"
    }
   ],
   "execution_count": 16
  },
  {
   "metadata": {
    "ExecuteTime": {
     "end_time": "2025-03-14T15:07:35.355305Z",
     "start_time": "2025-03-14T15:07:35.346365Z"
    }
   },
   "cell_type": "code",
   "source": [
    "next_year = today.replace(year = today.year + 1)\n",
    "next_year"
   ],
   "id": "a93ec130298547dd",
   "outputs": [
    {
     "data": {
      "text/plain": [
       "datetime.date(2026, 3, 14)"
      ]
     },
     "execution_count": 18,
     "metadata": {},
     "output_type": "execute_result"
    }
   ],
   "execution_count": 18
  },
  {
   "metadata": {
    "ExecuteTime": {
     "end_time": "2025-03-14T15:11:58.379887Z",
     "start_time": "2025-03-14T15:11:58.372306Z"
    }
   },
   "cell_type": "code",
   "source": [
    "difference = abs(next_year - today)\n",
    "print(f'only {difference.days} days until next year')"
   ],
   "id": "5f270e2eeeb1f85",
   "outputs": [
    {
     "name": "stdout",
     "output_type": "stream",
     "text": [
      "only 365 days until next year\n"
     ]
    }
   ],
   "execution_count": 20
  },
  {
   "metadata": {
    "ExecuteTime": {
     "end_time": "2025-03-14T15:20:10.574943Z",
     "start_time": "2025-03-14T15:20:10.565373Z"
    }
   },
   "cell_type": "code",
   "source": [
    "my_date = date(1973, 7, 10)\n",
    "print(f'my date of birth is {my_date}')"
   ],
   "id": "fa537a45fa906731",
   "outputs": [
    {
     "name": "stdout",
     "output_type": "stream",
     "text": [
      "my date of birth is 1973-07-10\n"
     ]
    }
   ],
   "execution_count": 23
  },
  {
   "metadata": {
    "ExecuteTime": {
     "end_time": "2025-03-14T15:26:25.822568Z",
     "start_time": "2025-03-14T15:26:25.815871Z"
    }
   },
   "cell_type": "code",
   "source": [
    "my_date = date.fromisoformat('1973-07-10')\n",
    "print(f'my date of birth is {my_date}')\n",
    "print(f'it was {my_date.weekday() } day of week')"
   ],
   "id": "15c374940e3ba6f8",
   "outputs": [
    {
     "name": "stdout",
     "output_type": "stream",
     "text": [
      "my date of birth is 1973-07-10\n",
      "it was 1 day of week\n"
     ]
    }
   ],
   "execution_count": 30
  },
  {
   "metadata": {
    "ExecuteTime": {
     "end_time": "2025-03-14T16:18:53.395430Z",
     "start_time": "2025-03-14T16:18:53.386708Z"
    }
   },
   "cell_type": "code",
   "source": [
    "now_1 = datetime.now()\n",
    "print(f'today is {now_1}')"
   ],
   "id": "cde19e158ffe0a1d",
   "outputs": [
    {
     "name": "stdout",
     "output_type": "stream",
     "text": [
      "today is 2025-03-14 17:18:53.388839\n"
     ]
    }
   ],
   "execution_count": 42
  },
  {
   "metadata": {
    "ExecuteTime": {
     "end_time": "2025-03-14T16:19:04.968812Z",
     "start_time": "2025-03-14T16:19:04.962492Z"
    }
   },
   "cell_type": "code",
   "source": [
    "min_1 = now_1.minute\n",
    "print(f'min is {min_1}')\n"
   ],
   "id": "3877c2adbbd7c7e3",
   "outputs": [
    {
     "name": "stdout",
     "output_type": "stream",
     "text": [
      "min is 18\n"
     ]
    }
   ],
   "execution_count": 44
  },
  {
   "metadata": {
    "ExecuteTime": {
     "end_time": "2025-03-14T16:22:57.934403Z",
     "start_time": "2025-03-14T16:22:57.923194Z"
    }
   },
   "cell_type": "code",
   "source": [
    "chernobyl = datetime.fromisoformat('1986-04-26 01:23:40+04:00')\n",
    "print(f'the nuclear disaster in chernobyl was in {chernobyl}')"
   ],
   "id": "510e273512aaf177",
   "outputs": [
    {
     "name": "stdout",
     "output_type": "stream",
     "text": [
      "the nuclear disaster in chernobyl was in 1986-04-26 01:23:40+04:00\n"
     ]
    }
   ],
   "execution_count": 46
  },
  {
   "metadata": {
    "ExecuteTime": {
     "end_time": "2025-03-14T16:27:34.990863Z",
     "start_time": "2025-03-14T16:27:34.982339Z"
    }
   },
   "cell_type": "code",
   "source": [
    "f = chernobyl.strftime('the nuclear disaster in chernobyl was in %A %B %dth, %Y at %X MSD(%Z)')\n",
    "f"
   ],
   "id": "480c8975d9af9bfe",
   "outputs": [
    {
     "data": {
      "text/plain": [
       "'the nuclear disaster in chernobyl was in Saturday April 26th, 1986 at 01:23:40 MSD(UTC+04:00)'"
      ]
     },
     "execution_count": 47,
     "metadata": {},
     "output_type": "execute_result"
    }
   ],
   "execution_count": 47
  },
  {
   "metadata": {
    "ExecuteTime": {
     "end_time": "2025-03-14T16:30:20.758034Z",
     "start_time": "2025-03-14T16:30:20.749692Z"
    }
   },
   "cell_type": "code",
   "source": [
    "my_time = time(15, 34, 8)\n",
    "print(f'{my_time}')"
   ],
   "id": "648ff2321f02bbae",
   "outputs": [
    {
     "name": "stdout",
     "output_type": "stream",
     "text": [
      "15:34:08\n"
     ]
    }
   ],
   "execution_count": 50
  },
  {
   "metadata": {
    "ExecuteTime": {
     "end_time": "2025-03-14T16:32:01.712390Z",
     "start_time": "2025-03-14T16:32:01.705248Z"
    }
   },
   "cell_type": "code",
   "source": [
    "my_time = time.fromisoformat('15:34:08-07:00')\n",
    "print(f'{my_time}')"
   ],
   "id": "f8dc3069b1957966",
   "outputs": [
    {
     "name": "stdout",
     "output_type": "stream",
     "text": [
      "15:34:08-07:00\n"
     ]
    }
   ],
   "execution_count": 51
  },
  {
   "metadata": {
    "ExecuteTime": {
     "end_time": "2025-03-14T16:33:37.949721Z",
     "start_time": "2025-03-14T16:33:37.944034Z"
    }
   },
   "cell_type": "code",
   "source": [
    "my_time = time.fromisoformat('15:34:08-07:00')\n",
    "print(f'{my_time.strftime(\"%I:%M %p\")}')"
   ],
   "id": "37bb1d5f86d45e5b",
   "outputs": [
    {
     "name": "stdout",
     "output_type": "stream",
     "text": [
      "03:34 PM\n"
     ]
    }
   ],
   "execution_count": 52
  },
  {
   "metadata": {
    "ExecuteTime": {
     "end_time": "2025-03-14T16:34:29.235323Z",
     "start_time": "2025-03-14T16:34:29.219203Z"
    }
   },
   "cell_type": "code",
   "source": [
    "my_time = time.fromisoformat('15:34:08-07:00')\n",
    "print(f'{my_time.strftime(\"%I:%M %M\")}')"
   ],
   "id": "d6be2010ead6da0f",
   "outputs": [
    {
     "name": "stdout",
     "output_type": "stream",
     "text": [
      "03:34 34\n"
     ]
    }
   ],
   "execution_count": 56
  },
  {
   "metadata": {
    "ExecuteTime": {
     "end_time": "2025-03-14T16:38:13.965182Z",
     "start_time": "2025-03-14T16:38:13.957735Z"
    }
   },
   "cell_type": "code",
   "source": [
    "date_plus_time = datetime.combine(my_date, my_time)\n",
    "my_bday = f'{date_plus_time}'\n",
    "my_bday"
   ],
   "id": "9eb3a2355e3e0a4e",
   "outputs": [
    {
     "data": {
      "text/plain": [
       "'1973-07-10 15:34:08-07:00'"
      ]
     },
     "execution_count": 59,
     "metadata": {},
     "output_type": "execute_result"
    }
   ],
   "execution_count": 59
  },
  {
   "metadata": {},
   "cell_type": "code",
   "outputs": [],
   "execution_count": null,
   "source": "",
   "id": "3db4628f0f4768d2"
  }
 ],
 "metadata": {
  "kernelspec": {
   "display_name": "Python 3",
   "language": "python",
   "name": "python3"
  },
  "language_info": {
   "codemirror_mode": {
    "name": "ipython",
    "version": 2
   },
   "file_extension": ".py",
   "mimetype": "text/x-python",
   "name": "python",
   "nbconvert_exporter": "python",
   "pygments_lexer": "ipython2",
   "version": "2.7.6"
  }
 },
 "nbformat": 4,
 "nbformat_minor": 5
}
