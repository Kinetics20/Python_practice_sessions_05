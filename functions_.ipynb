{
 "cells": [
  {
   "metadata": {},
   "cell_type": "markdown",
   "source": [
    "# Functions\n",
    "\n",
    "- named\n",
    "- anonymous\n"
   ],
   "id": "1243e90851ba03a8"
  },
  {
   "metadata": {},
   "cell_type": "code",
   "outputs": [],
   "execution_count": null,
   "source": "",
   "id": "806a118fd12019bb"
  },
  {
   "metadata": {},
   "cell_type": "markdown",
   "source": "---",
   "id": "cbbce68705f6266a"
  },
  {
   "metadata": {},
   "cell_type": "markdown",
   "source": "![This picture shows how functions work in python](./function_scheme_2024_09_12_.png \"Function_scheme\")",
   "id": "d130f3c50fddf58e"
  },
  {
   "metadata": {
    "ExecuteTime": {
     "end_time": "2024-10-23T08:56:36.999470Z",
     "start_time": "2024-10-23T08:56:36.990466Z"
    }
   },
   "cell_type": "code",
   "source": [
    "def add(a, b):\n",
    "    return a + b"
   ],
   "id": "7d626af212e1dae6",
   "outputs": [],
   "execution_count": 1
  },
  {
   "metadata": {
    "ExecuteTime": {
     "end_time": "2024-10-23T08:56:40.168544Z",
     "start_time": "2024-10-23T08:56:40.144780Z"
    }
   },
   "cell_type": "code",
   "source": "add(58788987, 6)",
   "id": "f43e5e86c2fd1859",
   "outputs": [
    {
     "data": {
      "text/plain": [
       "58788993"
      ]
     },
     "execution_count": 2,
     "metadata": {},
     "output_type": "execute_result"
    }
   ],
   "execution_count": 2
  },
  {
   "metadata": {
    "ExecuteTime": {
     "end_time": "2024-10-22T12:53:07.607859Z",
     "start_time": "2024-10-22T12:53:07.586455Z"
    }
   },
   "cell_type": "code",
   "source": "add('ala has a cat ', 'and aids')",
   "id": "585bb8d1fda35cea",
   "outputs": [
    {
     "data": {
      "text/plain": [
       "'ala has a cat and aids'"
      ]
     },
     "execution_count": 19,
     "metadata": {},
     "output_type": "execute_result"
    }
   ],
   "execution_count": 19
  },
  {
   "metadata": {
    "ExecuteTime": {
     "end_time": "2024-10-23T08:56:43.417844Z",
     "start_time": "2024-10-23T08:56:43.407157Z"
    }
   },
   "cell_type": "code",
   "source": "add('sth goes home', str(3))",
   "id": "e37a58cf300ce1a8",
   "outputs": [
    {
     "data": {
      "text/plain": [
       "'sth goes home3'"
      ]
     },
     "execution_count": 3,
     "metadata": {},
     "output_type": "execute_result"
    }
   ],
   "execution_count": 3
  },
  {
   "metadata": {},
   "cell_type": "markdown",
   "source": "##### Napisz fn my_max (function has to return max value )",
   "id": "6ffce60c19510c2a"
  },
  {
   "metadata": {
    "ExecuteTime": {
     "end_time": "2024-10-22T13:37:47.092687Z",
     "start_time": "2024-10-22T13:37:47.084188Z"
    }
   },
   "cell_type": "code",
   "source": [
    "def my_max(sth):\n",
    "    return max(sth)"
   ],
   "id": "20f83072a9d84c61",
   "outputs": [],
   "execution_count": 21
  },
  {
   "metadata": {
    "ExecuteTime": {
     "end_time": "2024-10-22T13:58:29.116405Z",
     "start_time": "2024-10-22T13:58:29.095495Z"
    }
   },
   "cell_type": "code",
   "source": "my_max([1, 2, 3])",
   "id": "477c92f3b5bc1ebe",
   "outputs": [
    {
     "data": {
      "text/plain": [
       "3"
      ]
     },
     "execution_count": 29,
     "metadata": {},
     "output_type": "execute_result"
    }
   ],
   "execution_count": 29
  },
  {
   "metadata": {
    "ExecuteTime": {
     "end_time": "2024-10-22T13:59:44.587312Z",
     "start_time": "2024-10-22T13:59:44.572229Z"
    }
   },
   "cell_type": "code",
   "source": [
    "def my_max_1(coll):\n",
    "    max_value = coll[0]\n",
    "    \n",
    "    for digit in coll:\n",
    "        if digit > max_value:\n",
    "            max_value = digit\n",
    "    return max_value\n",
    "    "
   ],
   "id": "137ac5c39d69b243",
   "outputs": [],
   "execution_count": 32
  },
  {
   "metadata": {
    "ExecuteTime": {
     "end_time": "2024-10-22T13:59:46.924817Z",
     "start_time": "2024-10-22T13:59:46.906570Z"
    }
   },
   "cell_type": "code",
   "source": "my_max_1([1, 2, 3])",
   "id": "f762036e643fbee7",
   "outputs": [
    {
     "data": {
      "text/plain": [
       "3"
      ]
     },
     "execution_count": 33,
     "metadata": {},
     "output_type": "execute_result"
    }
   ],
   "execution_count": 33
  },
  {
   "metadata": {},
   "cell_type": "markdown",
   "source": "#### Write function that works exactly like a range ",
   "id": "6cfcc8eb04cc6d88"
  },
  {
   "metadata": {
    "ExecuteTime": {
     "end_time": "2024-10-22T14:25:19.954481Z",
     "start_time": "2024-10-22T14:25:19.937249Z"
    }
   },
   "cell_type": "code",
   "source": "range(10)",
   "id": "e6c769cf6e989efe",
   "outputs": [
    {
     "data": {
      "text/plain": [
       "range(0, 10)"
      ]
     },
     "execution_count": 34,
     "metadata": {},
     "output_type": "execute_result"
    }
   ],
   "execution_count": 34
  },
  {
   "metadata": {
    "ExecuteTime": {
     "end_time": "2024-10-22T15:47:21.699509Z",
     "start_time": "2024-10-22T15:47:21.687570Z"
    }
   },
   "cell_type": "code",
   "source": [
    "def my_range(start, stop=None, step=1):\n",
    "    if stop is None:\n",
    "        stop = start\n",
    "        start = 0\n",
    "        \n",
    "    digits = []\n",
    "    counter = start\n",
    "    \n",
    "    while len(digits) < (stop - start) / step:\n",
    "        digits.append(counter)\n",
    "        counter += step\n",
    "    \n",
    "    return digits\n",
    "    # return [i for i in range(stop)]"
   ],
   "id": "cbfb473bd1f8d027",
   "outputs": [],
   "execution_count": 64
  },
  {
   "metadata": {
    "ExecuteTime": {
     "end_time": "2024-10-22T15:31:00.578535Z",
     "start_time": "2024-10-22T15:31:00.554644Z"
    }
   },
   "cell_type": "code",
   "source": "list(range(10))",
   "id": "3ff379a20737ce88",
   "outputs": [
    {
     "data": {
      "text/plain": [
       "[0, 1, 2, 3, 4, 5, 6, 7, 8, 9]"
      ]
     },
     "execution_count": 55,
     "metadata": {},
     "output_type": "execute_result"
    }
   ],
   "execution_count": 55
  },
  {
   "metadata": {
    "ExecuteTime": {
     "end_time": "2024-10-22T14:47:51.427163Z",
     "start_time": "2024-10-22T14:47:51.418761Z"
    }
   },
   "cell_type": "code",
   "source": "my_range(10)",
   "id": "cd12773961855ab6",
   "outputs": [
    {
     "data": {
      "text/plain": [
       "[0, 1, 2, 3, 4, 5, 6, 7, 8, 9]"
      ]
     },
     "execution_count": 53,
     "metadata": {},
     "output_type": "execute_result"
    }
   ],
   "execution_count": 53
  },
  {
   "metadata": {
    "ExecuteTime": {
     "end_time": "2024-10-22T14:28:23.082722Z",
     "start_time": "2024-10-22T14:28:23.064644Z"
    }
   },
   "cell_type": "code",
   "source": "list(range(3, 10))",
   "id": "5211e0866a8021a2",
   "outputs": [
    {
     "data": {
      "text/plain": [
       "[3, 4, 5, 6, 7, 8, 9]"
      ]
     },
     "execution_count": 36,
     "metadata": {},
     "output_type": "execute_result"
    }
   ],
   "execution_count": 36
  },
  {
   "metadata": {
    "ExecuteTime": {
     "end_time": "2024-10-22T15:31:17.811204Z",
     "start_time": "2024-10-22T15:31:17.801715Z"
    }
   },
   "cell_type": "code",
   "source": "my_range(3, 10)",
   "id": "92f5592b68ff976",
   "outputs": [
    {
     "data": {
      "text/plain": [
       "[3, 4, 5, 6, 7, 8, 9]"
      ]
     },
     "execution_count": 58,
     "metadata": {},
     "output_type": "execute_result"
    }
   ],
   "execution_count": 58
  },
  {
   "metadata": {
    "ExecuteTime": {
     "end_time": "2024-10-22T14:28:44.906092Z",
     "start_time": "2024-10-22T14:28:44.896625Z"
    }
   },
   "cell_type": "code",
   "source": "list(range(3, 10, 2))",
   "id": "42a1499df439c2b2",
   "outputs": [
    {
     "data": {
      "text/plain": [
       "[3, 5, 7, 9]"
      ]
     },
     "execution_count": 37,
     "metadata": {},
     "output_type": "execute_result"
    }
   ],
   "execution_count": 37
  },
  {
   "metadata": {
    "ExecuteTime": {
     "end_time": "2024-10-22T15:38:57.081633Z",
     "start_time": "2024-10-22T15:38:57.067035Z"
    }
   },
   "cell_type": "code",
   "source": "my_range(3, 10, 2)",
   "id": "40a869ae1eb95cc2",
   "outputs": [
    {
     "data": {
      "text/plain": [
       "[3, 5, 7, 9]"
      ]
     },
     "execution_count": 63,
     "metadata": {},
     "output_type": "execute_result"
    }
   ],
   "execution_count": 63
  },
  {
   "metadata": {
    "ExecuteTime": {
     "end_time": "2024-10-22T15:47:27.552521Z",
     "start_time": "2024-10-22T15:47:27.537757Z"
    }
   },
   "cell_type": "code",
   "source": "list(range(10, -1, -1))",
   "id": "aa295b9e975da40a",
   "outputs": [
    {
     "data": {
      "text/plain": [
       "[10, 9, 8, 7, 6, 5, 4, 3, 2, 1, 0]"
      ]
     },
     "execution_count": 65,
     "metadata": {},
     "output_type": "execute_result"
    }
   ],
   "execution_count": 65
  },
  {
   "metadata": {
    "ExecuteTime": {
     "end_time": "2024-10-22T14:30:20.751230Z",
     "start_time": "2024-10-22T14:30:20.742271Z"
    }
   },
   "cell_type": "code",
   "source": "list(range(1, 5, -1))",
   "id": "fd52f009e6e7f6e4",
   "outputs": [
    {
     "data": {
      "text/plain": [
       "[]"
      ]
     },
     "execution_count": 39,
     "metadata": {},
     "output_type": "execute_result"
    }
   ],
   "execution_count": 39
  },
  {
   "metadata": {
    "ExecuteTime": {
     "end_time": "2024-10-22T15:49:25.149715Z",
     "start_time": "2024-10-22T15:49:25.139838Z"
    }
   },
   "cell_type": "code",
   "source": "my_range(1, 5, -1)",
   "id": "4cd45c372f3f4978",
   "outputs": [
    {
     "data": {
      "text/plain": [
       "[]"
      ]
     },
     "execution_count": 66,
     "metadata": {},
     "output_type": "execute_result"
    }
   ],
   "execution_count": 66
  },
  {
   "metadata": {
    "ExecuteTime": {
     "end_time": "2024-10-22T17:31:09.690859Z",
     "start_time": "2024-10-22T17:31:09.685274Z"
    }
   },
   "cell_type": "code",
   "source": [
    "def is_palindrome(txt):\n",
    "    return txt.lower() == txt.lower()[::-1]"
   ],
   "id": "f09f0914bb96a9ad",
   "outputs": [],
   "execution_count": 4
  },
  {
   "metadata": {
    "ExecuteTime": {
     "end_time": "2024-10-22T17:26:15.936108Z",
     "start_time": "2024-10-22T17:26:15.923881Z"
    }
   },
   "cell_type": "code",
   "source": "is_palindrome('ala')",
   "id": "451d8e7d4fa2e59d",
   "outputs": [
    {
     "data": {
      "text/plain": [
       "True"
      ]
     },
     "execution_count": 2,
     "metadata": {},
     "output_type": "execute_result"
    }
   ],
   "execution_count": 2
  },
  {
   "metadata": {
    "ExecuteTime": {
     "end_time": "2024-10-22T17:31:12.421194Z",
     "start_time": "2024-10-22T17:31:12.404349Z"
    }
   },
   "cell_type": "code",
   "source": "is_palindrome('Ala')",
   "id": "1c93b69e904a95f2",
   "outputs": [
    {
     "data": {
      "text/plain": [
       "True"
      ]
     },
     "execution_count": 5,
     "metadata": {},
     "output_type": "execute_result"
    }
   ],
   "execution_count": 5
  },
  {
   "metadata": {
    "ExecuteTime": {
     "end_time": "2024-10-22T18:09:12.617205Z",
     "start_time": "2024-10-22T18:09:12.612181Z"
    }
   },
   "cell_type": "code",
   "source": "is_palindrome('()()')",
   "id": "1771ef2e45a9e75b",
   "outputs": [
    {
     "data": {
      "text/plain": [
       "False"
      ]
     },
     "execution_count": 6,
     "metadata": {},
     "output_type": "execute_result"
    }
   ],
   "execution_count": 6
  },
  {
   "metadata": {
    "ExecuteTime": {
     "end_time": "2024-10-22T18:09:49.102964Z",
     "start_time": "2024-10-22T18:09:49.098134Z"
    }
   },
   "cell_type": "code",
   "source": "is_palindrome('())(')",
   "id": "a40274261430d2cf",
   "outputs": [
    {
     "data": {
      "text/plain": [
       "True"
      ]
     },
     "execution_count": 7,
     "metadata": {},
     "output_type": "execute_result"
    }
   ],
   "execution_count": 7
  },
  {
   "metadata": {
    "ExecuteTime": {
     "end_time": "2024-10-22T18:11:34.899551Z",
     "start_time": "2024-10-22T18:11:34.894636Z"
    }
   },
   "cell_type": "code",
   "source": "is_palindrome_2 = lambda text: text == text[::-1]",
   "id": "56b1f620f4973915",
   "outputs": [],
   "execution_count": 8
  },
  {
   "metadata": {
    "ExecuteTime": {
     "end_time": "2024-10-22T18:11:42.105682Z",
     "start_time": "2024-10-22T18:11:42.101615Z"
    }
   },
   "cell_type": "code",
   "source": "is_palindrome_2('ala')",
   "id": "4a7feea6d5b63a7",
   "outputs": [
    {
     "data": {
      "text/plain": [
       "True"
      ]
     },
     "execution_count": 9,
     "metadata": {},
     "output_type": "execute_result"
    }
   ],
   "execution_count": 9
  },
  {
   "metadata": {
    "ExecuteTime": {
     "end_time": "2024-10-22T18:35:53.339776Z",
     "start_time": "2024-10-22T18:35:53.333546Z"
    }
   },
   "cell_type": "code",
   "source": "map(lambda x: x ** 2, [1, 2, 3, 4, 5, 6])",
   "id": "6d6d088002df7da1",
   "outputs": [
    {
     "data": {
      "text/plain": [
       "<map at 0x7befc0bb2560>"
      ]
     },
     "execution_count": 10,
     "metadata": {},
     "output_type": "execute_result"
    }
   ],
   "execution_count": 10
  },
  {
   "metadata": {
    "ExecuteTime": {
     "end_time": "2024-10-22T18:36:15.546462Z",
     "start_time": "2024-10-22T18:36:15.541334Z"
    }
   },
   "cell_type": "code",
   "source": "list(map(lambda x: x ** 2, [1, 2, 3, 4, 5, 6]))",
   "id": "4a8eb3aab998ea1b",
   "outputs": [
    {
     "data": {
      "text/plain": [
       "[1, 4, 9, 16, 25, 36]"
      ]
     },
     "execution_count": 11,
     "metadata": {},
     "output_type": "execute_result"
    }
   ],
   "execution_count": 11
  },
  {
   "metadata": {
    "ExecuteTime": {
     "end_time": "2024-10-22T18:37:42.348623Z",
     "start_time": "2024-10-22T18:37:42.342692Z"
    }
   },
   "cell_type": "code",
   "source": "[i ** 2 for i in range(1, 7)]",
   "id": "dd4bdbe232dde818",
   "outputs": [
    {
     "data": {
      "text/plain": [
       "[1, 4, 9, 16, 25, 36]"
      ]
     },
     "execution_count": 13,
     "metadata": {},
     "output_type": "execute_result"
    }
   ],
   "execution_count": 13
  },
  {
   "metadata": {
    "ExecuteTime": {
     "end_time": "2024-10-22T19:27:05.822832Z",
     "start_time": "2024-10-22T19:27:05.816882Z"
    }
   },
   "cell_type": "code",
   "source": [
    "def magic(item, coll=[]):\n",
    "    coll.append(item)\n",
    "    return coll"
   ],
   "id": "4a62a8b5c7bba4b9",
   "outputs": [],
   "execution_count": 14
  },
  {
   "metadata": {
    "ExecuteTime": {
     "end_time": "2024-10-22T19:27:20.603180Z",
     "start_time": "2024-10-22T19:27:20.598624Z"
    }
   },
   "cell_type": "code",
   "source": "magic(1)",
   "id": "61b1419f8cd16253",
   "outputs": [
    {
     "data": {
      "text/plain": [
       "[1]"
      ]
     },
     "execution_count": 15,
     "metadata": {},
     "output_type": "execute_result"
    }
   ],
   "execution_count": 15
  },
  {
   "metadata": {
    "ExecuteTime": {
     "end_time": "2024-10-22T19:27:36.359501Z",
     "start_time": "2024-10-22T19:27:36.354161Z"
    }
   },
   "cell_type": "code",
   "source": "magic(2,[5,6,7])",
   "id": "a5d4ac549d95411c",
   "outputs": [
    {
     "data": {
      "text/plain": [
       "[5, 6, 7, 2]"
      ]
     },
     "execution_count": 16,
     "metadata": {},
     "output_type": "execute_result"
    }
   ],
   "execution_count": 16
  },
  {
   "metadata": {
    "ExecuteTime": {
     "end_time": "2024-10-22T19:27:57.943403Z",
     "start_time": "2024-10-22T19:27:57.938542Z"
    }
   },
   "cell_type": "code",
   "source": "magic(None)",
   "id": "ab2732df41e0b3dd",
   "outputs": [
    {
     "data": {
      "text/plain": [
       "[1, None]"
      ]
     },
     "execution_count": 17,
     "metadata": {},
     "output_type": "execute_result"
    }
   ],
   "execution_count": 17
  },
  {
   "metadata": {
    "ExecuteTime": {
     "end_time": "2024-10-22T19:32:33.605065Z",
     "start_time": "2024-10-22T19:32:33.600081Z"
    }
   },
   "cell_type": "code",
   "source": [
    "def magic(item, coll=None):\n",
    "    if coll is None:\n",
    "        coll = []\n",
    "    coll.append(item)\n",
    "    return coll"
   ],
   "id": "1f045768114fa1c0",
   "outputs": [],
   "execution_count": 19
  },
  {
   "metadata": {
    "ExecuteTime": {
     "end_time": "2024-10-22T19:32:51.770682Z",
     "start_time": "2024-10-22T19:32:51.763718Z"
    }
   },
   "cell_type": "code",
   "source": "magic(1,None)",
   "id": "2cf0f841289188a1",
   "outputs": [
    {
     "data": {
      "text/plain": [
       "[1]"
      ]
     },
     "execution_count": 20,
     "metadata": {},
     "output_type": "execute_result"
    }
   ],
   "execution_count": 20
  },
  {
   "metadata": {
    "ExecuteTime": {
     "end_time": "2024-10-22T19:34:08.214128Z",
     "start_time": "2024-10-22T19:34:08.209152Z"
    }
   },
   "cell_type": "code",
   "source": "magic(5.3, ['ala', 'ma', 5])",
   "id": "8a5aece6f13e8e72",
   "outputs": [
    {
     "data": {
      "text/plain": [
       "['ala', 'ma', 5, 5.3]"
      ]
     },
     "execution_count": 21,
     "metadata": {},
     "output_type": "execute_result"
    }
   ],
   "execution_count": 21
  }
 ],
 "metadata": {
  "kernelspec": {
   "display_name": "Python 3",
   "language": "python",
   "name": "python3"
  },
  "language_info": {
   "codemirror_mode": {
    "name": "ipython",
    "version": 2
   },
   "file_extension": ".py",
   "mimetype": "text/x-python",
   "name": "python",
   "nbconvert_exporter": "python",
   "pygments_lexer": "ipython2",
   "version": "2.7.6"
  }
 },
 "nbformat": 4,
 "nbformat_minor": 5
}
