{
 "cells": [
  {
   "metadata": {},
   "cell_type": "markdown",
   "source": [
    "# List\n",
    "\n",
    "1. Collection\n",
    "2. Ordered\n",
    "3. Heterogeneous\n",
    "4. Mutable\n",
    "5. Sequence Protocol - > slicing\n",
    "\n",
    "\n",
    "\n",
    "```python\n",
    "\n",
    "x = [1, 2, 3]\n",
    "type(x) # list\n",
    "\n",
    "# list(iterable)\n",
    "\n",
    "\n",
    "```"
   ],
   "id": "ba782952d36f3fc8"
  },
  {
   "metadata": {
    "ExecuteTime": {
     "end_time": "2024-10-21T19:36:58.863547Z",
     "start_time": "2024-10-21T19:36:58.854106Z"
    }
   },
   "cell_type": "code",
   "source": [
    "x = [1, 2, 3]\n",
    "type(x)"
   ],
   "id": "821cc6fadd2d1532",
   "outputs": [
    {
     "data": {
      "text/plain": [
       "list"
      ]
     },
     "execution_count": 2,
     "metadata": {},
     "output_type": "execute_result"
    }
   ],
   "execution_count": 2
  },
  {
   "metadata": {
    "ExecuteTime": {
     "end_time": "2024-10-21T19:37:26.437692Z",
     "start_time": "2024-10-21T19:37:26.428721Z"
    }
   },
   "cell_type": "code",
   "source": "list(\"ala ma kota\")",
   "id": "e028d8a16dd2068e",
   "outputs": [
    {
     "data": {
      "text/plain": [
       "['a', 'l', 'a', ' ', 'm', 'a', ' ', 'k', 'o', 't', 'a']"
      ]
     },
     "execution_count": 3,
     "metadata": {},
     "output_type": "execute_result"
    }
   ],
   "execution_count": 3
  },
  {
   "metadata": {
    "ExecuteTime": {
     "end_time": "2024-10-21T19:39:07.217367Z",
     "start_time": "2024-10-21T19:39:07.207897Z"
    }
   },
   "cell_type": "code",
   "source": "(\"ala ma kota\").split()",
   "id": "47f04a616a91f1e1",
   "outputs": [
    {
     "data": {
      "text/plain": [
       "['ala', 'ma', 'kota']"
      ]
     },
     "execution_count": 5,
     "metadata": {},
     "output_type": "execute_result"
    }
   ],
   "execution_count": 5
  },
  {
   "metadata": {
    "ExecuteTime": {
     "end_time": "2024-10-21T19:43:06.950337Z",
     "start_time": "2024-10-21T19:43:06.941636Z"
    }
   },
   "cell_type": "code",
   "source": "list(range(10)[::-1])",
   "id": "9b8b03853b972f98",
   "outputs": [
    {
     "data": {
      "text/plain": [
       "[9, 8, 7, 6, 5, 4, 3, 2, 1, 0]"
      ]
     },
     "execution_count": 10,
     "metadata": {},
     "output_type": "execute_result"
    }
   ],
   "execution_count": 10
  },
  {
   "metadata": {
    "ExecuteTime": {
     "end_time": "2024-10-21T19:45:19.641594Z",
     "start_time": "2024-10-21T19:45:19.633737Z"
    }
   },
   "cell_type": "code",
   "source": "list(range(9,-1,-1))",
   "id": "8dace6d7616082cb",
   "outputs": [
    {
     "data": {
      "text/plain": [
       "[9, 8, 7, 6, 5, 4, 3, 2, 1, 0]"
      ]
     },
     "execution_count": 12,
     "metadata": {},
     "output_type": "execute_result"
    }
   ],
   "execution_count": 12
  },
  {
   "metadata": {
    "ExecuteTime": {
     "end_time": "2024-10-21T19:49:12.150653Z",
     "start_time": "2024-10-21T19:49:12.143682Z"
    }
   },
   "cell_type": "code",
   "source": "tuple(range(9,-1,-1))",
   "id": "59d902ac0b4e6fb0",
   "outputs": [
    {
     "data": {
      "text/plain": [
       "(9, 8, 7, 6, 5, 4, 3, 2, 1, 0)"
      ]
     },
     "execution_count": 17,
     "metadata": {},
     "output_type": "execute_result"
    }
   ],
   "execution_count": 17
  },
  {
   "metadata": {
    "ExecuteTime": {
     "end_time": "2024-10-21T19:51:58.040020Z",
     "start_time": "2024-10-21T19:51:58.032767Z"
    }
   },
   "cell_type": "code",
   "source": "dir(list)",
   "id": "bb0ab0352260463a",
   "outputs": [
    {
     "data": {
      "text/plain": [
       "['__add__',\n",
       " '__class__',\n",
       " '__class_getitem__',\n",
       " '__contains__',\n",
       " '__delattr__',\n",
       " '__delitem__',\n",
       " '__dir__',\n",
       " '__doc__',\n",
       " '__eq__',\n",
       " '__format__',\n",
       " '__ge__',\n",
       " '__getattribute__',\n",
       " '__getitem__',\n",
       " '__getstate__',\n",
       " '__gt__',\n",
       " '__hash__',\n",
       " '__iadd__',\n",
       " '__imul__',\n",
       " '__init__',\n",
       " '__init_subclass__',\n",
       " '__iter__',\n",
       " '__le__',\n",
       " '__len__',\n",
       " '__lt__',\n",
       " '__mul__',\n",
       " '__ne__',\n",
       " '__new__',\n",
       " '__reduce__',\n",
       " '__reduce_ex__',\n",
       " '__repr__',\n",
       " '__reversed__',\n",
       " '__rmul__',\n",
       " '__setattr__',\n",
       " '__setitem__',\n",
       " '__sizeof__',\n",
       " '__str__',\n",
       " '__subclasshook__',\n",
       " 'append',\n",
       " 'clear',\n",
       " 'copy',\n",
       " 'count',\n",
       " 'extend',\n",
       " 'index',\n",
       " 'insert',\n",
       " 'pop',\n",
       " 'remove',\n",
       " 'reverse',\n",
       " 'sort']"
      ]
     },
     "execution_count": 18,
     "metadata": {},
     "output_type": "execute_result"
    }
   ],
   "execution_count": 18
  },
  {
   "metadata": {
    "ExecuteTime": {
     "end_time": "2024-10-21T19:56:30.492470Z",
     "start_time": "2024-10-21T19:56:30.488906Z"
    }
   },
   "cell_type": "code",
   "source": "y = [5, 6, 7, 8, 9]",
   "id": "6f7168da21e4fc4d",
   "outputs": [],
   "execution_count": 21
  },
  {
   "metadata": {
    "ExecuteTime": {
     "end_time": "2024-10-21T19:57:22.036487Z",
     "start_time": "2024-10-21T19:57:22.031997Z"
    }
   },
   "cell_type": "code",
   "source": [
    "y.append(42)\n",
    "y"
   ],
   "id": "39526ea103c89ae7",
   "outputs": [
    {
     "data": {
      "text/plain": [
       "[5, 6, 7, 8, 9, 42, 42, 42, 42]"
      ]
     },
     "execution_count": 26,
     "metadata": {},
     "output_type": "execute_result"
    }
   ],
   "execution_count": 26
  },
  {
   "metadata": {
    "ExecuteTime": {
     "end_time": "2024-10-21T19:58:49.084363Z",
     "start_time": "2024-10-21T19:58:49.078845Z"
    }
   },
   "cell_type": "code",
   "source": [
    "z = y.copy()\n",
    "z"
   ],
   "id": "68467bceb1ed3b57",
   "outputs": [
    {
     "data": {
      "text/plain": [
       "[5, 6, 7, 8, 9, 42, 42, 42, 42]"
      ]
     },
     "execution_count": 28,
     "metadata": {},
     "output_type": "execute_result"
    }
   ],
   "execution_count": 28
  },
  {
   "metadata": {
    "ExecuteTime": {
     "end_time": "2024-10-21T19:59:47.629053Z",
     "start_time": "2024-10-21T19:59:47.623872Z"
    }
   },
   "cell_type": "code",
   "source": "y.count(42)",
   "id": "2d92d62273375eef",
   "outputs": [
    {
     "data": {
      "text/plain": [
       "4"
      ]
     },
     "execution_count": 30,
     "metadata": {},
     "output_type": "execute_result"
    }
   ],
   "execution_count": 30
  },
  {
   "metadata": {
    "ExecuteTime": {
     "end_time": "2024-10-21T20:00:02.058843Z",
     "start_time": "2024-10-21T20:00:02.052756Z"
    }
   },
   "cell_type": "code",
   "source": "y.count(5489)",
   "id": "223fdd69271d319e",
   "outputs": [
    {
     "data": {
      "text/plain": [
       "0"
      ]
     },
     "execution_count": 31,
     "metadata": {},
     "output_type": "execute_result"
    }
   ],
   "execution_count": 31
  },
  {
   "metadata": {
    "ExecuteTime": {
     "end_time": "2024-10-21T20:03:15.637436Z",
     "start_time": "2024-10-21T20:03:15.633626Z"
    }
   },
   "cell_type": "code",
   "source": "help(y.count)",
   "id": "53e7e88ce4ae5183",
   "outputs": [
    {
     "name": "stdout",
     "output_type": "stream",
     "text": [
      "Help on built-in function count:\n",
      "\n",
      "count(value, /) method of builtins.list instance\n",
      "    Return number of occurrences of value.\n",
      "\n"
     ]
    }
   ],
   "execution_count": 35
  },
  {
   "metadata": {
    "ExecuteTime": {
     "end_time": "2024-10-21T20:04:24.117389Z",
     "start_time": "2024-10-21T20:04:24.110857Z"
    }
   },
   "cell_type": "code",
   "source": [
    "y.extend([1,2,5,8])\n",
    "y"
   ],
   "id": "db6c06d1d43cfb16",
   "outputs": [
    {
     "data": {
      "text/plain": [
       "[5, 6, 7, 8, 9, 42, 42, 42, 42, 1, 2, 5, 8, 1, 2, 5, 8]"
      ]
     },
     "execution_count": 37,
     "metadata": {},
     "output_type": "execute_result"
    }
   ],
   "execution_count": 37
  },
  {
   "metadata": {
    "ExecuteTime": {
     "end_time": "2024-10-21T20:05:02.994313Z",
     "start_time": "2024-10-21T20:05:02.985724Z"
    }
   },
   "cell_type": "code",
   "source": [
    "y.extend(('ala', 'sth', 'ggg'))\n",
    "y"
   ],
   "id": "b56187b4801a1507",
   "outputs": [
    {
     "data": {
      "text/plain": [
       "[5, 6, 7, 8, 9, 42, 42, 42, 42, 1, 2, 5, 8, 1, 2, 5, 8, 'ala', 'sth', 'ggg']"
      ]
     },
     "execution_count": 38,
     "metadata": {},
     "output_type": "execute_result"
    }
   ],
   "execution_count": 38
  },
  {
   "metadata": {
    "ExecuteTime": {
     "end_time": "2024-10-21T20:06:01.150660Z",
     "start_time": "2024-10-21T20:06:01.146112Z"
    }
   },
   "cell_type": "code",
   "source": "y.index(42)",
   "id": "8a73f3586a1ad3cb",
   "outputs": [
    {
     "data": {
      "text/plain": [
       "5"
      ]
     },
     "execution_count": 39,
     "metadata": {},
     "output_type": "execute_result"
    }
   ],
   "execution_count": 39
  },
  {
   "metadata": {
    "ExecuteTime": {
     "end_time": "2024-10-21T20:08:26.393217Z",
     "start_time": "2024-10-21T20:08:26.386211Z"
    }
   },
   "cell_type": "code",
   "source": [
    "y.insert(6, 666)\n",
    "y"
   ],
   "id": "734aad65a2b4d980",
   "outputs": [
    {
     "data": {
      "text/plain": [
       "[5,\n",
       " 6,\n",
       " 7,\n",
       " 8,\n",
       " 9,\n",
       " 42,\n",
       " 666,\n",
       " 42,\n",
       " 42,\n",
       " 42,\n",
       " 1,\n",
       " 2,\n",
       " 5,\n",
       " 8,\n",
       " 1,\n",
       " 2,\n",
       " 5,\n",
       " 8,\n",
       " 'ala',\n",
       " 'sth',\n",
       " 'ggg']"
      ]
     },
     "execution_count": 41,
     "metadata": {},
     "output_type": "execute_result"
    }
   ],
   "execution_count": 41
  },
  {
   "metadata": {
    "ExecuteTime": {
     "end_time": "2024-10-21T20:10:35.616703Z",
     "start_time": "2024-10-21T20:10:35.608692Z"
    }
   },
   "cell_type": "code",
   "source": "y.pop()",
   "id": "791ae890e5c0f893",
   "outputs": [
    {
     "data": {
      "text/plain": [
       "'ggg'"
      ]
     },
     "execution_count": 42,
     "metadata": {},
     "output_type": "execute_result"
    }
   ],
   "execution_count": 42
  },
  {
   "metadata": {
    "ExecuteTime": {
     "end_time": "2024-10-21T20:11:07.063281Z",
     "start_time": "2024-10-21T20:11:07.056670Z"
    }
   },
   "cell_type": "code",
   "source": "y",
   "id": "574ef92a8339a4c2",
   "outputs": [
    {
     "data": {
      "text/plain": [
       "[5, 6, 7, 8, 9, 42, 666, 42, 42, 42, 1, 2, 5, 8, 1, 2, 5, 8, 'ala', 'sth']"
      ]
     },
     "execution_count": 43,
     "metadata": {},
     "output_type": "execute_result"
    }
   ],
   "execution_count": 43
  },
  {
   "metadata": {
    "ExecuteTime": {
     "end_time": "2024-10-21T20:11:18.809737Z",
     "start_time": "2024-10-21T20:11:18.803579Z"
    }
   },
   "cell_type": "code",
   "source": "y.pop(2)",
   "id": "c635094e92706289",
   "outputs": [
    {
     "data": {
      "text/plain": [
       "7"
      ]
     },
     "execution_count": 44,
     "metadata": {},
     "output_type": "execute_result"
    }
   ],
   "execution_count": 44
  },
  {
   "metadata": {
    "ExecuteTime": {
     "end_time": "2024-10-21T20:11:25.021458Z",
     "start_time": "2024-10-21T20:11:25.016169Z"
    }
   },
   "cell_type": "code",
   "source": "y",
   "id": "644893a3229d03b5",
   "outputs": [
    {
     "data": {
      "text/plain": [
       "[5, 6, 8, 9, 42, 666, 42, 42, 42, 1, 2, 5, 8, 1, 2, 5, 8, 'ala', 'sth']"
      ]
     },
     "execution_count": 45,
     "metadata": {},
     "output_type": "execute_result"
    }
   ],
   "execution_count": 45
  },
  {
   "metadata": {
    "ExecuteTime": {
     "end_time": "2024-10-21T20:12:34.532512Z",
     "start_time": "2024-10-21T20:12:34.527069Z"
    }
   },
   "cell_type": "code",
   "source": [
    "y.remove('ala')\n",
    "y"
   ],
   "id": "2562cbc059ee5d76",
   "outputs": [
    {
     "data": {
      "text/plain": [
       "[5, 6, 8, 9, 42, 666, 42, 42, 42, 1, 2, 5, 8, 1, 2, 5, 8, 'sth']"
      ]
     },
     "execution_count": 46,
     "metadata": {},
     "output_type": "execute_result"
    }
   ],
   "execution_count": 46
  },
  {
   "metadata": {
    "ExecuteTime": {
     "end_time": "2024-10-21T20:13:21.349471Z",
     "start_time": "2024-10-21T20:13:21.341984Z"
    }
   },
   "cell_type": "code",
   "source": [
    "y.reverse()\n",
    "y"
   ],
   "id": "de111c1769834687",
   "outputs": [
    {
     "data": {
      "text/plain": [
       "['sth', 8, 5, 2, 1, 8, 5, 2, 1, 42, 42, 42, 666, 42, 9, 8, 6, 5]"
      ]
     },
     "execution_count": 47,
     "metadata": {},
     "output_type": "execute_result"
    }
   ],
   "execution_count": 47
  },
  {
   "metadata": {
    "ExecuteTime": {
     "end_time": "2024-10-21T20:13:37.110579Z",
     "start_time": "2024-10-21T20:13:37.102993Z"
    }
   },
   "cell_type": "code",
   "source": [
    "y[::-1]\n",
    "y"
   ],
   "id": "3fedaad2523b2312",
   "outputs": [
    {
     "data": {
      "text/plain": [
       "['sth', 8, 5, 2, 1, 8, 5, 2, 1, 42, 42, 42, 666, 42, 9, 8, 6, 5]"
      ]
     },
     "execution_count": 48,
     "metadata": {},
     "output_type": "execute_result"
    }
   ],
   "execution_count": 48
  },
  {
   "metadata": {
    "ExecuteTime": {
     "end_time": "2024-10-21T20:15:36.654454Z",
     "start_time": "2024-10-21T20:15:36.647636Z"
    }
   },
   "cell_type": "code",
   "source": "y.pop(0)",
   "id": "b2fa4bafebcd53bc",
   "outputs": [
    {
     "data": {
      "text/plain": [
       "'sth'"
      ]
     },
     "execution_count": 50,
     "metadata": {},
     "output_type": "execute_result"
    }
   ],
   "execution_count": 50
  },
  {
   "metadata": {
    "ExecuteTime": {
     "end_time": "2024-10-21T20:15:40.249463Z",
     "start_time": "2024-10-21T20:15:40.244695Z"
    }
   },
   "cell_type": "code",
   "source": [
    "y.sort()\n",
    "y"
   ],
   "id": "b4d35f6600f2a8ec",
   "outputs": [
    {
     "data": {
      "text/plain": [
       "[1, 1, 2, 2, 5, 5, 5, 6, 8, 8, 8, 9, 42, 42, 42, 42, 666]"
      ]
     },
     "execution_count": 51,
     "metadata": {},
     "output_type": "execute_result"
    }
   ],
   "execution_count": 51
  },
  {
   "metadata": {},
   "cell_type": "markdown",
   "source": [
    "## Copy with reference\n",
    "---"
   ],
   "id": "22a48222b78ad9e1"
  },
  {
   "metadata": {
    "ExecuteTime": {
     "end_time": "2024-10-21T21:33:53.088465Z",
     "start_time": "2024-10-21T21:33:53.083128Z"
    }
   },
   "cell_type": "code",
   "source": [
    "x = [[1, 2], [3, 4]]\n",
    "y = x\n",
    "print( x == y, x is y)\n",
    "x[0][0] = 42\n",
    "print(x, y)\n",
    "\n",
    "z = x.copy()\n",
    "print(x == z, x is z)\n",
    "z[0][0] = 9999\n",
    "print(z, x, y)\n",
    "z[0] = [2156, 2137]\n",
    "print(z, x, y)\n",
    "z[0] = x[0]\n",
    "z[0][0] = 'sing'\n",
    "print(z, x, y)"
   ],
   "id": "163fe39ba726da83",
   "outputs": [
    {
     "name": "stdout",
     "output_type": "stream",
     "text": [
      "True True\n",
      "[[42, 2], [3, 4]] [[42, 2], [3, 4]]\n",
      "True False\n",
      "[[9999, 2], [3, 4]] [[9999, 2], [3, 4]] [[9999, 2], [3, 4]]\n",
      "[[2156, 2137], [3, 4]] [[9999, 2], [3, 4]] [[9999, 2], [3, 4]]\n",
      "[['sing', 2], [3, 4]] [['sing', 2], [3, 4]] [['sing', 2], [3, 4]]\n"
     ]
    }
   ],
   "execution_count": 62
  },
  {
   "metadata": {},
   "cell_type": "markdown",
   "source": [
    " # Tuple\n",
    " \n",
    "1. Collection\n",
    "2. Ordered\n",
    "3. Heterogeneous\n",
    "4. Immutable\n",
    "5. Sequence Protocol - > slicing\n",
    "\n",
    "```python\n",
    "\n",
    "x = (1, 2, 3)\n",
    "type(x) # tuple\n",
    "\n",
    "# tuple(iterable)\n",
    "\n",
    "```"
   ],
   "id": "e4d28296f7e92ca7"
  },
  {
   "metadata": {
    "ExecuteTime": {
     "end_time": "2024-10-21T21:40:10.776008Z",
     "start_time": "2024-10-21T21:40:10.770292Z"
    }
   },
   "cell_type": "code",
   "source": [
    "x = (1, 2, 3)\n",
    "type(x)"
   ],
   "id": "7d6c432b4922f95e",
   "outputs": [
    {
     "data": {
      "text/plain": [
       "tuple"
      ]
     },
     "execution_count": 63,
     "metadata": {},
     "output_type": "execute_result"
    }
   ],
   "execution_count": 63
  },
  {
   "metadata": {
    "ExecuteTime": {
     "end_time": "2024-10-21T21:43:54.822438Z",
     "start_time": "2024-10-21T21:43:54.817491Z"
    }
   },
   "cell_type": "code",
   "source": [
    "# tuple with one element (trailing comma)\n",
    "y = (1,)\n",
    "type(y)"
   ],
   "id": "b0459d4e0fc8de3a",
   "outputs": [
    {
     "data": {
      "text/plain": [
       "tuple"
      ]
     },
     "execution_count": 65,
     "metadata": {},
     "output_type": "execute_result"
    }
   ],
   "execution_count": 65
  },
  {
   "metadata": {
    "ExecuteTime": {
     "end_time": "2024-10-21T21:45:37.683562Z",
     "start_time": "2024-10-21T21:45:37.677461Z"
    }
   },
   "cell_type": "code",
   "source": [
    "# tuple zero element\n",
    "z = tuple()\n",
    "type(z)"
   ],
   "id": "3f2a717c38bd9663",
   "outputs": [
    {
     "data": {
      "text/plain": [
       "tuple"
      ]
     },
     "execution_count": 66,
     "metadata": {},
     "output_type": "execute_result"
    }
   ],
   "execution_count": 66
  },
  {
   "metadata": {
    "ExecuteTime": {
     "end_time": "2024-10-21T21:47:30.407155Z",
     "start_time": "2024-10-21T21:47:30.397858Z"
    }
   },
   "cell_type": "code",
   "source": "import this",
   "id": "64bab0070ece8897",
   "outputs": [
    {
     "name": "stdout",
     "output_type": "stream",
     "text": [
      "The Zen of Python, by Tim Peters\n",
      "\n",
      "Beautiful is better than ugly.\n",
      "Explicit is better than implicit.\n",
      "Simple is better than complex.\n",
      "Complex is better than complicated.\n",
      "Flat is better than nested.\n",
      "Sparse is better than dense.\n",
      "Readability counts.\n",
      "Special cases aren't special enough to break the rules.\n",
      "Although practicality beats purity.\n",
      "Errors should never pass silently.\n",
      "Unless explicitly silenced.\n",
      "In the face of ambiguity, refuse the temptation to guess.\n",
      "There should be one-- and preferably only one --obvious way to do it.\n",
      "Although that way may not be obvious at first unless you're Dutch.\n",
      "Now is better than never.\n",
      "Although never is often better than *right* now.\n",
      "If the implementation is hard to explain, it's a bad idea.\n",
      "If the implementation is easy to explain, it may be a good idea.\n",
      "Namespaces are one honking great idea -- let's do more of those!\n"
     ]
    }
   ],
   "execution_count": 67
  },
  {
   "metadata": {
    "ExecuteTime": {
     "end_time": "2024-10-21T21:48:40.176457Z",
     "start_time": "2024-10-21T21:48:40.169927Z"
    }
   },
   "cell_type": "code",
   "source": "dir(tuple)",
   "id": "ba3c5914113fec1e",
   "outputs": [
    {
     "data": {
      "text/plain": [
       "['__add__',\n",
       " '__class__',\n",
       " '__class_getitem__',\n",
       " '__contains__',\n",
       " '__delattr__',\n",
       " '__dir__',\n",
       " '__doc__',\n",
       " '__eq__',\n",
       " '__format__',\n",
       " '__ge__',\n",
       " '__getattribute__',\n",
       " '__getitem__',\n",
       " '__getnewargs__',\n",
       " '__getstate__',\n",
       " '__gt__',\n",
       " '__hash__',\n",
       " '__init__',\n",
       " '__init_subclass__',\n",
       " '__iter__',\n",
       " '__le__',\n",
       " '__len__',\n",
       " '__lt__',\n",
       " '__mul__',\n",
       " '__ne__',\n",
       " '__new__',\n",
       " '__reduce__',\n",
       " '__reduce_ex__',\n",
       " '__repr__',\n",
       " '__rmul__',\n",
       " '__setattr__',\n",
       " '__sizeof__',\n",
       " '__str__',\n",
       " '__subclasshook__',\n",
       " 'count',\n",
       " 'index']"
      ]
     },
     "execution_count": 68,
     "metadata": {},
     "output_type": "execute_result"
    }
   ],
   "execution_count": 68
  },
  {
   "metadata": {},
   "cell_type": "markdown",
   "source": "## Tuple packing , tuple unpacking",
   "id": "7528b71696fd9490"
  },
  {
   "metadata": {
    "ExecuteTime": {
     "end_time": "2024-10-21T21:53:16.468068Z",
     "start_time": "2024-10-21T21:53:16.464811Z"
    }
   },
   "cell_type": "code",
   "source": [
    "x = 1,2,3,4\n",
    "print(x, type(x))"
   ],
   "id": "25212dc507a6bf8e",
   "outputs": [
    {
     "name": "stdout",
     "output_type": "stream",
     "text": [
      "(1, 2, 3, 4) <class 'tuple'>\n"
     ]
    }
   ],
   "execution_count": 70
  },
  {
   "metadata": {
    "ExecuteTime": {
     "end_time": "2024-10-21T21:55:29.530973Z",
     "start_time": "2024-10-21T21:55:29.527473Z"
    }
   },
   "cell_type": "code",
   "source": [
    "a, b, c = 1, 2, 3\n",
    "print(a, b, c)"
   ],
   "id": "4e5cd8b673413c6f",
   "outputs": [
    {
     "name": "stdout",
     "output_type": "stream",
     "text": [
      "1 2 3\n"
     ]
    }
   ],
   "execution_count": 71
  },
  {
   "metadata": {
    "ExecuteTime": {
     "end_time": "2024-10-21T22:08:15.649183Z",
     "start_time": "2024-10-21T22:08:15.645959Z"
    }
   },
   "cell_type": "code",
   "source": [
    "x = 0\n",
    "y = 1"
   ],
   "id": "b5dbbf8079a0d53f",
   "outputs": [],
   "execution_count": 80
  },
  {
   "metadata": {
    "ExecuteTime": {
     "end_time": "2024-10-21T22:08:18.947082Z",
     "start_time": "2024-10-21T22:08:18.942859Z"
    }
   },
   "cell_type": "code",
   "source": [
    "x, y = y, x\n",
    "print(x, y)"
   ],
   "id": "5773908ccc854af0",
   "outputs": [
    {
     "name": "stdout",
     "output_type": "stream",
     "text": [
      "1 0\n"
     ]
    }
   ],
   "execution_count": 81
  },
  {
   "metadata": {
    "ExecuteTime": {
     "end_time": "2024-10-21T22:08:22.106667Z",
     "start_time": "2024-10-21T22:08:22.099591Z"
    }
   },
   "cell_type": "code",
   "source": [
    "z = x\n",
    "x = y\n",
    "y = z\n",
    "print(x, y)"
   ],
   "id": "4ff14812d0c6187f",
   "outputs": [
    {
     "name": "stdout",
     "output_type": "stream",
     "text": [
      "0 1\n"
     ]
    }
   ],
   "execution_count": 82
  },
  {
   "metadata": {
    "ExecuteTime": {
     "end_time": "2024-10-21T22:11:49.615712Z",
     "start_time": "2024-10-21T22:11:49.611980Z"
    }
   },
   "cell_type": "code",
   "source": [
    "T =tuple(range(10))\n",
    "print(T)"
   ],
   "id": "7d45d70ab2b0d9c",
   "outputs": [
    {
     "name": "stdout",
     "output_type": "stream",
     "text": [
      "(0, 1, 2, 3, 4, 5, 6, 7, 8, 9)\n"
     ]
    }
   ],
   "execution_count": 83
  },
  {
   "metadata": {
    "ExecuteTime": {
     "end_time": "2024-10-21T22:13:28.896928Z",
     "start_time": "2024-10-21T22:13:28.893912Z"
    }
   },
   "cell_type": "code",
   "source": "e , f , g = T[:3]",
   "id": "546a0d018e1c71ed",
   "outputs": [],
   "execution_count": 85
  },
  {
   "metadata": {
    "ExecuteTime": {
     "end_time": "2024-10-21T22:13:42.849276Z",
     "start_time": "2024-10-21T22:13:42.844693Z"
    }
   },
   "cell_type": "code",
   "source": "print(e, f, g)",
   "id": "ff7d6296e9612ff5",
   "outputs": [
    {
     "name": "stdout",
     "output_type": "stream",
     "text": [
      "0 1 2\n"
     ]
    }
   ],
   "execution_count": 86
  },
  {
   "metadata": {
    "ExecuteTime": {
     "end_time": "2024-10-21T22:16:36.395618Z",
     "start_time": "2024-10-21T22:16:36.391623Z"
    }
   },
   "cell_type": "code",
   "source": [
    "k, l, m , *rest = T\n",
    "print(k, l, m, rest)"
   ],
   "id": "c243c54af11453b6",
   "outputs": [
    {
     "name": "stdout",
     "output_type": "stream",
     "text": [
      "0 1 2 [3, 4, 5, 6, 7, 8, 9]\n"
     ]
    }
   ],
   "execution_count": 87
  },
  {
   "metadata": {
    "ExecuteTime": {
     "end_time": "2024-10-21T22:20:12.118045Z",
     "start_time": "2024-10-21T22:20:12.112852Z"
    }
   },
   "cell_type": "code",
   "source": [
    "*rest, k, l, m = T\n",
    "print(k, l, m, rest)"
   ],
   "id": "a5245ca4f4f7cc28",
   "outputs": [
    {
     "name": "stdout",
     "output_type": "stream",
     "text": [
      "7 8 9 [0, 1, 2, 3, 4, 5, 6]\n"
     ]
    }
   ],
   "execution_count": 88
  },
  {
   "metadata": {
    "ExecuteTime": {
     "end_time": "2024-10-21T22:21:41.581525Z",
     "start_time": "2024-10-21T22:21:41.576957Z"
    }
   },
   "cell_type": "code",
   "source": [
    "k,l,m = T[:-4:-1][::-1]\n",
    "print(k,l,m)"
   ],
   "id": "3b5ee6327f5ce8a6",
   "outputs": [
    {
     "name": "stdout",
     "output_type": "stream",
     "text": [
      "7 8 9\n"
     ]
    }
   ],
   "execution_count": 90
  },
  {
   "metadata": {
    "ExecuteTime": {
     "end_time": "2024-10-21T22:24:41.323738Z",
     "start_time": "2024-10-21T22:24:41.319674Z"
    }
   },
   "cell_type": "code",
   "source": [
    "y, *gggg, i,p =T\n",
    "print(y, gggg, i, p)"
   ],
   "id": "39c833049ba7d4f6",
   "outputs": [
    {
     "name": "stdout",
     "output_type": "stream",
     "text": [
      "0 [1, 2, 3, 4, 5, 6, 7] 8 9\n"
     ]
    }
   ],
   "execution_count": 91
  },
  {
   "metadata": {
    "ExecuteTime": {
     "end_time": "2024-10-21T22:31:10.293904Z",
     "start_time": "2024-10-21T22:31:10.289472Z"
    }
   },
   "cell_type": "code",
   "source": [
    "a,b,c,*letters= 'ala ma kota'\n",
    "print(a,b,c,letters)"
   ],
   "id": "e684107cc4e6ff24",
   "outputs": [
    {
     "name": "stdout",
     "output_type": "stream",
     "text": [
      "a l a [' ', 'm', 'a', ' ', 'k', 'o', 't', 'a']\n"
     ]
    }
   ],
   "execution_count": 95
  },
  {
   "metadata": {
    "ExecuteTime": {
     "end_time": "2024-10-21T22:32:04.024945Z",
     "start_time": "2024-10-21T22:32:04.021191Z"
    }
   },
   "cell_type": "code",
   "source": [
    "a,b,c = [1,2,3]\n",
    "print(a,b,c)"
   ],
   "id": "18ee2c09661b6b55",
   "outputs": [
    {
     "name": "stdout",
     "output_type": "stream",
     "text": [
      "1 2 3\n"
     ]
    }
   ],
   "execution_count": 96
  }
 ],
 "metadata": {
  "kernelspec": {
   "display_name": "Python 3",
   "language": "python",
   "name": "python3"
  },
  "language_info": {
   "codemirror_mode": {
    "name": "ipython",
    "version": 2
   },
   "file_extension": ".py",
   "mimetype": "text/x-python",
   "name": "python",
   "nbconvert_exporter": "python",
   "pygments_lexer": "ipython2",
   "version": "2.7.6"
  }
 },
 "nbformat": 4,
 "nbformat_minor": 5
}
