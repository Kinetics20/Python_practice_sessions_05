{
 "cells": [
  {
   "cell_type": "code",
   "id": "initial_id",
   "metadata": {
    "collapsed": true,
    "ExecuteTime": {
     "end_time": "2024-12-12T23:21:19.403807Z",
     "start_time": "2024-12-12T23:21:19.385922Z"
    }
   },
   "source": [
    "list_4 = ['home', 'John', 'funeral', 'infinity', 'compulsive']\n",
    "\n",
    "def create_sliced_list(array):\n",
    "    return [item[:3] for item in array]\n",
    "\n",
    "create_sliced_list(list_4)\n"
   ],
   "outputs": [
    {
     "data": {
      "text/plain": [
       "['hom', 'Joh', 'fun', 'inf', 'com']"
      ]
     },
     "execution_count": 2,
     "metadata": {},
     "output_type": "execute_result"
    }
   ],
   "execution_count": 2
  },
  {
   "metadata": {
    "ExecuteTime": {
     "end_time": "2024-11-20T11:45:41.185546Z",
     "start_time": "2024-11-20T11:45:41.163982Z"
    }
   },
   "cell_type": "code",
   "source": [
    "def create_list_item_one_index(array):\n",
    "    return [item[1] for item in array]\n",
    "\n",
    "create_list_item_one_index(list_4)"
   ],
   "id": "5e260b1a55f62192",
   "outputs": [
    {
     "data": {
      "text/plain": [
       "['o', 'o', 'u', 'n', 'o']"
      ]
     },
     "execution_count": 8,
     "metadata": {},
     "output_type": "execute_result"
    }
   ],
   "execution_count": 8
  },
  {
   "metadata": {
    "ExecuteTime": {
     "end_time": "2024-11-20T11:45:43.792138Z",
     "start_time": "2024-11-20T11:45:43.776667Z"
    }
   },
   "cell_type": "code",
   "source": [
    "letter = 'n'\n",
    "\n",
    "def create_list_letter_in_item(array, n):\n",
    "    return [item for item in array if n in item]\n",
    "\n",
    "create_list_letter_in_item(list_4, letter)"
   ],
   "id": "c7093c37aff39b2f",
   "outputs": [
    {
     "data": {
      "text/plain": [
       "['John', 'funeral', 'infinity']"
      ]
     },
     "execution_count": 9,
     "metadata": {},
     "output_type": "execute_result"
    }
   ],
   "execution_count": 9
  },
  {
   "metadata": {
    "ExecuteTime": {
     "end_time": "2024-11-19T12:24:38.193266Z",
     "start_time": "2024-11-19T12:24:38.178549Z"
    }
   },
   "cell_type": "code",
   "source": [
    "def create_list_from_range_modulo_n(n):\n",
    "    return [item for item in range(101) if not item % n]\n",
    "\n",
    "create_list_from_range_modulo_n(18)"
   ],
   "id": "fbe4f98bedbd7253",
   "outputs": [
    {
     "data": {
      "text/plain": [
       "[0, 18, 36, 54, 72, 90]"
      ]
     },
     "execution_count": 8,
     "metadata": {},
     "output_type": "execute_result"
    }
   ],
   "execution_count": 8
  },
  {
   "metadata": {
    "ExecuteTime": {
     "end_time": "2024-11-20T11:45:46.466860Z",
     "start_time": "2024-11-20T11:45:46.457208Z"
    }
   },
   "cell_type": "code",
   "source": [
    "def create_list_from_range_modulo_n_and_cond(n, a, b):\n",
    "    return [ item for item in range(101) if not item % n and a < item <= b]\n",
    "\n",
    "create_list_from_range_modulo_n_and_cond(20, 40, 80)"
   ],
   "id": "a1f30a528972174",
   "outputs": [
    {
     "data": {
      "text/plain": [
       "[60, 80]"
      ]
     },
     "execution_count": 10,
     "metadata": {},
     "output_type": "execute_result"
    }
   ],
   "execution_count": 10
  },
  {
   "metadata": {
    "ExecuteTime": {
     "end_time": "2024-11-20T11:45:49.693382Z",
     "start_time": "2024-11-20T11:45:49.677681Z"
    }
   },
   "cell_type": "code",
   "source": [
    "dict_1 = {0: 'home', 1: 'John', 2: 'funeral', 3: 'infinity', 4: 'compulsive'}\n",
    "\n",
    "dict_2 = {0: 'home_AS_a_Hall', 1: ' John2    ', 2: 'funeral123   ', 3: '88infinity', 4: 'compulsive is a bad character treat'}\n",
    "\n",
    "def create_list_from_dict(any_dict):\n",
    "    return [item.capitalize() for item in any_dict.values()]\n",
    "\n",
    "create_list_from_dict(dict_2)"
   ],
   "id": "4de480c39d7003f2",
   "outputs": [
    {
     "data": {
      "text/plain": [
       "['Home_as_a_hall',\n",
       " ' john2    ',\n",
       " 'Funeral123   ',\n",
       " '88infinity',\n",
       " 'Compulsive is a bad character treat']"
      ]
     },
     "execution_count": 11,
     "metadata": {},
     "output_type": "execute_result"
    }
   ],
   "execution_count": 11
  },
  {
   "metadata": {
    "ExecuteTime": {
     "end_time": "2024-11-20T11:45:52.346711Z",
     "start_time": "2024-11-20T11:45:52.330062Z"
    }
   },
   "cell_type": "code",
   "source": [
    "sentence_1 = ' Better now than NEVER      '\n",
    "\n",
    "def str_capitalize(any_str):\n",
    "    return any_str.capitalize()\n",
    "\n",
    "str_capitalize(sentence_1)"
   ],
   "id": "97c3bffafd9147ba",
   "outputs": [
    {
     "data": {
      "text/plain": [
       "' better now than never      '"
      ]
     },
     "execution_count": 12,
     "metadata": {},
     "output_type": "execute_result"
    }
   ],
   "execution_count": 12
  },
  {
   "metadata": {
    "ExecuteTime": {
     "end_time": "2024-11-20T12:16:49.779109Z",
     "start_time": "2024-11-20T12:16:49.767249Z"
    }
   },
   "cell_type": "code",
   "source": [
    "def create_list_from_dict_lowered(any_dict):\n",
    "    return [item.lower() for item in any_dict.values()]\n",
    "\n",
    "create_list_from_dict_lowered(dict_2)"
   ],
   "id": "6fb37c4cc4fb7eba",
   "outputs": [
    {
     "data": {
      "text/plain": [
       "['home_as_a_hall',\n",
       " ' john2    ',\n",
       " 'funeral123   ',\n",
       " '88infinity',\n",
       " 'compulsive is a bad character treat']"
      ]
     },
     "execution_count": 28,
     "metadata": {},
     "output_type": "execute_result"
    }
   ],
   "execution_count": 28
  },
  {
   "metadata": {
    "ExecuteTime": {
     "end_time": "2024-11-20T11:45:55.625043Z",
     "start_time": "2024-11-20T11:45:55.610745Z"
    }
   },
   "cell_type": "code",
   "source": [
    "def str_lower(any_str):\n",
    "    return any_str.lower()\n",
    "\n",
    "str_lower(sentence_1)"
   ],
   "id": "b2f9bdd140adde34",
   "outputs": [
    {
     "data": {
      "text/plain": [
       "' better now than never      '"
      ]
     },
     "execution_count": 13,
     "metadata": {},
     "output_type": "execute_result"
    }
   ],
   "execution_count": 13
  },
  {
   "metadata": {
    "ExecuteTime": {
     "end_time": "2024-11-19T13:54:53.236001Z",
     "start_time": "2024-11-19T13:54:53.227862Z"
    }
   },
   "cell_type": "code",
   "source": [
    "def create_list_from_dict_upper(any_dict):\n",
    "    return [item.upper() for item in any_dict.values()]\n",
    "\n",
    "create_list_from_dict_upper(dict_2)"
   ],
   "id": "bdd4ceddcdbe3262",
   "outputs": [
    {
     "data": {
      "text/plain": [
       "['HOME_AS_A_HALL',\n",
       " ' JOHN2    ',\n",
       " 'FUNERAL123   ',\n",
       " '88INFINITY',\n",
       " 'COMPULSIVE IS A BAD CHARACTER TREAT']"
      ]
     },
     "execution_count": 17,
     "metadata": {},
     "output_type": "execute_result"
    }
   ],
   "execution_count": 17
  },
  {
   "metadata": {
    "ExecuteTime": {
     "end_time": "2024-11-20T11:45:58.955993Z",
     "start_time": "2024-11-20T11:45:58.942525Z"
    }
   },
   "cell_type": "code",
   "source": [
    "def str_upper(any_str):\n",
    "    return any_str.upper()\n",
    "\n",
    "str_upper(sentence_1)"
   ],
   "id": "53963f956cf32cc4",
   "outputs": [
    {
     "data": {
      "text/plain": [
       "' BETTER NOW THAN NEVER      '"
      ]
     },
     "execution_count": 14,
     "metadata": {},
     "output_type": "execute_result"
    }
   ],
   "execution_count": 14
  },
  {
   "metadata": {
    "ExecuteTime": {
     "end_time": "2024-11-19T15:28:57.510979Z",
     "start_time": "2024-11-19T15:28:57.499500Z"
    }
   },
   "cell_type": "code",
   "source": [
    "def create_list_from_dict_titled(any_dict):\n",
    "    return [item.title() for item in any_dict.values()]\n",
    "\n",
    "create_list_from_dict_titled(dict_2)"
   ],
   "id": "fcf6d4a09888d7ba",
   "outputs": [
    {
     "data": {
      "text/plain": [
       "['Home_As_A_Hall',\n",
       " ' John2    ',\n",
       " 'Funeral123   ',\n",
       " '88Infinity',\n",
       " 'Compulsive Is A Bad Character Treat']"
      ]
     },
     "execution_count": 19,
     "metadata": {},
     "output_type": "execute_result"
    }
   ],
   "execution_count": 19
  },
  {
   "metadata": {
    "ExecuteTime": {
     "end_time": "2024-11-20T11:46:01.822535Z",
     "start_time": "2024-11-20T11:46:01.813007Z"
    }
   },
   "cell_type": "code",
   "source": [
    "def str_title(any_str):\n",
    "    return any_str.title()\n",
    "\n",
    "str_title(sentence_1)"
   ],
   "id": "2cd6c4ca9ed196b7",
   "outputs": [
    {
     "data": {
      "text/plain": [
       "' Better Now Than Never      '"
      ]
     },
     "execution_count": 15,
     "metadata": {},
     "output_type": "execute_result"
    }
   ],
   "execution_count": 15
  },
  {
   "metadata": {
    "ExecuteTime": {
     "end_time": "2024-11-19T15:40:18.032939Z",
     "start_time": "2024-11-19T15:40:18.020997Z"
    }
   },
   "cell_type": "code",
   "source": [
    "def str_swapcase(any_str):\n",
    "    return any_str.swapcase()\n",
    "\n",
    "str_swapcase(sentence_1)"
   ],
   "id": "5075667d30f0d381",
   "outputs": [
    {
     "data": {
      "text/plain": [
       "' bETTER NOW THAN never      '"
      ]
     },
     "execution_count": 21,
     "metadata": {},
     "output_type": "execute_result"
    }
   ],
   "execution_count": 21
  },
  {
   "metadata": {
    "ExecuteTime": {
     "end_time": "2024-11-20T11:48:42.988231Z",
     "start_time": "2024-11-20T11:48:42.968181Z"
    }
   },
   "cell_type": "code",
   "source": [
    "def str_strip(any_str):\n",
    "    return any_str.strip()\n",
    "\n",
    "str_strip(sentence_1)"
   ],
   "id": "e53909fe18ea621e",
   "outputs": [
    {
     "data": {
      "text/plain": [
       "'Better now than NEVER'"
      ]
     },
     "execution_count": 23,
     "metadata": {},
     "output_type": "execute_result"
    }
   ],
   "execution_count": 23
  },
  {
   "metadata": {
    "ExecuteTime": {
     "end_time": "2024-11-20T11:46:17.133712Z",
     "start_time": "2024-11-20T11:46:17.123150Z"
    }
   },
   "cell_type": "code",
   "source": [
    "def str_replace(any_str):\n",
    "    return any_str.replace(' ', '_$_$_', 4)\n",
    "\n",
    "str_replace(sentence_1)"
   ],
   "id": "e5c120c99bbc42de",
   "outputs": [
    {
     "data": {
      "text/plain": [
       "'_$_$_Better_$_$_now_$_$_than_$_$_NEVER      '"
      ]
     },
     "execution_count": 18,
     "metadata": {},
     "output_type": "execute_result"
    }
   ],
   "execution_count": 18
  },
  {
   "metadata": {
    "ExecuteTime": {
     "end_time": "2024-11-20T11:46:20.181831Z",
     "start_time": "2024-11-20T11:46:20.166688Z"
    }
   },
   "cell_type": "code",
   "source": [
    "def create_list_to_str():\n",
    "    # return ''.join([str(item) for item in range(11)])\n",
    "    return int(''.join([str(item) for item in range(11)]))\n",
    "\n",
    "create_list_to_str()"
   ],
   "id": "277d024b15c34176",
   "outputs": [
    {
     "data": {
      "text/plain": [
       "12345678910"
      ]
     },
     "execution_count": 19,
     "metadata": {},
     "output_type": "execute_result"
    }
   ],
   "execution_count": 19
  },
  {
   "metadata": {
    "ExecuteTime": {
     "end_time": "2024-11-20T12:38:30.147303Z",
     "start_time": "2024-11-20T12:38:30.133327Z"
    }
   },
   "cell_type": "code",
   "source": [
    "\n",
    "\n",
    "def create_lists_from_dict(any_dict):\n",
    "    l_1 = [item for item in any_dict.values()]\n",
    "    l_2 = [item for item in any_dict.keys()]\n",
    "\n",
    "    return l_1, l_2\n",
    "\n",
    "\n",
    "create_lists_from_dict(dict_2)"
   ],
   "id": "294867af03a6916f",
   "outputs": [
    {
     "data": {
      "text/plain": [
       "(['home_AS_a_Hall',\n",
       "  ' John2    ',\n",
       "  'funeral123   ',\n",
       "  '88infinity',\n",
       "  'compulsive is a bad character treat'],\n",
       " [0, 1, 2, 3, 4])"
      ]
     },
     "execution_count": 37,
     "metadata": {},
     "output_type": "execute_result"
    }
   ],
   "execution_count": 37
  },
  {
   "metadata": {
    "ExecuteTime": {
     "end_time": "2024-11-20T12:38:32.828562Z",
     "start_time": "2024-11-20T12:38:32.815582Z"
    }
   },
   "cell_type": "code",
   "source": [
    "dict_2 = {0: 'home_AS_a_Hall', 1: ' John2    ', 2: 'funeral123   ', 3: '88infinity', 4: 'compulsive is a bad character treat'}\n",
    "create_lists_from_dict(dict_2)"
   ],
   "id": "95626af94a182e7a",
   "outputs": [
    {
     "data": {
      "text/plain": [
       "(['home_AS_a_Hall',\n",
       "  ' John2    ',\n",
       "  'funeral123   ',\n",
       "  '88infinity',\n",
       "  'compulsive is a bad character treat'],\n",
       " [0, 1, 2, 3, 4])"
      ]
     },
     "execution_count": 38,
     "metadata": {},
     "output_type": "execute_result"
    }
   ],
   "execution_count": 38
  },
  {
   "metadata": {
    "ExecuteTime": {
     "end_time": "2024-12-16T16:03:01.841207Z",
     "start_time": "2024-12-16T16:03:01.831153Z"
    }
   },
   "cell_type": "code",
   "source": [
    "x = [0, 1, 2, 3, 4]\n",
    "x.append(5)\n",
    "x"
   ],
   "id": "219a5e6fe7be10f8",
   "outputs": [
    {
     "data": {
      "text/plain": [
       "[0, 1, 2, 3, 4, 5]"
      ]
     },
     "execution_count": 2,
     "metadata": {},
     "output_type": "execute_result"
    }
   ],
   "execution_count": 2
  },
  {
   "metadata": {},
   "cell_type": "code",
   "outputs": [],
   "execution_count": null,
   "source": "",
   "id": "9fe1028c5cbb8588"
  }
 ],
 "metadata": {
  "kernelspec": {
   "display_name": "Python 3",
   "language": "python",
   "name": "python3"
  },
  "language_info": {
   "codemirror_mode": {
    "name": "ipython",
    "version": 2
   },
   "file_extension": ".py",
   "mimetype": "text/x-python",
   "name": "python",
   "nbconvert_exporter": "python",
   "pygments_lexer": "ipython2",
   "version": "2.7.6"
  }
 },
 "nbformat": 4,
 "nbformat_minor": 5
}
