{
 "cells": [
  {
   "cell_type": "code",
   "id": "initial_id",
   "metadata": {
    "collapsed": true,
    "ExecuteTime": {
     "end_time": "2025-01-01T09:05:09.125534Z",
     "start_time": "2025-01-01T09:05:09.115739Z"
    }
   },
   "source": [
    "data = [\n",
    "    {\n",
    "        \"name\": \"pawel\",\n",
    "        \"age\": 39,\n",
    "        \"city\": \"krakow\",\n",
    "        \"hobbies\": [\"js\", \"python\", \"drugs\"]\n",
    "    },\n",
    "    {\n",
    "        \"name\": \"kamil\",\n",
    "        \"age\": 28,\n",
    "        \"city\": \"gryfino\",\n",
    "        \"hobbies\": [\"js\", \"python\", \"godot\"]\n",
    "    },\n",
    "    {\n",
    "        \"name\": \"szymon\",\n",
    "        \"age\": 30,\n",
    "        \"city\": \"legnica\",\n",
    "        \"hobbies\": [\"crypto\", \"work\"]\n",
    "    },\n",
    "    {\n",
    "        \"name\": \"mateusz\",\n",
    "        \"age\": 30,\n",
    "        \"city\": \"wroclaw\",\n",
    "        \"hobbies\": [\"bjj\", \"coding\", \"movies\"]\n",
    "    },\n",
    "    {\n",
    "        'name': 'piotr',\n",
    "        'age': 34,\n",
    "        'city': 'warszawa',\n",
    "        'hobbies': ['climbing', 'running', 'python']\n",
    "    },\n",
    "    {\n",
    "        'name': 'dawid',\n",
    "        'age': 36,\n",
    "        'city': 'torun',\n",
    "        'hobbies': ['boardgames', 'football', 'squash']\n",
    "    },\n",
    "    {\n",
    "        \"name\": \"aleksandra\",\n",
    "        \"age\": 29,\n",
    "        \"city\": \"poznan\",\n",
    "        \"hobbies\": [\"music\", \"art\", \"math\"]\n",
    "    },\n",
    "    {\n",
    "        \"name\": \"renata\",\n",
    "        \"age\": 29,\n",
    "        \"city\": \"sosnowiec\",\n",
    "        \"hobbies\": [\"photography\", \"literature\", \"trips\"]\n",
    "    },\n",
    "    {\n",
    "        'name': \"lukasz\",\n",
    "        'age': 37,\n",
    "        'city': 'brwinow',\n",
    "        'hobbies': ['Cycling', 'Home Beer brewing', 'Learning new things'],\n",
    "    },\n",
    "    {\n",
    "        \"name\": \"bartek\",\n",
    "        \"age\": 47,\n",
    "        \"city\": \"warszawa\",\n",
    "        \"hobbies\": [\"gry\", \"muzyka\", \"filmy\"]\n",
    "    },\n",
    "    {\n",
    "        \"name\": \"igor\",\n",
    "        \"age\": 31,\n",
    "        \"city\": \"wroclaw\",\n",
    "        \"hobbies\": [\"anime\", \"mangi\", \"gry\"]\n",
    "    },\n",
    "    {\n",
    "        \"name\": \"magda\",\n",
    "        \"age\": 31,\n",
    "        \"city\": \"torun\",\n",
    "        \"hobbies\": [\"books\", \"jogging\", \"plants\"]\n",
    "    },\n",
    "    {\n",
    "        \"name\": \"karol\",\n",
    "        \"age\": 38,\n",
    "        \"city\": \"warszawa\",\n",
    "        \"hobbies\": [\"sport\", \"music\", \"culinary\"]\n",
    "    },\n",
    "    {\n",
    "        \"name\": \"pawel\",\n",
    "        \"age\": 33,\n",
    "        \"city\": \"poznan\",\n",
    "        \"hobbies\": [\"music\", \"traveling\", \"photography\"]\n",
    "    }\n",
    "]"
   ],
   "outputs": [],
   "execution_count": 1
  },
  {
   "metadata": {
    "ExecuteTime": {
     "end_time": "2025-01-01T09:05:12.948838Z",
     "start_time": "2025-01-01T09:05:12.941397Z"
    }
   },
   "cell_type": "code",
   "source": "len(data)",
   "id": "b2546edbd8ec490",
   "outputs": [
    {
     "data": {
      "text/plain": [
       "14"
      ]
     },
     "execution_count": 2,
     "metadata": {},
     "output_type": "execute_result"
    }
   ],
   "execution_count": 2
  },
  {
   "metadata": {},
   "cell_type": "markdown",
   "source": "### Policz srednia wieku",
   "id": "87b9fc8924f6ea42"
  },
  {
   "metadata": {
    "ExecuteTime": {
     "end_time": "2025-01-01T09:05:17.986466Z",
     "start_time": "2025-01-01T09:05:17.982010Z"
    }
   },
   "cell_type": "code",
   "source": [
    "def avg_age(dataset):\n",
    "    total_age= 0\n",
    "    \n",
    "    for person in dataset:\n",
    "        total_age += person['age']\n",
    "    \n",
    "    return total_age/len(dataset)\n",
    "        "
   ],
   "id": "b80c49ee11a5ea39",
   "outputs": [],
   "execution_count": 3
  },
  {
   "metadata": {
    "ExecuteTime": {
     "end_time": "2025-01-01T09:05:21.475330Z",
     "start_time": "2025-01-01T09:05:21.463681Z"
    }
   },
   "cell_type": "code",
   "source": "avg_age(data)",
   "id": "ef089749d479d18c",
   "outputs": [
    {
     "data": {
      "text/plain": [
       "33.714285714285715"
      ]
     },
     "execution_count": 4,
     "metadata": {},
     "output_type": "execute_result"
    }
   ],
   "execution_count": 4
  },
  {
   "metadata": {
    "ExecuteTime": {
     "end_time": "2024-10-24T20:40:04.974746Z",
     "start_time": "2024-10-24T20:40:04.968009Z"
    }
   },
   "cell_type": "code",
   "source": [
    "def avg_age_2(dataset):\n",
    "    return sum(person['age'] for person in dataset) / len(dataset)"
   ],
   "id": "6584a4449b6871c5",
   "outputs": [],
   "execution_count": 6
  },
  {
   "metadata": {
    "ExecuteTime": {
     "end_time": "2024-10-24T20:43:36.286659Z",
     "start_time": "2024-10-24T20:43:36.280736Z"
    }
   },
   "cell_type": "code",
   "source": "avg_age_2(data)",
   "id": "9ae9dc542acc3d10",
   "outputs": [
    {
     "data": {
      "text/plain": [
       "33.714285714285715"
      ]
     },
     "execution_count": 7,
     "metadata": {},
     "output_type": "execute_result"
    }
   ],
   "execution_count": 7
  },
  {
   "metadata": {
    "ExecuteTime": {
     "end_time": "2024-10-24T20:49:54.879243Z",
     "start_time": "2024-10-24T20:49:54.871907Z"
    }
   },
   "cell_type": "code",
   "source": [
    "def avg_age_3(dataset):\n",
    "    return sum(map(lambda person: person['age'], dataset)) / len(dataset)"
   ],
   "id": "1b8575d3a16e5ef8",
   "outputs": [],
   "execution_count": 8
  },
  {
   "metadata": {
    "ExecuteTime": {
     "end_time": "2024-10-24T20:50:12.713799Z",
     "start_time": "2024-10-24T20:50:12.706634Z"
    }
   },
   "cell_type": "code",
   "source": "avg_age_3(data)",
   "id": "7068757caf03ade4",
   "outputs": [
    {
     "data": {
      "text/plain": [
       "33.714285714285715"
      ]
     },
     "execution_count": 9,
     "metadata": {},
     "output_type": "execute_result"
    }
   ],
   "execution_count": 9
  },
  {
   "metadata": {
    "ExecuteTime": {
     "end_time": "2024-10-24T20:52:45.275527Z",
     "start_time": "2024-10-24T20:52:45.268518Z"
    }
   },
   "cell_type": "code",
   "source": [
    "x = map(lambda x: x * 2, [1, 2, 3, 4, 5])\n",
    "x"
   ],
   "id": "b0c5824a650d134b",
   "outputs": [
    {
     "data": {
      "text/plain": [
       "<map at 0x7167f441f100>"
      ]
     },
     "execution_count": 10,
     "metadata": {},
     "output_type": "execute_result"
    }
   ],
   "execution_count": 10
  },
  {
   "metadata": {
    "ExecuteTime": {
     "end_time": "2024-10-24T20:53:09.646876Z",
     "start_time": "2024-10-24T20:53:09.640245Z"
    }
   },
   "cell_type": "code",
   "source": "list(x)",
   "id": "3d6693cdb52272a8",
   "outputs": [
    {
     "data": {
      "text/plain": [
       "[2, 4, 6, 8, 10]"
      ]
     },
     "execution_count": 11,
     "metadata": {},
     "output_type": "execute_result"
    }
   ],
   "execution_count": 11
  },
  {
   "metadata": {
    "ExecuteTime": {
     "end_time": "2024-10-24T21:11:04.785070Z",
     "start_time": "2024-10-24T21:11:04.780238Z"
    }
   },
   "cell_type": "code",
   "source": "d = [\"a\", \"b\", \"c\", \"d\", \"e\", \"f\", \"g\", \"h\", \"i\", \"j\"]",
   "id": "28bcbf596388494e",
   "outputs": [],
   "execution_count": 12
  },
  {
   "metadata": {
    "ExecuteTime": {
     "end_time": "2024-10-24T21:11:29.250191Z",
     "start_time": "2024-10-24T21:11:29.245577Z"
    }
   },
   "cell_type": "code",
   "source": [
    "counter = 0\n",
    "for item in d:\n",
    "    print(item, counter)\n",
    "    counter += 1"
   ],
   "id": "a028bb915d1f6fd0",
   "outputs": [
    {
     "name": "stdout",
     "output_type": "stream",
     "text": [
      "a 0\n",
      "b 1\n",
      "c 2\n",
      "d 3\n",
      "e 4\n",
      "f 5\n",
      "g 6\n",
      "h 7\n",
      "i 8\n",
      "j 9\n"
     ]
    }
   ],
   "execution_count": 15
  },
  {
   "metadata": {
    "ExecuteTime": {
     "end_time": "2024-10-24T21:15:30.607028Z",
     "start_time": "2024-10-24T21:15:30.599367Z"
    }
   },
   "cell_type": "code",
   "source": [
    "for idx, item in enumerate(d):\n",
    "    print(item, idx)"
   ],
   "id": "82e1cbb04746187b",
   "outputs": [
    {
     "name": "stdout",
     "output_type": "stream",
     "text": [
      "a 0\n",
      "b 1\n",
      "c 2\n",
      "d 3\n",
      "e 4\n",
      "f 5\n",
      "g 6\n",
      "h 7\n",
      "i 8\n",
      "j 9\n"
     ]
    }
   ],
   "execution_count": 19
  },
  {
   "metadata": {
    "ExecuteTime": {
     "end_time": "2024-10-24T21:17:26.905988Z",
     "start_time": "2024-10-24T21:17:26.898525Z"
    }
   },
   "cell_type": "code",
   "source": "list(map(lambda item: item * 2, d))",
   "id": "f2d9c2719ced1e8b",
   "outputs": [
    {
     "data": {
      "text/plain": [
       "['aa', 'bb', 'cc', 'dd', 'ee', 'ff', 'gg', 'hh', 'ii', 'jj']"
      ]
     },
     "execution_count": 21,
     "metadata": {},
     "output_type": "execute_result"
    }
   ],
   "execution_count": 21
  },
  {
   "metadata": {},
   "cell_type": "code",
   "outputs": [],
   "execution_count": null,
   "source": "# Policz srednia wieku ludzi z po za warszawy",
   "id": "d1545cb3923c8814"
  },
  {
   "metadata": {},
   "cell_type": "code",
   "outputs": [],
   "execution_count": null,
   "source": [
    "def avg_age_2(dataset):\n",
    "    return sum(person['age'] for person in dataset) / len(dataset)"
   ],
   "id": "6fa473b021debcb8"
  },
  {
   "metadata": {
    "ExecuteTime": {
     "end_time": "2024-10-24T21:59:05.599993Z",
     "start_time": "2024-10-24T21:59:05.596188Z"
    }
   },
   "cell_type": "code",
   "source": [
    "def avg_age_people_out_warsaw_1(dataset):\n",
    "    ages = [person['age'] for person in dataset if person['city'].lower() != 'warszawa']\n",
    "    return sum(ages) / len(ages)"
   ],
   "id": "3af76c46183cfb77",
   "outputs": [],
   "execution_count": 37
  },
  {
   "metadata": {
    "ExecuteTime": {
     "end_time": "2024-10-24T21:59:13.278527Z",
     "start_time": "2024-10-24T21:59:13.272601Z"
    }
   },
   "cell_type": "code",
   "source": "avg_age_people_out_warsaw_1(data)",
   "id": "3f7bf4c86ed952a6",
   "outputs": [
    {
     "data": {
      "text/plain": [
       "32.09090909090909"
      ]
     },
     "execution_count": 38,
     "metadata": {},
     "output_type": "execute_result"
    }
   ],
   "execution_count": 38
  },
  {
   "metadata": {
    "ExecuteTime": {
     "end_time": "2024-10-24T22:02:35.070350Z",
     "start_time": "2024-10-24T22:02:35.066378Z"
    }
   },
   "cell_type": "code",
   "source": [
    "def avg_age_people_out_warsaw_2(dataset):\n",
    "    \n",
    "    total_age = 0\n",
    "    counter = 0\n",
    "    \n",
    "    for person in dataset:\n",
    "        if person['city'].lower() != 'warszawa':\n",
    "            total_age += person['age']\n",
    "            counter += 1\n",
    "    return total_age / counter\n",
    "    "
   ],
   "id": "1de3c0a3086369cc",
   "outputs": [],
   "execution_count": 40
  },
  {
   "metadata": {
    "ExecuteTime": {
     "end_time": "2024-10-24T22:02:39.582080Z",
     "start_time": "2024-10-24T22:02:39.576826Z"
    }
   },
   "cell_type": "code",
   "source": "avg_age_people_out_warsaw_2(data)",
   "id": "cb24cb4788ef3a64",
   "outputs": [
    {
     "data": {
      "text/plain": [
       "32.09090909090909"
      ]
     },
     "execution_count": 41,
     "metadata": {},
     "output_type": "execute_result"
    }
   ],
   "execution_count": 41
  },
  {
   "metadata": {
    "ExecuteTime": {
     "end_time": "2024-10-24T22:25:25.535509Z",
     "start_time": "2024-10-24T22:25:25.531486Z"
    }
   },
   "cell_type": "code",
   "source": [
    "def avg_age_people_out_warsaw_3(dataset):\n",
    "    # ages = filter(fn, iterable)\n",
    "    # ages = filter(lambda, dataset)\n",
    "    ages = list(filter(lambda person: person['city'].lower() != 'warszawa', dataset))\n",
    "    return sum(map(lambda person: person['age'], ages)) / len(ages)"
   ],
   "id": "f60ce0b54421f819",
   "outputs": [],
   "execution_count": 43
  },
  {
   "metadata": {
    "ExecuteTime": {
     "end_time": "2024-10-24T22:25:44.996878Z",
     "start_time": "2024-10-24T22:25:44.990810Z"
    }
   },
   "cell_type": "code",
   "source": "avg_age_people_out_warsaw_3(data)",
   "id": "8c2d78ddbb42625b",
   "outputs": [
    {
     "data": {
      "text/plain": [
       "32.09090909090909"
      ]
     },
     "execution_count": 44,
     "metadata": {},
     "output_type": "execute_result"
    }
   ],
   "execution_count": 44
  },
  {
   "metadata": {},
   "cell_type": "markdown",
   "source": "## Zwroc imiona osob ktore sa z warszawy",
   "id": "3b771b7058f1dec7"
  },
  {
   "metadata": {
    "ExecuteTime": {
     "end_time": "2024-10-29T13:37:33.397666Z",
     "start_time": "2024-10-29T13:37:33.391718Z"
    }
   },
   "cell_type": "code",
   "source": [
    "def give_back_names_people_from_waw(dataset):\n",
    "    return tuple(names['name'] for names in dataset if names['city'].lower() == 'warszawa' )"
   ],
   "id": "70c10c536344ec39",
   "outputs": [],
   "execution_count": 6
  },
  {
   "metadata": {
    "ExecuteTime": {
     "end_time": "2024-10-29T13:37:36.407003Z",
     "start_time": "2024-10-29T13:37:36.394861Z"
    }
   },
   "cell_type": "code",
   "source": "give_back_names_people_from_waw(data)",
   "id": "d37b4b8202f99c91",
   "outputs": [
    {
     "data": {
      "text/plain": [
       "('piotr', 'bartek', 'karol')"
      ]
     },
     "execution_count": 7,
     "metadata": {},
     "output_type": "execute_result"
    }
   ],
   "execution_count": 7
  },
  {
   "metadata": {
    "ExecuteTime": {
     "end_time": "2024-10-24T22:35:55.420395Z",
     "start_time": "2024-10-24T22:35:55.414942Z"
    }
   },
   "cell_type": "code",
   "source": [
    "\n",
    "def give_back_names_people_from_waw_2(dataset):\n",
    "    names = []\n",
    "    for person in dataset:\n",
    "        if person['city'].lower() == 'warszawa':\n",
    "            names.append(person['name'])\n",
    "    return names"
   ],
   "id": "659ed8954f20eb9f",
   "outputs": [],
   "execution_count": 47
  },
  {
   "metadata": {
    "ExecuteTime": {
     "end_time": "2024-10-24T22:36:46.044708Z",
     "start_time": "2024-10-24T22:36:46.039878Z"
    }
   },
   "cell_type": "code",
   "source": "give_back_names_people_from_waw_2(data)",
   "id": "17dee04ad509c301",
   "outputs": [
    {
     "data": {
      "text/plain": [
       "['piotr', 'bartek', 'karol']"
      ]
     },
     "execution_count": 48,
     "metadata": {},
     "output_type": "execute_result"
    }
   ],
   "execution_count": 48
  },
  {
   "metadata": {
    "ExecuteTime": {
     "end_time": "2024-10-25T15:55:20.517083Z",
     "start_time": "2024-10-25T15:55:20.503789Z"
    }
   },
   "cell_type": "code",
   "source": [
    "def give_back_names_people_from_waw_3(people):\n",
    "    # return filter(fn, iterable)\n",
    "    # return filter(lambda person: person['city'].lower() == 'warszawa', people)\n",
    "    return list(map(\n",
    "        lambda person: person['name'],\n",
    "        filter(lambda person: person['city'].lower() == 'warszawa', people)\n",
    "    ))"
   ],
   "id": "9eaba7fe76b1dc47",
   "outputs": [],
   "execution_count": 1
  },
  {
   "metadata": {
    "ExecuteTime": {
     "end_time": "2024-10-25T15:56:02.625528Z",
     "start_time": "2024-10-25T15:56:02.603560Z"
    }
   },
   "cell_type": "code",
   "source": "give_back_names_people_from_waw_3(data)",
   "id": "3b468ba5fc34e5a0",
   "outputs": [
    {
     "data": {
      "text/plain": [
       "['piotr', 'bartek', 'karol']"
      ]
     },
     "execution_count": 4,
     "metadata": {},
     "output_type": "execute_result"
    }
   ],
   "execution_count": 4
  },
  {
   "metadata": {},
   "cell_type": "markdown",
   "source": "### Zwroc wszystkie miasta bez powtorzen",
   "id": "3a9459148833d6a"
  },
  {
   "metadata": {
    "ExecuteTime": {
     "end_time": "2024-10-25T16:06:46.821409Z",
     "start_time": "2024-10-25T16:06:46.812935Z"
    }
   },
   "cell_type": "code",
   "source": [
    "def cities_without_repetition(dataset):\n",
    "    return set(city['city'] for city in dataset)"
   ],
   "id": "b2fe90b3cae6e531",
   "outputs": [],
   "execution_count": 5
  },
  {
   "metadata": {
    "ExecuteTime": {
     "end_time": "2024-10-25T16:07:09.460557Z",
     "start_time": "2024-10-25T16:07:09.445835Z"
    }
   },
   "cell_type": "code",
   "source": "cities_without_repetition(data)",
   "id": "585fd117d0ab402b",
   "outputs": [
    {
     "data": {
      "text/plain": [
       "{'brwinow',\n",
       " 'gryfino',\n",
       " 'krakow',\n",
       " 'legnica',\n",
       " 'poznan',\n",
       " 'sosnowiec',\n",
       " 'torun',\n",
       " 'warszawa',\n",
       " 'wroclaw'}"
      ]
     },
     "execution_count": 6,
     "metadata": {},
     "output_type": "execute_result"
    }
   ],
   "execution_count": 6
  },
  {
   "metadata": {
    "ExecuteTime": {
     "end_time": "2024-10-25T16:14:49.188751Z",
     "start_time": "2024-10-25T16:14:49.178586Z"
    }
   },
   "cell_type": "code",
   "source": [
    "def cities_without_repetition_2(dataset):\n",
    "    cities = []\n",
    "    for city in dataset:\n",
    "        cities.append(city['city'])\n",
    "    return list(set(cities))"
   ],
   "id": "ec7654f120c86f19",
   "outputs": [],
   "execution_count": 9
  },
  {
   "metadata": {
    "ExecuteTime": {
     "end_time": "2024-10-25T16:14:52.646050Z",
     "start_time": "2024-10-25T16:14:52.632165Z"
    }
   },
   "cell_type": "code",
   "source": "cities_without_repetition_2(data)",
   "id": "3acd68b9b6c0c4a3",
   "outputs": [
    {
     "data": {
      "text/plain": [
       "['poznan',\n",
       " 'warszawa',\n",
       " 'torun',\n",
       " 'gryfino',\n",
       " 'krakow',\n",
       " 'wroclaw',\n",
       " 'sosnowiec',\n",
       " 'brwinow',\n",
       " 'legnica']"
      ]
     },
     "execution_count": 10,
     "metadata": {},
     "output_type": "execute_result"
    }
   ],
   "execution_count": 10
  },
  {
   "metadata": {
    "ExecuteTime": {
     "end_time": "2024-11-22T17:02:06.535285Z",
     "start_time": "2024-11-22T17:02:06.527770Z"
    }
   },
   "cell_type": "code",
   "source": "cities_without_repetition_3 = lambda dataset: set(map(lambda city: city['city'], dataset))",
   "id": "acd73a4197f962ba",
   "outputs": [],
   "execution_count": 1
  },
  {
   "metadata": {
    "ExecuteTime": {
     "end_time": "2024-10-25T16:17:52.703788Z",
     "start_time": "2024-10-25T16:17:52.695871Z"
    }
   },
   "cell_type": "code",
   "source": "cities_without_repetition_3(data)",
   "id": "ce036760adb61ff6",
   "outputs": [
    {
     "data": {
      "text/plain": [
       "{'brwinow',\n",
       " 'gryfino',\n",
       " 'krakow',\n",
       " 'legnica',\n",
       " 'poznan',\n",
       " 'sosnowiec',\n",
       " 'torun',\n",
       " 'warszawa',\n",
       " 'wroclaw'}"
      ]
     },
     "execution_count": 12,
     "metadata": {},
     "output_type": "execute_result"
    }
   ],
   "execution_count": 12
  },
  {
   "metadata": {},
   "cell_type": "markdown",
   "source": "### Sprawdz czy przynajmniej jedna osoba jest staruchem (age > 35 lat )",
   "id": "46f38941fe24858c"
  },
  {
   "metadata": {
    "ExecuteTime": {
     "end_time": "2024-10-25T18:22:24.934462Z",
     "start_time": "2024-10-25T18:22:24.929506Z"
    }
   },
   "cell_type": "code",
   "source": [
    "def check_age_people(dataset):\n",
    "    return bool(len([age['name'] for age in dataset if age['age'] > 35]) > 1)"
   ],
   "id": "31855f9e44822c77",
   "outputs": [],
   "execution_count": 9
  },
  {
   "metadata": {
    "ExecuteTime": {
     "end_time": "2024-10-25T18:22:28.081081Z",
     "start_time": "2024-10-25T18:22:28.076237Z"
    }
   },
   "cell_type": "code",
   "source": "check_age_people(data)",
   "id": "a1993567948d7890",
   "outputs": [
    {
     "data": {
      "text/plain": [
       "True"
      ]
     },
     "execution_count": 10,
     "metadata": {},
     "output_type": "execute_result"
    }
   ],
   "execution_count": 10
  },
  {
   "metadata": {
    "ExecuteTime": {
     "end_time": "2024-10-25T16:28:56.202879Z",
     "start_time": "2024-10-25T16:28:56.196110Z"
    }
   },
   "cell_type": "code",
   "source": [
    "def check_age_people_2(dataset):\n",
    "    age_list = [age['name'] for age in dataset if age['age'] > 35]\n",
    "    return f'There are {len(age_list)} people who are older than 35 years' if len(age_list) >= 1 else f'There is no elderly people in the group' "
   ],
   "id": "a3783350377fba95",
   "outputs": [],
   "execution_count": 17
  },
  {
   "metadata": {
    "ExecuteTime": {
     "end_time": "2024-10-25T16:28:58.915304Z",
     "start_time": "2024-10-25T16:28:58.905689Z"
    }
   },
   "cell_type": "code",
   "source": "check_age_people_2(data)",
   "id": "4478793533e7ec96",
   "outputs": [
    {
     "data": {
      "text/plain": [
       "'There are 5 people who are older than 35 years'"
      ]
     },
     "execution_count": 18,
     "metadata": {},
     "output_type": "execute_result"
    }
   ],
   "execution_count": 18
  },
  {
   "metadata": {
    "ExecuteTime": {
     "end_time": "2024-10-25T18:21:33.339694Z",
     "start_time": "2024-10-25T18:21:33.335327Z"
    }
   },
   "cell_type": "code",
   "source": [
    "def check_age_people_3(dataset):\n",
    "    age_list = []\n",
    "    for age in dataset:\n",
    "        if age['age'] > 35:\n",
    "            age_list.append(age['name'])\n",
    "    return True if len(age_list) > 1 else False"
   ],
   "id": "b89cc762965946bb",
   "outputs": [],
   "execution_count": 7
  },
  {
   "metadata": {
    "ExecuteTime": {
     "end_time": "2024-10-25T18:21:38.878819Z",
     "start_time": "2024-10-25T18:21:38.869208Z"
    }
   },
   "cell_type": "code",
   "source": "check_age_people_3(data)",
   "id": "26e1157ffb33fb8e",
   "outputs": [
    {
     "data": {
      "text/plain": [
       "True"
      ]
     },
     "execution_count": 8,
     "metadata": {},
     "output_type": "execute_result"
    }
   ],
   "execution_count": 8
  },
  {
   "metadata": {
    "ExecuteTime": {
     "end_time": "2024-10-25T18:46:45.685184Z",
     "start_time": "2024-10-25T18:46:45.678434Z"
    }
   },
   "cell_type": "code",
   "source": [
    "def check_age_people_4(dataset):\n",
    "    ages = list(map\n",
    "                (lambda person: person['name'],\n",
    "                filter(lambda person_age: person_age['age'] > 35, dataset)\n",
    "                ))\n",
    "    return len(ages) > 1"
   ],
   "id": "edbae10a0345372d",
   "outputs": [],
   "execution_count": 16
  },
  {
   "metadata": {
    "ExecuteTime": {
     "end_time": "2024-10-25T18:46:48.047448Z",
     "start_time": "2024-10-25T18:46:48.042541Z"
    }
   },
   "cell_type": "code",
   "source": "check_age_people_4(data)",
   "id": "3823082f3c750de1",
   "outputs": [
    {
     "data": {
      "text/plain": [
       "True"
      ]
     },
     "execution_count": 17,
     "metadata": {},
     "output_type": "execute_result"
    }
   ],
   "execution_count": 17
  },
  {
   "metadata": {
    "ExecuteTime": {
     "end_time": "2024-10-25T19:07:26.327868Z",
     "start_time": "2024-10-25T19:07:26.322630Z"
    }
   },
   "cell_type": "code",
   "source": [
    "def is_olden_people(people):\n",
    "    for person in people:\n",
    "        if person['age'] > 35:\n",
    "            return True\n",
    "    return False"
   ],
   "id": "c61ffb70bc6b4d13",
   "outputs": [],
   "execution_count": 19
  },
  {
   "metadata": {
    "ExecuteTime": {
     "end_time": "2024-10-25T19:07:28.750162Z",
     "start_time": "2024-10-25T19:07:28.745423Z"
    }
   },
   "cell_type": "code",
   "source": "is_olden_people(data)",
   "id": "1221ba9e0c84974f",
   "outputs": [
    {
     "data": {
      "text/plain": [
       "True"
      ]
     },
     "execution_count": 20,
     "metadata": {},
     "output_type": "execute_result"
    }
   ],
   "execution_count": 20
  },
  {
   "metadata": {
    "ExecuteTime": {
     "end_time": "2024-10-25T19:33:47.195877Z",
     "start_time": "2024-10-25T19:33:47.192157Z"
    }
   },
   "cell_type": "code",
   "source": [
    "def is_olden_people_2(people):\n",
    "    return [{person['name']: person['age']} for person in people if person['age'] > 35]\n",
    "    # return [(person['name'], person['age']) for person in people if person['age'] > 35]"
   ],
   "id": "c3fc220c5705e181",
   "outputs": [],
   "execution_count": 41
  },
  {
   "metadata": {
    "ExecuteTime": {
     "end_time": "2024-10-25T19:33:50.008288Z",
     "start_time": "2024-10-25T19:33:50.001371Z"
    }
   },
   "cell_type": "code",
   "source": "is_olden_people_2(data)",
   "id": "9a3af4aec602e06",
   "outputs": [
    {
     "data": {
      "text/plain": [
       "[{'pawel': 39}, {'dawid': 36}, {'lukasz': 37}, {'bartek': 47}, {'karol': 38}]"
      ]
     },
     "execution_count": 42,
     "metadata": {},
     "output_type": "execute_result"
    }
   ],
   "execution_count": 42
  },
  {
   "metadata": {
    "ExecuteTime": {
     "end_time": "2024-10-25T19:35:51.762412Z",
     "start_time": "2024-10-25T19:35:51.758847Z"
    }
   },
   "cell_type": "code",
   "source": [
    "def is_olden_people_3(people):\n",
    "    return [(person['name'], person['age']) for person in people if person['age'] > 35]"
   ],
   "id": "d2cfe81e023d37ab",
   "outputs": [],
   "execution_count": 43
  },
  {
   "metadata": {
    "ExecuteTime": {
     "end_time": "2024-10-25T19:36:03.942153Z",
     "start_time": "2024-10-25T19:36:03.934776Z"
    }
   },
   "cell_type": "code",
   "source": "is_olden_people_3(data)",
   "id": "64faf2b3182e01ba",
   "outputs": [
    {
     "data": {
      "text/plain": [
       "[('pawel', 39), ('dawid', 36), ('lukasz', 37), ('bartek', 47), ('karol', 38)]"
      ]
     },
     "execution_count": 44,
     "metadata": {},
     "output_type": "execute_result"
    }
   ],
   "execution_count": 44
  },
  {
   "metadata": {
    "ExecuteTime": {
     "end_time": "2024-10-25T19:37:55.370068Z",
     "start_time": "2024-10-25T19:37:55.366555Z"
    }
   },
   "cell_type": "code",
   "source": [
    "def is_olden_people_4(people):\n",
    "    return bool([person['name'] for person in people if person['age'] > 35])"
   ],
   "id": "72d75345f6410721",
   "outputs": [],
   "execution_count": 48
  },
  {
   "metadata": {
    "ExecuteTime": {
     "end_time": "2024-10-25T19:37:58.124718Z",
     "start_time": "2024-10-25T19:37:58.118388Z"
    }
   },
   "cell_type": "code",
   "source": "is_olden_people_4(data)",
   "id": "e7a390835f8a05ec",
   "outputs": [
    {
     "data": {
      "text/plain": [
       "True"
      ]
     },
     "execution_count": 49,
     "metadata": {},
     "output_type": "execute_result"
    }
   ],
   "execution_count": 49
  },
  {
   "metadata": {
    "ExecuteTime": {
     "end_time": "2024-10-25T19:54:56.245094Z",
     "start_time": "2024-10-25T19:54:56.239485Z"
    }
   },
   "cell_type": "code",
   "source": [
    "def is_olden_people_5(people):\n",
    "    return len(list(filter(lambda person: person['age'] > 35, people))) > 0"
   ],
   "id": "12182d5cac08b591",
   "outputs": [],
   "execution_count": 57
  },
  {
   "metadata": {
    "ExecuteTime": {
     "end_time": "2024-10-25T19:55:03.813659Z",
     "start_time": "2024-10-25T19:55:03.808864Z"
    }
   },
   "cell_type": "code",
   "source": "is_olden_people_5(data)",
   "id": "d64481a9ab57395",
   "outputs": [
    {
     "data": {
      "text/plain": [
       "True"
      ]
     },
     "execution_count": 58,
     "metadata": {},
     "output_type": "execute_result"
    }
   ],
   "execution_count": 58
  },
  {
   "metadata": {
    "ExecuteTime": {
     "end_time": "2024-10-25T20:03:23.705697Z",
     "start_time": "2024-10-25T20:03:23.683632Z"
    }
   },
   "cell_type": "code",
   "source": [
    "def is_olden_people_6(people):\n",
    "    return any(map(lambda person: person['age'] > 35, people))"
   ],
   "id": "79cb99f12e545b7d",
   "outputs": [],
   "execution_count": 60
  },
  {
   "metadata": {
    "ExecuteTime": {
     "end_time": "2024-10-25T20:05:28.382059Z",
     "start_time": "2024-10-25T20:05:28.377358Z"
    }
   },
   "cell_type": "code",
   "source": "is_olden_people_6(data)",
   "id": "1c9cea7c0518b272",
   "outputs": [
    {
     "data": {
      "text/plain": [
       "True"
      ]
     },
     "execution_count": 61,
     "metadata": {},
     "output_type": "execute_result"
    }
   ],
   "execution_count": 61
  },
  {
   "metadata": {},
   "cell_type": "markdown",
   "source": "### Czy wszyscy sa mlodzi / mlody czlowiek to taki przed 20 /",
   "id": "5dd6f5c0dd889099"
  },
  {
   "metadata": {
    "ExecuteTime": {
     "end_time": "2024-10-25T20:11:35.784899Z",
     "start_time": "2024-10-25T20:11:35.780590Z"
    }
   },
   "cell_type": "code",
   "source": [
    "def is_young_people(people):\n",
    "    # return len([person for person in people if person['age'] < 20]) > 1\n",
    "    return bool([person for person in people if person['age'] < 20])"
   ],
   "id": "452be8d758cef54b",
   "outputs": [],
   "execution_count": 64
  },
  {
   "metadata": {
    "ExecuteTime": {
     "end_time": "2024-10-25T20:11:39.014282Z",
     "start_time": "2024-10-25T20:11:39.008052Z"
    }
   },
   "cell_type": "code",
   "source": "is_young_people(data)",
   "id": "593e5c4da8a34b4a",
   "outputs": [
    {
     "data": {
      "text/plain": [
       "False"
      ]
     },
     "execution_count": 65,
     "metadata": {},
     "output_type": "execute_result"
    }
   ],
   "execution_count": 65
  },
  {
   "metadata": {
    "ExecuteTime": {
     "end_time": "2024-10-25T20:12:55.079896Z",
     "start_time": "2024-10-25T20:12:55.074712Z"
    }
   },
   "cell_type": "code",
   "source": [
    "def is_young_people_2(people):\n",
    "    for person in people:\n",
    "        if person['age'] < 20:\n",
    "            return True\n",
    "    return False"
   ],
   "id": "4b813c72ab4b467f",
   "outputs": [],
   "execution_count": 66
  },
  {
   "metadata": {
    "ExecuteTime": {
     "end_time": "2024-10-25T20:13:15.992316Z",
     "start_time": "2024-10-25T20:13:15.985815Z"
    }
   },
   "cell_type": "code",
   "source": "is_young_people_2(data)",
   "id": "6e23e2b377cd6d86",
   "outputs": [
    {
     "data": {
      "text/plain": [
       "False"
      ]
     },
     "execution_count": 67,
     "metadata": {},
     "output_type": "execute_result"
    }
   ],
   "execution_count": 67
  },
  {
   "metadata": {
    "ExecuteTime": {
     "end_time": "2024-10-25T20:14:07.720446Z",
     "start_time": "2024-10-25T20:14:07.716332Z"
    }
   },
   "cell_type": "code",
   "source": [
    "def is_young_people_3(people):\n",
    "    return any(map(lambda person: person['age'] < 20, people))"
   ],
   "id": "e6f0efb436345d40",
   "outputs": [],
   "execution_count": 68
  },
  {
   "metadata": {
    "ExecuteTime": {
     "end_time": "2024-10-25T20:14:28.008139Z",
     "start_time": "2024-10-25T20:14:28.003374Z"
    }
   },
   "cell_type": "code",
   "source": "is_young_people_3(data)",
   "id": "ed09ef1dac09f7b9",
   "outputs": [
    {
     "data": {
      "text/plain": [
       "False"
      ]
     },
     "execution_count": 69,
     "metadata": {},
     "output_type": "execute_result"
    }
   ],
   "execution_count": 69
  },
  {
   "metadata": {},
   "cell_type": "code",
   "outputs": [],
   "execution_count": null,
   "source": [
    "def magic():\n",
    "    for element in data:\n",
    "        if element['age'] > 20:\n",
    "            return False\n",
    "    return True"
   ],
   "id": "5ed3612297748f2"
  },
  {
   "metadata": {
    "ExecuteTime": {
     "end_time": "2024-10-25T20:19:02.556945Z",
     "start_time": "2024-10-25T20:19:02.545292Z"
    }
   },
   "cell_type": "code",
   "source": "magic()",
   "id": "23949335d94caab8",
   "outputs": [],
   "execution_count": 70
  },
  {
   "metadata": {
    "ExecuteTime": {
     "end_time": "2024-10-25T20:22:51.648978Z",
     "start_time": "2024-10-25T20:22:51.645633Z"
    }
   },
   "cell_type": "code",
   "source": [
    "def magic2():\n",
    "    return bool([element for element in data if element['age'] < 20])"
   ],
   "id": "60f15b71f3569d03",
   "outputs": [],
   "execution_count": 77
  },
  {
   "metadata": {
    "ExecuteTime": {
     "end_time": "2024-10-25T20:22:53.641093Z",
     "start_time": "2024-10-25T20:22:53.634963Z"
    }
   },
   "cell_type": "code",
   "source": "magic2()",
   "id": "8f831ed8f898bbce",
   "outputs": [
    {
     "data": {
      "text/plain": [
       "False"
      ]
     },
     "execution_count": 78,
     "metadata": {},
     "output_type": "execute_result"
    }
   ],
   "execution_count": 78
  },
  {
   "metadata": {
    "ExecuteTime": {
     "end_time": "2024-10-25T20:28:17.955938Z",
     "start_time": "2024-10-25T20:28:17.952858Z"
    }
   },
   "cell_type": "code",
   "source": [
    "def magic3():\n",
    "    return all(map(lambda element: element['age'] < 20, data))"
   ],
   "id": "edac245ea138d3ec",
   "outputs": [],
   "execution_count": 81
  },
  {
   "metadata": {
    "ExecuteTime": {
     "end_time": "2024-10-25T20:28:21.244166Z",
     "start_time": "2024-10-25T20:28:21.238626Z"
    }
   },
   "cell_type": "code",
   "source": "magic3()",
   "id": "6b5a98d62f3735df",
   "outputs": [
    {
     "data": {
      "text/plain": [
       "False"
      ]
     },
     "execution_count": 82,
     "metadata": {},
     "output_type": "execute_result"
    }
   ],
   "execution_count": 82
  },
  {
   "metadata": {},
   "cell_type": "markdown",
   "source": "### ile jest unikalnych hobby",
   "id": "e879770f13fe1c0"
  },
  {
   "metadata": {
    "ExecuteTime": {
     "end_time": "2024-10-25T20:42:39.183657Z",
     "start_time": "2024-10-25T20:42:39.171192Z"
    }
   },
   "cell_type": "code",
   "source": [
    "def magic4():\n",
    "    all_hobbies = set()\n",
    "    \n",
    "    for item in data:\n",
    "        for hobbies in item['hobbies']:\n",
    "            all_hobbies.add(hobbies)\n",
    "    return len(all_hobbies)\n"
   ],
   "id": "e51fb43a7b2c0c7f",
   "outputs": [],
   "execution_count": 94
  },
  {
   "metadata": {
    "ExecuteTime": {
     "end_time": "2024-10-25T20:42:41.662345Z",
     "start_time": "2024-10-25T20:42:41.657394Z"
    }
   },
   "cell_type": "code",
   "source": "magic4()",
   "id": "9f208cfa3e480415",
   "outputs": [
    {
     "data": {
      "text/plain": [
       "34"
      ]
     },
     "execution_count": 95,
     "metadata": {},
     "output_type": "execute_result"
    }
   ],
   "execution_count": 95
  },
  {
   "metadata": {
    "ExecuteTime": {
     "end_time": "2024-10-25T20:47:15.266262Z",
     "start_time": "2024-10-25T20:47:15.261841Z"
    }
   },
   "cell_type": "code",
   "source": [
    "def magic5():\n",
    "    all_hobbies = set()\n",
    "    \n",
    "    for item in data:\n",
    "        all_hobbies.update(item['hobbies'])\n",
    "        \n",
    "    return len(all_hobbies)"
   ],
   "id": "401c64e2ce1aad3f",
   "outputs": [],
   "execution_count": 98
  },
  {
   "metadata": {
    "ExecuteTime": {
     "end_time": "2024-10-25T20:47:18.386050Z",
     "start_time": "2024-10-25T20:47:18.380023Z"
    }
   },
   "cell_type": "code",
   "source": "magic5()",
   "id": "5eff57c33762b0cb",
   "outputs": [
    {
     "data": {
      "text/plain": [
       "34"
      ]
     },
     "execution_count": 99,
     "metadata": {},
     "output_type": "execute_result"
    }
   ],
   "execution_count": 99
  },
  {
   "metadata": {
    "ExecuteTime": {
     "end_time": "2024-10-25T20:50:11.385993Z",
     "start_time": "2024-10-25T20:50:11.381329Z"
    }
   },
   "cell_type": "code",
   "source": [
    "def magic6():\n",
    "    all_hobbies = set()\n",
    "    \n",
    "    for item in data:\n",
    "        all_hobbies |= set(item['hobbies'])\n",
    "        \n",
    "    return len(all_hobbies)"
   ],
   "id": "fa4c8c3b19075f88",
   "outputs": [],
   "execution_count": 104
  },
  {
   "metadata": {
    "ExecuteTime": {
     "end_time": "2024-10-25T20:50:13.994690Z",
     "start_time": "2024-10-25T20:50:13.987690Z"
    }
   },
   "cell_type": "code",
   "source": "magic6()",
   "id": "acdc0be35f260178",
   "outputs": [
    {
     "data": {
      "text/plain": [
       "34"
      ]
     },
     "execution_count": 105,
     "metadata": {},
     "output_type": "execute_result"
    }
   ],
   "execution_count": 105
  },
  {
   "metadata": {
    "ExecuteTime": {
     "end_time": "2024-10-25T21:10:22.124759Z",
     "start_time": "2024-10-25T21:10:22.120298Z"
    }
   },
   "cell_type": "code",
   "source": [
    "def magic7():\n",
    "    return {hobby for person in data for hobby in person['hobbies']}"
   ],
   "id": "3012928cd420578b",
   "outputs": [],
   "execution_count": 109
  },
  {
   "metadata": {
    "ExecuteTime": {
     "end_time": "2024-10-25T21:08:29.687294Z",
     "start_time": "2024-10-25T21:08:29.682248Z"
    }
   },
   "cell_type": "code",
   "source": "magic7()",
   "id": "f69b818006fc4054",
   "outputs": [
    {
     "data": {
      "text/plain": [
       "{'Cycling',\n",
       " 'Home Beer brewing',\n",
       " 'Learning new things',\n",
       " 'anime',\n",
       " 'art',\n",
       " 'bjj',\n",
       " 'boardgames',\n",
       " 'books',\n",
       " 'climbing',\n",
       " 'coding',\n",
       " 'crypto',\n",
       " 'culinary',\n",
       " 'drugs',\n",
       " 'filmy',\n",
       " 'football',\n",
       " 'godot',\n",
       " 'gry',\n",
       " 'jogging',\n",
       " 'js',\n",
       " 'literature',\n",
       " 'mangi',\n",
       " 'math',\n",
       " 'movies',\n",
       " 'music',\n",
       " 'muzyka',\n",
       " 'photography',\n",
       " 'plants',\n",
       " 'python',\n",
       " 'running',\n",
       " 'sport',\n",
       " 'squash',\n",
       " 'traveling',\n",
       " 'trips',\n",
       " 'work'}"
      ]
     },
     "execution_count": 108,
     "metadata": {},
     "output_type": "execute_result"
    }
   ],
   "execution_count": 108
  },
  {
   "metadata": {
    "ExecuteTime": {
     "end_time": "2024-10-25T21:16:27.912323Z",
     "start_time": "2024-10-25T21:16:27.908555Z"
    }
   },
   "cell_type": "code",
   "source": "from functools import reduce",
   "id": "52451ca9c59c274f",
   "outputs": [],
   "execution_count": 111
  },
  {
   "metadata": {
    "ExecuteTime": {
     "end_time": "2024-10-25T21:16:32.681853Z",
     "start_time": "2024-10-25T21:16:32.675233Z"
    }
   },
   "cell_type": "code",
   "source": "reduce(lambda acc, ce: acc | set(ce['hobbies']), data, set())",
   "id": "c5ffce6aba6fb2f8",
   "outputs": [
    {
     "data": {
      "text/plain": [
       "{'Cycling',\n",
       " 'Home Beer brewing',\n",
       " 'Learning new things',\n",
       " 'anime',\n",
       " 'art',\n",
       " 'bjj',\n",
       " 'boardgames',\n",
       " 'books',\n",
       " 'climbing',\n",
       " 'coding',\n",
       " 'crypto',\n",
       " 'culinary',\n",
       " 'drugs',\n",
       " 'filmy',\n",
       " 'football',\n",
       " 'godot',\n",
       " 'gry',\n",
       " 'jogging',\n",
       " 'js',\n",
       " 'literature',\n",
       " 'mangi',\n",
       " 'math',\n",
       " 'movies',\n",
       " 'music',\n",
       " 'muzyka',\n",
       " 'photography',\n",
       " 'plants',\n",
       " 'python',\n",
       " 'running',\n",
       " 'sport',\n",
       " 'squash',\n",
       " 'traveling',\n",
       " 'trips',\n",
       " 'work'}"
      ]
     },
     "execution_count": 112,
     "metadata": {},
     "output_type": "execute_result"
    }
   ],
   "execution_count": 112
  },
  {
   "metadata": {},
   "cell_type": "markdown",
   "source": "# Reduce",
   "id": "4461e1dafa239448"
  },
  {
   "metadata": {
    "ExecuteTime": {
     "end_time": "2024-10-25T21:21:56.949131Z",
     "start_time": "2024-10-25T21:21:56.944384Z"
    }
   },
   "cell_type": "code",
   "source": "x = [1, 2, 3, 4, 5]",
   "id": "793f7c21e2bb0a00",
   "outputs": [],
   "execution_count": 113
  },
  {
   "metadata": {
    "ExecuteTime": {
     "end_time": "2024-10-25T21:22:40.640958Z",
     "start_time": "2024-10-25T21:22:40.635226Z"
    }
   },
   "cell_type": "code",
   "source": "reduce(lambda acc, ce: acc + ce, x)",
   "id": "8311842c95440cd1",
   "outputs": [
    {
     "data": {
      "text/plain": [
       "15"
      ]
     },
     "execution_count": 114,
     "metadata": {},
     "output_type": "execute_result"
    }
   ],
   "execution_count": 114
  },
  {
   "metadata": {},
   "cell_type": "markdown",
   "source": "# Sprawdz i daj liste osob ktore w swoich hobby maja 'music' ",
   "id": "75c8f75c74ec17ef"
  },
  {
   "metadata": {
    "ExecuteTime": {
     "end_time": "2024-10-26T16:34:27.475710Z",
     "start_time": "2024-10-26T16:34:27.469607Z"
    }
   },
   "cell_type": "code",
   "source": [
    "data = [\n",
    "    {\n",
    "        \"name\": \"pawel\",\n",
    "        \"age\": 39,\n",
    "        \"city\": \"krakow\",\n",
    "        \"hobbies\": [\"js\", \"python\", \"drugs\"]\n",
    "    },\n",
    "    {\n",
    "        \"name\": \"kamil\",\n",
    "        \"age\": 28,\n",
    "        \"city\": \"gryfino\",\n",
    "        \"hobbies\": [\"js\", \"python\", \"godot\"]\n",
    "    },\n",
    "    {\n",
    "        \"name\": \"szymon\",\n",
    "        \"age\": 30,\n",
    "        \"city\": \"legnica\",\n",
    "        \"hobbies\": [\"crypto\", \"work\", \"movies\"]\n",
    "    },\n",
    "    {\n",
    "        \"name\": \"mateusz\",\n",
    "        \"age\": 30,\n",
    "        \"city\": \"wroclaw\",\n",
    "        \"hobbies\": [\"bjj\", \"coding\", \"movies\"]\n",
    "    },\n",
    "    {\n",
    "        'name': 'piotr',\n",
    "        'age': 34,\n",
    "        'city': 'warszawa',\n",
    "        'hobbies': ['climbing', 'running', 'python']\n",
    "    },\n",
    "    {\n",
    "        'name': 'dawid',\n",
    "        'age': 36,\n",
    "        'city': 'torun',\n",
    "        'hobbies': ['boardgames', \"movies\", 'squash']\n",
    "    },\n",
    "    {\n",
    "        \"name\": \"aleksandra\",\n",
    "        \"age\": 29,\n",
    "        \"city\": \"poznan\",\n",
    "        \"hobbies\": [\"music\", \"art\", \"math\"]\n",
    "    },\n",
    "    {\n",
    "        \"name\": \"renata\",\n",
    "        \"age\": 29,\n",
    "        \"city\": \"sosnowiec\",\n",
    "        \"hobbies\": [\"photography\", \"literature\", \"trips\"]\n",
    "    },\n",
    "    {\n",
    "        'name': \"lukasz\",\n",
    "        'age': 37,\n",
    "        'city': 'brwinow',\n",
    "        'hobbies': ['Cycling', 'Home Beer brewing', 'Learning new things'],\n",
    "    },\n",
    "    {\n",
    "        \"name\": \"bartek\",\n",
    "        \"age\": 47,\n",
    "        \"city\": \"warszawa\",\n",
    "        \"hobbies\": [\"gry\", \"muzyka\", \"movies\"]\n",
    "    },\n",
    "    {\n",
    "        \"name\": \"igor\",\n",
    "        \"age\": 31,\n",
    "        \"city\": \"wroclaw\",\n",
    "        \"hobbies\": [\"anime\", \"mangi\", \"gry\"]\n",
    "    },\n",
    "    {\n",
    "        \"name\": \"magda\",\n",
    "        \"age\": 31,\n",
    "        \"city\": \"torun\",\n",
    "        \"hobbies\": [\"movies\", \"jogging\", \"plants\"]\n",
    "    },\n",
    "    {\n",
    "        \"name\": \"karol\",\n",
    "        \"age\": 38,\n",
    "        \"city\": \"warszawa\",\n",
    "        \"hobbies\": [\"sport\", \"music\", \"movies\"]\n",
    "    },\n",
    "    {\n",
    "        \"name\": \"pawel\",\n",
    "        \"age\": 33,\n",
    "        \"city\": \"poznan\",\n",
    "        \"hobbies\": [\"music\", \"traveling\", \"photography\"]\n",
    "    }\n",
    "]"
   ],
   "id": "b9e7060da7586e90",
   "outputs": [],
   "execution_count": 18
  },
  {
   "metadata": {
    "ExecuteTime": {
     "end_time": "2024-10-26T16:11:34.091612Z",
     "start_time": "2024-10-26T16:11:34.087095Z"
    }
   },
   "cell_type": "code",
   "source": [
    "def check_misic_in_people_hobby(dataset):\n",
    "    return [age['name'] for age in dataset if 'music' in age['hobbies']]"
   ],
   "id": "11511c20321d46a4",
   "outputs": [],
   "execution_count": 4
  },
  {
   "metadata": {
    "ExecuteTime": {
     "end_time": "2024-10-26T16:11:40.903863Z",
     "start_time": "2024-10-26T16:11:40.897994Z"
    }
   },
   "cell_type": "code",
   "source": "check_misic_in_people_hobby(data)",
   "id": "91a94fd10793f289",
   "outputs": [
    {
     "data": {
      "text/plain": [
       "['aleksandra', 'karol', 'pawel']"
      ]
     },
     "execution_count": 5,
     "metadata": {},
     "output_type": "execute_result"
    }
   ],
   "execution_count": 5
  },
  {
   "metadata": {
    "ExecuteTime": {
     "end_time": "2024-10-26T16:25:47.777585Z",
     "start_time": "2024-10-26T16:25:47.772452Z"
    }
   },
   "cell_type": "code",
   "source": [
    "def create_list_hobbies(dataset):\n",
    "    return {hobby for person in dataset for hobby in person['hobbies']}"
   ],
   "id": "f7721e4585753a26",
   "outputs": [],
   "execution_count": 13
  },
  {
   "metadata": {
    "ExecuteTime": {
     "end_time": "2024-10-26T16:25:52.262263Z",
     "start_time": "2024-10-26T16:25:52.254667Z"
    }
   },
   "cell_type": "code",
   "source": "create_list_hobbies(data)",
   "id": "49c63ab9a2a4bbbe",
   "outputs": [
    {
     "data": {
      "text/plain": [
       "{'Cycling',\n",
       " 'Home Beer brewing',\n",
       " 'Learning new things',\n",
       " 'anime',\n",
       " 'art',\n",
       " 'bjj',\n",
       " 'boardgames',\n",
       " 'books',\n",
       " 'climbing',\n",
       " 'coding',\n",
       " 'crypto',\n",
       " 'culinary',\n",
       " 'drugs',\n",
       " 'filmy',\n",
       " 'football',\n",
       " 'godot',\n",
       " 'gry',\n",
       " 'jogging',\n",
       " 'js',\n",
       " 'literature',\n",
       " 'mangi',\n",
       " 'math',\n",
       " 'movies',\n",
       " 'music',\n",
       " 'muzyka',\n",
       " 'photography',\n",
       " 'plants',\n",
       " 'python',\n",
       " 'running',\n",
       " 'sport',\n",
       " 'squash',\n",
       " 'traveling',\n",
       " 'trips',\n",
       " 'work'}"
      ]
     },
     "execution_count": 14,
     "metadata": {},
     "output_type": "execute_result"
    }
   ],
   "execution_count": 14
  },
  {
   "metadata": {
    "ExecuteTime": {
     "end_time": "2024-10-26T16:35:05.779227Z",
     "start_time": "2024-10-26T16:35:05.775950Z"
    }
   },
   "cell_type": "code",
   "source": [
    "def check_people_age_vs_hobby_films(dataset):\n",
    "    return [people_age['name'] for people_age in dataset if people_age['age'] > 30 and \"movies\" in people_age['hobbies']]"
   ],
   "id": "e1b46a18ad936c49",
   "outputs": [],
   "execution_count": 21
  },
  {
   "metadata": {
    "ExecuteTime": {
     "end_time": "2024-10-26T16:35:08.307706Z",
     "start_time": "2024-10-26T16:35:08.301519Z"
    }
   },
   "cell_type": "code",
   "source": "check_people_age_vs_hobby_films(data)",
   "id": "d9f15a8864212591",
   "outputs": [
    {
     "data": {
      "text/plain": [
       "['dawid', 'bartek', 'magda', 'karol']"
      ]
     },
     "execution_count": 22,
     "metadata": {},
     "output_type": "execute_result"
    }
   ],
   "execution_count": 22
  },
  {
   "metadata": {},
   "cell_type": "markdown",
   "source": "# DataSET from mobs' world from Cyberpunk2077",
   "id": "5ee85a0773d5ab19"
  },
  {
   "metadata": {},
   "cell_type": "markdown",
   "source": [
    "# Pytania:\n",
    "1. Jaka jest całkowita powierzchnia terytoriów kontrolowanych przez gangi, których poziom zagrożenia wynosi 8 lub więcej?\n",
    "2. Ile wynosi średnia wartość loot'u gangów działających w dzielnicy \"Watson\"?\n",
    "3. Które gangi mają wartość loot'u wiekszą od średniej wartości loot'u wszystkich gangów i jednocześnie ich poziom zagrożenia wynosi więcej niż 5?"
   ],
   "id": "b9164e676756d744"
  },
  {
   "metadata": {
    "ExecuteTime": {
     "end_time": "2024-10-26T16:46:47.026787Z",
     "start_time": "2024-10-26T16:46:47.019977Z"
    }
   },
   "cell_type": "code",
   "source": [
    "districts = [\n",
    "    {\n",
    "        \"district\": \"watson\",\n",
    "        \"gang\": {\n",
    "            \"name\": \"maelstrom\",\n",
    "            \"type\": \"cybernetic enhancements\",\n",
    "            \"territory_size\": 20,  # in square kilometers\n",
    "            \"danger_level\": 8,  # scale 1-10\n",
    "            \"loot_value\": 1500  # in currency units\n",
    "        }\n",
    "    },\n",
    "    {\n",
    "        \"district\": \"heywood\",\n",
    "        \"gang\": {\n",
    "            \"name\": \"6th street\",\n",
    "            \"type\": \"militia\",\n",
    "            \"territory_size\": 18,\n",
    "            \"danger_level\": 5,\n",
    "            \"loot_value\": 800\n",
    "        }\n",
    "    },\n",
    "    {\n",
    "        \"district\": \"pacifica\",\n",
    "        \"gang\": {\n",
    "            \"name\": \"voodoo boys\",\n",
    "            \"type\": \"netrunners\",\n",
    "            \"territory_size\": 12,\n",
    "            \"danger_level\": 9,\n",
    "            \"loot_value\": 2000\n",
    "        }\n",
    "    },\n",
    "    {\n",
    "        \"district\": \"westbrook\",\n",
    "        \"gang\": {\n",
    "            \"name\": \"tyger claws\",\n",
    "            \"type\": \"yakuza-style\",\n",
    "            \"territory_size\": 25,\n",
    "            \"danger_level\": 7,\n",
    "            \"loot_value\": 1200\n",
    "        }\n",
    "    },\n",
    "    {\n",
    "        \"district\": \"santo domingo\",\n",
    "        \"gang\": {\n",
    "            \"name\": \"animals\",\n",
    "            \"type\": \"brute force\",\n",
    "            \"territory_size\": 15,\n",
    "            \"danger_level\": 6,\n",
    "            \"loot_value\": 600\n",
    "        }\n",
    "    },\n",
    "    {\n",
    "        \"district\": \"city center\",\n",
    "        \"gang\": {\n",
    "            \"name\": \"arasaka security\",\n",
    "            \"type\": \"corporate security\",\n",
    "            \"territory_size\": 30,\n",
    "            \"danger_level\": 10,\n",
    "            \"loot_value\": 3000\n",
    "        }\n",
    "    },\n",
    "    {\n",
    "        \"district\": \"badlands\",\n",
    "        \"gang\": {\n",
    "            \"name\": \"aldecaldos\",\n",
    "            \"type\": \"nomads\",\n",
    "            \"territory_size\": 50,\n",
    "            \"danger_level\": 4,\n",
    "            \"loot_value\": 900\n",
    "        }\n",
    "    },\n",
    "    {\n",
    "        \"district\": \"watson\",\n",
    "        \"gang\": {\n",
    "            \"name\": \"moxes\",\n",
    "            \"type\": \"defenders of workers\",\n",
    "            \"territory_size\": 10,\n",
    "            \"danger_level\": 3,\n",
    "            \"loot_value\": 400\n",
    "        }\n",
    "    },\n",
    "    {\n",
    "        \"district\": \"badlands\",\n",
    "        \"gang\": {\n",
    "            \"name\": \"wraiths\",\n",
    "            \"type\": \"nomadic raiders\",\n",
    "            \"territory_size\": 45,\n",
    "            \"danger_level\": 8,\n",
    "            \"loot_value\": 1100\n",
    "        }\n",
    "    },\n",
    "    {\n",
    "        \"district\": \"heywood\",\n",
    "        \"gang\": {\n",
    "            \"name\": \"valentinos\",\n",
    "            \"type\": \"street gang\",\n",
    "            \"territory_size\": 16,\n",
    "            \"danger_level\": 6,\n",
    "            \"loot_value\": 950\n",
    "        }\n",
    "    },\n",
    "    {\n",
    "        \"district\": \"watson\",\n",
    "        \"gang\": {\n",
    "            \"name\": \"scavengers\",\n",
    "            \"type\": \"organ harvesters\",\n",
    "            \"territory_size\": 7,\n",
    "            \"danger_level\": 7,\n",
    "            \"loot_value\": 300\n",
    "        }\n",
    "    },\n",
    "    {\n",
    "        \"district\": \"santo domingo\",\n",
    "        \"gang\": {\n",
    "            \"name\": \"scavengers\",\n",
    "            \"type\": \"organ harvesters\",\n",
    "            \"territory_size\": 8,\n",
    "            \"danger_level\": 7,\n",
    "            \"loot_value\": 350\n",
    "        }\n",
    "    },\n",
    "    {\n",
    "        \"district\": \"city center\",\n",
    "        \"gang\": {\n",
    "            \"name\": \"kang tao security\",\n",
    "            \"type\": \"corporate security\",\n",
    "            \"territory_size\": 25,\n",
    "            \"danger_level\": 9,\n",
    "            \"loot_value\": 2500\n",
    "        }\n",
    "    }\n",
    "]"
   ],
   "id": "3b62430aa27fbf5e",
   "outputs": [],
   "execution_count": 23
  },
  {
   "metadata": {
    "ExecuteTime": {
     "end_time": "2024-10-26T17:20:58.127133Z",
     "start_time": "2024-10-26T17:20:58.122968Z"
    }
   },
   "cell_type": "code",
   "source": [
    "def average_value_of_wat_gang(dataset):\n",
    "    return [values['gang']['loot_value'] for values in dataset if values['district'] == \"watson\" and values['gang']['loot_value'] >= 1500]\n"
   ],
   "id": "e67cb3dec98e3203",
   "outputs": [],
   "execution_count": 36
  },
  {
   "metadata": {
    "ExecuteTime": {
     "end_time": "2024-10-26T17:21:01.120278Z",
     "start_time": "2024-10-26T17:21:01.115147Z"
    }
   },
   "cell_type": "code",
   "source": "average_value_of_wat_gang(districts)",
   "id": "6954832ec264a70",
   "outputs": [
    {
     "data": {
      "text/plain": [
       "[1500]"
      ]
     },
     "execution_count": 37,
     "metadata": {},
     "output_type": "execute_result"
    }
   ],
   "execution_count": 37
  },
  {
   "metadata": {
    "ExecuteTime": {
     "end_time": "2024-10-26T17:28:41.261492Z",
     "start_time": "2024-10-26T17:28:41.256371Z"
    }
   },
   "cell_type": "code",
   "source": [
    "def average_loot_value_watson_2(dataset):\n",
    "    watson_loot_values = [values['gang']['loot_value'] for values in dataset if values['district'] == \"watson\"]\n",
    "    # return watson_loot_values\n",
    "    return sum(watson_loot_values) / len(watson_loot_values) if watson_loot_values else 0"
   ],
   "id": "22e85a4ad04cb6ba",
   "outputs": [],
   "execution_count": 42
  },
  {
   "metadata": {
    "ExecuteTime": {
     "end_time": "2024-10-26T17:28:43.862647Z",
     "start_time": "2024-10-26T17:28:43.855879Z"
    }
   },
   "cell_type": "code",
   "source": "average_loot_value_watson_2(districts)",
   "id": "901b9e0dd90b4644",
   "outputs": [
    {
     "data": {
      "text/plain": [
       "733.3333333333334"
      ]
     },
     "execution_count": 43,
     "metadata": {},
     "output_type": "execute_result"
    }
   ],
   "execution_count": 43
  },
  {
   "metadata": {
    "ExecuteTime": {
     "end_time": "2024-10-26T17:34:08.190200Z",
     "start_time": "2024-10-26T17:34:08.186506Z"
    }
   },
   "cell_type": "code",
   "source": [
    "def total_surface_area_vs_level_of_danger(dataset):\n",
    "    return sum([area['gang']['territory_size'] for area in dataset if area['gang']['danger_level'] >= 8])"
   ],
   "id": "b8a6ab0a16abebe5",
   "outputs": [],
   "execution_count": 46
  },
  {
   "metadata": {
    "ExecuteTime": {
     "end_time": "2024-10-26T17:34:15.413254Z",
     "start_time": "2024-10-26T17:34:15.408155Z"
    }
   },
   "cell_type": "code",
   "source": "total_surface_area_vs_level_of_danger(districts)",
   "id": "29316b5134dba8f7",
   "outputs": [
    {
     "data": {
      "text/plain": [
       "132"
      ]
     },
     "execution_count": 47,
     "metadata": {},
     "output_type": "execute_result"
    }
   ],
   "execution_count": 47
  },
  {
   "metadata": {
    "ExecuteTime": {
     "end_time": "2024-10-26T17:54:49.521128Z",
     "start_time": "2024-10-26T17:54:49.514152Z"
    }
   },
   "cell_type": "code",
   "source": [
    "def gangs_value_loot(dataset):\n",
    "    \n",
    "    total_value_loot = [value['gang']['loot_value'] for value in dataset]\n",
    "    average_loot_value = sum(total_value_loot) / len(total_value_loot)\n",
    "    return [gang['gang']['name'] for gang in dataset if gang['gang']['loot_value'] > average_loot_value and gang['gang']['danger_level'] > 5]"
   ],
   "id": "b28d375b6864635f",
   "outputs": [],
   "execution_count": 52
  },
  {
   "metadata": {
    "ExecuteTime": {
     "end_time": "2024-10-26T17:54:53.224882Z",
     "start_time": "2024-10-26T17:54:53.219229Z"
    }
   },
   "cell_type": "code",
   "source": "gangs_value_loot(districts)",
   "id": "edfc158c89891f68",
   "outputs": [
    {
     "data": {
      "text/plain": [
       "['maelstrom', 'voodoo boys', 'arasaka security', 'kang tao security']"
      ]
     },
     "execution_count": 53,
     "metadata": {},
     "output_type": "execute_result"
    }
   ],
   "execution_count": 53
  },
  {
   "metadata": {
    "ExecuteTime": {
     "end_time": "2024-10-26T20:51:44.841390Z",
     "start_time": "2024-10-26T20:51:44.837939Z"
    }
   },
   "cell_type": "code",
   "source": "H = [['john', 'mother'], [58, 'Home'], [9, 'Christmas']]",
   "id": "3d8ef9d8554535d3",
   "outputs": [],
   "execution_count": 54
  },
  {
   "metadata": {
    "ExecuteTime": {
     "end_time": "2024-10-26T20:53:34.751544Z",
     "start_time": "2024-10-26T20:53:34.745923Z"
    }
   },
   "cell_type": "code",
   "source": [
    "c = [x for y in H for x in y]\n",
    "c"
   ],
   "id": "17ec63b9d9f993e4",
   "outputs": [
    {
     "data": {
      "text/plain": [
       "['john', 'mother', 58, 'Home', 9, 'Christmas']"
      ]
     },
     "execution_count": 56,
     "metadata": {},
     "output_type": "execute_result"
    }
   ],
   "execution_count": 56
  },
  {
   "metadata": {
    "ExecuteTime": {
     "end_time": "2024-10-30T16:45:10.797404Z",
     "start_time": "2024-10-30T16:45:10.791300Z"
    }
   },
   "cell_type": "code",
   "source": [
    "def filter_string(st):\n",
    "    return int(''.join(x for x in st if x.isdigit()))"
   ],
   "id": "1e1d08e5e7553340",
   "outputs": [],
   "execution_count": 36
  },
  {
   "metadata": {
    "ExecuteTime": {
     "end_time": "2024-10-30T16:53:33.494860Z",
     "start_time": "2024-10-30T16:53:33.480710Z"
    }
   },
   "cell_type": "code",
   "source": "filter_string('ala123')",
   "id": "b6c83965c5d0c8a2",
   "outputs": [
    {
     "data": {
      "text/plain": [
       "123"
      ]
     },
     "execution_count": 38,
     "metadata": {},
     "output_type": "execute_result"
    }
   ],
   "execution_count": 38
  },
  {
   "metadata": {
    "ExecuteTime": {
     "end_time": "2024-10-30T16:53:49.565587Z",
     "start_time": "2024-10-30T16:53:49.550821Z"
    }
   },
   "cell_type": "code",
   "source": "filter_string('5678ala123')",
   "id": "f39443f9ed7ab6eb",
   "outputs": [
    {
     "data": {
      "text/plain": [
       "5678123"
      ]
     },
     "execution_count": 39,
     "metadata": {},
     "output_type": "execute_result"
    }
   ],
   "execution_count": 39
  },
  {
   "metadata": {},
   "cell_type": "markdown",
   "source": "# Class",
   "id": "c41068ed7f3e802"
  },
  {
   "metadata": {
    "ExecuteTime": {
     "end_time": "2024-11-04T15:56:33.098720Z",
     "start_time": "2024-11-04T15:56:33.084987Z"
    }
   },
   "cell_type": "code",
   "source": [
    "class MakRang:\n",
    "    def __init__(self):\n",
    "        self.start = None\n",
    "        self.end = None\n",
    "        self.step = 1\n",
    "        self.lst = []\n",
    "        \n",
    "    def creating_list_from_range(self, start, end, step = 1):\n",
    "        self.start = start\n",
    "        self.end = end\n",
    "        self.step = step\n",
    "        return list(range(self.start, self.end, self.step))\n",
    "    \n",
    "    def creating_list_from_list(self, lst):\n",
    "        self.lst = lst\n",
    "        return [x for x in self.lst if x & 1 ]"
   ],
   "id": "f56a1d157cabbd53",
   "outputs": [],
   "execution_count": 14
  },
  {
   "metadata": {
    "ExecuteTime": {
     "end_time": "2024-11-04T15:56:36.075409Z",
     "start_time": "2024-11-04T15:56:36.061120Z"
    }
   },
   "cell_type": "code",
   "source": [
    "f = MakRang()\n",
    "f.creating_list_from_range(0, 10)"
   ],
   "id": "63b4b0b7fd3b3d0c",
   "outputs": [
    {
     "data": {
      "text/plain": [
       "[0, 1, 2, 3, 4, 5, 6, 7, 8, 9]"
      ]
     },
     "execution_count": 15,
     "metadata": {},
     "output_type": "execute_result"
    }
   ],
   "execution_count": 15
  },
  {
   "metadata": {
    "ExecuteTime": {
     "end_time": "2024-11-04T15:56:39.393126Z",
     "start_time": "2024-11-04T15:56:39.380576Z"
    }
   },
   "cell_type": "code",
   "source": [
    "ggg = f.creating_list_from_range(0, 10)\n",
    "d = MakRang()\n",
    "d.creating_list_from_list(ggg)\n"
   ],
   "id": "3947c32f93e1974c",
   "outputs": [
    {
     "data": {
      "text/plain": [
       "[1, 3, 5, 7, 9]"
      ]
     },
     "execution_count": 16,
     "metadata": {},
     "output_type": "execute_result"
    }
   ],
   "execution_count": 16
  },
  {
   "metadata": {},
   "cell_type": "code",
   "outputs": [],
   "execution_count": null,
   "source": [
    "class Block:\n",
    "    def __init__(self, dimension):\n",
    "        self.width = dimension[0]\n",
    "        self.length = dimension[1]\n",
    "        self.height = dimension[2]\n",
    "        \n",
    "    def get_width(self):\n",
    "        return self.width\n",
    "\n",
    "    def get_length(self):\n",
    "        return self.length\n",
    "    \n",
    "    def get_height(self):\n",
    "        return self.height\n",
    "    \n",
    "    def get_volume(self):\n",
    "        return self.width * self.length * self.height\n",
    "    \n",
    "    def get_surface_area(self):\n",
    "        return 2 * (self.width * self.length + self.length * self.height + self.height * self.width)\n",
    "     "
   ],
   "id": "5729bbb9fb8c2c86"
  },
  {
   "metadata": {},
   "cell_type": "markdown",
   "source": "# Functions",
   "id": "82ec6f69b0283d4"
  },
  {
   "metadata": {},
   "cell_type": "code",
   "outputs": [],
   "execution_count": null,
   "source": [
    "def data_reverse(data):\n",
    "    \n",
    "    byte_chunks = [data[i:i + 8] for i in range(0, len(data), 8)]\n",
    "    \n",
    "    reversed_chunks = byte_chunks[::-1]\n",
    "    \n",
    "    return [bit for chunk in reversed_chunks for bit in chunk]\n"
   ],
   "id": "209fc8fa861bda05"
  },
  {
   "metadata": {},
   "cell_type": "code",
   "outputs": [],
   "execution_count": null,
   "source": [
    "def data_reverse_2(data):\n",
    "    res = []\n",
    "\n",
    "    for i in range(len(data) - 8, -1, -8):\n",
    "        res.extend(data[i:i + 8])\n",
    "\n",
    "    return res\n"
   ],
   "id": "399cc778ff5d513e"
  },
  {
   "metadata": {},
   "cell_type": "code",
   "outputs": [],
   "execution_count": null,
   "source": [
    "from cffi.backend_ctypes import xrange\n",
    "\n",
    "\n",
    "def data_reverse_3(data):\n",
    "    return [b for a in xrange(len(data) - 8, -1, -8) for b in data[a:a + 8]]"
   ],
   "id": "b9aad4e3e5ed7af0"
  },
  {
   "metadata": {
    "ExecuteTime": {
     "end_time": "2024-11-05T13:36:29.559689Z",
     "start_time": "2024-11-05T13:36:29.546498Z"
    }
   },
   "cell_type": "code",
   "source": [
    "def generate_custom_dict():\n",
    "    # Generate reversed alphabet mapping\n",
    "    alphabet = {i + 1: chr(122 - i) for i in range(26)}\n",
    "    # Add mappings for special characters\n",
    "    special_chars = {27: '!', 28: '?', 29: ' '}\n",
    "    # Combine both dictionaries\n",
    "    return {**alphabet, **special_chars}"
   ],
   "id": "1a1c7fa7a3dd1950",
   "outputs": [],
   "execution_count": 1
  },
  {
   "metadata": {
    "ExecuteTime": {
     "end_time": "2024-11-05T13:50:53.523756Z",
     "start_time": "2024-11-05T13:50:53.514587Z"
    }
   },
   "cell_type": "code",
   "source": [
    "custom_dict = generate_custom_dict()\n",
    "print(custom_dict)"
   ],
   "id": "fbe7c6f6e6dc61b5",
   "outputs": [
    {
     "name": "stdout",
     "output_type": "stream",
     "text": [
      "{1: 'z', 2: 'y', 3: 'x', 4: 'w', 5: 'v', 6: 'u', 7: 't', 8: 's', 9: 'r', 10: 'q', 11: 'p', 12: 'o', 13: 'n', 14: 'm', 15: 'l', 16: 'k', 17: 'j', 18: 'i', 19: 'h', 20: 'g', 21: 'f', 22: 'e', 23: 'd', 24: 'c', 25: 'b', 26: 'a', 27: '!', 28: '?', 29: ' '}\n"
     ]
    }
   ],
   "execution_count": 18
  },
  {
   "metadata": {
    "ExecuteTime": {
     "end_time": "2024-11-05T13:50:56.169065Z",
     "start_time": "2024-11-05T13:50:56.162519Z"
    }
   },
   "cell_type": "code",
   "source": [
    "def switcher(arr):\n",
    "    return [custom_dict[int(x)] for x in arr if x in custom_dict]"
   ],
   "id": "1bd27911522fa07d",
   "outputs": [],
   "execution_count": 19
  },
  {
   "metadata": {
    "ExecuteTime": {
     "end_time": "2024-11-05T13:50:58.981359Z",
     "start_time": "2024-11-05T13:50:58.968367Z"
    }
   },
   "cell_type": "code",
   "source": "switcher(['24', '12', '23', '22', '4', '26', '9', '8'])",
   "id": "416389566fe6baf8",
   "outputs": [
    {
     "data": {
      "text/plain": [
       "[]"
      ]
     },
     "execution_count": 20,
     "metadata": {},
     "output_type": "execute_result"
    }
   ],
   "execution_count": 20
  },
  {
   "metadata": {
    "ExecuteTime": {
     "end_time": "2024-11-05T13:56:31.151358Z",
     "start_time": "2024-11-05T13:56:31.139381Z"
    }
   },
   "cell_type": "code",
   "source": [
    "def generate_custom_dict():\n",
    "    alphabet = {i + 1: chr(122 - i) for i in range(26)}\n",
    "\n",
    "    special_chars = {27: '!', 28: '?', 29: ' '}\n",
    "\n",
    "    return {**alphabet, **special_chars}\n",
    "\n",
    "custom_dict = generate_custom_dict()\n",
    "\n",
    "def switcher(arr):\n",
    "    return ''.join([custom_dict[int(x)] for x in arr if int(x) in custom_dict])"
   ],
   "id": "f8f98ca956397815",
   "outputs": [],
   "execution_count": 21
  },
  {
   "metadata": {
    "ExecuteTime": {
     "end_time": "2024-11-05T13:56:34.983136Z",
     "start_time": "2024-11-05T13:56:34.976269Z"
    }
   },
   "cell_type": "code",
   "source": "switcher(['24', '12', '23', '22', '4', '26', '9', '8'])",
   "id": "ecc49b67a70d3ad7",
   "outputs": [
    {
     "data": {
      "text/plain": [
       "'codewars'"
      ]
     },
     "execution_count": 22,
     "metadata": {},
     "output_type": "execute_result"
    }
   ],
   "execution_count": 22
  },
  {
   "metadata": {},
   "cell_type": "code",
   "outputs": [],
   "execution_count": null,
   "source": [
    "chars = \"_zyxwvutsrqponmlkjihgfedcba!? \"\n",
    "\n",
    "def switcher_2(arr):\n",
    "    return \"\".join(chars[int(i)] for i in arr if i != \"0\")"
   ],
   "id": "8a3127d882f8a9b4"
  },
  {
   "metadata": {},
   "cell_type": "code",
   "outputs": [],
   "execution_count": null,
   "source": [
    "def switcher_3(arr):\n",
    "    d = {str(i): chr(123-i) for i in range(1,27)}\n",
    "    d.update({'27':'!'})\n",
    "    d.update({'28':'?'})\n",
    "    d.update({'29':' '})\n",
    "    d.update({'0':''})\n",
    "    return ''.join([d[str(i)] for i in arr])"
   ],
   "id": "d2c8ccf9912f2f02"
  },
  {
   "metadata": {},
   "cell_type": "code",
   "outputs": [],
   "execution_count": null,
   "source": [
    "def calc(x):\n",
    "    \n",
    "    total1 = ''.join(str(ord(char)) for char in x)\n",
    "        \n",
    "    total2 = total1.replace('7', '1')\n",
    "        \n",
    "    sum_total1 = sum(int(digit) for digit in total1)\n",
    "    sum_total2 = sum(int(digit) for digit in total2)\n",
    "        \n",
    "    return sum_total1 - sum_total2\n"
   ],
   "id": "1344276ef1bb9cb1"
  },
  {
   "metadata": {},
   "cell_type": "code",
   "outputs": [],
   "execution_count": null,
   "source": [
    "def calc_2(x):\n",
    "    return ''.join(str(ord(ch)) for ch in x).count('7') * 6"
   ],
   "id": "f13be0476da1b32f"
  },
  {
   "metadata": {},
   "cell_type": "code",
   "outputs": [],
   "execution_count": null,
   "source": [
    "def array_leaders(numbers):\n",
    "    leaders = []\n",
    "    \n",
    "    for i in range(len(numbers)):\n",
    "        right_sum = sum(numbers[i + 1:])\n",
    "        \n",
    "        if numbers[i] > right_sum:\n",
    "            leaders.append(numbers[i])\n",
    "    return leaders\n"
   ],
   "id": "7706c24c9d7b930f"
  },
  {
   "metadata": {},
   "cell_type": "code",
   "outputs": [],
   "execution_count": null,
   "source": [
    "def array_leaders_2(numbers):\n",
    "    return [n for (i,n) in enumerate(numbers) if n>sum(numbers[(i+1):])]"
   ],
   "id": "4770fa45f1ed96d0"
  },
  {
   "metadata": {},
   "cell_type": "code",
   "outputs": [],
   "execution_count": null,
   "source": [
    "def greet(name): \n",
    "    return f'Hello {name.lower().title()}!'"
   ],
   "id": "91c03280be5246de"
  },
  {
   "metadata": {},
   "cell_type": "code",
   "outputs": [],
   "execution_count": null,
   "source": [
    "import re\n",
    "\n",
    "\n",
    "def abbreviate(text):\n",
    "    def abbreviate_word(word):\n",
    "        if len(word) >= 4:\n",
    "            return f\"{word[0]}{len(word) - 2}{word[-1]}\"\n",
    "        return word\n",
    "\n",
    "    result = []\n",
    "    for part in re.split(r'([^a-zA-Z]+)', text):\n",
    "        if part.isalpha():\n",
    "            result.append(abbreviate_word(part))\n",
    "        else:\n",
    "            result.append(part)\n",
    "\n",
    "    return ''.join(result)"
   ],
   "id": "e23822aa47a8d706"
  },
  {
   "metadata": {},
   "cell_type": "code",
   "outputs": [],
   "execution_count": null,
   "source": "",
   "id": "2c60380b6bd23488"
  },
  {
   "metadata": {},
   "cell_type": "code",
   "outputs": [],
   "execution_count": null,
   "source": "",
   "id": "9dcf9c8355993af4"
  },
  {
   "metadata": {},
   "cell_type": "code",
   "outputs": [],
   "execution_count": null,
   "source": "",
   "id": "3ecd15fa7607595c"
  }
 ],
 "metadata": {
  "kernelspec": {
   "display_name": "Python 3",
   "language": "python",
   "name": "python3"
  },
  "language_info": {
   "codemirror_mode": {
    "name": "ipython",
    "version": 2
   },
   "file_extension": ".py",
   "mimetype": "text/x-python",
   "name": "python",
   "nbconvert_exporter": "python",
   "pygments_lexer": "ipython2",
   "version": "2.7.6"
  }
 },
 "nbformat": 4,
 "nbformat_minor": 5
}
