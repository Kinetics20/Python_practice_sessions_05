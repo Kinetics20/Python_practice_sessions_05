{
 "cells": [
  {
   "metadata": {},
   "cell_type": "markdown",
   "source": [
    "# Functions\n",
    "- set of instructions unclosed under identifier\n",
    "- purpose: code reusability\n",
    "\n",
    "\n",
    "### Name function\n",
    "- snake case\n",
    "- descriptive name\n",
    "- letters, digits, underscore, can't start from digit\n",
    "- english is essential"
   ],
   "id": "52228f3be68a549f"
  },
  {
   "metadata": {
    "ExecuteTime": {
     "end_time": "2024-11-20T12:35:11.380696Z",
     "start_time": "2024-11-20T12:35:11.376373Z"
    }
   },
   "cell_type": "code",
   "source": [
    "# Function declaration\n",
    "def mult_dig(a, b):\n",
    "    return a * b"
   ],
   "id": "11213b89ef8cd17e",
   "outputs": [],
   "execution_count": 10
  },
  {
   "metadata": {
    "ExecuteTime": {
     "end_time": "2024-11-20T12:35:14.279210Z",
     "start_time": "2024-11-20T12:35:14.269213Z"
    }
   },
   "cell_type": "code",
   "source": [
    "# Function execution\n",
    "mult_dig(1, 2)"
   ],
   "id": "2b88d7b5feae1d99",
   "outputs": [
    {
     "data": {
      "text/plain": [
       "2"
      ]
     },
     "execution_count": 11,
     "metadata": {},
     "output_type": "execute_result"
    }
   ],
   "execution_count": 11
  },
  {
   "metadata": {},
   "cell_type": "markdown",
   "source": [
    "## Parameters / Arguments\n",
    "\n",
    "- declaration - parameters\n",
    "- execution - arguments"
   ],
   "id": "535c3d5b596936bc"
  },
  {
   "metadata": {
    "ExecuteTime": {
     "end_time": "2024-11-20T12:35:18.523853Z",
     "start_time": "2024-11-20T12:35:18.514017Z"
    }
   },
   "cell_type": "code",
   "source": [
    "def magic(a, b, c, d, e):\n",
    "    pass"
   ],
   "id": "a7af02670c195e96",
   "outputs": [],
   "execution_count": 12
  },
  {
   "metadata": {
    "ExecuteTime": {
     "end_time": "2024-11-20T12:35:21.774111Z",
     "start_time": "2024-11-20T12:35:21.757607Z"
    }
   },
   "cell_type": "code",
   "source": [
    "# position arguments\n",
    "magic(1, 2, 3, 4, 5)\n",
    "\n",
    "# named arguments\n",
    "magic(a=1, b=2, c=3, d=4, e=5)\n",
    "magic(a=2, b=4, c=5, d=1, e=3)\n",
    "\n",
    "# mixed : positional + named / positional always before named /\n",
    "magic(1, 2, 3, d=4, e=5)\n",
    "magic(1, 2, 3, e=4, d=5)"
   ],
   "id": "5fa92a2cf03ad1c8",
   "outputs": [],
   "execution_count": 13
  },
  {
   "metadata": {
    "ExecuteTime": {
     "end_time": "2024-11-20T12:35:25.737847Z",
     "start_time": "2024-11-20T12:35:25.730727Z"
    }
   },
   "cell_type": "code",
   "source": [
    "def magic(a, b=None):\n",
    "    pass"
   ],
   "id": "d1e7daa5a147e52b",
   "outputs": [],
   "execution_count": 14
  },
  {
   "metadata": {
    "ExecuteTime": {
     "end_time": "2024-11-20T12:35:28.745788Z",
     "start_time": "2024-11-20T12:35:28.740823Z"
    }
   },
   "cell_type": "code",
   "source": [
    "# optional / default ( defaults should be always after positional )\n",
    "magic(1)\n",
    "magic(1, 2)"
   ],
   "id": "f5254c26d75f52bb",
   "outputs": [],
   "execution_count": 15
  },
  {
   "metadata": {
    "ExecuteTime": {
     "end_time": "2024-11-20T12:35:35.740315Z",
     "start_time": "2024-11-20T12:35:35.733711Z"
    }
   },
   "cell_type": "code",
   "source": [
    "# Bad version / default , must uae immutable data types -> the most often using in Python None or primitive type\n",
    "def magic_pro(item, array=[]):\n",
    "    array.append(item)\n",
    "    return array\n",
    "# God version /\n",
    "def magic_pro_(item, array=None):\n",
    "    if array is None:\n",
    "        array = []\n",
    "    array.append(item)\n",
    "    return array"
   ],
   "id": "e4966481c25d0786",
   "outputs": [],
   "execution_count": 16
  },
  {
   "metadata": {
    "ExecuteTime": {
     "end_time": "2024-11-20T12:35:39.669976Z",
     "start_time": "2024-11-20T12:35:39.660272Z"
    }
   },
   "cell_type": "code",
   "source": "magic_pro(42)",
   "id": "2eea4dee379188f0",
   "outputs": [
    {
     "data": {
      "text/plain": [
       "[42]"
      ]
     },
     "execution_count": 17,
     "metadata": {},
     "output_type": "execute_result"
    }
   ],
   "execution_count": 17
  },
  {
   "metadata": {
    "ExecuteTime": {
     "end_time": "2024-11-20T12:35:42.798006Z",
     "start_time": "2024-11-20T12:35:42.782790Z"
    }
   },
   "cell_type": "code",
   "source": "magic_pro(1, [])",
   "id": "97810c8071d2447c",
   "outputs": [
    {
     "data": {
      "text/plain": [
       "[1]"
      ]
     },
     "execution_count": 18,
     "metadata": {},
     "output_type": "execute_result"
    }
   ],
   "execution_count": 18
  },
  {
   "metadata": {
    "ExecuteTime": {
     "end_time": "2024-11-20T12:35:45.396390Z",
     "start_time": "2024-11-20T12:35:45.379595Z"
    }
   },
   "cell_type": "code",
   "source": "magic_pro(1024)",
   "id": "795870af4527ebdf",
   "outputs": [
    {
     "data": {
      "text/plain": [
       "[42, 1024]"
      ]
     },
     "execution_count": 19,
     "metadata": {},
     "output_type": "execute_result"
    }
   ],
   "execution_count": 19
  },
  {
   "metadata": {
    "ExecuteTime": {
     "end_time": "2024-11-20T12:35:50.744913Z",
     "start_time": "2024-11-20T12:35:50.737337Z"
    }
   },
   "cell_type": "code",
   "source": [
    "# variable amount of parameters / * positional , ** named /\n",
    "def magic(*args, **kwargs):\n",
    "    print(args)\n",
    "    print(*args)\n",
    "    print(type(args))\n",
    "    # print(**kwargs) ????????\n",
    "    print(kwargs)\n",
    "    print(type(kwargs))"
   ],
   "id": "7ed76e61c73da071",
   "outputs": [],
   "execution_count": 20
  },
  {
   "metadata": {
    "ExecuteTime": {
     "end_time": "2024-11-11T17:06:34.392420Z",
     "start_time": "2024-11-11T17:06:34.388630Z"
    }
   },
   "cell_type": "code",
   "source": "magic()",
   "id": "d7e3bbb11796109e",
   "outputs": [
    {
     "name": "stdout",
     "output_type": "stream",
     "text": [
      "()\n",
      "\n",
      "<class 'tuple'>\n",
      "\n",
      "{}\n",
      "<class 'dict'>\n"
     ]
    }
   ],
   "execution_count": 65
  },
  {
   "metadata": {
    "ExecuteTime": {
     "end_time": "2024-11-11T17:05:32.731952Z",
     "start_time": "2024-11-11T17:05:32.727751Z"
    }
   },
   "cell_type": "code",
   "source": "magic(1, 2, 3, 4, 5)",
   "id": "67a75863f12e1187",
   "outputs": [
    {
     "name": "stdout",
     "output_type": "stream",
     "text": [
      "(1, 2, 3, 4, 5)\n",
      "1 2 3 4 5\n",
      "<class 'tuple'>\n",
      "{}\n",
      "<class 'dict'>\n"
     ]
    }
   ],
   "execution_count": 63
  },
  {
   "metadata": {
    "ExecuteTime": {
     "end_time": "2024-11-11T17:10:56.436656Z",
     "start_time": "2024-11-11T17:10:56.430937Z"
    }
   },
   "cell_type": "code",
   "source": "magic(a=1, b=2, c=3, d=4, e=5)",
   "id": "af6fbb25ba1ba0d6",
   "outputs": [
    {
     "name": "stdout",
     "output_type": "stream",
     "text": [
      "()\n",
      "\n",
      "<class 'tuple'>\n",
      "{'a': 1, 'b': 2, 'c': 3, 'd': 4, 'e': 5}\n",
      "<class 'dict'>\n"
     ]
    }
   ],
   "execution_count": 70
  },
  {
   "metadata": {
    "ExecuteTime": {
     "end_time": "2024-11-11T17:12:30.335350Z",
     "start_time": "2024-11-11T17:12:30.326837Z"
    }
   },
   "cell_type": "code",
   "source": "magic(1, 2, 3, b=4, c=5)",
   "id": "45125f765724a5f1",
   "outputs": [
    {
     "name": "stdout",
     "output_type": "stream",
     "text": [
      "(1, 2, 3)\n",
      "1 2 3\n",
      "<class 'tuple'>\n",
      "{'b': 4, 'c': 5}\n",
      "<class 'dict'>\n"
     ]
    }
   ],
   "execution_count": 71
  },
  {
   "metadata": {
    "ExecuteTime": {
     "end_time": "2024-11-11T17:23:33.807418Z",
     "start_time": "2024-11-11T17:23:33.803786Z"
    }
   },
   "cell_type": "code",
   "source": [
    "# before / positional\n",
    "# after * named\n",
    "# between / and * can be positional or named\n",
    "\n",
    "def magic(a, b, /, c, *, d, e):\n",
    "    pass"
   ],
   "id": "8dc18617fb2c56b1",
   "outputs": [],
   "execution_count": 73
  },
  {
   "metadata": {
    "ExecuteTime": {
     "end_time": "2024-11-11T17:25:31.437927Z",
     "start_time": "2024-11-11T17:25:31.432675Z"
    }
   },
   "cell_type": "code",
   "source": [
    "magic(1, 2, 3, d=4, e=5)\n",
    "magic(1, 2, c=3, d=4, e=5)"
   ],
   "id": "4ebea3031dd9c12",
   "outputs": [],
   "execution_count": 76
  },
  {
   "metadata": {
    "ExecuteTime": {
     "end_time": "2024-11-22T15:09:52.041118Z",
     "start_time": "2024-11-22T15:09:52.035031Z"
    }
   },
   "cell_type": "code",
   "source": [
    "def avg_age_05(data_):\n",
    "    number_users = []\n",
    "    for user in data_:\n",
    "        number_users.append(user['age'])\n",
    "        \n",
    "    return sum(number_users) // len(number_users)\n",
    "    "
   ],
   "id": "b60f8694502f32e9",
   "outputs": [],
   "execution_count": 3
  },
  {
   "metadata": {
    "ExecuteTime": {
     "end_time": "2024-11-22T15:05:06.220480Z",
     "start_time": "2024-11-22T15:05:06.202686Z"
    }
   },
   "cell_type": "code",
   "source": [
    "data = [\n",
    "    {\n",
    "        \"name\": \"pawel\",\n",
    "        \"city\": \"krakow\",\n",
    "        \"age\": 39,\n",
    "        \"hobbies\": [\"js\", \"python\", \"drugs\"]\n",
    "    },\n",
    "    {\n",
    "        \"name\": \"joanna\",\n",
    "        \"city\": \"krakow\",\n",
    "        \"age\": 32,\n",
    "        \"hobbies\": [\"movies\", \"books\", \"food\"]\n",
    "    },\n",
    "    {\n",
    "        \"name\": \"igor\",\n",
    "        \"city\": \"wroclaw\",\n",
    "        \"age\": 31,\n",
    "        \"hobbies\": [\"anime\", \"games\", \"movies\"]\n",
    "    },\n",
    "    {\n",
    "        \"name\": \"dawid\",\n",
    "        \"city\": \"wroclaw\",\n",
    "        \"age\": 43,\n",
    "        \"hobbies\": [\"film\", \"music\", \"bike\"]\n",
    "    },\n",
    "    {\n",
    "        \"name\": \"piotr\",\n",
    "        \"city\": \"warszawa\",\n",
    "        \"age\": 35,\n",
    "        \"hobbies\": ['wspinaczka', 'komputery', 'anime']\n",
    "    },\n",
    "    {\n",
    "        \"name\": \"tomek\",\n",
    "        \"city\": \"warszawa\",\n",
    "        \"age\": 38,\n",
    "        \"hobbies\": [\"shooting\", \"sailing\", \"martial arts\"]\n",
    "    },\n",
    "    {\n",
    "        \"name\": \"rafal\",\n",
    "        \"city\": \"warszawa\",\n",
    "        \"age\": 28,\n",
    "        \"hobbies\": [\"cars\", \"IT\"]\n",
    "    },\n",
    "    {\n",
    "        \"name\": \"mateusz\",\n",
    "        \"city\": \"wroclaw\",\n",
    "        \"age\": 30,\n",
    "        \"hobbies\": [\"bjj\", \"python\", \"java\"]\n",
    "    },\n",
    "    {\n",
    "        \"name\": \"adrian\",\n",
    "        \"city\": \"dabrowa gornicza\",\n",
    "        \"age\": 33,\n",
    "        \"hobbies\": [\"reading\", \"video games\", \"chemistry\", \"physics\", \"boardgames\", \"shooting\"]\n",
    "    },\n",
    "    {\n",
    "        \"name\": \"cezary\",\n",
    "        \"city\": \"kielce\",\n",
    "        \"age\": 33,\n",
    "        \"hobbies\": [\"programming\", \"sport shooting\", \"paper models\", \"and more\"],\n",
    "    },\n",
    "    {\n",
    "        \"name\": \"szymon\",\n",
    "        \"city\": \"wroclaw\",\n",
    "        \"age\": 30,\n",
    "        \"hobbies\": [\"crypto\", \"podcasts\", \"games\"]\n",
    "    },\n",
    "    {\n",
    "        'name': 'piotr',\n",
    "        'city': 'warszawa',\n",
    "        'age': 50,\n",
    "        'hobbies': ['python', 'snorkeling', 'traveling']\n",
    "    },\n",
    "    {\n",
    "        \"name\": \"igor\",\n",
    "        \"city\": \"warszawa\",\n",
    "        \"age\": 34,\n",
    "        \"hobbies\": [\"golf\", \"music\", \"art\"]\n",
    "    },\n",
    "    {\n",
    "        \"name\": \"marcin\",\n",
    "        \"city\": \"krakow\",\n",
    "        \"age\": 40,\n",
    "        \"hobbies\": [\"python\", \"ds\", \"sleep\"]\n",
    "    },\n",
    "    {\n",
    "        \"name\": \"kasia\",\n",
    "        \"city\": \"krakow\",\n",
    "        \"age\": 35,\n",
    "        \"hobbies\": [\"music\"]\n",
    "    },\n",
    "    {\n",
    "        \"name\": \"mateusz\",\n",
    "        \"city\": \"dabrowa gornicza\",\n",
    "        \"age\": 31,\n",
    "        \"hobbies\": [\"filmy\"]\n",
    "    }\n",
    "]"
   ],
   "id": "65bbef1b231b5820",
   "outputs": [],
   "execution_count": 1
  },
  {
   "metadata": {
    "ExecuteTime": {
     "end_time": "2024-11-22T15:09:59.752774Z",
     "start_time": "2024-11-22T15:09:59.735169Z"
    }
   },
   "cell_type": "code",
   "source": "avg_age_05(data)",
   "id": "1ced9b91217c441e",
   "outputs": [
    {
     "data": {
      "text/plain": [
       "35"
      ]
     },
     "execution_count": 4,
     "metadata": {},
     "output_type": "execute_result"
    }
   ],
   "execution_count": 4
  },
  {
   "metadata": {
    "ExecuteTime": {
     "end_time": "2024-11-11T17:36:15.937585Z",
     "start_time": "2024-11-11T17:36:15.933095Z"
    }
   },
   "cell_type": "code",
   "source": [
    "def avg_age_05(data_):\n",
    "    number_users = 0\n",
    "    for user in data_:\n",
    "        number_users += user['age']\n",
    "    return number_users // len(data_)"
   ],
   "id": "493df30aec47cfdf",
   "outputs": [],
   "execution_count": 79
  },
  {
   "metadata": {
    "ExecuteTime": {
     "end_time": "2024-11-11T17:36:32.138303Z",
     "start_time": "2024-11-11T17:36:32.132625Z"
    }
   },
   "cell_type": "code",
   "source": "avg_age_05(data)",
   "id": "c8f15ac58792336",
   "outputs": [
    {
     "data": {
      "text/plain": [
       "35"
      ]
     },
     "execution_count": 80,
     "metadata": {},
     "output_type": "execute_result"
    }
   ],
   "execution_count": 80
  },
  {
   "metadata": {
    "ExecuteTime": {
     "end_time": "2024-11-11T18:21:27.157705Z",
     "start_time": "2024-11-11T18:21:27.152860Z"
    }
   },
   "cell_type": "code",
   "source": [
    "def avg_age_05(persons):\n",
    "    return sum(list(map(lambda person: person['age'] , persons))) // len(persons)"
   ],
   "id": "250dfa2537a05900",
   "outputs": [],
   "execution_count": 85
  },
  {
   "metadata": {
    "ExecuteTime": {
     "end_time": "2024-11-11T18:21:31.841942Z",
     "start_time": "2024-11-11T18:21:31.832746Z"
    }
   },
   "cell_type": "code",
   "source": "avg_age_05(data)",
   "id": "976cc26cf331821f",
   "outputs": [
    {
     "data": {
      "text/plain": [
       "35"
      ]
     },
     "execution_count": 86,
     "metadata": {},
     "output_type": "execute_result"
    }
   ],
   "execution_count": 86
  },
  {
   "metadata": {},
   "cell_type": "code",
   "outputs": [],
   "execution_count": null,
   "source": "",
   "id": "906a62617516caee"
  },
  {
   "metadata": {
    "ExecuteTime": {
     "end_time": "2024-11-20T12:36:46.258033Z",
     "start_time": "2024-11-20T12:36:46.245206Z"
    }
   },
   "cell_type": "code",
   "source": [
    "data = [\n",
    "    {\n",
    "        \"name\": \"pawel\",\n",
    "        \"city\": \"krakow\",\n",
    "        \"age\": 39,\n",
    "        \"hobbies\": [\"js\", \"python\", \"drugs\"]\n",
    "    },\n",
    "    {\n",
    "        \"name\": \"joanna\",\n",
    "        \"city\": \"krakow\",\n",
    "        \"age\": 32,\n",
    "        \"hobbies\": [\"movies\", \"books\", \"food\"]\n",
    "    },\n",
    "    {\n",
    "        \"name\": \"igor\",\n",
    "        \"city\": \"wroclaw\",\n",
    "        \"age\": 31,\n",
    "        \"hobbies\": [\"anime\", \"games\", \"movies\"]\n",
    "    },\n",
    "    {\n",
    "        \"name\": \"dawid\",\n",
    "        \"city\": \"wroclaw\",\n",
    "        \"age\": 43,\n",
    "        \"hobbies\": [\"film\", \"music\", \"bike\"]\n",
    "    },\n",
    "    {\n",
    "        \"name\": \"piotr\",\n",
    "        \"city\": \"warszawa\",\n",
    "        \"age\": 35,\n",
    "        \"hobbies\": ['wspinaczka', 'komputery', 'anime']\n",
    "    },\n",
    "    {\n",
    "        \"name\": \"tomek\",\n",
    "        \"city\": \"warszawa\",\n",
    "        \"age\": 38,\n",
    "        \"hobbies\": [\"shooting\", \"sailing\", \"martial arts\"]\n",
    "    },\n",
    "    {\n",
    "        \"name\": \"rafal\",\n",
    "        \"city\": \"warszawa\",\n",
    "        \"age\": 28,\n",
    "        \"hobbies\": [\"cars\", \"IT\"]\n",
    "    },\n",
    "    {\n",
    "        \"name\": \"mateusz\",\n",
    "        \"city\": \"wroclaw\",\n",
    "        \"age\": 30,\n",
    "        \"hobbies\": [\"bjj\", \"python\", \"java\"]\n",
    "    },\n",
    "    {\n",
    "        \"name\": \"adrian\",\n",
    "        \"city\": \"dabrowa gornicza\",\n",
    "        \"age\": 33,\n",
    "        \"hobbies\": [\"reading\", \"video games\", \"chemistry\", \"physics\", \"boardgames\", \"shooting\"]\n",
    "    },\n",
    "    {\n",
    "        \"name\": \"cezary\",\n",
    "        \"city\": \"kielce\",\n",
    "        \"age\": 33,\n",
    "        \"hobbies\": [\"programming\", \"sport shooting\", \"paper models\", \"and more\"],\n",
    "    },\n",
    "    {\n",
    "        \"name\": \"szymon\",\n",
    "        \"city\": \"wroclaw\",\n",
    "        \"age\": 30,\n",
    "        \"hobbies\": [\"crypto\", \"podcasts\", \"games\"]\n",
    "    },\n",
    "    {\n",
    "        'name': 'piotr',\n",
    "        'city': 'warszawa',\n",
    "        'age': 50,\n",
    "        'hobbies': ['python', 'snorkeling', 'traveling']\n",
    "    },\n",
    "    {\n",
    "        \"name\": \"igor\",\n",
    "        \"city\": \"warszawa\",\n",
    "        \"age\": 34,\n",
    "        \"hobbies\": [\"golf\", \"music\", \"art\"]\n",
    "    },\n",
    "    {\n",
    "        \"name\": \"marcin\",\n",
    "        \"city\": \"krakow\",\n",
    "        \"age\": 40,\n",
    "        \"hobbies\": [\"python\", \"ds\", \"sleep\"]\n",
    "    },\n",
    "    {\n",
    "        \"name\": \"kasia\",\n",
    "        \"city\": \"krakow\",\n",
    "        \"age\": 35,\n",
    "        \"hobbies\": [\"music\"]\n",
    "    },\n",
    "    {\n",
    "        \"name\": \"mateusz\",\n",
    "        \"city\": \"dabrowa gornicza\",\n",
    "        \"age\": 31,\n",
    "        \"hobbies\": [\"filmy\"]\n",
    "    }\n",
    "]"
   ],
   "id": "d2e6f2c6c03543f4",
   "outputs": [],
   "execution_count": 23
  },
  {
   "metadata": {
    "ExecuteTime": {
     "end_time": "2024-11-20T12:36:50.957294Z",
     "start_time": "2024-11-20T12:36:50.950349Z"
    }
   },
   "cell_type": "code",
   "source": [
    "def avg_age(persons):\n",
    "    age_sum = 0\n",
    "    for person in persons:\n",
    "        age_sum += person[\"age\"]\n",
    "    return age_sum // len(persons)"
   ],
   "id": "2999c87fdc7cb99d",
   "outputs": [],
   "execution_count": 24
  },
  {
   "metadata": {
    "ExecuteTime": {
     "end_time": "2024-11-20T12:36:54.410320Z",
     "start_time": "2024-11-20T12:36:54.393673Z"
    }
   },
   "cell_type": "code",
   "source": "avg_age(data)",
   "id": "b6fa8f71b4109fd2",
   "outputs": [
    {
     "data": {
      "text/plain": [
       "35"
      ]
     },
     "execution_count": 25,
     "metadata": {},
     "output_type": "execute_result"
    }
   ],
   "execution_count": 25
  },
  {
   "metadata": {},
   "cell_type": "markdown",
   "source": "",
   "id": "3735bbda593bba32"
  },
  {
   "metadata": {
    "ExecuteTime": {
     "end_time": "2024-11-20T12:37:00.443149Z",
     "start_time": "2024-11-20T12:37:00.428769Z"
    }
   },
   "cell_type": "code",
   "source": [
    "def avg_age_2(persons):\n",
    "    age_sum = [person['age'] for person in persons]\n",
    "    return sum(age_sum) // len(persons)"
   ],
   "id": "9c5917992d7063ba",
   "outputs": [],
   "execution_count": 26
  },
  {
   "metadata": {
    "ExecuteTime": {
     "end_time": "2024-11-20T12:37:04.906078Z",
     "start_time": "2024-11-20T12:37:04.891243Z"
    }
   },
   "cell_type": "code",
   "source": "avg_age_2(data)",
   "id": "ef5152a1becf80b5",
   "outputs": [
    {
     "data": {
      "text/plain": [
       "35"
      ]
     },
     "execution_count": 27,
     "metadata": {},
     "output_type": "execute_result"
    }
   ],
   "execution_count": 27
  },
  {
   "metadata": {
    "ExecuteTime": {
     "end_time": "2024-11-11T16:01:29.267720Z",
     "start_time": "2024-11-11T16:01:29.263092Z"
    }
   },
   "cell_type": "code",
   "source": [
    "def avg_age_3(persons):\n",
    "    return sum(list(map(lambda person: person['age'],persons))) // len(persons)"
   ],
   "id": "30997df87d115918",
   "outputs": [],
   "execution_count": 28
  },
  {
   "metadata": {
    "ExecuteTime": {
     "end_time": "2024-11-11T16:01:32.206423Z",
     "start_time": "2024-11-11T16:01:32.199702Z"
    }
   },
   "cell_type": "code",
   "source": "avg_age_3(data)",
   "id": "534305884ed964bd",
   "outputs": [
    {
     "data": {
      "text/plain": [
       "35"
      ]
     },
     "execution_count": 29,
     "metadata": {},
     "output_type": "execute_result"
    }
   ],
   "execution_count": 29
  },
  {
   "metadata": {
    "ExecuteTime": {
     "end_time": "2024-11-22T15:20:47.049217Z",
     "start_time": "2024-11-22T15:20:47.039832Z"
    }
   },
   "cell_type": "code",
   "source": [
    "def avg_age_4(persons):\n",
    "    # return sum(list(map(lambda person: person['age'],persons))) // len(persons)\n",
    "    # return set(map(lambda person: person['age'],persons))\n",
    "    # return {person['name'] : person['age'] for person in persons }\n",
    "    return {person['name'] : person['age'] for person in persons if 'warszawa'.lower() in person['city']}\n",
    "    # return {person['name'] : person['hobbies'] for person in persons if 'python' in person['hobbies']}"
   ],
   "id": "22a66e6963648ace",
   "outputs": [],
   "execution_count": 5
  },
  {
   "metadata": {
    "ExecuteTime": {
     "end_time": "2024-11-20T12:37:22.426265Z",
     "start_time": "2024-11-20T12:37:22.406405Z"
    }
   },
   "cell_type": "code",
   "source": "avg_age_4(data)",
   "id": "51b483f70de50b8f",
   "outputs": [
    {
     "data": {
      "text/plain": [
       "{'piotr': 50, 'tomek': 38, 'rafal': 28, 'igor': 34}"
      ]
     },
     "execution_count": 29,
     "metadata": {},
     "output_type": "execute_result"
    }
   ],
   "execution_count": 29
  },
  {
   "metadata": {
    "ExecuteTime": {
     "end_time": "2024-11-22T15:39:05.916042Z",
     "start_time": "2024-11-22T15:39:05.896172Z"
    }
   },
   "cell_type": "code",
   "source": [
    "result = avg_age_4(data)\n",
    "avg_age_war_ = sum(result.values()) // len(result)"
   ],
   "id": "dd76e5108ecae737",
   "outputs": [],
   "execution_count": 6
  },
  {
   "metadata": {
    "ExecuteTime": {
     "end_time": "2024-11-22T15:39:20.027130Z",
     "start_time": "2024-11-22T15:39:20.019750Z"
    }
   },
   "cell_type": "code",
   "source": "avg_age_war_",
   "id": "cc51dd31840ebfb3",
   "outputs": [
    {
     "data": {
      "text/plain": [
       "37"
      ]
     },
     "execution_count": 7,
     "metadata": {},
     "output_type": "execute_result"
    }
   ],
   "execution_count": 7
  },
  {
   "metadata": {
    "ExecuteTime": {
     "end_time": "2024-11-19T10:48:23.191217Z",
     "start_time": "2024-11-19T10:48:23.182954Z"
    }
   },
   "cell_type": "code",
   "source": [
    "list_1 = [1, 2, 3, 4, 5, 6, 7, 8, 9, 10]\n",
    "\n",
    "def create_new_list_even_num(array):\n",
    "    return [ num for num in array if not num & 1]\n",
    "\n",
    "create_new_list_even_num(list_1)"
   ],
   "id": "fc26e7d2d0e91db2",
   "outputs": [
    {
     "data": {
      "text/plain": [
       "[2, 4, 6, 8, 10]"
      ]
     },
     "execution_count": 12,
     "metadata": {},
     "output_type": "execute_result"
    }
   ],
   "execution_count": 12
  },
  {
   "metadata": {
    "ExecuteTime": {
     "end_time": "2024-11-18T10:39:25.164244Z",
     "start_time": "2024-11-18T10:39:25.145579Z"
    }
   },
   "cell_type": "code",
   "source": [
    "list_2 = [[1, 3], [2, 4], [3, 5]]\n",
    "\n",
    "def create_new_flat_list(array):\n",
    "    return [x for y in array for x in y]\n",
    "\n",
    "create_new_flat_list(list_2)"
   ],
   "id": "a1107c1d22eabfc7",
   "outputs": [
    {
     "data": {
      "text/plain": [
       "[1, 3, 2, 4, 3, 5]"
      ]
     },
     "execution_count": 2,
     "metadata": {},
     "output_type": "execute_result"
    }
   ],
   "execution_count": 2
  },
  {
   "metadata": {
    "ExecuteTime": {
     "end_time": "2024-11-19T10:48:26.953890Z",
     "start_time": "2024-11-19T10:48:26.940875Z"
    }
   },
   "cell_type": "code",
   "source": [
    "def create_new_list_mul_by_n(n, array):\n",
    "    return [item * n for item in array]\n",
    "\n",
    "create_new_list_mul_by_n(10, list_1)"
   ],
   "id": "8b82559005202875",
   "outputs": [
    {
     "data": {
      "text/plain": [
       "[10, 20, 30, 40, 50, 60, 70, 80, 90, 100]"
      ]
     },
     "execution_count": 13,
     "metadata": {},
     "output_type": "execute_result"
    }
   ],
   "execution_count": 13
  },
  {
   "metadata": {
    "ExecuteTime": {
     "end_time": "2024-11-20T12:37:31.950667Z",
     "start_time": "2024-11-20T12:37:31.941343Z"
    }
   },
   "cell_type": "code",
   "source": [
    "list_3 = [1, 'home', 3, 'John', 5, 'funeral', 'infinity', 'compulsive', 9, 10]\n",
    "\n",
    "def create_new_str_list(array):\n",
    "    return [item for item in array if  isinstance(item, str)]\n",
    "\n",
    "create_new_str_list(list_3)"
   ],
   "id": "42821b893ad19ce1",
   "outputs": [
    {
     "data": {
      "text/plain": [
       "['home', 'John', 'funeral', 'infinity', 'compulsive']"
      ]
     },
     "execution_count": 30,
     "metadata": {},
     "output_type": "execute_result"
    }
   ],
   "execution_count": 30
  },
  {
   "metadata": {
    "ExecuteTime": {
     "end_time": "2024-11-18T11:06:54.565743Z",
     "start_time": "2024-11-18T11:06:54.549486Z"
    }
   },
   "cell_type": "code",
   "source": [
    "list_4 = ['home', 'John', 'funeral', 'infinity', 'compulsive']\n",
    "def create_dict_from_list(array):\n",
    "    return {key: value for key, value in enumerate(array)}\n",
    "\n",
    "create_dict_from_list(list_4)"
   ],
   "id": "51562a37e8d343e5",
   "outputs": [
    {
     "data": {
      "text/plain": [
       "{0: 'home', 1: 'John', 2: 'funeral', 3: 'infinity', 4: 'compulsive'}"
      ]
     },
     "execution_count": 5,
     "metadata": {},
     "output_type": "execute_result"
    }
   ],
   "execution_count": 5
  },
  {
   "metadata": {
    "ExecuteTime": {
     "end_time": "2024-11-19T10:44:46.850186Z",
     "start_time": "2024-11-19T10:44:46.831939Z"
    }
   },
   "cell_type": "code",
   "source": [
    "dict_1 = {0: 'home', 1: 'John', 2: 'funeral', 3: 'infinity', 4: 'compulsive'}\n",
    "\n",
    "def create_list_from_dict(any_dict):\n",
    "    return [item for item in any_dict.values()]\n",
    "\n",
    "create_list_from_dict(dict_1)"
   ],
   "id": "c326a6266663b53c",
   "outputs": [
    {
     "data": {
      "text/plain": [
       "['home', 'John', 'funeral', 'infinity', 'compulsive']"
      ]
     },
     "execution_count": 4,
     "metadata": {},
     "output_type": "execute_result"
    }
   ],
   "execution_count": 4
  },
  {
   "metadata": {
    "ExecuteTime": {
     "end_time": "2024-11-19T10:44:52.241812Z",
     "start_time": "2024-11-19T10:44:52.216740Z"
    }
   },
   "cell_type": "code",
   "source": [
    "def create_list_tuples_from_dict(any_dict):\n",
    "    return [(key, value) for key, value in any_dict.items()]\n",
    "\n",
    "create_list_tuples_from_dict(dict_1)"
   ],
   "id": "cc27cc3460648229",
   "outputs": [
    {
     "data": {
      "text/plain": [
       "[(0, 'home'), (1, 'John'), (2, 'funeral'), (3, 'infinity'), (4, 'compulsive')]"
      ]
     },
     "execution_count": 5,
     "metadata": {},
     "output_type": "execute_result"
    }
   ],
   "execution_count": 5
  },
  {
   "metadata": {
    "ExecuteTime": {
     "end_time": "2024-11-19T10:44:57.216441Z",
     "start_time": "2024-11-19T10:44:57.200441Z"
    }
   },
   "cell_type": "code",
   "source": [
    "list_5 = [(0, 'home'), (1, 'John'), (2, 'funeral'), (3, 'infinity'), (4, 'compulsive')]\n",
    "\n",
    "def create_flat_list_from_list_of_tuples(array):\n",
    "    return [x for y in array for x in y]\n",
    "\n",
    "create_flat_list_from_list_of_tuples(list_5)"
   ],
   "id": "368828d56534b357",
   "outputs": [
    {
     "data": {
      "text/plain": [
       "[0, 'home', 1, 'John', 2, 'funeral', 3, 'infinity', 4, 'compulsive']"
      ]
     },
     "execution_count": 6,
     "metadata": {},
     "output_type": "execute_result"
    }
   ],
   "execution_count": 6
  },
  {
   "metadata": {
    "ExecuteTime": {
     "end_time": "2024-11-18T12:32:20.376378Z",
     "start_time": "2024-11-18T12:32:20.368Z"
    }
   },
   "cell_type": "code",
   "source": [
    "def create_list_from_dict_value_condition(any_dict):\n",
    "    return [item for item in any_dict.values() if len(item) > 5]\n",
    "\n",
    "create_list_from_dict_value_condition(dict_1)"
   ],
   "id": "71e158030e133db7",
   "outputs": [
    {
     "data": {
      "text/plain": [
       "['funeral', 'infinity', 'compulsive']"
      ]
     },
     "execution_count": 9,
     "metadata": {},
     "output_type": "execute_result"
    }
   ],
   "execution_count": 9
  },
  {
   "metadata": {
    "ExecuteTime": {
     "end_time": "2024-11-18T12:39:09.262443Z",
     "start_time": "2024-11-18T12:39:09.236524Z"
    }
   },
   "cell_type": "code",
   "source": [
    "def create_list_from_dict_k_v_str(any_dict):\n",
    "    return [f'{key}: {value}' for key , value in any_dict.items()]\n",
    "\n",
    "create_list_from_dict_k_v_str(dict_1)"
   ],
   "id": "74d976266c195e4b",
   "outputs": [
    {
     "data": {
      "text/plain": [
       "['0: home', '1: John', '2: funeral', '3: infinity', '4: compulsive']"
      ]
     },
     "execution_count": 10,
     "metadata": {},
     "output_type": "execute_result"
    }
   ],
   "execution_count": 10
  },
  {
   "metadata": {
    "ExecuteTime": {
     "end_time": "2024-11-19T10:49:36.855246Z",
     "start_time": "2024-11-19T10:49:36.838344Z"
    }
   },
   "cell_type": "code",
   "source": [
    "list_7 = ['home', 'John', 'funeral', 'infinity', 'compulsive']\n",
    "# list_6 = [[0, 'home'], [1, 'John'], [2, 'funeral'], [3, 'infinity'], [4, 'compulsive']]\n",
    "\n",
    "\n",
    "def create_sliced_list(array):\n",
    "    return [item[:3] for item in array]\n",
    "\n",
    "\n",
    "create_sliced_list(list_7)"
   ],
   "id": "e738516962bfa6a6",
   "outputs": [
    {
     "data": {
      "text/plain": [
       "['hom', 'Joh', 'fun', 'inf', 'com']"
      ]
     },
     "execution_count": 16,
     "metadata": {},
     "output_type": "execute_result"
    }
   ],
   "execution_count": 16
  },
  {
   "metadata": {
    "ExecuteTime": {
     "end_time": "2024-11-19T10:50:19.802738Z",
     "start_time": "2024-11-19T10:50:19.790858Z"
    }
   },
   "cell_type": "code",
   "source": [
    "x = 10\n",
    "type(x)"
   ],
   "id": "d34ec8e57231d475",
   "outputs": [
    {
     "data": {
      "text/plain": [
       "int"
      ]
     },
     "execution_count": 17,
     "metadata": {},
     "output_type": "execute_result"
    }
   ],
   "execution_count": 17
  },
  {
   "metadata": {
    "ExecuteTime": {
     "end_time": "2024-11-20T12:38:05.412503Z",
     "start_time": "2024-11-20T12:38:05.401762Z"
    }
   },
   "cell_type": "code",
   "source": [
    "list_1 = [1, 2, 3, 4, 5, 6, 7, 8, 9, 10]\n",
    "\n",
    "def create_new_list_even_num(array):\n",
    "    return [ num for num in array if  num & 1]\n",
    "\n",
    "create_new_list_even_num(list_1)"
   ],
   "id": "1d60eac8dfffd372",
   "outputs": [
    {
     "data": {
      "text/plain": [
       "[1, 3, 5, 7, 9]"
      ]
     },
     "execution_count": 32,
     "metadata": {},
     "output_type": "execute_result"
    }
   ],
   "execution_count": 32
  },
  {
   "metadata": {
    "ExecuteTime": {
     "end_time": "2024-11-19T22:26:29.333554Z",
     "start_time": "2024-11-19T22:26:29.325679Z"
    }
   },
   "cell_type": "code",
   "source": [
    "list_1 = [1, 2, 3, 4, 5, 6, 7, 8, 9, 10]\n",
    "create_new_list_even_num(list_1)"
   ],
   "id": "70f4d23d980d74ed",
   "outputs": [
    {
     "data": {
      "text/plain": [
       "[2, 4, 6, 8, 10]"
      ]
     },
     "execution_count": 2,
     "metadata": {},
     "output_type": "execute_result"
    }
   ],
   "execution_count": 2
  },
  {
   "metadata": {
    "ExecuteTime": {
     "end_time": "2024-11-20T12:39:43.495045Z",
     "start_time": "2024-11-20T12:39:43.467210Z"
    }
   },
   "cell_type": "code",
   "source": [
    "dict_2 = {0: 'home_AS_a_Hall', 1: ' John2    ', 2: 'funeral123   ', 3: '88infinity',\n",
    "          4: 'compulsive is a bad character treat'}\n",
    "\n",
    "def create_lists_from_dict(any_dict):\n",
    "    l_1 = [item for item in any_dict.values()]\n",
    "    l_2 = [item for item in any_dict.keys()]\n",
    "\n",
    "    return l_1, l_2\n",
    "\n",
    "\n",
    "create_lists_from_dict(dict_2)"
   ],
   "id": "bf23a7ec550112ac",
   "outputs": [
    {
     "data": {
      "text/plain": [
       "(['home_AS_a_Hall',\n",
       "  ' John2    ',\n",
       "  'funeral123   ',\n",
       "  '88infinity',\n",
       "  'compulsive is a bad character treat'],\n",
       " [0, 1, 2, 3, 4])"
      ]
     },
     "execution_count": 33,
     "metadata": {},
     "output_type": "execute_result"
    }
   ],
   "execution_count": 33
  },
  {
   "metadata": {
    "ExecuteTime": {
     "end_time": "2024-11-20T13:05:43.931543Z",
     "start_time": "2024-11-20T13:05:43.905853Z"
    }
   },
   "cell_type": "code",
   "source": [
    "my_tuple = (\"home\", \"apple\", \"tower\")\n",
    "\n",
    "def create_dict_from_tuple(any_tuple):\n",
    "    return {key: value for key, value in enumerate(any_tuple)}\n",
    "\n",
    "create_dict_from_tuple(my_tuple)"
   ],
   "id": "4e506fe25f36d5f7",
   "outputs": [
    {
     "data": {
      "text/plain": [
       "{0: 'home', 1: 'apple', 2: 'tower'}"
      ]
     },
     "execution_count": 34,
     "metadata": {},
     "output_type": "execute_result"
    }
   ],
   "execution_count": 34
  },
  {
   "metadata": {
    "ExecuteTime": {
     "end_time": "2024-11-20T13:35:38.202286Z",
     "start_time": "2024-11-20T13:35:38.186897Z"
    }
   },
   "cell_type": "code",
   "source": [
    "sentence_2 = 'New York 76st'\n",
    "\n",
    "def str_isalnum(any_str):\n",
    "    return not any_str.isalnum()\n",
    "\n",
    "str_isalnum(sentence_2)"
   ],
   "id": "9df76f01f7e31c01",
   "outputs": [
    {
     "data": {
      "text/plain": [
       "True"
      ]
     },
     "execution_count": 36,
     "metadata": {},
     "output_type": "execute_result"
    }
   ],
   "execution_count": 36
  },
  {
   "metadata": {
    "ExecuteTime": {
     "end_time": "2024-11-20T14:13:58.724219Z",
     "start_time": "2024-11-20T14:13:58.710757Z"
    }
   },
   "cell_type": "code",
   "source": [
    "def str_split(any_str):\n",
    "    return any_str.split(',')\n",
    "\n",
    "str_split('ab,cd,ef ')"
   ],
   "id": "8da128b12e8ae7ec",
   "outputs": [
    {
     "data": {
      "text/plain": [
       "['ab', 'cd', 'ef ']"
      ]
     },
     "execution_count": 37,
     "metadata": {},
     "output_type": "execute_result"
    }
   ],
   "execution_count": 37
  },
  {
   "metadata": {
    "ExecuteTime": {
     "end_time": "2024-11-20T14:21:20.131981Z",
     "start_time": "2024-11-20T14:21:20.106307Z"
    }
   },
   "cell_type": "code",
   "source": [
    "def list_join(any_list_str):\n",
    "    return ', '.join(any_list_str)\n",
    "\n",
    "list_join(['ab', 'cd', 'ef'])\n"
   ],
   "id": "a546cc9072e3c885",
   "outputs": [
    {
     "data": {
      "text/plain": [
       "'ab, cd, ef'"
      ]
     },
     "execution_count": 40,
     "metadata": {},
     "output_type": "execute_result"
    }
   ],
   "execution_count": 40
  },
  {
   "metadata": {},
   "cell_type": "code",
   "outputs": [],
   "execution_count": null,
   "source": "",
   "id": "70e2d9d67903a70a"
  },
  {
   "metadata": {},
   "cell_type": "code",
   "outputs": [],
   "execution_count": null,
   "source": "",
   "id": "ff0567bdacd52746"
  },
  {
   "metadata": {},
   "cell_type": "code",
   "outputs": [],
   "execution_count": null,
   "source": "",
   "id": "9e7b2dbcfd47bb10"
  }
 ],
 "metadata": {
  "kernelspec": {
   "display_name": "Python 3",
   "language": "python",
   "name": "python3"
  },
  "language_info": {
   "codemirror_mode": {
    "name": "ipython",
    "version": 2
   },
   "file_extension": ".py",
   "mimetype": "text/x-python",
   "name": "python",
   "nbconvert_exporter": "python",
   "pygments_lexer": "ipython2",
   "version": "2.7.6"
  }
 },
 "nbformat": 4,
 "nbformat_minor": 5
}
