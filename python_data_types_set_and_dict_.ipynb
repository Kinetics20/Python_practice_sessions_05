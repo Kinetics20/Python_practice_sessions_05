{
 "cells": [
  {
   "metadata": {},
   "cell_type": "markdown",
   "source": [
    "# Set\n",
    "\n",
    "1. Set contains unique values\n",
    "2. Collection\n",
    "3. Unordered\n",
    "4. Heterogeneous but only hashable types / hashable -> primitives and immutable /\n",
    "5. Mutable\n",
    "\n",
    "```python\n",
    "\n",
    "x = {1, 2}\n",
    "type(x)  #set\n",
    "\n",
    "# set(iterable) #  i.e   set([1, 3, 4])  -->   {1, 2, 3}\n",
    "\n",
    "\n",
    "```\n"
   ],
   "id": "b53fa8365538c1dd"
  },
  {
   "metadata": {
    "ExecuteTime": {
     "end_time": "2024-10-23T14:56:06.264524Z",
     "start_time": "2024-10-23T14:56:06.242055Z"
    }
   },
   "cell_type": "code",
   "source": [
    "from B_A_P_D.new_1 import new_list\n",
    "\n",
    "x = {1, 2, 3, 4}\n",
    "type(x)"
   ],
   "id": "4558f88fe20c8c70",
   "outputs": [
    {
     "data": {
      "text/plain": [
       "set"
      ]
     },
     "execution_count": 1,
     "metadata": {},
     "output_type": "execute_result"
    }
   ],
   "execution_count": 1
  },
  {
   "metadata": {
    "ExecuteTime": {
     "end_time": "2024-10-23T14:58:54.428308Z",
     "start_time": "2024-10-23T14:58:54.412814Z"
    }
   },
   "cell_type": "code",
   "source": "{1, 2, 3, 4, (1, 2), 1.0, True, '', 'STH'}",
   "id": "7402bf1ca395acfc",
   "outputs": [
    {
     "data": {
      "text/plain": [
       "{'', (1, 2), 1, 2, 3, 4, 'STH'}"
      ]
     },
     "execution_count": 2,
     "metadata": {},
     "output_type": "execute_result"
    }
   ],
   "execution_count": 2
  },
  {
   "metadata": {
    "ExecuteTime": {
     "end_time": "2024-10-23T15:00:56.484262Z",
     "start_time": "2024-10-23T15:00:56.467217Z"
    }
   },
   "cell_type": "code",
   "source": [
    "l = [1, 2, 3, 4]\n",
    "set(l)"
   ],
   "id": "13267dff3c709c2f",
   "outputs": [
    {
     "data": {
      "text/plain": [
       "{1, 2, 3, 4}"
      ]
     },
     "execution_count": 3,
     "metadata": {},
     "output_type": "execute_result"
    }
   ],
   "execution_count": 3
  },
  {
   "metadata": {
    "ExecuteTime": {
     "end_time": "2024-10-23T15:09:39.332720Z",
     "start_time": "2024-10-23T15:09:39.309547Z"
    }
   },
   "cell_type": "code",
   "source": [
    "t = (1, 2, 3, [1, 2, 3])\n",
    "# set(t)\n",
    "t[-1][0] = 56\n",
    "t"
   ],
   "id": "e66439e79c34255",
   "outputs": [
    {
     "data": {
      "text/plain": [
       "(1, 2, 3, [56, 2, 3])"
      ]
     },
     "execution_count": 5,
     "metadata": {},
     "output_type": "execute_result"
    }
   ],
   "execution_count": 5
  },
  {
   "metadata": {
    "ExecuteTime": {
     "end_time": "2024-10-23T15:12:52.573547Z",
     "start_time": "2024-10-23T15:12:52.548272Z"
    }
   },
   "cell_type": "code",
   "source": "dir(set)",
   "id": "2a93088eae1cc8",
   "outputs": [
    {
     "data": {
      "text/plain": [
       "['__and__',\n",
       " '__class__',\n",
       " '__class_getitem__',\n",
       " '__contains__',\n",
       " '__delattr__',\n",
       " '__dir__',\n",
       " '__doc__',\n",
       " '__eq__',\n",
       " '__format__',\n",
       " '__ge__',\n",
       " '__getattribute__',\n",
       " '__getstate__',\n",
       " '__gt__',\n",
       " '__hash__',\n",
       " '__iand__',\n",
       " '__init__',\n",
       " '__init_subclass__',\n",
       " '__ior__',\n",
       " '__isub__',\n",
       " '__iter__',\n",
       " '__ixor__',\n",
       " '__le__',\n",
       " '__len__',\n",
       " '__lt__',\n",
       " '__ne__',\n",
       " '__new__',\n",
       " '__or__',\n",
       " '__rand__',\n",
       " '__reduce__',\n",
       " '__reduce_ex__',\n",
       " '__repr__',\n",
       " '__ror__',\n",
       " '__rsub__',\n",
       " '__rxor__',\n",
       " '__setattr__',\n",
       " '__sizeof__',\n",
       " '__str__',\n",
       " '__sub__',\n",
       " '__subclasshook__',\n",
       " '__xor__',\n",
       " 'add',\n",
       " 'clear',\n",
       " 'copy',\n",
       " 'difference',\n",
       " 'difference_update',\n",
       " 'discard',\n",
       " 'intersection',\n",
       " 'intersection_update',\n",
       " 'isdisjoint',\n",
       " 'issubset',\n",
       " 'issuperset',\n",
       " 'pop',\n",
       " 'remove',\n",
       " 'symmetric_difference',\n",
       " 'symmetric_difference_update',\n",
       " 'union',\n",
       " 'update']"
      ]
     },
     "execution_count": 6,
     "metadata": {},
     "output_type": "execute_result"
    }
   ],
   "execution_count": 6
  },
  {
   "metadata": {
    "ExecuteTime": {
     "end_time": "2024-10-23T15:15:05.631069Z",
     "start_time": "2024-10-23T15:15:05.621059Z"
    }
   },
   "cell_type": "code",
   "source": "{1, 2, 3, 4}.union({3, 4, 5})",
   "id": "2e48611f31f05ffa",
   "outputs": [
    {
     "data": {
      "text/plain": [
       "{1, 2, 3, 4, 5}"
      ]
     },
     "execution_count": 7,
     "metadata": {},
     "output_type": "execute_result"
    }
   ],
   "execution_count": 7
  },
  {
   "metadata": {
    "ExecuteTime": {
     "end_time": "2024-10-23T15:21:50.344296Z",
     "start_time": "2024-10-23T15:21:50.332210Z"
    }
   },
   "cell_type": "code",
   "source": "{1, 2, 3, }.intersection({3, 4, 5})",
   "id": "b18459365ea5af9e",
   "outputs": [
    {
     "data": {
      "text/plain": [
       "{3}"
      ]
     },
     "execution_count": 9,
     "metadata": {},
     "output_type": "execute_result"
    }
   ],
   "execution_count": 9
  },
  {
   "metadata": {
    "ExecuteTime": {
     "end_time": "2024-10-23T15:23:28.157590Z",
     "start_time": "2024-10-23T15:23:28.135855Z"
    }
   },
   "cell_type": "code",
   "source": "{1, 2, 3}.symmetric_difference({3, 4, 5})",
   "id": "183b79df3b40560e",
   "outputs": [
    {
     "data": {
      "text/plain": [
       "{1, 2, 4, 5}"
      ]
     },
     "execution_count": 12,
     "metadata": {},
     "output_type": "execute_result"
    }
   ],
   "execution_count": 12
  },
  {
   "metadata": {
    "ExecuteTime": {
     "end_time": "2024-10-23T15:47:20.097770Z",
     "start_time": "2024-10-23T15:47:20.083694Z"
    }
   },
   "cell_type": "code",
   "source": [
    "x = {1, 2, 3}\n",
    "y = {3, 4, 5}\n",
    "x.add(5)\n",
    "x"
   ],
   "id": "8a167b5904319a49",
   "outputs": [
    {
     "data": {
      "text/plain": [
       "{1, 2, 3, 5}"
      ]
     },
     "execution_count": 30,
     "metadata": {},
     "output_type": "execute_result"
    }
   ],
   "execution_count": 30
  },
  {
   "metadata": {
    "ExecuteTime": {
     "end_time": "2024-10-23T15:34:58.830530Z",
     "start_time": "2024-10-23T15:34:58.816296Z"
    }
   },
   "cell_type": "code",
   "source": [
    "x.clear()\n",
    "x"
   ],
   "id": "af5d1204ae52d4ac",
   "outputs": [
    {
     "data": {
      "text/plain": [
       "set()"
      ]
     },
     "execution_count": 20,
     "metadata": {},
     "output_type": "execute_result"
    }
   ],
   "execution_count": 20
  },
  {
   "metadata": {
    "ExecuteTime": {
     "end_time": "2024-10-23T15:36:40.833142Z",
     "start_time": "2024-10-23T15:36:40.816170Z"
    }
   },
   "cell_type": "code",
   "source": "x.difference(y)",
   "id": "74363bfb2c442a75",
   "outputs": [
    {
     "data": {
      "text/plain": [
       "{1, 2}"
      ]
     },
     "execution_count": 24,
     "metadata": {},
     "output_type": "execute_result"
    }
   ],
   "execution_count": 24
  },
  {
   "metadata": {
    "ExecuteTime": {
     "end_time": "2024-10-23T15:38:53.092923Z",
     "start_time": "2024-10-23T15:38:53.084237Z"
    }
   },
   "cell_type": "code",
   "source": [
    "# operation in-place / modify the original object /\n",
    "x.difference_update(y)"
   ],
   "id": "97e3bc0368c85894",
   "outputs": [],
   "execution_count": 25
  },
  {
   "metadata": {
    "ExecuteTime": {
     "end_time": "2024-10-23T15:39:21.759477Z",
     "start_time": "2024-10-23T15:39:21.750322Z"
    }
   },
   "cell_type": "code",
   "source": "x",
   "id": "f28d8a0adb0b028d",
   "outputs": [
    {
     "data": {
      "text/plain": [
       "{1, 2}"
      ]
     },
     "execution_count": 26,
     "metadata": {},
     "output_type": "execute_result"
    }
   ],
   "execution_count": 26
  },
  {
   "metadata": {
    "ExecuteTime": {
     "end_time": "2024-10-23T15:43:14.349817Z",
     "start_time": "2024-10-23T15:43:14.336314Z"
    }
   },
   "cell_type": "code",
   "source": [
    "x.discard(1)\n",
    "x"
   ],
   "id": "306556610dccae3a",
   "outputs": [
    {
     "data": {
      "text/plain": [
       "{2}"
      ]
     },
     "execution_count": 29,
     "metadata": {},
     "output_type": "execute_result"
    }
   ],
   "execution_count": 29
  },
  {
   "metadata": {
    "ExecuteTime": {
     "end_time": "2024-10-23T15:47:42.528921Z",
     "start_time": "2024-10-23T15:47:42.519475Z"
    }
   },
   "cell_type": "code",
   "source": "x.isdisjoint(y)",
   "id": "133e74f3611dd5cb",
   "outputs": [
    {
     "data": {
      "text/plain": [
       "False"
      ]
     },
     "execution_count": 31,
     "metadata": {},
     "output_type": "execute_result"
    }
   ],
   "execution_count": 31
  },
  {
   "metadata": {
    "ExecuteTime": {
     "end_time": "2024-10-23T15:48:03.699999Z",
     "start_time": "2024-10-23T15:48:03.690629Z"
    }
   },
   "cell_type": "code",
   "source": "x.issubset(y)",
   "id": "55d38286af5d0fc7",
   "outputs": [
    {
     "data": {
      "text/plain": [
       "False"
      ]
     },
     "execution_count": 32,
     "metadata": {},
     "output_type": "execute_result"
    }
   ],
   "execution_count": 32
  },
  {
   "metadata": {
    "ExecuteTime": {
     "end_time": "2024-10-23T15:48:21.103567Z",
     "start_time": "2024-10-23T15:48:21.093058Z"
    }
   },
   "cell_type": "code",
   "source": "x.issuperset(y)",
   "id": "ef9270f7bb6828a7",
   "outputs": [
    {
     "data": {
      "text/plain": [
       "False"
      ]
     },
     "execution_count": 33,
     "metadata": {},
     "output_type": "execute_result"
    }
   ],
   "execution_count": 33
  },
  {
   "metadata": {
    "ExecuteTime": {
     "end_time": "2024-10-23T15:49:56.697967Z",
     "start_time": "2024-10-23T15:49:56.681758Z"
    }
   },
   "cell_type": "code",
   "source": "{1, 2, 3} | {4, 5, 6}",
   "id": "ca75b4a479e6d279",
   "outputs": [
    {
     "data": {
      "text/plain": [
       "{1, 2, 3, 4, 5, 6}"
      ]
     },
     "execution_count": 34,
     "metadata": {},
     "output_type": "execute_result"
    }
   ],
   "execution_count": 34
  },
  {
   "metadata": {
    "ExecuteTime": {
     "end_time": "2024-10-23T15:56:14.520776Z",
     "start_time": "2024-10-23T15:56:14.510863Z"
    }
   },
   "cell_type": "code",
   "source": "{1, 2, 3} & {4, 5, 6}",
   "id": "7bcb7bad90561369",
   "outputs": [
    {
     "data": {
      "text/plain": [
       "set()"
      ]
     },
     "execution_count": 35,
     "metadata": {},
     "output_type": "execute_result"
    }
   ],
   "execution_count": 35
  },
  {
   "metadata": {
    "ExecuteTime": {
     "end_time": "2024-10-23T15:56:30.606370Z",
     "start_time": "2024-10-23T15:56:30.596222Z"
    }
   },
   "cell_type": "code",
   "source": "{1, 2, 3} - {4, 5, 6}",
   "id": "e05fe3a5648f1864",
   "outputs": [
    {
     "data": {
      "text/plain": [
       "{1, 2, 3}"
      ]
     },
     "execution_count": 36,
     "metadata": {},
     "output_type": "execute_result"
    }
   ],
   "execution_count": 36
  },
  {
   "metadata": {
    "ExecuteTime": {
     "end_time": "2024-10-23T15:57:35.867449Z",
     "start_time": "2024-10-23T15:57:35.853996Z"
    }
   },
   "cell_type": "code",
   "source": "{1, 2, 3} ^ {4, 5, 6}",
   "id": "7c42a599c09f63f",
   "outputs": [
    {
     "data": {
      "text/plain": [
       "{1, 2, 3, 4, 5, 6}"
      ]
     },
     "execution_count": 39,
     "metadata": {},
     "output_type": "execute_result"
    }
   ],
   "execution_count": 39
  },
  {
   "metadata": {
    "ExecuteTime": {
     "end_time": "2024-10-23T20:24:40.244490Z",
     "start_time": "2024-10-23T20:24:40.240660Z"
    }
   },
   "cell_type": "code",
   "source": "",
   "id": "d894eed29b353c17",
   "outputs": [],
   "execution_count": null
  },
  {
   "metadata": {},
   "cell_type": "markdown",
   "source": [
    "# Dict\n",
    "\n",
    "1. Collection couples : key - value\n",
    "2. Ordered / from python 3.6 + / , don't use from this / OrderedDict /\n",
    "3. Heterogeneous\n",
    "4. Mutable\n",
    "\n",
    "## Key\n",
    "- Hashable / because they have to be unique /\n",
    "- There is no possibility see the same key with 2 different values in different places in on dict\n",
    "\n",
    "## Value\n",
    "- anyone correct python type\n",
    "\n",
    "```python\n",
    "d = {'a': 1, 'b': 2}\n",
    "d1 = dict()\n",
    "\n",
    "type(d) # dict\n",
    "\n",
    "\n",
    "\n",
    "```\n",
    "\n"
   ],
   "id": "97c73f7c43dffdd9"
  },
  {
   "metadata": {
    "ExecuteTime": {
     "end_time": "2024-10-23T20:37:14.378674Z",
     "start_time": "2024-10-23T20:37:14.369835Z"
    }
   },
   "cell_type": "code",
   "source": [
    "d1 = dict()\n",
    "type(d1)"
   ],
   "id": "a036fffd493534ff",
   "outputs": [
    {
     "data": {
      "text/plain": [
       "dict"
      ]
     },
     "execution_count": 3,
     "metadata": {},
     "output_type": "execute_result"
    }
   ],
   "execution_count": 3
  },
  {
   "metadata": {
    "ExecuteTime": {
     "end_time": "2024-10-23T20:43:15.224124Z",
     "start_time": "2024-10-23T20:43:15.216120Z"
    }
   },
   "cell_type": "code",
   "source": [
    "d1 = dict( a = [1, 2, 3])\n",
    "d1"
   ],
   "id": "5748b88efa7ccd8f",
   "outputs": [
    {
     "data": {
      "text/plain": [
       "{'a': [1, 2, 3]}"
      ]
     },
     "execution_count": 5,
     "metadata": {},
     "output_type": "execute_result"
    }
   ],
   "execution_count": 5
  },
  {
   "metadata": {
    "ExecuteTime": {
     "end_time": "2024-10-23T20:56:12.940945Z",
     "start_time": "2024-10-23T20:56:12.932345Z"
    }
   },
   "cell_type": "code",
   "source": [
    "d1 = dict([['a', 2],['b', 6],['b', 8] ],)\n",
    "d1"
   ],
   "id": "41e2298f1b89b9e6",
   "outputs": [
    {
     "data": {
      "text/plain": [
       "{'a': 2, 'b': 8}"
      ]
     },
     "execution_count": 8,
     "metadata": {},
     "output_type": "execute_result"
    }
   ],
   "execution_count": 8
  },
  {
   "metadata": {
    "ExecuteTime": {
     "end_time": "2024-10-23T20:57:43.406171Z",
     "start_time": "2024-10-23T20:57:43.401096Z"
    }
   },
   "cell_type": "code",
   "source": "dir(dict)",
   "id": "43b107ac50f604e4",
   "outputs": [
    {
     "data": {
      "text/plain": [
       "['__class__',\n",
       " '__class_getitem__',\n",
       " '__contains__',\n",
       " '__delattr__',\n",
       " '__delitem__',\n",
       " '__dir__',\n",
       " '__doc__',\n",
       " '__eq__',\n",
       " '__format__',\n",
       " '__ge__',\n",
       " '__getattribute__',\n",
       " '__getitem__',\n",
       " '__getstate__',\n",
       " '__gt__',\n",
       " '__hash__',\n",
       " '__init__',\n",
       " '__init_subclass__',\n",
       " '__ior__',\n",
       " '__iter__',\n",
       " '__le__',\n",
       " '__len__',\n",
       " '__lt__',\n",
       " '__ne__',\n",
       " '__new__',\n",
       " '__or__',\n",
       " '__reduce__',\n",
       " '__reduce_ex__',\n",
       " '__repr__',\n",
       " '__reversed__',\n",
       " '__ror__',\n",
       " '__setattr__',\n",
       " '__setitem__',\n",
       " '__sizeof__',\n",
       " '__str__',\n",
       " '__subclasshook__',\n",
       " 'clear',\n",
       " 'copy',\n",
       " 'fromkeys',\n",
       " 'get',\n",
       " 'items',\n",
       " 'keys',\n",
       " 'pop',\n",
       " 'popitem',\n",
       " 'setdefault',\n",
       " 'update',\n",
       " 'values']"
      ]
     },
     "execution_count": 9,
     "metadata": {},
     "output_type": "execute_result"
    }
   ],
   "execution_count": 9
  },
  {
   "metadata": {
    "ExecuteTime": {
     "end_time": "2024-10-23T21:02:48.892686Z",
     "start_time": "2024-10-23T21:02:48.888242Z"
    }
   },
   "cell_type": "code",
   "source": [
    "p = {\n",
    "    \"name\": \"Anna\",\n",
    "    \"age\": 28,\n",
    "    \"city\": \"Warsaw\",\n",
    "    \"job\": \"Engineer\"\n",
    "}"
   ],
   "id": "a7d653547dde13cc",
   "outputs": [],
   "execution_count": 21
  },
  {
   "metadata": {
    "ExecuteTime": {
     "end_time": "2024-10-23T21:00:40.420430Z",
     "start_time": "2024-10-23T21:00:40.414731Z"
    }
   },
   "cell_type": "code",
   "source": "p.get('city')",
   "id": "f17529c65af368b0",
   "outputs": [
    {
     "data": {
      "text/plain": [
       "'Warsaw'"
      ]
     },
     "execution_count": 17,
     "metadata": {},
     "output_type": "execute_result"
    }
   ],
   "execution_count": 17
  },
  {
   "metadata": {
    "ExecuteTime": {
     "end_time": "2024-10-23T21:02:42.490100Z",
     "start_time": "2024-10-23T21:02:42.483567Z"
    }
   },
   "cell_type": "code",
   "source": [
    "p.clear()\n",
    "p"
   ],
   "id": "77b5e1598e2815c2",
   "outputs": [
    {
     "data": {
      "text/plain": [
       "{}"
      ]
     },
     "execution_count": 20,
     "metadata": {},
     "output_type": "execute_result"
    }
   ],
   "execution_count": 20
  },
  {
   "metadata": {
    "ExecuteTime": {
     "end_time": "2024-10-23T21:05:29.266227Z",
     "start_time": "2024-10-23T21:05:29.260151Z"
    }
   },
   "cell_type": "code",
   "source": [
    "d1 = p.copy()\n",
    "d1"
   ],
   "id": "1e1d03ceca31a01b",
   "outputs": [
    {
     "data": {
      "text/plain": [
       "{'name': 'Anna', 'age': 28, 'job': 'Engineer'}"
      ]
     },
     "execution_count": 24,
     "metadata": {},
     "output_type": "execute_result"
    }
   ],
   "execution_count": 24
  },
  {
   "metadata": {
    "ExecuteTime": {
     "end_time": "2024-10-23T21:07:19.636989Z",
     "start_time": "2024-10-23T21:07:19.629232Z"
    }
   },
   "cell_type": "code",
   "source": "d1['age']",
   "id": "12a89174c5ea275e",
   "outputs": [
    {
     "data": {
      "text/plain": [
       "28"
      ]
     },
     "execution_count": 25,
     "metadata": {},
     "output_type": "execute_result"
    }
   ],
   "execution_count": 25
  },
  {
   "metadata": {
    "ExecuteTime": {
     "end_time": "2024-10-23T21:08:57.616732Z",
     "start_time": "2024-10-23T21:08:57.594852Z"
    }
   },
   "cell_type": "code",
   "source": "d1.get('age')",
   "id": "651864986f2adbaf",
   "outputs": [
    {
     "data": {
      "text/plain": [
       "28"
      ]
     },
     "execution_count": 26,
     "metadata": {},
     "output_type": "execute_result"
    }
   ],
   "execution_count": 26
  },
  {
   "metadata": {
    "ExecuteTime": {
     "end_time": "2024-10-23T21:09:52.647730Z",
     "start_time": "2024-10-23T21:09:52.641454Z"
    }
   },
   "cell_type": "code",
   "source": "print(d1.get('city'))",
   "id": "7d63ff3face889c1",
   "outputs": [
    {
     "name": "stdout",
     "output_type": "stream",
     "text": [
      "None\n"
     ]
    }
   ],
   "execution_count": 28
  },
  {
   "metadata": {
    "ExecuteTime": {
     "end_time": "2024-10-23T21:11:23.778517Z",
     "start_time": "2024-10-23T21:11:23.773688Z"
    }
   },
   "cell_type": "code",
   "source": "d1.get('city', 'Sth is no yes!')",
   "id": "24feacc5ee38cc53",
   "outputs": [
    {
     "data": {
      "text/plain": [
       "'Sth is no yes!'"
      ]
     },
     "execution_count": 29,
     "metadata": {},
     "output_type": "execute_result"
    }
   ],
   "execution_count": 29
  },
  {
   "metadata": {
    "ExecuteTime": {
     "end_time": "2024-10-23T21:12:36.386923Z",
     "start_time": "2024-10-23T21:12:36.380722Z"
    }
   },
   "cell_type": "code",
   "source": "d1.keys()",
   "id": "5c1b4ce3ec2c9f93",
   "outputs": [
    {
     "data": {
      "text/plain": [
       "dict_keys(['name', 'age', 'job'])"
      ]
     },
     "execution_count": 30,
     "metadata": {},
     "output_type": "execute_result"
    }
   ],
   "execution_count": 30
  },
  {
   "metadata": {
    "ExecuteTime": {
     "end_time": "2024-10-23T21:13:36.233603Z",
     "start_time": "2024-10-23T21:13:36.228053Z"
    }
   },
   "cell_type": "code",
   "source": "d1.values()",
   "id": "6bc53507c0aaacbe",
   "outputs": [
    {
     "data": {
      "text/plain": [
       "dict_values(['Anna', 28, 'Engineer'])"
      ]
     },
     "execution_count": 33,
     "metadata": {},
     "output_type": "execute_result"
    }
   ],
   "execution_count": 33
  },
  {
   "metadata": {
    "ExecuteTime": {
     "end_time": "2024-10-23T21:14:19.774392Z",
     "start_time": "2024-10-23T21:14:19.769359Z"
    }
   },
   "cell_type": "code",
   "source": "d1.items()",
   "id": "f615a5afe79b3693",
   "outputs": [
    {
     "data": {
      "text/plain": [
       "dict_items([('name', 'Anna'), ('age', 28), ('job', 'Engineer')])"
      ]
     },
     "execution_count": 34,
     "metadata": {},
     "output_type": "execute_result"
    }
   ],
   "execution_count": 34
  },
  {
   "metadata": {},
   "cell_type": "markdown",
   "source": "#### Keys",
   "id": "b22373b42c6ac90"
  },
  {
   "metadata": {
    "ExecuteTime": {
     "end_time": "2024-10-23T21:25:43.615147Z",
     "start_time": "2024-10-23T21:25:43.611042Z"
    }
   },
   "cell_type": "code",
   "source": [
    "d = {\n",
    "    True: 1,\n",
    "    1: 2,\n",
    "    0: 3,\n",
    "    False: 4,\n",
    "    0.00000: 5,\n",
    "    0.000000001: 6,\n",
    "    (1,): 7,\n",
    "    (1, 2): 8,\n",
    "    \"\": 9,\n",
    "    'ala': 10\n",
    "       \n",
    "}"
   ],
   "id": "6cd267d5a50ff005",
   "outputs": [],
   "execution_count": 38
  },
  {
   "metadata": {
    "ExecuteTime": {
     "end_time": "2024-10-23T21:28:50.496111Z",
     "start_time": "2024-10-23T21:28:50.487983Z"
    }
   },
   "cell_type": "code",
   "source": "d",
   "id": "e6cc40c12ceef930",
   "outputs": [
    {
     "data": {
      "text/plain": [
       "{True: 2, 0: 5, 1e-09: 6, (1,): 7, (1, 2): 8, '': 9, 'ala': 10}"
      ]
     },
     "execution_count": 43,
     "metadata": {},
     "output_type": "execute_result"
    }
   ],
   "execution_count": 43
  },
  {
   "metadata": {
    "ExecuteTime": {
     "end_time": "2024-10-23T21:26:05.104374Z",
     "start_time": "2024-10-23T21:26:05.098676Z"
    }
   },
   "cell_type": "code",
   "source": "d.get(False)",
   "id": "573fd95d17acc6b8",
   "outputs": [
    {
     "data": {
      "text/plain": [
       "5"
      ]
     },
     "execution_count": 39,
     "metadata": {},
     "output_type": "execute_result"
    }
   ],
   "execution_count": 39
  },
  {
   "metadata": {
    "ExecuteTime": {
     "end_time": "2024-10-23T21:26:15.882265Z",
     "start_time": "2024-10-23T21:26:15.876188Z"
    }
   },
   "cell_type": "code",
   "source": "d.values()",
   "id": "a4b30de9f725cdc6",
   "outputs": [
    {
     "data": {
      "text/plain": [
       "dict_values([2, 5, 6, 7, 8, 9, 10])"
      ]
     },
     "execution_count": 40,
     "metadata": {},
     "output_type": "execute_result"
    }
   ],
   "execution_count": 40
  },
  {
   "metadata": {
    "ExecuteTime": {
     "end_time": "2024-10-23T21:26:23.965853Z",
     "start_time": "2024-10-23T21:26:23.960486Z"
    }
   },
   "cell_type": "code",
   "source": "d.keys()",
   "id": "4673cf353123d475",
   "outputs": [
    {
     "data": {
      "text/plain": [
       "dict_keys([True, 0, 1e-09, (1,), (1, 2), '', 'ala'])"
      ]
     },
     "execution_count": 41,
     "metadata": {},
     "output_type": "execute_result"
    }
   ],
   "execution_count": 41
  },
  {
   "metadata": {
    "ExecuteTime": {
     "end_time": "2024-10-23T21:26:48.364700Z",
     "start_time": "2024-10-23T21:26:48.356640Z"
    }
   },
   "cell_type": "code",
   "source": "d.items()",
   "id": "adc25b68bef3b05",
   "outputs": [
    {
     "data": {
      "text/plain": [
       "dict_items([(True, 2), (0, 5), (1e-09, 6), ((1,), 7), ((1, 2), 8), ('', 9), ('ala', 10)])"
      ]
     },
     "execution_count": 42,
     "metadata": {},
     "output_type": "execute_result"
    }
   ],
   "execution_count": 42
  },
  {
   "metadata": {
    "ExecuteTime": {
     "end_time": "2024-10-23T21:35:54.138980Z",
     "start_time": "2024-10-23T21:35:54.133974Z"
    }
   },
   "cell_type": "code",
   "source": "d[1]",
   "id": "5bb567f3bcc29555",
   "outputs": [
    {
     "data": {
      "text/plain": [
       "2"
      ]
     },
     "execution_count": 44,
     "metadata": {},
     "output_type": "execute_result"
    }
   ],
   "execution_count": 44
  },
  {
   "metadata": {
    "ExecuteTime": {
     "end_time": "2024-10-23T21:36:28.096912Z",
     "start_time": "2024-10-23T21:36:28.092812Z"
    }
   },
   "cell_type": "code",
   "source": "hash(1), hash(True), hash(1.000000)",
   "id": "4a899089ecb7f41b",
   "outputs": [
    {
     "data": {
      "text/plain": [
       "(1, 1, 1)"
      ]
     },
     "execution_count": 45,
     "metadata": {},
     "output_type": "execute_result"
    }
   ],
   "execution_count": 45
  },
  {
   "metadata": {
    "ExecuteTime": {
     "end_time": "2024-10-24T10:47:18.512123Z",
     "start_time": "2024-10-24T10:47:18.501139Z"
    }
   },
   "cell_type": "code",
   "source": [
    "c = {\n",
    "    \"Poland\": \"Warsaw\",\n",
    "    \"France\": \"Paris\",\n",
    "    \"Germany\": \"Berlin\",\n",
    "    \"Italy\": \"Rome\",\n",
    "    \"Spain\": \"Madrid\",\n",
    "    \"United Kingdom\": \"London\",\n",
    "    \"Canada\": \"Ottawa\",\n",
    "    \"United States\": \"Washington, D.C.\",\n",
    "    \"Japan\": \"Tokyo\",\n",
    "    \"Australia\": \"Canberra\"\n",
    "}"
   ],
   "id": "bafdcb2627aaaf2b",
   "outputs": [],
   "execution_count": 11
  },
  {
   "metadata": {
    "ExecuteTime": {
     "end_time": "2024-10-24T10:36:04.386400Z",
     "start_time": "2024-10-24T10:36:04.378806Z"
    }
   },
   "cell_type": "code",
   "source": [
    "c[3] = 'Zagreb'\n",
    "c"
   ],
   "id": "1073784b1dfa8907",
   "outputs": [
    {
     "data": {
      "text/plain": [
       "{'Poland': 'Warsaw',\n",
       " 'France': 'Paris',\n",
       " 'Germany': 'Zagreb',\n",
       " 'Italy': 'Rome',\n",
       " 'Spain': 'Madrid',\n",
       " 'United Kingdom': 'London',\n",
       " 'Canada': 'Ottawa',\n",
       " 'United States': 'Washington, D.C.',\n",
       " 'Japan': 'Tokyo',\n",
       " 'Australia': 'Canberra',\n",
       " 3: 'Zagreb'}"
      ]
     },
     "execution_count": 9,
     "metadata": {},
     "output_type": "execute_result"
    }
   ],
   "execution_count": 9
  },
  {
   "metadata": {
    "ExecuteTime": {
     "end_time": "2024-10-24T10:46:20.548751Z",
     "start_time": "2024-10-24T10:46:20.530385Z"
    }
   },
   "cell_type": "code",
   "source": [
    "value = c.pop(3)\n",
    "c['Croatia'] = value\n",
    "c"
   ],
   "id": "7d3572d6a62c6fc4",
   "outputs": [
    {
     "data": {
      "text/plain": [
       "{'Poland': 'Warsaw',\n",
       " 'France': 'Paris',\n",
       " 'Germany': 'Zagreb',\n",
       " 'Italy': 'Rome',\n",
       " 'Spain': 'Madrid',\n",
       " 'United Kingdom': 'London',\n",
       " 'Canada': 'Ottawa',\n",
       " 'United States': 'Washington, D.C.',\n",
       " 'Japan': 'Tokyo',\n",
       " 'Australia': 'Canberra',\n",
       " 'Croatia': 'Zagreb'}"
      ]
     },
     "execution_count": 10,
     "metadata": {},
     "output_type": "execute_result"
    }
   ],
   "execution_count": 10
  },
  {
   "metadata": {
    "ExecuteTime": {
     "end_time": "2024-10-24T10:48:16.308041Z",
     "start_time": "2024-10-24T10:48:16.286063Z"
    }
   },
   "cell_type": "code",
   "source": [
    "c['Germany'] = 'Berlin'\n",
    "c"
   ],
   "id": "11d0c8aa2c2e5d7f",
   "outputs": [
    {
     "data": {
      "text/plain": [
       "{'Poland': 'Warsaw',\n",
       " 'France': 'Paris',\n",
       " 'Germany': 'Berlin',\n",
       " 'Italy': 'Rome',\n",
       " 'Spain': 'Madrid',\n",
       " 'United Kingdom': 'London',\n",
       " 'Canada': 'Ottawa',\n",
       " 'United States': 'Washington, D.C.',\n",
       " 'Japan': 'Tokyo',\n",
       " 'Australia': 'Canberra',\n",
       " 2: 'Berlin'}"
      ]
     },
     "execution_count": 13,
     "metadata": {},
     "output_type": "execute_result"
    }
   ],
   "execution_count": 13
  },
  {
   "metadata": {
    "ExecuteTime": {
     "end_time": "2024-11-22T10:11:58.414229Z",
     "start_time": "2024-11-22T10:11:58.393073Z"
    }
   },
   "cell_type": "code",
   "source": [
    "c = {\n",
    "    \"Poland\": \"Warsaw\",\n",
    "    \"France\": \"Paris\",\n",
    "    \"Germany\": \"Berlin\",\n",
    "    \"Italy\": \"Rome\",\n",
    "    \"Spain\": \"Madrid\",\n",
    "    \"United Kingdom\": \"London\",\n",
    "    \"Canada\": \"Ottawa\",\n",
    "    \"United States\": \"Washington, D.C.\",\n",
    "    \"Japan\": \"Tokyo\",\n",
    "    \"Australia\": \"Canberra\"\n",
    "}\n",
    "c"
   ],
   "id": "17e562152a49ddf1",
   "outputs": [
    {
     "data": {
      "text/plain": [
       "{'Poland': 'Warsaw',\n",
       " 'France': 'Paris',\n",
       " 'Germany': 'Berlin',\n",
       " 'Italy': 'Rome',\n",
       " 'Spain': 'Madrid',\n",
       " 'United Kingdom': 'London',\n",
       " 'Canada': 'Ottawa',\n",
       " 'United States': 'Washington, D.C.',\n",
       " 'Japan': 'Tokyo',\n",
       " 'Australia': 'Canberra'}"
      ]
     },
     "execution_count": 1,
     "metadata": {},
     "output_type": "execute_result"
    }
   ],
   "execution_count": 1
  },
  {
   "metadata": {
    "ExecuteTime": {
     "end_time": "2024-11-22T11:31:20.709992Z",
     "start_time": "2024-11-22T11:31:20.689841Z"
    }
   },
   "cell_type": "code",
   "source": [
    "keys_start_with_a = [key for key , value in c.items() if key.startswith('J')]\n",
    "keys_start_with_a"
   ],
   "id": "46e696f991691384",
   "outputs": [
    {
     "data": {
      "text/plain": [
       "['Japan']"
      ]
     },
     "execution_count": 4,
     "metadata": {},
     "output_type": "execute_result"
    }
   ],
   "execution_count": 4
  },
  {
   "metadata": {
    "ExecuteTime": {
     "end_time": "2024-10-24T12:04:46.622156Z",
     "start_time": "2024-10-24T12:04:46.611829Z"
    }
   },
   "cell_type": "code",
   "source": [
    "for country in c:\n",
    "    if country.startswith('A'):\n",
    "        print(country)"
   ],
   "id": "2d38f516b31d29d1",
   "outputs": [
    {
     "name": "stdout",
     "output_type": "stream",
     "text": [
      "Australia\n"
     ]
    }
   ],
   "execution_count": 20
  },
  {
   "metadata": {
    "ExecuteTime": {
     "end_time": "2024-10-24T12:28:10.260431Z",
     "start_time": "2024-10-24T12:28:10.253111Z"
    }
   },
   "cell_type": "code",
   "source": [
    "# domyslny operator w slowniku operuje po kluczach\n",
    "\n",
    "for country in c:\n",
    "    if 'a' in c[country]:\n",
    "        print(country)"
   ],
   "id": "b18013da71271fc7",
   "outputs": [
    {
     "name": "stdout",
     "output_type": "stream",
     "text": [
      "Poland\n",
      "France\n",
      "Spain\n",
      "Canada\n",
      "United States\n",
      "Australia\n"
     ]
    }
   ],
   "execution_count": 24
  },
  {
   "metadata": {
    "ExecuteTime": {
     "end_time": "2024-10-24T12:33:36.307681Z",
     "start_time": "2024-10-24T12:33:36.303184Z"
    }
   },
   "cell_type": "code",
   "source": [
    "for country, capital in c.items():\n",
    "    if 'a' in capital:\n",
    "        print(country, capital)"
   ],
   "id": "42e3eccc65a68d75",
   "outputs": [
    {
     "name": "stdout",
     "output_type": "stream",
     "text": [
      "Poland Warsaw\n",
      "France Paris\n",
      "Spain Madrid\n",
      "Canada Ottawa\n",
      "United States Washington, D.C.\n",
      "Australia Canberra\n"
     ]
    }
   ],
   "execution_count": 26
  },
  {
   "metadata": {
    "ExecuteTime": {
     "end_time": "2024-10-24T12:38:29.102218Z",
     "start_time": "2024-10-24T12:38:29.091880Z"
    }
   },
   "cell_type": "code",
   "source": [
    "for key, value in c.items():\n",
    "    if 'a' in value:\n",
    "        print(key, value)"
   ],
   "id": "1b857b592fdee735",
   "outputs": [
    {
     "name": "stdout",
     "output_type": "stream",
     "text": [
      "Poland Warsaw\n",
      "France Paris\n",
      "Spain Madrid\n",
      "Canada Ottawa\n",
      "United States Washington, D.C.\n",
      "Australia Canberra\n"
     ]
    }
   ],
   "execution_count": 27
  },
  {
   "metadata": {
    "ExecuteTime": {
     "end_time": "2024-10-24T13:10:18.447932Z",
     "start_time": "2024-10-24T13:10:18.439674Z"
    }
   },
   "cell_type": "code",
   "source": [
    "country_list = [ key for key, value in c.items()]\n",
    "country_list"
   ],
   "id": "e42ebda610529cc0",
   "outputs": [
    {
     "data": {
      "text/plain": [
       "['Poland',\n",
       " 'France',\n",
       " 'Germany',\n",
       " 'Italy',\n",
       " 'Spain',\n",
       " 'United Kingdom',\n",
       " 'Canada',\n",
       " 'United States',\n",
       " 'Japan',\n",
       " 'Australia']"
      ]
     },
     "execution_count": 28,
     "metadata": {},
     "output_type": "execute_result"
    }
   ],
   "execution_count": 28
  },
  {
   "metadata": {
    "ExecuteTime": {
     "end_time": "2024-10-24T13:10:44.417769Z",
     "start_time": "2024-10-24T13:10:44.406838Z"
    }
   },
   "cell_type": "code",
   "source": [
    "country_list = [ value for key, value in c.items()]\n",
    "country_list"
   ],
   "id": "c2d2fd57b61208",
   "outputs": [
    {
     "data": {
      "text/plain": [
       "['Warsaw',\n",
       " 'Paris',\n",
       " 'Berlin',\n",
       " 'Rome',\n",
       " 'Madrid',\n",
       " 'London',\n",
       " 'Ottawa',\n",
       " 'Washington, D.C.',\n",
       " 'Tokyo',\n",
       " 'Canberra']"
      ]
     },
     "execution_count": 29,
     "metadata": {},
     "output_type": "execute_result"
    }
   ],
   "execution_count": 29
  },
  {
   "metadata": {
    "ExecuteTime": {
     "end_time": "2024-10-24T13:12:31.436639Z",
     "start_time": "2024-10-24T13:12:31.422836Z"
    }
   },
   "cell_type": "code",
   "source": "list(c.keys())",
   "id": "24ef053ce8d8a766",
   "outputs": [
    {
     "data": {
      "text/plain": [
       "['Poland',\n",
       " 'France',\n",
       " 'Germany',\n",
       " 'Italy',\n",
       " 'Spain',\n",
       " 'United Kingdom',\n",
       " 'Canada',\n",
       " 'United States',\n",
       " 'Japan',\n",
       " 'Australia']"
      ]
     },
     "execution_count": 30,
     "metadata": {},
     "output_type": "execute_result"
    }
   ],
   "execution_count": 30
  },
  {
   "metadata": {
    "ExecuteTime": {
     "end_time": "2024-10-24T13:15:26.278146Z",
     "start_time": "2024-10-24T13:15:26.260071Z"
    }
   },
   "cell_type": "code",
   "source": "list(c)",
   "id": "9d3a2ec576d3f2b",
   "outputs": [
    {
     "data": {
      "text/plain": [
       "['Poland',\n",
       " 'France',\n",
       " 'Germany',\n",
       " 'Italy',\n",
       " 'Spain',\n",
       " 'United Kingdom',\n",
       " 'Canada',\n",
       " 'United States',\n",
       " 'Japan',\n",
       " 'Australia']"
      ]
     },
     "execution_count": 31,
     "metadata": {},
     "output_type": "execute_result"
    }
   ],
   "execution_count": 31
  },
  {
   "metadata": {
    "ExecuteTime": {
     "end_time": "2024-10-24T13:18:05.347992Z",
     "start_time": "2024-10-24T13:18:05.341925Z"
    }
   },
   "cell_type": "code",
   "source": "tuple(c.values())",
   "id": "4565e53c3901b3c5",
   "outputs": [
    {
     "data": {
      "text/plain": [
       "('Warsaw',\n",
       " 'Paris',\n",
       " 'Berlin',\n",
       " 'Rome',\n",
       " 'Madrid',\n",
       " 'London',\n",
       " 'Ottawa',\n",
       " 'Washington, D.C.',\n",
       " 'Tokyo',\n",
       " 'Canberra')"
      ]
     },
     "execution_count": 32,
     "metadata": {},
     "output_type": "execute_result"
    }
   ],
   "execution_count": 32
  },
  {
   "metadata": {},
   "cell_type": "code",
   "outputs": [],
   "execution_count": null,
   "source": "",
   "id": "b4f8e2a6aa489dd2"
  }
 ],
 "metadata": {
  "kernelspec": {
   "display_name": "Python 3",
   "language": "python",
   "name": "python3"
  },
  "language_info": {
   "codemirror_mode": {
    "name": "ipython",
    "version": 2
   },
   "file_extension": ".py",
   "mimetype": "text/x-python",
   "name": "python",
   "nbconvert_exporter": "python",
   "pygments_lexer": "ipython2",
   "version": "2.7.6"
  }
 },
 "nbformat": 4,
 "nbformat_minor": 5
}
