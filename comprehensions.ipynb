{
 "cells": [
  {
   "metadata": {},
   "cell_type": "markdown",
   "source": [
    "# Comprehensions\n",
    "\n",
    "1. List comprehension\n",
    "2. set comprehension\n",
    "3. dict comprehension\n",
    "4. generator expression\n",
    "\n",
    "\n",
    "```python\n",
    "\n",
    "\n",
    "```"
   ],
   "id": "253a6c29f9717f23"
  },
  {
   "metadata": {},
   "cell_type": "markdown",
   "source": [
    "## List comprehension\n",
    "\n",
    "```python\n",
    "\n",
    "[item for item in iterable if condition ]\n",
    "[mapping for element in iterable if filtering]\n",
    "\n",
    "```\n"
   ],
   "id": "1ef6ef94f1819d79"
  },
  {
   "metadata": {
    "ExecuteTime": {
     "end_time": "2024-10-24T14:43:08.673557Z",
     "start_time": "2024-10-24T14:43:08.667276Z"
    }
   },
   "cell_type": "code",
   "source": "data = [1, 2, 3, 4, 5, 6, 7, 8, 9, 10]",
   "id": "638a68acd71b410e",
   "outputs": [],
   "execution_count": 2
  },
  {
   "metadata": {
    "ExecuteTime": {
     "end_time": "2024-10-24T14:43:27.604567Z",
     "start_time": "2024-10-24T14:43:27.585085Z"
    }
   },
   "cell_type": "code",
   "source": "[i * 2 for i in data]",
   "id": "7f923736a7764845",
   "outputs": [
    {
     "data": {
      "text/plain": [
       "[2, 4, 6, 8, 10, 12, 14, 16, 18, 20]"
      ]
     },
     "execution_count": 4,
     "metadata": {},
     "output_type": "execute_result"
    }
   ],
   "execution_count": 4
  },
  {
   "metadata": {
    "ExecuteTime": {
     "end_time": "2024-10-24T14:43:10.875131Z",
     "start_time": "2024-10-24T14:43:10.860519Z"
    }
   },
   "cell_type": "code",
   "source": [
    "# even !!!!!!!!!!!!\n",
    "[i for i in data if not i & 1]"
   ],
   "id": "8d9b5b9b414a16e0",
   "outputs": [
    {
     "data": {
      "text/plain": [
       "[2, 4, 6, 8, 10]"
      ]
     },
     "execution_count": 3,
     "metadata": {},
     "output_type": "execute_result"
    }
   ],
   "execution_count": 3
  },
  {
   "metadata": {
    "ExecuteTime": {
     "end_time": "2024-10-24T14:43:42.071246Z",
     "start_time": "2024-10-24T14:43:42.060647Z"
    }
   },
   "cell_type": "code",
   "source": [
    "# odd !!!!!!!!!!!!\n",
    "[i for i in data if i & 1]"
   ],
   "id": "8c3c406e8121f136",
   "outputs": [
    {
     "data": {
      "text/plain": [
       "[1, 3, 5, 7, 9]"
      ]
     },
     "execution_count": 5,
     "metadata": {},
     "output_type": "execute_result"
    }
   ],
   "execution_count": 5
  },
  {
   "metadata": {
    "ExecuteTime": {
     "end_time": "2024-10-24T14:51:11.063870Z",
     "start_time": "2024-10-24T14:51:11.056105Z"
    }
   },
   "cell_type": "code",
   "source": [
    "h = []\n",
    "for i in data:\n",
    "    # i *= 2\n",
    "    h.append(i * 2)\n",
    "print(h)"
   ],
   "id": "619d15771b79e454",
   "outputs": [
    {
     "name": "stdout",
     "output_type": "stream",
     "text": [
      "[2, 4, 6, 8, 10, 12, 14, 16, 18, 20]\n"
     ]
    }
   ],
   "execution_count": 11
  },
  {
   "metadata": {
    "ExecuteTime": {
     "end_time": "2024-10-24T14:54:42.684752Z",
     "start_time": "2024-10-24T14:54:42.669436Z"
    }
   },
   "cell_type": "code",
   "source": "list(map(lambda x: x ** 2, data))",
   "id": "8a735e1716a7541d",
   "outputs": [
    {
     "data": {
      "text/plain": [
       "[1, 4, 9, 16, 25, 36, 49, 64, 81, 100]"
      ]
     },
     "execution_count": 12,
     "metadata": {},
     "output_type": "execute_result"
    }
   ],
   "execution_count": 12
  },
  {
   "metadata": {
    "ExecuteTime": {
     "end_time": "2024-10-24T14:55:55.450257Z",
     "start_time": "2024-10-24T14:55:55.439694Z"
    }
   },
   "cell_type": "code",
   "source": "%lsmagic",
   "id": "1b46e23a9bf641ad",
   "outputs": [
    {
     "data": {
      "text/plain": [
       "Available line magics:\n",
       "%alias  %alias_magic  %autoawait  %autocall  %automagic  %autosave  %bookmark  %cat  %cd  %clear  %code_wrap  %colors  %conda  %config  %connect_info  %cp  %debug  %dhist  %dirs  %doctest_mode  %ed  %edit  %env  %gui  %hist  %history  %killbgscripts  %ldir  %less  %lf  %lk  %ll  %load  %load_ext  %loadpy  %logoff  %logon  %logstart  %logstate  %logstop  %ls  %lsmagic  %lx  %macro  %magic  %mamba  %man  %matplotlib  %micromamba  %mkdir  %more  %mv  %notebook  %page  %pastebin  %pdb  %pdef  %pdoc  %pfile  %pinfo  %pinfo2  %pip  %popd  %pprint  %precision  %prun  %psearch  %psource  %pushd  %pwd  %pycat  %pylab  %qtconsole  %quickref  %recall  %rehashx  %reload_ext  %rep  %rerun  %reset  %reset_selective  %rm  %rmdir  %run  %save  %sc  %set_env  %store  %sx  %system  %tb  %time  %timeit  %unalias  %unload_ext  %who  %who_ls  %whos  %xdel  %xmode\n",
       "\n",
       "Available cell magics:\n",
       "%%!  %%HTML  %%SVG  %%bash  %%capture  %%code_wrap  %%debug  %%file  %%html  %%javascript  %%js  %%latex  %%markdown  %%perl  %%prun  %%pypy  %%python  %%python2  %%python3  %%ruby  %%script  %%sh  %%svg  %%sx  %%system  %%time  %%timeit  %%writefile\n",
       "\n",
       "Automagic is ON, % prefix IS NOT needed for line magics."
      ],
      "application/json": {
       "line": {
        "automagic": "AutoMagics",
        "autocall": "AutoMagics",
        "alias_magic": "BasicMagics",
        "lsmagic": "BasicMagics",
        "magic": "BasicMagics",
        "page": "BasicMagics",
        "pprint": "BasicMagics",
        "colors": "BasicMagics",
        "xmode": "BasicMagics",
        "quickref": "BasicMagics",
        "doctest_mode": "BasicMagics",
        "gui": "BasicMagics",
        "precision": "BasicMagics",
        "notebook": "BasicMagics",
        "save": "CodeMagics",
        "pastebin": "CodeMagics",
        "loadpy": "CodeMagics",
        "load": "CodeMagics",
        "edit": "KernelMagics",
        "config": "ConfigMagics",
        "prun": "ExecutionMagics",
        "pdb": "ExecutionMagics",
        "debug": "ExecutionMagics",
        "tb": "ExecutionMagics",
        "run": "ExecutionMagics",
        "timeit": "ExecutionMagics",
        "time": "ExecutionMagics",
        "macro": "ExecutionMagics",
        "code_wrap": "ExecutionMagics",
        "load_ext": "ExtensionMagics",
        "unload_ext": "ExtensionMagics",
        "reload_ext": "ExtensionMagics",
        "history": "HistoryMagics",
        "recall": "HistoryMagics",
        "rerun": "HistoryMagics",
        "logstart": "LoggingMagics",
        "logstop": "LoggingMagics",
        "logoff": "LoggingMagics",
        "logon": "LoggingMagics",
        "logstate": "LoggingMagics",
        "pinfo": "NamespaceMagics",
        "pinfo2": "NamespaceMagics",
        "pdef": "NamespaceMagics",
        "pdoc": "NamespaceMagics",
        "psource": "NamespaceMagics",
        "pfile": "NamespaceMagics",
        "psearch": "NamespaceMagics",
        "who_ls": "NamespaceMagics",
        "who": "NamespaceMagics",
        "whos": "NamespaceMagics",
        "reset": "NamespaceMagics",
        "reset_selective": "NamespaceMagics",
        "xdel": "NamespaceMagics",
        "alias": "OSMagics",
        "unalias": "OSMagics",
        "rehashx": "OSMagics",
        "pwd": "OSMagics",
        "cd": "OSMagics",
        "env": "OSMagics",
        "set_env": "OSMagics",
        "pushd": "OSMagics",
        "popd": "OSMagics",
        "dirs": "OSMagics",
        "dhist": "OSMagics",
        "sc": "OSMagics",
        "sx": "OSMagics",
        "system": "OSMagics",
        "bookmark": "OSMagics",
        "pycat": "OSMagics",
        "pip": "PackagingMagics",
        "conda": "PackagingMagics",
        "mamba": "PackagingMagics",
        "micromamba": "PackagingMagics",
        "matplotlib": "PylabMagics",
        "pylab": "PylabMagics",
        "killbgscripts": "ScriptMagics",
        "autoawait": "AsyncMagics",
        "ed": "Other",
        "hist": "Other",
        "rep": "Other",
        "clear": "KernelMagics",
        "less": "KernelMagics",
        "more": "KernelMagics",
        "man": "KernelMagics",
        "connect_info": "KernelMagics",
        "qtconsole": "KernelMagics",
        "autosave": "KernelMagics",
        "mkdir": "Other",
        "rmdir": "Other",
        "mv": "Other",
        "rm": "Other",
        "cp": "Other",
        "cat": "Other",
        "ls": "Other",
        "ll": "Other",
        "lf": "Other",
        "lk": "Other",
        "ldir": "Other",
        "lx": "Other",
        "store": "StoreMagics"
       },
       "cell": {
        "js": "DisplayMagics",
        "javascript": "DisplayMagics",
        "latex": "DisplayMagics",
        "svg": "DisplayMagics",
        "html": "DisplayMagics",
        "markdown": "DisplayMagics",
        "prun": "ExecutionMagics",
        "debug": "ExecutionMagics",
        "timeit": "ExecutionMagics",
        "time": "ExecutionMagics",
        "capture": "ExecutionMagics",
        "code_wrap": "ExecutionMagics",
        "sx": "OSMagics",
        "system": "OSMagics",
        "!": "OSMagics",
        "writefile": "OSMagics",
        "script": "ScriptMagics",
        "sh": "Other",
        "bash": "Other",
        "perl": "Other",
        "ruby": "Other",
        "python": "Other",
        "python2": "Other",
        "python3": "Other",
        "pypy": "Other",
        "SVG": "Other",
        "HTML": "Other",
        "file": "Other"
       }
      }
     },
     "execution_count": 13,
     "metadata": {},
     "output_type": "execute_result"
    }
   ],
   "execution_count": 13
  },
  {
   "metadata": {
    "ExecuteTime": {
     "end_time": "2024-10-24T14:57:47.879264Z",
     "start_time": "2024-10-24T14:57:43.477776Z"
    }
   },
   "cell_type": "code",
   "source": [
    "%%timeit\n",
    "[i for i in data if not i & 1]\n"
   ],
   "id": "560f5347c7456933",
   "outputs": [
    {
     "name": "stdout",
     "output_type": "stream",
     "text": [
      "501 ns ± 29 ns per loop (mean ± std. dev. of 7 runs, 1,000,000 loops each)\n"
     ]
    }
   ],
   "execution_count": 14
  },
  {
   "metadata": {
    "ExecuteTime": {
     "end_time": "2024-10-24T14:59:22.554233Z",
     "start_time": "2024-10-24T14:59:21.151219Z"
    }
   },
   "cell_type": "code",
   "source": [
    "%%timeit\n",
    "list(map(lambda x: x ** 2, data))"
   ],
   "id": "2e22d387881f5223",
   "outputs": [
    {
     "name": "stdout",
     "output_type": "stream",
     "text": [
      "1.63 µs ± 524 ns per loop (mean ± std. dev. of 7 runs, 100,000 loops each)\n"
     ]
    }
   ],
   "execution_count": 15
  },
  {
   "metadata": {},
   "cell_type": "code",
   "outputs": [],
   "execution_count": null,
   "source": "data = [1, 2, 3, 4, 5, 6, 7, 8, 9, 10]",
   "id": "459403399dd9820b"
  },
  {
   "metadata": {
    "ExecuteTime": {
     "end_time": "2024-10-24T15:10:16.652818Z",
     "start_time": "2024-10-24T15:10:16.629443Z"
    }
   },
   "cell_type": "code",
   "source": "[i * 2 for i in data if not i & 1]",
   "id": "782c9151453a2341",
   "outputs": [
    {
     "data": {
      "text/plain": [
       "[4, 8, 12, 16, 20]"
      ]
     },
     "execution_count": 16,
     "metadata": {},
     "output_type": "execute_result"
    }
   ],
   "execution_count": 16
  },
  {
   "metadata": {
    "ExecuteTime": {
     "end_time": "2024-10-24T15:11:00.112625Z",
     "start_time": "2024-10-24T15:11:00.096990Z"
    }
   },
   "cell_type": "code",
   "source": "[i * 2 for i in data if not i % 2]",
   "id": "2b0e613b5d2aefc2",
   "outputs": [
    {
     "data": {
      "text/plain": [
       "[4, 8, 12, 16, 20]"
      ]
     },
     "execution_count": 18,
     "metadata": {},
     "output_type": "execute_result"
    }
   ],
   "execution_count": 18
  },
  {
   "metadata": {
    "ExecuteTime": {
     "end_time": "2024-10-24T15:17:29.816636Z",
     "start_time": "2024-10-24T15:17:29.803028Z"
    }
   },
   "cell_type": "code",
   "source": [
    "new_odd_lst =[]\n",
    "for i in data:\n",
    "    # if i % 2 == 0:\n",
    "    # if not i % 2 :\n",
    "    if not i & 1:\n",
    "        new_odd_lst.append(i * 2)\n",
    "print(new_odd_lst)"
   ],
   "id": "5bab5b11178dd948",
   "outputs": [
    {
     "name": "stdout",
     "output_type": "stream",
     "text": [
      "[4, 8, 12, 16, 20]\n"
     ]
    }
   ],
   "execution_count": 23
  },
  {
   "metadata": {
    "ExecuteTime": {
     "end_time": "2024-10-24T15:30:10.173551Z",
     "start_time": "2024-10-24T15:30:10.166086Z"
    }
   },
   "cell_type": "code",
   "source": "p = [[1, 2], [3, 4], [5, 6]]",
   "id": "3b433e193911c7b5",
   "outputs": [],
   "execution_count": 25
  },
  {
   "metadata": {
    "ExecuteTime": {
     "end_time": "2024-10-24T15:30:13.662740Z",
     "start_time": "2024-10-24T15:30:13.650200Z"
    }
   },
   "cell_type": "code",
   "source": "[[x * 3, y * 3] for x , y in p ]",
   "id": "8227b6e53af1943f",
   "outputs": [
    {
     "data": {
      "text/plain": [
       "[[3, 6], [9, 12], [15, 18]]"
      ]
     },
     "execution_count": 26,
     "metadata": {},
     "output_type": "execute_result"
    }
   ],
   "execution_count": 26
  },
  {
   "metadata": {
    "ExecuteTime": {
     "end_time": "2024-10-24T15:55:51.913054Z",
     "start_time": "2024-10-24T15:55:51.896118Z"
    }
   },
   "cell_type": "code",
   "source": "[[digit * 3 for digit in digits] for digits in p]",
   "id": "ad2f0da4028d56a8",
   "outputs": [
    {
     "data": {
      "text/plain": [
       "[[3, 6], [9, 12], [15, 18]]"
      ]
     },
     "execution_count": 28,
     "metadata": {},
     "output_type": "execute_result"
    }
   ],
   "execution_count": 28
  },
  {
   "metadata": {
    "ExecuteTime": {
     "end_time": "2024-10-24T16:00:11.331635Z",
     "start_time": "2024-10-24T16:00:04.115893Z"
    }
   },
   "cell_type": "code",
   "source": [
    "%%timeit\n",
    "[[digit * 3 for digit in digits] for digits in p]"
   ],
   "id": "fb150aa83cd0fea5",
   "outputs": [
    {
     "name": "stdout",
     "output_type": "stream",
     "text": [
      "845 ns ± 63.4 ns per loop (mean ± std. dev. of 7 runs, 1,000,000 loops each)\n"
     ]
    }
   ],
   "execution_count": 29
  },
  {
   "metadata": {
    "ExecuteTime": {
     "end_time": "2024-10-24T16:00:40.335872Z",
     "start_time": "2024-10-24T16:00:36.552228Z"
    }
   },
   "cell_type": "code",
   "source": [
    "%%timeit\n",
    "[[x * 3, y * 3] for x , y in p ]"
   ],
   "id": "265e2ff2997bd1dd",
   "outputs": [
    {
     "name": "stdout",
     "output_type": "stream",
     "text": [
      "426 ns ± 53.8 ns per loop (mean ± std. dev. of 7 runs, 1,000,000 loops each)\n"
     ]
    }
   ],
   "execution_count": 30
  },
  {
   "metadata": {
    "ExecuteTime": {
     "end_time": "2024-10-24T16:13:37.572382Z",
     "start_time": "2024-10-24T16:13:37.551313Z"
    }
   },
   "cell_type": "code",
   "source": [
    "# flat\n",
    "\n",
    "data2 = []\n",
    "\n",
    "for digits in p:\n",
    "    for digit in digits:\n",
    "        data2.append(digit)\n",
    "\n",
    "data2\n"
   ],
   "id": "160ac49b33e91712",
   "outputs": [
    {
     "data": {
      "text/plain": [
       "[1, 2, 3, 4, 5, 6]"
      ]
     },
     "execution_count": 31,
     "metadata": {},
     "output_type": "execute_result"
    }
   ],
   "execution_count": 31
  },
  {
   "metadata": {
    "ExecuteTime": {
     "end_time": "2024-10-24T16:16:46.199822Z",
     "start_time": "2024-10-24T16:16:46.187763Z"
    }
   },
   "cell_type": "code",
   "source": "[x for y in p for x in y]",
   "id": "3f8f67d7e3b7dbe",
   "outputs": [
    {
     "data": {
      "text/plain": [
       "[1, 2, 3, 4, 5, 6]"
      ]
     },
     "execution_count": 34,
     "metadata": {},
     "output_type": "execute_result"
    }
   ],
   "execution_count": 34
  },
  {
   "metadata": {
    "ExecuteTime": {
     "end_time": "2024-10-24T16:20:33.990261Z",
     "start_time": "2024-10-24T16:20:33.975502Z"
    }
   },
   "cell_type": "code",
   "source": "[digit for digits in p for digit in digits]",
   "id": "b5f651defa019e09",
   "outputs": [
    {
     "data": {
      "text/plain": [
       "[1, 2, 3, 4, 5, 6]"
      ]
     },
     "execution_count": 35,
     "metadata": {},
     "output_type": "execute_result"
    }
   ],
   "execution_count": 35
  },
  {
   "metadata": {},
   "cell_type": "markdown",
   "source": [
    "### Dict comprehension\n",
    "\n",
    "```python\n",
    "\n",
    "\n",
    "d = {key: value for key, value in iterable[x, y]}\n",
    "\n",
    "d_2 = {key: None for key in iterable}\n",
    "\n",
    "\n",
    "```\n",
    "\n"
   ],
   "id": "b54b2d2e7c573c94"
  },
  {
   "metadata": {
    "ExecuteTime": {
     "end_time": "2024-10-24T16:33:32.416311Z",
     "start_time": "2024-10-24T16:33:32.407695Z"
    }
   },
   "cell_type": "code",
   "source": [
    "c = {\n",
    "    \"Poland\": \"Warsaw\",\n",
    "    \"France\": \"Paris\",\n",
    "    \"Germany\": \"Berlin\",\n",
    "    \"Italy\": \"Rome\",\n",
    "    \"Spain\": \"Madrid\",\n",
    "    \"United Kingdom\": \"London\",\n",
    "    \"Canada\": \"Ottawa\",\n",
    "    \"United States\": \"Washington, D.C.\",\n",
    "    \"Japan\": \"Tokyo\",\n",
    "    \"Australia\": \"Canberra\"\n",
    "}"
   ],
   "id": "31f84eb078200245",
   "outputs": [],
   "execution_count": 39
  },
  {
   "metadata": {
    "ExecuteTime": {
     "end_time": "2024-10-24T16:38:16.782444Z",
     "start_time": "2024-10-24T16:38:16.764314Z"
    }
   },
   "cell_type": "code",
   "source": [
    "d = {key.lower(): value.lower() for key, value in c.items()}\n",
    "d "
   ],
   "id": "4bd33a0375b03241",
   "outputs": [
    {
     "data": {
      "text/plain": [
       "{'poland': 'warsaw',\n",
       " 'france': 'paris',\n",
       " 'germany': 'berlin',\n",
       " 'italy': 'rome',\n",
       " 'spain': 'madrid',\n",
       " 'united kingdom': 'london',\n",
       " 'canada': 'ottawa',\n",
       " 'united states': 'washington, d.c.',\n",
       " 'japan': 'tokyo',\n",
       " 'australia': 'canberra'}"
      ]
     },
     "execution_count": 46,
     "metadata": {},
     "output_type": "execute_result"
    }
   ],
   "execution_count": 46
  },
  {
   "metadata": {
    "ExecuteTime": {
     "end_time": "2024-10-24T16:41:38.390492Z",
     "start_time": "2024-10-24T16:41:38.381328Z"
    }
   },
   "cell_type": "code",
   "source": "{ key: value for key, value in d.items() if 'y' in key}",
   "id": "e4002d7b94277793",
   "outputs": [
    {
     "data": {
      "text/plain": [
       "{'germany': 'berlin', 'italy': 'rome'}"
      ]
     },
     "execution_count": 48,
     "metadata": {},
     "output_type": "execute_result"
    }
   ],
   "execution_count": 48
  },
  {
   "metadata": {
    "ExecuteTime": {
     "end_time": "2024-10-24T16:44:55.097093Z",
     "start_time": "2024-10-24T16:44:55.089552Z"
    }
   },
   "cell_type": "code",
   "source": [
    "d['New Country'] = 'New Capital'\n",
    "d"
   ],
   "id": "3454ac14c6166585",
   "outputs": [
    {
     "data": {
      "text/plain": [
       "{'poland': 'warsaw',\n",
       " 'france': 'paris',\n",
       " 'germany': 'berlin',\n",
       " 'italy': 'rome',\n",
       " 'spain': 'madrid',\n",
       " 'united kingdom': 'london',\n",
       " 'canada': 'ottawa',\n",
       " 'united states': 'washington, d.c.',\n",
       " 'japan': 'tokyo',\n",
       " 'australia': 'canberra',\n",
       " 'New Country': 'New Capital'}"
      ]
     },
     "execution_count": 49,
     "metadata": {},
     "output_type": "execute_result"
    }
   ],
   "execution_count": 49
  },
  {
   "metadata": {
    "ExecuteTime": {
     "end_time": "2024-10-24T16:54:59.534193Z",
     "start_time": "2024-10-24T16:54:59.515148Z"
    }
   },
   "cell_type": "code",
   "source": "{value: key for value , key in d.items()}",
   "id": "e85c00a01d585443",
   "outputs": [
    {
     "data": {
      "text/plain": [
       "{'poland': 'warsaw',\n",
       " 'france': 'paris',\n",
       " 'germany': 'berlin',\n",
       " 'italy': 'rome',\n",
       " 'spain': 'madrid',\n",
       " 'united kingdom': 'london',\n",
       " 'canada': 'ottawa',\n",
       " 'united states': 'washington, d.c.',\n",
       " 'japan': 'tokyo',\n",
       " 'australia': 'canberra',\n",
       " 'New Country': 'New Capital'}"
      ]
     },
     "execution_count": 51,
     "metadata": {},
     "output_type": "execute_result"
    }
   ],
   "execution_count": 51
  },
  {
   "metadata": {
    "ExecuteTime": {
     "end_time": "2024-10-24T16:59:06.244952Z",
     "start_time": "2024-10-24T16:59:06.236779Z"
    }
   },
   "cell_type": "code",
   "source": [
    "letters = 'ABCDEF'\n",
    "rows = range(1, 25)"
   ],
   "id": "67b5df683cb025b8",
   "outputs": [],
   "execution_count": 53
  },
  {
   "metadata": {
    "ExecuteTime": {
     "end_time": "2024-10-24T17:09:59.656221Z",
     "start_time": "2024-10-24T17:09:59.650950Z"
    }
   },
   "cell_type": "code",
   "source": "seating_plan = [None] + [{letter: None for letter in letters} for _ in rows]",
   "id": "fe43ae64c73a884d",
   "outputs": [],
   "execution_count": 64
  },
  {
   "metadata": {
    "ExecuteTime": {
     "end_time": "2024-10-24T17:10:10.346162Z",
     "start_time": "2024-10-24T17:10:10.336331Z"
    }
   },
   "cell_type": "code",
   "source": "seating_plan[1]['B'] = 'Johny'",
   "id": "f7cfb80c17bff016",
   "outputs": [],
   "execution_count": 66
  },
  {
   "metadata": {
    "ExecuteTime": {
     "end_time": "2024-10-24T17:10:13.791804Z",
     "start_time": "2024-10-24T17:10:13.776313Z"
    }
   },
   "cell_type": "code",
   "source": "seating_plan",
   "id": "7d1500af188e86f0",
   "outputs": [
    {
     "data": {
      "text/plain": [
       "[None,\n",
       " {'A': None, 'B': 'Johny', 'C': None, 'D': None, 'E': None, 'F': None},\n",
       " {'A': None, 'B': None, 'C': None, 'D': None, 'E': None, 'F': None},\n",
       " {'A': None, 'B': None, 'C': None, 'D': None, 'E': None, 'F': None},\n",
       " {'A': None, 'B': None, 'C': None, 'D': None, 'E': None, 'F': None},\n",
       " {'A': None, 'B': None, 'C': None, 'D': None, 'E': None, 'F': None},\n",
       " {'A': None, 'B': None, 'C': None, 'D': None, 'E': None, 'F': None},\n",
       " {'A': None, 'B': None, 'C': None, 'D': None, 'E': None, 'F': None},\n",
       " {'A': None, 'B': None, 'C': None, 'D': None, 'E': None, 'F': None},\n",
       " {'A': None, 'B': None, 'C': None, 'D': None, 'E': None, 'F': None},\n",
       " {'A': None, 'B': None, 'C': None, 'D': None, 'E': None, 'F': None},\n",
       " {'A': None, 'B': None, 'C': None, 'D': None, 'E': None, 'F': None},\n",
       " {'A': None, 'B': None, 'C': None, 'D': None, 'E': None, 'F': None},\n",
       " {'A': None, 'B': None, 'C': None, 'D': None, 'E': None, 'F': None},\n",
       " {'A': None, 'B': None, 'C': None, 'D': None, 'E': None, 'F': None},\n",
       " {'A': None, 'B': None, 'C': None, 'D': None, 'E': None, 'F': None},\n",
       " {'A': None, 'B': None, 'C': None, 'D': None, 'E': None, 'F': None},\n",
       " {'A': None, 'B': None, 'C': None, 'D': None, 'E': None, 'F': None},\n",
       " {'A': None, 'B': None, 'C': None, 'D': None, 'E': None, 'F': None},\n",
       " {'A': None, 'B': None, 'C': None, 'D': None, 'E': None, 'F': None},\n",
       " {'A': None, 'B': None, 'C': None, 'D': None, 'E': None, 'F': None},\n",
       " {'A': None, 'B': None, 'C': None, 'D': None, 'E': None, 'F': None},\n",
       " {'A': None, 'B': None, 'C': None, 'D': None, 'E': None, 'F': None},\n",
       " {'A': None, 'B': None, 'C': None, 'D': None, 'E': None, 'F': None},\n",
       " {'A': None, 'B': None, 'C': None, 'D': None, 'E': None, 'F': None}]"
      ]
     },
     "execution_count": 67,
     "metadata": {},
     "output_type": "execute_result"
    }
   ],
   "execution_count": 67
  },
  {
   "metadata": {
    "ExecuteTime": {
     "end_time": "2024-10-28T12:39:37.960724Z",
     "start_time": "2024-10-28T12:39:37.950335Z"
    }
   },
   "cell_type": "code",
   "source": [
    "j = ['I will not swearing' for t in range(100)]\n",
    "j"
   ],
   "id": "e502bc762f217677",
   "outputs": [
    {
     "data": {
      "text/plain": [
       "['I will not swearing',\n",
       " 'I will not swearing',\n",
       " 'I will not swearing',\n",
       " 'I will not swearing',\n",
       " 'I will not swearing',\n",
       " 'I will not swearing',\n",
       " 'I will not swearing',\n",
       " 'I will not swearing',\n",
       " 'I will not swearing',\n",
       " 'I will not swearing',\n",
       " 'I will not swearing',\n",
       " 'I will not swearing',\n",
       " 'I will not swearing',\n",
       " 'I will not swearing',\n",
       " 'I will not swearing',\n",
       " 'I will not swearing',\n",
       " 'I will not swearing',\n",
       " 'I will not swearing',\n",
       " 'I will not swearing',\n",
       " 'I will not swearing',\n",
       " 'I will not swearing',\n",
       " 'I will not swearing',\n",
       " 'I will not swearing',\n",
       " 'I will not swearing',\n",
       " 'I will not swearing',\n",
       " 'I will not swearing',\n",
       " 'I will not swearing',\n",
       " 'I will not swearing',\n",
       " 'I will not swearing',\n",
       " 'I will not swearing',\n",
       " 'I will not swearing',\n",
       " 'I will not swearing',\n",
       " 'I will not swearing',\n",
       " 'I will not swearing',\n",
       " 'I will not swearing',\n",
       " 'I will not swearing',\n",
       " 'I will not swearing',\n",
       " 'I will not swearing',\n",
       " 'I will not swearing',\n",
       " 'I will not swearing',\n",
       " 'I will not swearing',\n",
       " 'I will not swearing',\n",
       " 'I will not swearing',\n",
       " 'I will not swearing',\n",
       " 'I will not swearing',\n",
       " 'I will not swearing',\n",
       " 'I will not swearing',\n",
       " 'I will not swearing',\n",
       " 'I will not swearing',\n",
       " 'I will not swearing',\n",
       " 'I will not swearing',\n",
       " 'I will not swearing',\n",
       " 'I will not swearing',\n",
       " 'I will not swearing',\n",
       " 'I will not swearing',\n",
       " 'I will not swearing',\n",
       " 'I will not swearing',\n",
       " 'I will not swearing',\n",
       " 'I will not swearing',\n",
       " 'I will not swearing',\n",
       " 'I will not swearing',\n",
       " 'I will not swearing',\n",
       " 'I will not swearing',\n",
       " 'I will not swearing',\n",
       " 'I will not swearing',\n",
       " 'I will not swearing',\n",
       " 'I will not swearing',\n",
       " 'I will not swearing',\n",
       " 'I will not swearing',\n",
       " 'I will not swearing',\n",
       " 'I will not swearing',\n",
       " 'I will not swearing',\n",
       " 'I will not swearing',\n",
       " 'I will not swearing',\n",
       " 'I will not swearing',\n",
       " 'I will not swearing',\n",
       " 'I will not swearing',\n",
       " 'I will not swearing',\n",
       " 'I will not swearing',\n",
       " 'I will not swearing',\n",
       " 'I will not swearing',\n",
       " 'I will not swearing',\n",
       " 'I will not swearing',\n",
       " 'I will not swearing',\n",
       " 'I will not swearing',\n",
       " 'I will not swearing',\n",
       " 'I will not swearing',\n",
       " 'I will not swearing',\n",
       " 'I will not swearing',\n",
       " 'I will not swearing',\n",
       " 'I will not swearing',\n",
       " 'I will not swearing',\n",
       " 'I will not swearing',\n",
       " 'I will not swearing',\n",
       " 'I will not swearing',\n",
       " 'I will not swearing',\n",
       " 'I will not swearing',\n",
       " 'I will not swearing',\n",
       " 'I will not swearing',\n",
       " 'I will not swearing']"
      ]
     },
     "execution_count": 4,
     "metadata": {},
     "output_type": "execute_result"
    }
   ],
   "execution_count": 4
  },
  {
   "metadata": {
    "ExecuteTime": {
     "end_time": "2024-10-28T16:19:18.070342Z",
     "start_time": "2024-10-28T16:19:18.066076Z"
    }
   },
   "cell_type": "code",
   "source": [
    "def magic(*args, **kwargs):\n",
    "    print(args)\n",
    "    print(kwargs)\n",
    "    print(type(args))\n",
    "    print(type(kwargs))"
   ],
   "id": "ac7414dcb55c574c",
   "outputs": [],
   "execution_count": 14
  },
  {
   "metadata": {
    "ExecuteTime": {
     "end_time": "2024-10-28T16:19:20.640867Z",
     "start_time": "2024-10-28T16:19:20.637460Z"
    }
   },
   "cell_type": "code",
   "source": "magic(1, 2, 3, a=4, b=5, c=6, d=7, e=8, f=9, g=10)\n",
   "id": "7117c3a5bd04d6df",
   "outputs": [
    {
     "name": "stdout",
     "output_type": "stream",
     "text": [
      "(1, 2, 3)\n",
      "{'a': 4, 'b': 5, 'c': 6, 'd': 7, 'e': 8, 'f': 9, 'g': 10}\n",
      "<class 'tuple'>\n",
      "<class 'dict'>\n"
     ]
    }
   ],
   "execution_count": 15
  },
  {
   "metadata": {
    "ExecuteTime": {
     "end_time": "2024-10-28T16:25:03.861765Z",
     "start_time": "2024-10-28T16:25:03.857540Z"
    }
   },
   "cell_type": "code",
   "source": [
    "def my_magic(start, *digits):\n",
    "    return max(digits[start:])"
   ],
   "id": "867187817929bef0",
   "outputs": [],
   "execution_count": 16
  },
  {
   "metadata": {
    "ExecuteTime": {
     "end_time": "2024-10-28T16:25:38.408201Z",
     "start_time": "2024-10-28T16:25:38.402560Z"
    }
   },
   "cell_type": "code",
   "source": "my_magic(4, 1, 2, 3, 4, 5, 6, 7, 8, 9, 10)",
   "id": "f8b548cfbf1c3420",
   "outputs": [
    {
     "data": {
      "text/plain": [
       "10"
      ]
     },
     "execution_count": 17,
     "metadata": {},
     "output_type": "execute_result"
    }
   ],
   "execution_count": 17
  },
  {
   "metadata": {
    "ExecuteTime": {
     "end_time": "2024-10-28T16:33:36.736964Z",
     "start_time": "2024-10-28T16:33:36.732089Z"
    }
   },
   "cell_type": "code",
   "source": [
    "def my_magic_2(start, *digits, operator):\n",
    "    operators = {\n",
    "        'min' : min,\n",
    "        'max' : max\n",
    "    }\n",
    "    return operators[operator](digits[start:])"
   ],
   "id": "6abbd1e7efe2956d",
   "outputs": [],
   "execution_count": 18
  },
  {
   "metadata": {
    "ExecuteTime": {
     "end_time": "2024-10-28T16:34:30.880478Z",
     "start_time": "2024-10-28T16:34:30.873180Z"
    }
   },
   "cell_type": "code",
   "source": "my_magic_2(4, 1, 2, 3, 4987, 5, 6, 79098, 8, 9, 10, operator='min')",
   "id": "fd51a4818e4834b9",
   "outputs": [
    {
     "data": {
      "text/plain": [
       "5"
      ]
     },
     "execution_count": 20,
     "metadata": {},
     "output_type": "execute_result"
    }
   ],
   "execution_count": 20
  },
  {
   "metadata": {
    "ExecuteTime": {
     "end_time": "2024-10-28T16:38:17.492717Z",
     "start_time": "2024-10-28T16:38:17.486234Z"
    }
   },
   "cell_type": "code",
   "outputs": [
    {
     "data": {
      "text/plain": [
       "25"
      ]
     },
     "execution_count": 22,
     "metadata": {},
     "output_type": "execute_result"
    }
   ],
   "execution_count": 22,
   "source": [
    "import operator\n",
    "\n",
    "t = operator.add(3, 5)\n",
    "t"
   ],
   "id": "244ec817275572c7"
  },
  {
   "metadata": {
    "ExecuteTime": {
     "end_time": "2024-10-28T16:38:45.488276Z",
     "start_time": "2024-10-28T16:38:45.483195Z"
    }
   },
   "cell_type": "code",
   "source": [
    "g = operator.mul(5, 5)\n",
    "g"
   ],
   "id": "70de2ee8d73721fa",
   "outputs": [
    {
     "data": {
      "text/plain": [
       "25"
      ]
     },
     "execution_count": 23,
     "metadata": {},
     "output_type": "execute_result"
    }
   ],
   "execution_count": 23
  },
  {
   "metadata": {
    "ExecuteTime": {
     "end_time": "2024-10-28T16:39:45.981173Z",
     "start_time": "2024-10-28T16:39:45.971873Z"
    }
   },
   "cell_type": "code",
   "source": [
    "g = operator.abs(-5)\n",
    "g"
   ],
   "id": "a5c4d48ef03f419d",
   "outputs": [
    {
     "data": {
      "text/plain": [
       "5"
      ]
     },
     "execution_count": 25,
     "metadata": {},
     "output_type": "execute_result"
    }
   ],
   "execution_count": 25
  },
  {
   "metadata": {
    "ExecuteTime": {
     "end_time": "2024-10-29T18:51:33.377090Z",
     "start_time": "2024-10-29T18:51:33.373091Z"
    }
   },
   "cell_type": "code",
   "source": [
    "def solution(value):\n",
    "    return f'Value is {str(value).zfill(5)}'"
   ],
   "id": "235ad7892c83ab7c",
   "outputs": [],
   "execution_count": 8
  },
  {
   "metadata": {
    "ExecuteTime": {
     "end_time": "2024-10-29T18:51:36.494342Z",
     "start_time": "2024-10-29T18:51:36.487887Z"
    }
   },
   "cell_type": "code",
   "source": "solution(5)",
   "id": "8281b46403008aa4",
   "outputs": [
    {
     "data": {
      "text/plain": [
       "'Value is 00005'"
      ]
     },
     "execution_count": 9,
     "metadata": {},
     "output_type": "execute_result"
    }
   ],
   "execution_count": 9
  },
  {
   "metadata": {},
   "cell_type": "code",
   "outputs": [],
   "execution_count": null,
   "source": "",
   "id": "b55f9e7ffa072b7f"
  }
 ],
 "metadata": {
  "kernelspec": {
   "display_name": "Python 3",
   "language": "python",
   "name": "python3"
  },
  "language_info": {
   "codemirror_mode": {
    "name": "ipython",
    "version": 2
   },
   "file_extension": ".py",
   "mimetype": "text/x-python",
   "name": "python",
   "nbconvert_exporter": "python",
   "pygments_lexer": "ipython2",
   "version": "2.7.6"
  }
 },
 "nbformat": 4,
 "nbformat_minor": 5
}
