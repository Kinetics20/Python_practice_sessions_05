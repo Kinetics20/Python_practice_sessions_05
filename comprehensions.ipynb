{
 "cells": [
  {
   "metadata": {},
   "cell_type": "markdown",
   "source": [
    "# Comprehensions\n",
    "\n",
    "1. List comprehension\n",
    "2. set comprehension\n",
    "3. dict comprehension\n",
    "4. generator expression\n",
    "\n",
    "\n",
    "```python\n",
    "\n",
    "\n",
    "```"
   ],
   "id": "253a6c29f9717f23"
  },
  {
   "metadata": {},
   "cell_type": "markdown",
   "source": [
    "## List comprehension\n",
    "\n",
    "```python\n",
    "\n",
    "[item for item in iterable if condition ]\n",
    "[mapping for element in iterable if filtering]\n",
    "\n",
    "```\n"
   ],
   "id": "1ef6ef94f1819d79"
  },
  {
   "metadata": {
    "ExecuteTime": {
     "end_time": "2025-08-05T19:12:07.306771Z",
     "start_time": "2025-08-05T19:12:07.302836Z"
    }
   },
   "cell_type": "code",
   "source": "data = [1, 2, 3, 4, 5, 6, 7, 8, 9, 10]",
   "id": "638a68acd71b410e",
   "outputs": [],
   "execution_count": 2
  },
  {
   "metadata": {
    "ExecuteTime": {
     "end_time": "2025-08-05T19:12:07.413061Z",
     "start_time": "2025-08-05T19:12:07.396813Z"
    }
   },
   "cell_type": "code",
   "source": "[i * 2 for i in data]",
   "id": "7f923736a7764845",
   "outputs": [
    {
     "data": {
      "text/plain": [
       "[2, 4, 6, 8, 10, 12, 14, 16, 18, 20]"
      ]
     },
     "execution_count": 3,
     "metadata": {},
     "output_type": "execute_result"
    }
   ],
   "execution_count": 3
  },
  {
   "metadata": {
    "ExecuteTime": {
     "end_time": "2025-08-05T19:12:07.576787Z",
     "start_time": "2025-08-05T19:12:07.570789Z"
    }
   },
   "cell_type": "code",
   "source": [
    "# even !!!!!!!!!!!!\n",
    "[i for i in data if not i & 1]"
   ],
   "id": "8d9b5b9b414a16e0",
   "outputs": [
    {
     "data": {
      "text/plain": [
       "[2, 4, 6, 8, 10]"
      ]
     },
     "execution_count": 4,
     "metadata": {},
     "output_type": "execute_result"
    }
   ],
   "execution_count": 4
  },
  {
   "metadata": {
    "ExecuteTime": {
     "end_time": "2025-08-05T19:12:07.699044Z",
     "start_time": "2025-08-05T19:12:07.687536Z"
    }
   },
   "cell_type": "code",
   "source": [
    "# odd !!!!!!!!!!!!\n",
    "[i for i in data if i & 1]"
   ],
   "id": "8c3c406e8121f136",
   "outputs": [
    {
     "data": {
      "text/plain": [
       "[1, 3, 5, 7, 9]"
      ]
     },
     "execution_count": 5,
     "metadata": {},
     "output_type": "execute_result"
    }
   ],
   "execution_count": 5
  },
  {
   "metadata": {
    "ExecuteTime": {
     "end_time": "2025-08-05T19:12:07.818109Z",
     "start_time": "2025-08-05T19:12:07.805838Z"
    }
   },
   "cell_type": "code",
   "source": [
    "h = []\n",
    "for i in data:\n",
    "    # i *= 2\n",
    "    h.append(i * 2)\n",
    "print(h)"
   ],
   "id": "619d15771b79e454",
   "outputs": [
    {
     "name": "stdout",
     "output_type": "stream",
     "text": [
      "[2, 4, 6, 8, 10, 12, 14, 16, 18, 20]\n"
     ]
    }
   ],
   "execution_count": 6
  },
  {
   "metadata": {
    "ExecuteTime": {
     "end_time": "2025-08-05T19:12:07.933118Z",
     "start_time": "2025-08-05T19:12:07.924432Z"
    }
   },
   "cell_type": "code",
   "source": "list(map(lambda x: x ** 2, data))",
   "id": "8a735e1716a7541d",
   "outputs": [
    {
     "data": {
      "text/plain": [
       "[1, 4, 9, 16, 25, 36, 49, 64, 81, 100]"
      ]
     },
     "execution_count": 7,
     "metadata": {},
     "output_type": "execute_result"
    }
   ],
   "execution_count": 7
  },
  {
   "metadata": {
    "ExecuteTime": {
     "end_time": "2025-08-05T19:12:08.064391Z",
     "start_time": "2025-08-05T19:12:08.052823Z"
    }
   },
   "cell_type": "code",
   "source": "%lsmagic",
   "id": "1b46e23a9bf641ad",
   "outputs": [
    {
     "data": {
      "text/plain": [
       "Available line magics:\n",
       "%alias  %alias_magic  %autoawait  %autocall  %automagic  %autosave  %bookmark  %cat  %cd  %clear  %code_wrap  %colors  %conda  %config  %connect_info  %cp  %debug  %dhist  %dirs  %doctest_mode  %ed  %edit  %env  %gui  %hist  %history  %killbgscripts  %ldir  %less  %lf  %lk  %ll  %load  %load_ext  %loadpy  %logoff  %logon  %logstart  %logstate  %logstop  %ls  %lsmagic  %lx  %macro  %magic  %mamba  %man  %matplotlib  %micromamba  %mkdir  %more  %mv  %notebook  %page  %pastebin  %pdb  %pdef  %pdoc  %pfile  %pinfo  %pinfo2  %pip  %popd  %pprint  %precision  %prun  %psearch  %psource  %pushd  %pwd  %pycat  %pylab  %qtconsole  %quickref  %recall  %rehashx  %reload_ext  %rep  %rerun  %reset  %reset_selective  %rm  %rmdir  %run  %save  %sc  %set_env  %store  %sx  %system  %tb  %time  %timeit  %unalias  %unload_ext  %uv  %who  %who_ls  %whos  %xdel  %xmode\n",
       "\n",
       "Available cell magics:\n",
       "%%!  %%HTML  %%SVG  %%bash  %%capture  %%code_wrap  %%debug  %%file  %%html  %%javascript  %%js  %%latex  %%markdown  %%perl  %%prun  %%pypy  %%python  %%python2  %%python3  %%ruby  %%script  %%sh  %%svg  %%sx  %%system  %%time  %%timeit  %%writefile\n",
       "\n",
       "Automagic is ON, % prefix IS NOT needed for line magics."
      ],
      "application/json": {
       "line": {
        "automagic": "AutoMagics",
        "autocall": "AutoMagics",
        "alias_magic": "BasicMagics",
        "lsmagic": "BasicMagics",
        "magic": "BasicMagics",
        "page": "BasicMagics",
        "pprint": "BasicMagics",
        "colors": "BasicMagics",
        "xmode": "BasicMagics",
        "quickref": "BasicMagics",
        "doctest_mode": "BasicMagics",
        "gui": "BasicMagics",
        "precision": "BasicMagics",
        "notebook": "BasicMagics",
        "save": "CodeMagics",
        "pastebin": "CodeMagics",
        "loadpy": "CodeMagics",
        "load": "CodeMagics",
        "edit": "KernelMagics",
        "config": "ConfigMagics",
        "prun": "ExecutionMagics",
        "pdb": "ExecutionMagics",
        "debug": "ExecutionMagics",
        "tb": "ExecutionMagics",
        "run": "ExecutionMagics",
        "timeit": "ExecutionMagics",
        "time": "ExecutionMagics",
        "macro": "ExecutionMagics",
        "code_wrap": "ExecutionMagics",
        "load_ext": "ExtensionMagics",
        "unload_ext": "ExtensionMagics",
        "reload_ext": "ExtensionMagics",
        "history": "HistoryMagics",
        "recall": "HistoryMagics",
        "rerun": "HistoryMagics",
        "logstart": "LoggingMagics",
        "logstop": "LoggingMagics",
        "logoff": "LoggingMagics",
        "logon": "LoggingMagics",
        "logstate": "LoggingMagics",
        "pinfo": "NamespaceMagics",
        "pinfo2": "NamespaceMagics",
        "pdef": "NamespaceMagics",
        "pdoc": "NamespaceMagics",
        "psource": "NamespaceMagics",
        "pfile": "NamespaceMagics",
        "psearch": "NamespaceMagics",
        "who_ls": "NamespaceMagics",
        "who": "NamespaceMagics",
        "whos": "NamespaceMagics",
        "reset": "NamespaceMagics",
        "reset_selective": "NamespaceMagics",
        "xdel": "NamespaceMagics",
        "alias": "OSMagics",
        "unalias": "OSMagics",
        "rehashx": "OSMagics",
        "pwd": "OSMagics",
        "cd": "OSMagics",
        "env": "OSMagics",
        "set_env": "OSMagics",
        "pushd": "OSMagics",
        "popd": "OSMagics",
        "dirs": "OSMagics",
        "dhist": "OSMagics",
        "sc": "OSMagics",
        "sx": "OSMagics",
        "system": "OSMagics",
        "bookmark": "OSMagics",
        "pycat": "OSMagics",
        "pip": "PackagingMagics",
        "conda": "PackagingMagics",
        "mamba": "PackagingMagics",
        "micromamba": "PackagingMagics",
        "uv": "PackagingMagics",
        "matplotlib": "PylabMagics",
        "pylab": "PylabMagics",
        "killbgscripts": "ScriptMagics",
        "autoawait": "AsyncMagics",
        "ed": "Other",
        "hist": "Other",
        "rep": "Other",
        "clear": "KernelMagics",
        "less": "KernelMagics",
        "more": "KernelMagics",
        "man": "KernelMagics",
        "connect_info": "KernelMagics",
        "qtconsole": "KernelMagics",
        "autosave": "KernelMagics",
        "mkdir": "Other",
        "rmdir": "Other",
        "mv": "Other",
        "rm": "Other",
        "cp": "Other",
        "cat": "Other",
        "ls": "Other",
        "ll": "Other",
        "lf": "Other",
        "lk": "Other",
        "ldir": "Other",
        "lx": "Other",
        "store": "StoreMagics"
       },
       "cell": {
        "js": "DisplayMagics",
        "javascript": "DisplayMagics",
        "latex": "DisplayMagics",
        "svg": "DisplayMagics",
        "html": "DisplayMagics",
        "markdown": "DisplayMagics",
        "prun": "ExecutionMagics",
        "debug": "ExecutionMagics",
        "timeit": "ExecutionMagics",
        "time": "ExecutionMagics",
        "capture": "ExecutionMagics",
        "code_wrap": "ExecutionMagics",
        "sx": "OSMagics",
        "system": "OSMagics",
        "!": "OSMagics",
        "writefile": "OSMagics",
        "script": "ScriptMagics",
        "sh": "Other",
        "bash": "Other",
        "perl": "Other",
        "ruby": "Other",
        "python": "Other",
        "python2": "Other",
        "python3": "Other",
        "pypy": "Other",
        "SVG": "Other",
        "HTML": "Other",
        "file": "Other"
       }
      }
     },
     "execution_count": 8,
     "metadata": {},
     "output_type": "execute_result"
    }
   ],
   "execution_count": 8
  },
  {
   "metadata": {
    "ExecuteTime": {
     "end_time": "2025-08-05T19:12:11.546831Z",
     "start_time": "2025-08-05T19:12:08.230297Z"
    }
   },
   "cell_type": "code",
   "source": [
    "%%timeit\n",
    "[i for i in data if not i & 1]\n"
   ],
   "id": "560f5347c7456933",
   "outputs": [
    {
     "name": "stdout",
     "output_type": "stream",
     "text": [
      "393 ns ± 5.96 ns per loop (mean ± std. dev. of 7 runs, 1,000,000 loops each)\n"
     ]
    }
   ],
   "execution_count": 9
  },
  {
   "metadata": {
    "ExecuteTime": {
     "end_time": "2025-08-05T19:12:19.550530Z",
     "start_time": "2025-08-05T19:12:11.619089Z"
    }
   },
   "cell_type": "code",
   "source": [
    "%%timeit\n",
    "list(map(lambda x: x ** 2, data))"
   ],
   "id": "2e22d387881f5223",
   "outputs": [
    {
     "name": "stdout",
     "output_type": "stream",
     "text": [
      "962 ns ± 5.46 ns per loop (mean ± std. dev. of 7 runs, 1,000,000 loops each)\n"
     ]
    }
   ],
   "execution_count": 10
  },
  {
   "metadata": {
    "ExecuteTime": {
     "end_time": "2025-08-05T19:12:19.631159Z",
     "start_time": "2025-08-05T19:12:19.622544Z"
    }
   },
   "cell_type": "code",
   "source": "data = [1, 2, 3, 4, 5, 6, 7, 8, 9, 10]",
   "id": "459403399dd9820b",
   "outputs": [],
   "execution_count": 11
  },
  {
   "metadata": {
    "ExecuteTime": {
     "end_time": "2025-08-05T19:12:19.695072Z",
     "start_time": "2025-08-05T19:12:19.688723Z"
    }
   },
   "cell_type": "code",
   "source": "[i * 2 for i in data if not i & 1]",
   "id": "782c9151453a2341",
   "outputs": [
    {
     "data": {
      "text/plain": [
       "[4, 8, 12, 16, 20]"
      ]
     },
     "execution_count": 12,
     "metadata": {},
     "output_type": "execute_result"
    }
   ],
   "execution_count": 12
  },
  {
   "metadata": {
    "ExecuteTime": {
     "end_time": "2025-08-05T19:12:19.783916Z",
     "start_time": "2025-08-05T19:12:19.777142Z"
    }
   },
   "cell_type": "code",
   "source": "[i * 2 for i in data if not i % 2]",
   "id": "2b0e613b5d2aefc2",
   "outputs": [
    {
     "data": {
      "text/plain": [
       "[4, 8, 12, 16, 20]"
      ]
     },
     "execution_count": 13,
     "metadata": {},
     "output_type": "execute_result"
    }
   ],
   "execution_count": 13
  },
  {
   "metadata": {
    "ExecuteTime": {
     "end_time": "2025-08-05T19:12:19.863326Z",
     "start_time": "2025-08-05T19:12:19.854743Z"
    }
   },
   "cell_type": "code",
   "source": [
    "new_odd_lst =[]\n",
    "for i in data:\n",
    "    # if i % 2 == 0:\n",
    "    # if not i % 2 :\n",
    "    if not i & 1:\n",
    "        new_odd_lst.append(i * 2)\n",
    "print(new_odd_lst)"
   ],
   "id": "5bab5b11178dd948",
   "outputs": [
    {
     "name": "stdout",
     "output_type": "stream",
     "text": [
      "[4, 8, 12, 16, 20]\n"
     ]
    }
   ],
   "execution_count": 14
  },
  {
   "metadata": {
    "ExecuteTime": {
     "end_time": "2025-08-05T19:12:19.949639Z",
     "start_time": "2025-08-05T19:12:19.939858Z"
    }
   },
   "cell_type": "code",
   "source": "p = [[1, 2], [3, 4], [5, 6]]",
   "id": "3b433e193911c7b5",
   "outputs": [],
   "execution_count": 15
  },
  {
   "metadata": {
    "ExecuteTime": {
     "end_time": "2025-08-05T19:12:20.012674Z",
     "start_time": "2025-08-05T19:12:19.999778Z"
    }
   },
   "cell_type": "code",
   "source": "[[x * 3, y * 3] for x , y in p ]",
   "id": "8227b6e53af1943f",
   "outputs": [
    {
     "data": {
      "text/plain": [
       "[[3, 6], [9, 12], [15, 18]]"
      ]
     },
     "execution_count": 16,
     "metadata": {},
     "output_type": "execute_result"
    }
   ],
   "execution_count": 16
  },
  {
   "metadata": {
    "ExecuteTime": {
     "end_time": "2025-08-05T19:12:20.104222Z",
     "start_time": "2025-08-05T19:12:20.088807Z"
    }
   },
   "cell_type": "code",
   "source": "[[digit * 3 for digit in digits] for digits in p]",
   "id": "ad2f0da4028d56a8",
   "outputs": [
    {
     "data": {
      "text/plain": [
       "[[3, 6], [9, 12], [15, 18]]"
      ]
     },
     "execution_count": 17,
     "metadata": {},
     "output_type": "execute_result"
    }
   ],
   "execution_count": 17
  },
  {
   "metadata": {
    "ExecuteTime": {
     "end_time": "2025-08-05T19:12:24.363434Z",
     "start_time": "2025-08-05T19:12:20.179262Z"
    }
   },
   "cell_type": "code",
   "source": [
    "%%timeit\n",
    "[[digit * 3 for digit in digits] for digits in p]"
   ],
   "id": "fb150aa83cd0fea5",
   "outputs": [
    {
     "name": "stdout",
     "output_type": "stream",
     "text": [
      "504 ns ± 5.38 ns per loop (mean ± std. dev. of 7 runs, 1,000,000 loops each)\n"
     ]
    }
   ],
   "execution_count": 18
  },
  {
   "metadata": {
    "ExecuteTime": {
     "end_time": "2025-08-05T19:12:26.912771Z",
     "start_time": "2025-08-05T19:12:24.436768Z"
    }
   },
   "cell_type": "code",
   "source": [
    "%%timeit\n",
    "[[x * 3, y * 3] for x , y in p ]"
   ],
   "id": "265e2ff2997bd1dd",
   "outputs": [
    {
     "name": "stdout",
     "output_type": "stream",
     "text": [
      "294 ns ± 6.17 ns per loop (mean ± std. dev. of 7 runs, 1,000,000 loops each)\n"
     ]
    }
   ],
   "execution_count": 19
  },
  {
   "metadata": {
    "ExecuteTime": {
     "end_time": "2025-08-05T19:12:27.028412Z",
     "start_time": "2025-08-05T19:12:27.020261Z"
    }
   },
   "cell_type": "code",
   "source": [
    "# flat\n",
    "\n",
    "data2 = []\n",
    "\n",
    "for digits in p:\n",
    "    for digit in digits:\n",
    "        data2.append(digit)\n",
    "\n",
    "data2\n"
   ],
   "id": "160ac49b33e91712",
   "outputs": [
    {
     "data": {
      "text/plain": [
       "[1, 2, 3, 4, 5, 6]"
      ]
     },
     "execution_count": 20,
     "metadata": {},
     "output_type": "execute_result"
    }
   ],
   "execution_count": 20
  },
  {
   "metadata": {
    "ExecuteTime": {
     "end_time": "2025-08-05T19:12:27.159027Z",
     "start_time": "2025-08-05T19:12:27.148502Z"
    }
   },
   "cell_type": "code",
   "source": "[x for y in p for x in y]",
   "id": "3f8f67d7e3b7dbe",
   "outputs": [
    {
     "data": {
      "text/plain": [
       "[1, 2, 3, 4, 5, 6]"
      ]
     },
     "execution_count": 21,
     "metadata": {},
     "output_type": "execute_result"
    }
   ],
   "execution_count": 21
  },
  {
   "metadata": {
    "ExecuteTime": {
     "end_time": "2025-08-05T19:12:27.285299Z",
     "start_time": "2025-08-05T19:12:27.274192Z"
    }
   },
   "cell_type": "code",
   "source": "[digit for digits in p for digit in digits]",
   "id": "b5f651defa019e09",
   "outputs": [
    {
     "data": {
      "text/plain": [
       "[1, 2, 3, 4, 5, 6]"
      ]
     },
     "execution_count": 22,
     "metadata": {},
     "output_type": "execute_result"
    }
   ],
   "execution_count": 22
  },
  {
   "metadata": {},
   "cell_type": "markdown",
   "source": [
    "### Dict comprehension\n",
    "\n",
    "```python\n",
    "\n",
    "\n",
    "d = {key: value for key, value in iterable[x, y]}\n",
    "\n",
    "d_2 = {key: None for key in iterable}\n",
    "\n",
    "\n",
    "```\n",
    "\n"
   ],
   "id": "b54b2d2e7c573c94"
  },
  {
   "metadata": {
    "ExecuteTime": {
     "end_time": "2025-08-05T19:12:27.373334Z",
     "start_time": "2025-08-05T19:12:27.368023Z"
    }
   },
   "cell_type": "code",
   "source": [
    "c = {\n",
    "    \"Poland\": \"Warsaw\",\n",
    "    \"France\": \"Paris\",\n",
    "    \"Germany\": \"Berlin\",\n",
    "    \"Italy\": \"Rome\",\n",
    "    \"Spain\": \"Madrid\",\n",
    "    \"United Kingdom\": \"London\",\n",
    "    \"Canada\": \"Ottawa\",\n",
    "    \"United States\": \"Washington, D.C.\",\n",
    "    \"Japan\": \"Tokyo\",\n",
    "    \"Australia\": \"Canberra\"\n",
    "}"
   ],
   "id": "31f84eb078200245",
   "outputs": [],
   "execution_count": 23
  },
  {
   "metadata": {
    "ExecuteTime": {
     "end_time": "2025-08-05T19:12:27.460588Z",
     "start_time": "2025-08-05T19:12:27.452252Z"
    }
   },
   "cell_type": "code",
   "source": [
    "d = {key.lower(): value.lower() for key, value in c.items()}\n",
    "d "
   ],
   "id": "4bd33a0375b03241",
   "outputs": [
    {
     "data": {
      "text/plain": [
       "{'poland': 'warsaw',\n",
       " 'france': 'paris',\n",
       " 'germany': 'berlin',\n",
       " 'italy': 'rome',\n",
       " 'spain': 'madrid',\n",
       " 'united kingdom': 'london',\n",
       " 'canada': 'ottawa',\n",
       " 'united states': 'washington, d.c.',\n",
       " 'japan': 'tokyo',\n",
       " 'australia': 'canberra'}"
      ]
     },
     "execution_count": 24,
     "metadata": {},
     "output_type": "execute_result"
    }
   ],
   "execution_count": 24
  },
  {
   "metadata": {
    "ExecuteTime": {
     "end_time": "2025-08-05T19:12:27.528312Z",
     "start_time": "2025-08-05T19:12:27.520934Z"
    }
   },
   "cell_type": "code",
   "source": "{ key: value for key, value in d.items() if 'y' in key}",
   "id": "e4002d7b94277793",
   "outputs": [
    {
     "data": {
      "text/plain": [
       "{'germany': 'berlin', 'italy': 'rome'}"
      ]
     },
     "execution_count": 25,
     "metadata": {},
     "output_type": "execute_result"
    }
   ],
   "execution_count": 25
  },
  {
   "metadata": {
    "ExecuteTime": {
     "end_time": "2025-08-05T19:12:27.649135Z",
     "start_time": "2025-08-05T19:12:27.636650Z"
    }
   },
   "cell_type": "code",
   "source": [
    "d['New Country'] = 'New Capital'\n",
    "d"
   ],
   "id": "3454ac14c6166585",
   "outputs": [
    {
     "data": {
      "text/plain": [
       "{'poland': 'warsaw',\n",
       " 'france': 'paris',\n",
       " 'germany': 'berlin',\n",
       " 'italy': 'rome',\n",
       " 'spain': 'madrid',\n",
       " 'united kingdom': 'london',\n",
       " 'canada': 'ottawa',\n",
       " 'united states': 'washington, d.c.',\n",
       " 'japan': 'tokyo',\n",
       " 'australia': 'canberra',\n",
       " 'New Country': 'New Capital'}"
      ]
     },
     "execution_count": 26,
     "metadata": {},
     "output_type": "execute_result"
    }
   ],
   "execution_count": 26
  },
  {
   "metadata": {
    "ExecuteTime": {
     "end_time": "2025-08-05T19:12:27.730046Z",
     "start_time": "2025-08-05T19:12:27.713999Z"
    }
   },
   "cell_type": "code",
   "source": "{value: key for value , key in d.items()}",
   "id": "e85c00a01d585443",
   "outputs": [
    {
     "data": {
      "text/plain": [
       "{'poland': 'warsaw',\n",
       " 'france': 'paris',\n",
       " 'germany': 'berlin',\n",
       " 'italy': 'rome',\n",
       " 'spain': 'madrid',\n",
       " 'united kingdom': 'london',\n",
       " 'canada': 'ottawa',\n",
       " 'united states': 'washington, d.c.',\n",
       " 'japan': 'tokyo',\n",
       " 'australia': 'canberra',\n",
       " 'New Country': 'New Capital'}"
      ]
     },
     "execution_count": 27,
     "metadata": {},
     "output_type": "execute_result"
    }
   ],
   "execution_count": 27
  },
  {
   "metadata": {
    "ExecuteTime": {
     "end_time": "2025-08-05T19:12:27.826078Z",
     "start_time": "2025-08-05T19:12:27.820105Z"
    }
   },
   "cell_type": "code",
   "source": [
    "letters = 'ABCDEF'\n",
    "rows = range(1, 25)"
   ],
   "id": "67b5df683cb025b8",
   "outputs": [],
   "execution_count": 28
  },
  {
   "metadata": {
    "ExecuteTime": {
     "end_time": "2025-08-05T19:12:27.887127Z",
     "start_time": "2025-08-05T19:12:27.881732Z"
    }
   },
   "cell_type": "code",
   "source": "seating_plan = [None] + [{letter: None for letter in letters} for _ in rows]",
   "id": "fe43ae64c73a884d",
   "outputs": [],
   "execution_count": 29
  },
  {
   "metadata": {
    "ExecuteTime": {
     "end_time": "2025-08-05T19:12:27.965295Z",
     "start_time": "2025-08-05T19:12:27.961106Z"
    }
   },
   "cell_type": "code",
   "source": "seating_plan[1]['B'] = 'Johny'",
   "id": "f7cfb80c17bff016",
   "outputs": [],
   "execution_count": 30
  },
  {
   "metadata": {
    "ExecuteTime": {
     "end_time": "2025-08-05T19:12:28.051279Z",
     "start_time": "2025-08-05T19:12:28.038328Z"
    }
   },
   "cell_type": "code",
   "source": "seating_plan",
   "id": "7d1500af188e86f0",
   "outputs": [
    {
     "data": {
      "text/plain": [
       "[None,\n",
       " {'A': None, 'B': 'Johny', 'C': None, 'D': None, 'E': None, 'F': None},\n",
       " {'A': None, 'B': None, 'C': None, 'D': None, 'E': None, 'F': None},\n",
       " {'A': None, 'B': None, 'C': None, 'D': None, 'E': None, 'F': None},\n",
       " {'A': None, 'B': None, 'C': None, 'D': None, 'E': None, 'F': None},\n",
       " {'A': None, 'B': None, 'C': None, 'D': None, 'E': None, 'F': None},\n",
       " {'A': None, 'B': None, 'C': None, 'D': None, 'E': None, 'F': None},\n",
       " {'A': None, 'B': None, 'C': None, 'D': None, 'E': None, 'F': None},\n",
       " {'A': None, 'B': None, 'C': None, 'D': None, 'E': None, 'F': None},\n",
       " {'A': None, 'B': None, 'C': None, 'D': None, 'E': None, 'F': None},\n",
       " {'A': None, 'B': None, 'C': None, 'D': None, 'E': None, 'F': None},\n",
       " {'A': None, 'B': None, 'C': None, 'D': None, 'E': None, 'F': None},\n",
       " {'A': None, 'B': None, 'C': None, 'D': None, 'E': None, 'F': None},\n",
       " {'A': None, 'B': None, 'C': None, 'D': None, 'E': None, 'F': None},\n",
       " {'A': None, 'B': None, 'C': None, 'D': None, 'E': None, 'F': None},\n",
       " {'A': None, 'B': None, 'C': None, 'D': None, 'E': None, 'F': None},\n",
       " {'A': None, 'B': None, 'C': None, 'D': None, 'E': None, 'F': None},\n",
       " {'A': None, 'B': None, 'C': None, 'D': None, 'E': None, 'F': None},\n",
       " {'A': None, 'B': None, 'C': None, 'D': None, 'E': None, 'F': None},\n",
       " {'A': None, 'B': None, 'C': None, 'D': None, 'E': None, 'F': None},\n",
       " {'A': None, 'B': None, 'C': None, 'D': None, 'E': None, 'F': None},\n",
       " {'A': None, 'B': None, 'C': None, 'D': None, 'E': None, 'F': None},\n",
       " {'A': None, 'B': None, 'C': None, 'D': None, 'E': None, 'F': None},\n",
       " {'A': None, 'B': None, 'C': None, 'D': None, 'E': None, 'F': None},\n",
       " {'A': None, 'B': None, 'C': None, 'D': None, 'E': None, 'F': None}]"
      ]
     },
     "execution_count": 31,
     "metadata": {},
     "output_type": "execute_result"
    }
   ],
   "execution_count": 31
  },
  {
   "metadata": {
    "ExecuteTime": {
     "end_time": "2025-08-05T19:12:28.183493Z",
     "start_time": "2025-08-05T19:12:28.168724Z"
    }
   },
   "cell_type": "code",
   "source": [
    "j = ['I will not swearing' for t in range(100)]\n",
    "j"
   ],
   "id": "e502bc762f217677",
   "outputs": [
    {
     "data": {
      "text/plain": [
       "['I will not swearing',\n",
       " 'I will not swearing',\n",
       " 'I will not swearing',\n",
       " 'I will not swearing',\n",
       " 'I will not swearing',\n",
       " 'I will not swearing',\n",
       " 'I will not swearing',\n",
       " 'I will not swearing',\n",
       " 'I will not swearing',\n",
       " 'I will not swearing',\n",
       " 'I will not swearing',\n",
       " 'I will not swearing',\n",
       " 'I will not swearing',\n",
       " 'I will not swearing',\n",
       " 'I will not swearing',\n",
       " 'I will not swearing',\n",
       " 'I will not swearing',\n",
       " 'I will not swearing',\n",
       " 'I will not swearing',\n",
       " 'I will not swearing',\n",
       " 'I will not swearing',\n",
       " 'I will not swearing',\n",
       " 'I will not swearing',\n",
       " 'I will not swearing',\n",
       " 'I will not swearing',\n",
       " 'I will not swearing',\n",
       " 'I will not swearing',\n",
       " 'I will not swearing',\n",
       " 'I will not swearing',\n",
       " 'I will not swearing',\n",
       " 'I will not swearing',\n",
       " 'I will not swearing',\n",
       " 'I will not swearing',\n",
       " 'I will not swearing',\n",
       " 'I will not swearing',\n",
       " 'I will not swearing',\n",
       " 'I will not swearing',\n",
       " 'I will not swearing',\n",
       " 'I will not swearing',\n",
       " 'I will not swearing',\n",
       " 'I will not swearing',\n",
       " 'I will not swearing',\n",
       " 'I will not swearing',\n",
       " 'I will not swearing',\n",
       " 'I will not swearing',\n",
       " 'I will not swearing',\n",
       " 'I will not swearing',\n",
       " 'I will not swearing',\n",
       " 'I will not swearing',\n",
       " 'I will not swearing',\n",
       " 'I will not swearing',\n",
       " 'I will not swearing',\n",
       " 'I will not swearing',\n",
       " 'I will not swearing',\n",
       " 'I will not swearing',\n",
       " 'I will not swearing',\n",
       " 'I will not swearing',\n",
       " 'I will not swearing',\n",
       " 'I will not swearing',\n",
       " 'I will not swearing',\n",
       " 'I will not swearing',\n",
       " 'I will not swearing',\n",
       " 'I will not swearing',\n",
       " 'I will not swearing',\n",
       " 'I will not swearing',\n",
       " 'I will not swearing',\n",
       " 'I will not swearing',\n",
       " 'I will not swearing',\n",
       " 'I will not swearing',\n",
       " 'I will not swearing',\n",
       " 'I will not swearing',\n",
       " 'I will not swearing',\n",
       " 'I will not swearing',\n",
       " 'I will not swearing',\n",
       " 'I will not swearing',\n",
       " 'I will not swearing',\n",
       " 'I will not swearing',\n",
       " 'I will not swearing',\n",
       " 'I will not swearing',\n",
       " 'I will not swearing',\n",
       " 'I will not swearing',\n",
       " 'I will not swearing',\n",
       " 'I will not swearing',\n",
       " 'I will not swearing',\n",
       " 'I will not swearing',\n",
       " 'I will not swearing',\n",
       " 'I will not swearing',\n",
       " 'I will not swearing',\n",
       " 'I will not swearing',\n",
       " 'I will not swearing',\n",
       " 'I will not swearing',\n",
       " 'I will not swearing',\n",
       " 'I will not swearing',\n",
       " 'I will not swearing',\n",
       " 'I will not swearing',\n",
       " 'I will not swearing',\n",
       " 'I will not swearing',\n",
       " 'I will not swearing',\n",
       " 'I will not swearing',\n",
       " 'I will not swearing']"
      ]
     },
     "execution_count": 32,
     "metadata": {},
     "output_type": "execute_result"
    }
   ],
   "execution_count": 32
  },
  {
   "metadata": {
    "ExecuteTime": {
     "end_time": "2025-08-05T19:12:28.242926Z",
     "start_time": "2025-08-05T19:12:28.234200Z"
    }
   },
   "cell_type": "code",
   "source": [
    "def magic(*args, **kwargs):\n",
    "    print(args)\n",
    "    print(kwargs)\n",
    "    print(type(args))\n",
    "    print(type(kwargs))"
   ],
   "id": "ac7414dcb55c574c",
   "outputs": [],
   "execution_count": 33
  },
  {
   "metadata": {
    "ExecuteTime": {
     "end_time": "2025-08-05T19:12:28.316774Z",
     "start_time": "2025-08-05T19:12:28.308823Z"
    }
   },
   "cell_type": "code",
   "source": "magic(1, 2, 3, a=4, b=5, c=6, d=7, e=8, f=9, g=10)\n",
   "id": "7117c3a5bd04d6df",
   "outputs": [
    {
     "name": "stdout",
     "output_type": "stream",
     "text": [
      "(1, 2, 3)\n",
      "{'a': 4, 'b': 5, 'c': 6, 'd': 7, 'e': 8, 'f': 9, 'g': 10}\n",
      "<class 'tuple'>\n",
      "<class 'dict'>\n"
     ]
    }
   ],
   "execution_count": 34
  },
  {
   "metadata": {
    "ExecuteTime": {
     "end_time": "2025-08-05T19:12:28.406560Z",
     "start_time": "2025-08-05T19:12:28.401617Z"
    }
   },
   "cell_type": "code",
   "source": [
    "def my_magic(start, *digits):\n",
    "    return max(digits[start:])"
   ],
   "id": "867187817929bef0",
   "outputs": [],
   "execution_count": 35
  },
  {
   "metadata": {
    "ExecuteTime": {
     "end_time": "2025-08-05T19:12:28.440134Z",
     "start_time": "2025-08-05T19:12:28.433607Z"
    }
   },
   "cell_type": "code",
   "source": "my_magic(4, 1, 2, 3, 4, 5, 6, 7, 8, 9, 10)",
   "id": "f8b548cfbf1c3420",
   "outputs": [
    {
     "data": {
      "text/plain": [
       "10"
      ]
     },
     "execution_count": 36,
     "metadata": {},
     "output_type": "execute_result"
    }
   ],
   "execution_count": 36
  },
  {
   "metadata": {
    "ExecuteTime": {
     "end_time": "2025-08-05T19:12:28.503618Z",
     "start_time": "2025-08-05T19:12:28.496771Z"
    }
   },
   "cell_type": "code",
   "source": [
    "def my_magic_2(start, *digits, operator):\n",
    "    operators = {\n",
    "        'min' : min,\n",
    "        'max' : max\n",
    "    }\n",
    "    return operators[operator](digits[start:])"
   ],
   "id": "6abbd1e7efe2956d",
   "outputs": [],
   "execution_count": 37
  },
  {
   "metadata": {
    "ExecuteTime": {
     "end_time": "2025-08-05T19:12:28.609703Z",
     "start_time": "2025-08-05T19:12:28.584653Z"
    }
   },
   "cell_type": "code",
   "source": "my_magic_2(4, 1, 2, 3, 4987, 5, 6, 79098, 8, 9, 10, operator='min')",
   "id": "fd51a4818e4834b9",
   "outputs": [
    {
     "data": {
      "text/plain": [
       "5"
      ]
     },
     "execution_count": 38,
     "metadata": {},
     "output_type": "execute_result"
    }
   ],
   "execution_count": 38
  },
  {
   "metadata": {
    "ExecuteTime": {
     "end_time": "2025-08-05T19:12:28.663103Z",
     "start_time": "2025-08-05T19:12:28.652736Z"
    }
   },
   "cell_type": "code",
   "source": [
    "import operator\n",
    "\n",
    "t = operator.add(3, 5)\n",
    "t"
   ],
   "id": "244ec817275572c7",
   "outputs": [
    {
     "data": {
      "text/plain": [
       "8"
      ]
     },
     "execution_count": 39,
     "metadata": {},
     "output_type": "execute_result"
    }
   ],
   "execution_count": 39
  },
  {
   "metadata": {
    "ExecuteTime": {
     "end_time": "2025-08-05T19:12:28.780878Z",
     "start_time": "2025-08-05T19:12:28.765530Z"
    }
   },
   "cell_type": "code",
   "source": [
    "g = operator.mul(5, 5)\n",
    "g"
   ],
   "id": "70de2ee8d73721fa",
   "outputs": [
    {
     "data": {
      "text/plain": [
       "25"
      ]
     },
     "execution_count": 40,
     "metadata": {},
     "output_type": "execute_result"
    }
   ],
   "execution_count": 40
  },
  {
   "metadata": {
    "ExecuteTime": {
     "end_time": "2025-08-05T19:12:28.821328Z",
     "start_time": "2025-08-05T19:12:28.811963Z"
    }
   },
   "cell_type": "code",
   "source": [
    "g = operator.abs(-5)\n",
    "g"
   ],
   "id": "a5c4d48ef03f419d",
   "outputs": [
    {
     "data": {
      "text/plain": [
       "5"
      ]
     },
     "execution_count": 41,
     "metadata": {},
     "output_type": "execute_result"
    }
   ],
   "execution_count": 41
  },
  {
   "metadata": {
    "ExecuteTime": {
     "end_time": "2025-08-05T19:12:28.880739Z",
     "start_time": "2025-08-05T19:12:28.874863Z"
    }
   },
   "cell_type": "code",
   "source": [
    "def solution(value):\n",
    "    return f'Value is {str(value).zfill(5)}'"
   ],
   "id": "235ad7892c83ab7c",
   "outputs": [],
   "execution_count": 42
  },
  {
   "metadata": {
    "ExecuteTime": {
     "end_time": "2025-08-05T19:12:28.967549Z",
     "start_time": "2025-08-05T19:12:28.955412Z"
    }
   },
   "cell_type": "code",
   "source": "solution(5)",
   "id": "8281b46403008aa4",
   "outputs": [
    {
     "data": {
      "text/plain": [
       "'Value is 00005'"
      ]
     },
     "execution_count": 43,
     "metadata": {},
     "output_type": "execute_result"
    }
   ],
   "execution_count": 43
  },
  {
   "metadata": {
    "ExecuteTime": {
     "end_time": "2025-08-05T19:12:29.032937Z",
     "start_time": "2025-08-05T19:12:29.028249Z"
    }
   },
   "cell_type": "code",
   "source": "",
   "id": "b55f9e7ffa072b7f",
   "outputs": [],
   "execution_count": null
  }
 ],
 "metadata": {
  "kernelspec": {
   "display_name": "Python 3",
   "language": "python",
   "name": "python3"
  },
  "language_info": {
   "codemirror_mode": {
    "name": "ipython",
    "version": 2
   },
   "file_extension": ".py",
   "mimetype": "text/x-python",
   "name": "python",
   "nbconvert_exporter": "python",
   "pygments_lexer": "ipython2",
   "version": "2.7.6"
  }
 },
 "nbformat": 4,
 "nbformat_minor": 5
}
