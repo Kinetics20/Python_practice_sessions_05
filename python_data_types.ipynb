{
 "cells": [
  {
   "metadata": {},
   "cell_type": "markdown",
   "source": "",
   "id": "4c4811044aa59550"
  },
  {
   "metadata": {},
   "cell_type": "markdown",
   "source": "### Description of data types in **Python**",
   "id": "7545796e75a2e2b5"
  },
  {
   "metadata": {},
   "cell_type": "markdown",
   "source": [
    "# **Python** data types\n",
    "\n",
    "### **primitive types**\n",
    "\n",
    "1. bool - logical value\n",
    "2. int -  integer number\n",
    "3. float - floating point number\n",
    "4. str - character point collection\n",
    "5. complex numbers\n",
    "\n",
    "### **complex types**\n",
    "\n",
    "1. list\n",
    "2. tuple\n",
    "3. set\n",
    "4. dict\n",
    "5. range - generator\n",
    "6. bytes\n",
    "7. bytearray\n",
    "8. memoryview\n",
    "\n",
    "\n",
    "\n",
    "| Typ         | Klasa            | Zmienność | Główne Zastosowanie           | Metody Modyfikacji              |\n",
    "|-------------|------------------|-----------|-------------------------------|---------------------------------|\n",
    "| **`bytes`**     | `class bytes`     | Nie (niezmienny)  | Przechowywanie niezmiennych danych binarnych | Brak bezpośredniej modyfikacji |\n",
    "| **`bytearray`** | `class bytearray` | Tak (zmienny)      | Modyfikowalne sekwencje binarne | `.append()`, `.extend()`, `.insert()` |\n",
    "| **`memoryview`** | `class memoryview` | Zależna (tylko dla zmiennych typów) | Operacje na danych bez kopiowania ich | `.cast()`, `.tobytes()`, `.tolist()` |\n"
   ],
   "id": "2bae0e04487f6199"
  },
  {
   "metadata": {},
   "cell_type": "markdown",
   "source": [
    "## Bool\n",
    "- logical value\n",
    "- truthy/falsy values / PL - dowolna wartosc ktora po skonertowaniu na wartosc logiczna da prawde lub falsz /\n",
    "- casting / official convertion any value on logical value /\n",
    "- coercion / incidental convertion on logical value /\n",
    "\n",
    "``` python\n",
    "x = True\n",
    "y = False\n",
    "type(x) # bool\n",
    "\n",
    "```"
   ],
   "id": "9fece2c62a37be2f"
  },
  {
   "metadata": {},
   "cell_type": "markdown",
   "source": "----",
   "id": "17494cff5a2df292"
  },
  {
   "metadata": {},
   "cell_type": "markdown",
   "source": [
    "## It can be needed :\n",
    "\n",
    "#### [de Morgan's law](https://pl.wikipedia.org/wiki/Prawa_De_Morgana)"
   ],
   "id": "df8411051bfc0c7e"
  },
  {
   "metadata": {
    "ExecuteTime": {
     "end_time": "2024-12-12T22:58:33.959249Z",
     "start_time": "2024-12-12T22:58:33.948147Z"
    }
   },
   "cell_type": "code",
   "source": "x = True",
   "id": "6aa90126008a8951",
   "outputs": [],
   "execution_count": 1
  },
  {
   "metadata": {
    "ExecuteTime": {
     "end_time": "2024-12-12T22:58:58.502465Z",
     "start_time": "2024-12-12T22:58:58.493832Z"
    }
   },
   "cell_type": "code",
   "source": "type(x)",
   "id": "a643811584a67a03",
   "outputs": [
    {
     "data": {
      "text/plain": [
       "bool"
      ]
     },
     "execution_count": 2,
     "metadata": {},
     "output_type": "execute_result"
    }
   ],
   "execution_count": 2
  },
  {
   "metadata": {
    "ExecuteTime": {
     "end_time": "2024-12-12T22:59:01.653399Z",
     "start_time": "2024-12-12T22:59:01.646705Z"
    }
   },
   "cell_type": "code",
   "source": "bool(x)",
   "id": "122fcdc623102a98",
   "outputs": [
    {
     "data": {
      "text/plain": [
       "True"
      ]
     },
     "execution_count": 3,
     "metadata": {},
     "output_type": "execute_result"
    }
   ],
   "execution_count": 3
  },
  {
   "metadata": {},
   "cell_type": "markdown",
   "source": "### Numbers - 0 is False , different than 0 is True , independent what numbers type of data",
   "id": "54578a0386547b79"
  },
  {
   "metadata": {
    "ExecuteTime": {
     "end_time": "2025-01-01T09:04:14.326748Z",
     "start_time": "2025-01-01T09:04:14.315177Z"
    }
   },
   "cell_type": "code",
   "source": "bool(0)",
   "id": "534147eaf51be7eb",
   "outputs": [
    {
     "data": {
      "text/plain": [
       "False"
      ]
     },
     "execution_count": 1,
     "metadata": {},
     "output_type": "execute_result"
    }
   ],
   "execution_count": 1
  },
  {
   "metadata": {
    "ExecuteTime": {
     "end_time": "2024-12-12T22:59:08.258099Z",
     "start_time": "2024-12-12T22:59:08.252094Z"
    }
   },
   "cell_type": "code",
   "source": "bool(1)",
   "id": "444c0c0203919bec",
   "outputs": [
    {
     "data": {
      "text/plain": [
       "True"
      ]
     },
     "execution_count": 5,
     "metadata": {},
     "output_type": "execute_result"
    }
   ],
   "execution_count": 5
  },
  {
   "metadata": {
    "ExecuteTime": {
     "end_time": "2024-12-12T22:59:11.406320Z",
     "start_time": "2024-12-12T22:59:11.401447Z"
    }
   },
   "cell_type": "code",
   "source": "bool(0.0000000)",
   "id": "77d524fab08a1eef",
   "outputs": [
    {
     "data": {
      "text/plain": [
       "False"
      ]
     },
     "execution_count": 6,
     "metadata": {},
     "output_type": "execute_result"
    }
   ],
   "execution_count": 6
  },
  {
   "metadata": {
    "ExecuteTime": {
     "end_time": "2024-10-20T17:59:58.550059Z",
     "start_time": "2024-10-20T17:59:58.543888Z"
    }
   },
   "cell_type": "code",
   "source": "bool(0.000000000000000000000000001)",
   "id": "7dc5be0e75ea8e04",
   "outputs": [
    {
     "data": {
      "text/plain": [
       "True"
      ]
     },
     "execution_count": 8,
     "metadata": {},
     "output_type": "execute_result"
    }
   ],
   "execution_count": 8
  },
  {
   "metadata": {},
   "cell_type": "markdown",
   "source": "### Data collections - empty is False , not empty is True",
   "id": "3d65f305b851a819"
  },
  {
   "metadata": {
    "ExecuteTime": {
     "end_time": "2024-12-12T22:59:21.234487Z",
     "start_time": "2024-12-12T22:59:21.227819Z"
    }
   },
   "cell_type": "code",
   "source": "bool('ala')",
   "id": "61170f9c2008da45",
   "outputs": [
    {
     "data": {
      "text/plain": [
       "True"
      ]
     },
     "execution_count": 7,
     "metadata": {},
     "output_type": "execute_result"
    }
   ],
   "execution_count": 7
  },
  {
   "metadata": {
    "ExecuteTime": {
     "end_time": "2024-10-20T18:08:03.061325Z",
     "start_time": "2024-10-20T18:08:03.051761Z"
    }
   },
   "cell_type": "code",
   "source": "bool('')",
   "id": "a822cc4a828682d5",
   "outputs": [
    {
     "data": {
      "text/plain": [
       "False"
      ]
     },
     "execution_count": 10,
     "metadata": {},
     "output_type": "execute_result"
    }
   ],
   "execution_count": 10
  },
  {
   "metadata": {
    "ExecuteTime": {
     "end_time": "2025-01-01T09:04:22.531740Z",
     "start_time": "2025-01-01T09:04:22.520580Z"
    }
   },
   "cell_type": "code",
   "source": "bool([1, 2, 3])",
   "id": "b3f9d6442c45aa84",
   "outputs": [
    {
     "data": {
      "text/plain": [
       "True"
      ]
     },
     "execution_count": 2,
     "metadata": {},
     "output_type": "execute_result"
    }
   ],
   "execution_count": 2
  },
  {
   "metadata": {
    "ExecuteTime": {
     "end_time": "2024-10-20T18:08:33.107576Z",
     "start_time": "2024-10-20T18:08:33.101599Z"
    }
   },
   "cell_type": "code",
   "source": "bool([])",
   "id": "b20bf357daa0fc44",
   "outputs": [
    {
     "data": {
      "text/plain": [
       "False"
      ]
     },
     "execution_count": 12,
     "metadata": {},
     "output_type": "execute_result"
    }
   ],
   "execution_count": 12
  },
  {
   "metadata": {
    "ExecuteTime": {
     "end_time": "2024-10-20T18:08:55.958084Z",
     "start_time": "2024-10-20T18:08:55.953202Z"
    }
   },
   "cell_type": "code",
   "source": "bool(())",
   "id": "f42d305d786e6f06",
   "outputs": [
    {
     "data": {
      "text/plain": [
       "False"
      ]
     },
     "execution_count": 13,
     "metadata": {},
     "output_type": "execute_result"
    }
   ],
   "execution_count": 13
  },
  {
   "metadata": {
    "ExecuteTime": {
     "end_time": "2024-10-20T18:09:46.658950Z",
     "start_time": "2024-10-20T18:09:46.653817Z"
    }
   },
   "cell_type": "code",
   "source": "bool((1, 2, 3))",
   "id": "a75e27679ce59cda",
   "outputs": [
    {
     "data": {
      "text/plain": [
       "True"
      ]
     },
     "execution_count": 14,
     "metadata": {},
     "output_type": "execute_result"
    }
   ],
   "execution_count": 14
  },
  {
   "metadata": {
    "ExecuteTime": {
     "end_time": "2024-10-20T18:10:11.168773Z",
     "start_time": "2024-10-20T18:10:11.164559Z"
    }
   },
   "cell_type": "code",
   "source": "bool(tuple())",
   "id": "7d543b3c8e044050",
   "outputs": [
    {
     "data": {
      "text/plain": [
       "False"
      ]
     },
     "execution_count": 15,
     "metadata": {},
     "output_type": "execute_result"
    }
   ],
   "execution_count": 15
  },
  {
   "metadata": {
    "ExecuteTime": {
     "end_time": "2024-10-20T18:16:38.545671Z",
     "start_time": "2024-10-20T18:16:38.539390Z"
    }
   },
   "cell_type": "code",
   "source": [
    "# None is noting , that's why False\n",
    "bool(None)"
   ],
   "id": "b9f3871bf3e6ff03",
   "outputs": [
    {
     "data": {
      "text/plain": [
       "False"
      ]
     },
     "execution_count": 18,
     "metadata": {},
     "output_type": "execute_result"
    }
   ],
   "execution_count": 18
  },
  {
   "metadata": {},
   "cell_type": "markdown",
   "source": [
    "## Int - Integer Number\n",
    "\n",
    "1. Infinite precision , It can be write any integer  number\n",
    "\n",
    "``` python\n",
    "\n",
    "x = 42\n",
    "type(x) # int\n",
    "\n",
    "```\n",
    "---"
   ],
   "id": "a4ebe6b6a858aef0"
  },
  {
   "metadata": {
    "ExecuteTime": {
     "end_time": "2024-12-12T22:59:37.761477Z",
     "start_time": "2024-12-12T22:59:37.756470Z"
    }
   },
   "cell_type": "code",
   "source": "x = 42",
   "id": "d0e1749f28e45d06",
   "outputs": [],
   "execution_count": 9
  },
  {
   "metadata": {
    "ExecuteTime": {
     "end_time": "2024-12-12T22:59:39.921371Z",
     "start_time": "2024-12-12T22:59:39.915621Z"
    }
   },
   "cell_type": "code",
   "source": "type(x)",
   "id": "f3676d0de70a493a",
   "outputs": [
    {
     "data": {
      "text/plain": [
       "int"
      ]
     },
     "execution_count": 10,
     "metadata": {},
     "output_type": "execute_result"
    }
   ],
   "execution_count": 10
  },
  {
   "metadata": {
    "ExecuteTime": {
     "end_time": "2024-10-20T18:36:27.202594Z",
     "start_time": "2024-10-20T18:36:27.195433Z"
    }
   },
   "cell_type": "code",
   "source": [
    "# x = x + 10\n",
    "x += 10\n",
    "# x = x * 2\n",
    "x *= 2\n",
    "x"
   ],
   "id": "6f6efbb7ea7d30c9",
   "outputs": [
    {
     "data": {
      "text/plain": [
       "104"
      ]
     },
     "execution_count": 21,
     "metadata": {},
     "output_type": "execute_result"
    }
   ],
   "execution_count": 21
  },
  {
   "metadata": {
    "ExecuteTime": {
     "end_time": "2024-12-12T22:59:45.569443Z",
     "start_time": "2024-12-12T22:59:45.563503Z"
    }
   },
   "cell_type": "code",
   "source": [
    "# reminder / reminder of division / (popular - modulo)\n",
    "x % 10"
   ],
   "id": "ab5f1973e2bb997",
   "outputs": [
    {
     "data": {
      "text/plain": [
       "2"
      ]
     },
     "execution_count": 11,
     "metadata": {},
     "output_type": "execute_result"
    }
   ],
   "execution_count": 11
  },
  {
   "metadata": {
    "ExecuteTime": {
     "end_time": "2024-12-12T22:59:50.495304Z",
     "start_time": "2024-12-12T22:59:50.489523Z"
    }
   },
   "cell_type": "code",
   "source": [
    "# power\n",
    "2 ** 3"
   ],
   "id": "f80373f3d9832656",
   "outputs": [
    {
     "data": {
      "text/plain": [
       "8"
      ]
     },
     "execution_count": 12,
     "metadata": {},
     "output_type": "execute_result"
    }
   ],
   "execution_count": 12
  },
  {
   "metadata": {
    "ExecuteTime": {
     "end_time": "2024-10-20T18:42:56.771537Z",
     "start_time": "2024-10-20T18:42:56.766655Z"
    }
   },
   "cell_type": "code",
   "source": [
    "# square root\n",
    "z = 16\n",
    "sqrt_root = x ** (1/2)\n",
    "sqrt_root"
   ],
   "id": "1bec14ffd99cea93",
   "outputs": [
    {
     "data": {
      "text/plain": [
       "10.198039027185569"
      ]
     },
     "execution_count": 26,
     "metadata": {},
     "output_type": "execute_result"
    }
   ],
   "execution_count": 26
  },
  {
   "metadata": {},
   "cell_type": "markdown",
   "source": [
    "# Float - Floating point number\n",
    "1. precise double\n",
    "2. standard IEEE 754\n",
    "\n",
    "```python\n",
    "\n",
    "x = 4.2\n",
    "type(x) # float\n",
    "---"
   ],
   "id": "cedad08f62781ab9"
  },
  {
   "metadata": {
    "ExecuteTime": {
     "end_time": "2024-10-20T18:46:21.654399Z",
     "start_time": "2024-10-20T18:46:21.649167Z"
    }
   },
   "cell_type": "code",
   "source": [
    "x = 4.2\n",
    "type(x)"
   ],
   "id": "d58a6f981bdf81d0",
   "outputs": [
    {
     "data": {
      "text/plain": [
       "float"
      ]
     },
     "execution_count": 27,
     "metadata": {},
     "output_type": "execute_result"
    }
   ],
   "execution_count": 27
  }
 ],
 "metadata": {
  "kernelspec": {
   "display_name": "Python 3",
   "language": "python",
   "name": "python3"
  },
  "language_info": {
   "codemirror_mode": {
    "name": "ipython",
    "version": 2
   },
   "file_extension": ".py",
   "mimetype": "text/x-python",
   "name": "python",
   "nbconvert_exporter": "python",
   "pygments_lexer": "ipython2",
   "version": "2.7.6"
  }
 },
 "nbformat": 4,
 "nbformat_minor": 5
}
