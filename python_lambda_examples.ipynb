{
 "cells": [
  {
   "metadata": {},
   "cell_type": "markdown",
   "source": "## lambda paremeters, parameters: expression",
   "id": "4bfc8edf799ca179"
  },
  {
   "metadata": {},
   "cell_type": "code",
   "outputs": [],
   "execution_count": null,
   "source": "",
   "id": "396f3ee6eb3a31a7"
  },
  {
   "metadata": {
    "ExecuteTime": {
     "end_time": "2024-10-25T13:55:14.171567Z",
     "start_time": "2024-10-25T13:55:14.153822Z"
    }
   },
   "cell_type": "code",
   "source": [
    "add_up = lambda x, y: x + y\n",
    "add_up(3, 5)"
   ],
   "id": "35cbf8ae3c214575",
   "outputs": [
    {
     "data": {
      "text/plain": [
       "8"
      ]
     },
     "execution_count": 1,
     "metadata": {},
     "output_type": "execute_result"
    }
   ],
   "execution_count": 1
  },
  {
   "metadata": {
    "ExecuteTime": {
     "end_time": "2024-10-25T13:57:21.650885Z",
     "start_time": "2024-10-25T13:57:21.643473Z"
    }
   },
   "cell_type": "code",
   "source": "math_funct = lambda x, y, z: (x * y) / z",
   "id": "ff69dbaa2ae88b7b",
   "outputs": [],
   "execution_count": 2
  },
  {
   "metadata": {
    "ExecuteTime": {
     "end_time": "2024-10-25T13:57:36.104235Z",
     "start_time": "2024-10-25T13:57:36.093182Z"
    }
   },
   "cell_type": "code",
   "source": "math_funct(3, 5, 9)",
   "id": "2ed659e6bfd413c8",
   "outputs": [
    {
     "data": {
      "text/plain": [
       "1.6666666666666667"
      ]
     },
     "execution_count": 3,
     "metadata": {},
     "output_type": "execute_result"
    }
   ],
   "execution_count": 3
  },
  {
   "metadata": {
    "ExecuteTime": {
     "end_time": "2024-10-25T13:59:38.618196Z",
     "start_time": "2024-10-25T13:59:38.598362Z"
    }
   },
   "cell_type": "code",
   "source": [
    "words = ['cat', 'elephant', 'dog', 'hamster']\n",
    "words.sort(key=lambda x: len(x))\n",
    "words"
   ],
   "id": "a85bef091074731c",
   "outputs": [
    {
     "data": {
      "text/plain": [
       "['cat', 'dog', 'hamster', 'elephant']"
      ]
     },
     "execution_count": 5,
     "metadata": {},
     "output_type": "execute_result"
    }
   ],
   "execution_count": 5
  },
  {
   "metadata": {},
   "cell_type": "code",
   "outputs": [],
   "execution_count": null,
   "source": "",
   "id": "a4b3761fec94290f"
  },
  {
   "metadata": {
    "ExecuteTime": {
     "end_time": "2024-10-25T14:12:31.459767Z",
     "start_time": "2024-10-25T14:12:31.448355Z"
    }
   },
   "cell_type": "code",
   "source": [
    "the_longest_word = max(words, key=lambda x: len(x))\n",
    "the_longest_word"
   ],
   "id": "5b2f498f148c0a89",
   "outputs": [
    {
     "data": {
      "text/plain": [
       "'elephant'"
      ]
     },
     "execution_count": 8,
     "metadata": {},
     "output_type": "execute_result"
    }
   ],
   "execution_count": 8
  },
  {
   "metadata": {
    "ExecuteTime": {
     "end_time": "2024-10-25T14:04:29.438754Z",
     "start_time": "2024-10-25T14:04:29.415683Z"
    }
   },
   "cell_type": "code",
   "source": [
    "new_l = [1, 2, 3, 4, 5, 6, 7, 8, 9]\n",
    "even_l = list(filter(lambda x: not x % 2, new_l))\n",
    "even_l"
   ],
   "id": "9072f93c6d617bd5",
   "outputs": [
    {
     "data": {
      "text/plain": [
       "[2, 4, 6, 8]"
      ]
     },
     "execution_count": 6,
     "metadata": {},
     "output_type": "execute_result"
    }
   ],
   "execution_count": 6
  },
  {
   "metadata": {
    "ExecuteTime": {
     "end_time": "2024-10-25T14:05:19.524864Z",
     "start_time": "2024-10-25T14:05:19.513121Z"
    }
   },
   "cell_type": "code",
   "source": [
    "new_l_2 = [1, 2, 3, 4, 5, 6, 7, 8, 9]\n",
    "even_l = list(filter(lambda x: not x & 1, new_l_2))\n",
    "even_l"
   ],
   "id": "9d1db054bf00e6d6",
   "outputs": [
    {
     "data": {
      "text/plain": [
       "[2, 4, 6, 8]"
      ]
     },
     "execution_count": 7,
     "metadata": {},
     "output_type": "execute_result"
    }
   ],
   "execution_count": 7
  },
  {
   "metadata": {
    "ExecuteTime": {
     "end_time": "2024-10-25T14:22:08.038262Z",
     "start_time": "2024-10-25T14:22:08.013543Z"
    }
   },
   "cell_type": "code",
   "source": [
    "new_l_3 = [1, 2, 3, 4, 5, 6, 7, 8, 9, 'ala','ola' ,'to']\n",
    "# squares_numbers = map(lambda x: x ** 2 if not x is str else x, new_l_3)\n",
    "squares_numbers = map(lambda x: x ** 2 if isinstance(x, int) else x, new_l_3)\n",
    "list(squares_numbers)"
   ],
   "id": "6716d0fab842268",
   "outputs": [
    {
     "data": {
      "text/plain": [
       "[1, 4, 9, 16, 25, 36, 49, 64, 81, 'ala', 'ola', 'to']"
      ]
     },
     "execution_count": 12,
     "metadata": {},
     "output_type": "execute_result"
    }
   ],
   "execution_count": 12
  },
  {
   "metadata": {
    "ExecuteTime": {
     "end_time": "2024-10-25T14:26:08.729115Z",
     "start_time": "2024-10-25T14:26:08.705710Z"
    }
   },
   "cell_type": "code",
   "source": [
    "new_l_3 = [1, 2, 3, 4, 5, 6, 7, 8, 9, 'ala', 'ola', 'to']\n",
    "squares_numbers = map(lambda x: x ** 2, filter(lambda x: isinstance(x, int), new_l_3))\n",
    "list(squares_numbers)"
   ],
   "id": "9015121f18dbc10e",
   "outputs": [
    {
     "data": {
      "text/plain": [
       "[1, 4, 9, 16, 25, 36, 49, 64, 81]"
      ]
     },
     "execution_count": 13,
     "metadata": {},
     "output_type": "execute_result"
    }
   ],
   "execution_count": 13
  },
  {
   "metadata": {
    "ExecuteTime": {
     "end_time": "2024-10-25T14:28:50.109394Z",
     "start_time": "2024-10-25T14:28:50.091354Z"
    }
   },
   "cell_type": "code",
   "source": [
    "names = [\"Jan\", \"Anna\", \"Piotr\"]\n",
    "age = [25, 30, 28]\n",
    "one_l_join = zip(names, age)\n",
    "list(one_l_join)"
   ],
   "id": "4d0c5aadaa70eca6",
   "outputs": [
    {
     "data": {
      "text/plain": [
       "[('Jan', 25), ('Anna', 30), ('Piotr', 28)]"
      ]
     },
     "execution_count": 15,
     "metadata": {},
     "output_type": "execute_result"
    }
   ],
   "execution_count": 15
  },
  {
   "metadata": {},
   "cell_type": "code",
   "outputs": [],
   "execution_count": null,
   "source": "",
   "id": "c60a7b5fa612ea61"
  }
 ],
 "metadata": {
  "kernelspec": {
   "display_name": "Python 3",
   "language": "python",
   "name": "python3"
  },
  "language_info": {
   "codemirror_mode": {
    "name": "ipython",
    "version": 2
   },
   "file_extension": ".py",
   "mimetype": "text/x-python",
   "name": "python",
   "nbconvert_exporter": "python",
   "pygments_lexer": "ipython2",
   "version": "2.7.6"
  }
 },
 "nbformat": 4,
 "nbformat_minor": 5
}
