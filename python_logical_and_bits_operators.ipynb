{
 "cells": [
  {
   "metadata": {},
   "cell_type": "markdown",
   "source": "### Logical operators in Python",
   "id": "242fa8a4af5fcd4e"
  },
  {
   "metadata": {},
   "cell_type": "markdown",
   "source": [
    "| Operator      | Nazwa             | Składnia | a   | b   | Działanie               | Wynik |\n",
    "|---------------|-------------------|----------|-----|-----|--------------------------|-------|\n",
    "| `|=`          | OR z przypisaniem | `a |= b` | 5   | 3   | `5 | 3`                    | 7     |\n",
    "| `&=`          | AND z przypisaniem| `a &= b` | 5   | 3   | `5 & 3`                  | 1     |\n",
    "| `^=`          | XOR z przypisaniem| `a ^= b` | 5   | 3   | `5 ^ 3`                  | 6     |\n",
    "| `<<=`         | Przesunięcie w lewo z przypisaniem | `a <<= b` | 3   | 2   | `3 << 2`                | 12    |\n",
    "| `>>=`         | Przesunięcie w prawo z przypisaniem| `a >>= b` | 8   | 2   | `8 >> 2`                | 2     |\n"
   ],
   "id": "71c6601ab27ecc64"
  },
  {
   "metadata": {},
   "cell_type": "code",
   "outputs": [],
   "execution_count": null,
   "source": "",
   "id": "9f27db880c6c1425"
  }
 ],
 "metadata": {
  "kernelspec": {
   "display_name": "Python 3",
   "language": "python",
   "name": "python3"
  },
  "language_info": {
   "codemirror_mode": {
    "name": "ipython",
    "version": 2
   },
   "file_extension": ".py",
   "mimetype": "text/x-python",
   "name": "python",
   "nbconvert_exporter": "python",
   "pygments_lexer": "ipython2",
   "version": "2.7.6"
  }
 },
 "nbformat": 4,
 "nbformat_minor": 5
}
