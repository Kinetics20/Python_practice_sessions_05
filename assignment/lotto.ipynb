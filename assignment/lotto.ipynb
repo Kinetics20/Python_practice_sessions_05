{
 "cells": [
  {
   "cell_type": "code",
   "id": "initial_id",
   "metadata": {
    "collapsed": true,
    "ExecuteTime": {
     "end_time": "2024-11-27T10:31:21.561743Z",
     "start_time": "2024-11-27T10:31:21.554812Z"
    }
   },
   "source": [
    "x = '5, 8, 9, 10, 11'\n",
    "x1 = '5,8,9,10,11'\n",
    "x2 = '5, 8, 9,10,11'\n",
    "x3 = '5,8,9,10,dupa 11'"
   ],
   "outputs": [],
   "execution_count": 17
  },
  {
   "metadata": {
    "ExecuteTime": {
     "end_time": "2024-11-27T10:24:37.900703Z",
     "start_time": "2024-11-27T10:24:37.895158Z"
    }
   },
   "cell_type": "code",
   "source": "x.split(', ')",
   "id": "6cbd7130053434b",
   "outputs": [
    {
     "data": {
      "text/plain": [
       "['5', '8', '9', '10', '11']"
      ]
     },
     "execution_count": 7,
     "metadata": {},
     "output_type": "execute_result"
    }
   ],
   "execution_count": 7
  },
  {
   "metadata": {
    "ExecuteTime": {
     "end_time": "2024-11-27T10:22:57.596670Z",
     "start_time": "2024-11-27T10:22:57.588407Z"
    }
   },
   "cell_type": "code",
   "source": "x1.split(', ')",
   "id": "61bbbc66a00a4d06",
   "outputs": [
    {
     "data": {
      "text/plain": [
       "['5,8,9,10,11']"
      ]
     },
     "execution_count": 5,
     "metadata": {},
     "output_type": "execute_result"
    }
   ],
   "execution_count": 5
  },
  {
   "metadata": {
    "ExecuteTime": {
     "end_time": "2024-11-27T10:25:08.747463Z",
     "start_time": "2024-11-27T10:25:08.739067Z"
    }
   },
   "cell_type": "code",
   "source": "x2.split(', ')",
   "id": "159d064a2496b76d",
   "outputs": [
    {
     "data": {
      "text/plain": [
       "['5', '8', '9,10,11']"
      ]
     },
     "execution_count": 8,
     "metadata": {},
     "output_type": "execute_result"
    }
   ],
   "execution_count": 8
  },
  {
   "metadata": {
    "ExecuteTime": {
     "end_time": "2024-11-27T10:27:30.159528Z",
     "start_time": "2024-11-27T10:27:30.147492Z"
    }
   },
   "cell_type": "code",
   "source": "x.replace(' ', '').split(',')",
   "id": "ab2447c6ed60482f",
   "outputs": [
    {
     "data": {
      "text/plain": [
       "['5', '8', '9', '10', '11']"
      ]
     },
     "execution_count": 10,
     "metadata": {},
     "output_type": "execute_result"
    }
   ],
   "execution_count": 10
  },
  {
   "metadata": {
    "ExecuteTime": {
     "end_time": "2024-11-27T10:27:47.091818Z",
     "start_time": "2024-11-27T10:27:47.085181Z"
    }
   },
   "cell_type": "code",
   "source": "x1.replace(' ', '').split(',')",
   "id": "a8f55b0c03d56e6e",
   "outputs": [
    {
     "data": {
      "text/plain": [
       "['5', '8', '9', '10', '11']"
      ]
     },
     "execution_count": 11,
     "metadata": {},
     "output_type": "execute_result"
    }
   ],
   "execution_count": 11
  },
  {
   "metadata": {
    "ExecuteTime": {
     "end_time": "2024-11-27T10:27:55.564355Z",
     "start_time": "2024-11-27T10:27:55.554093Z"
    }
   },
   "cell_type": "code",
   "source": "x2.replace(' ', '').split(',')",
   "id": "33c2484c529e4333",
   "outputs": [
    {
     "data": {
      "text/plain": [
       "['5', '8', '9', '10', '11']"
      ]
     },
     "execution_count": 12,
     "metadata": {},
     "output_type": "execute_result"
    }
   ],
   "execution_count": 12
  },
  {
   "metadata": {
    "ExecuteTime": {
     "end_time": "2024-11-27T10:28:44.013924Z",
     "start_time": "2024-11-27T10:28:44.010130Z"
    }
   },
   "cell_type": "code",
   "source": "import re",
   "id": "fdd05dc2c5598822",
   "outputs": [],
   "execution_count": 13
  },
  {
   "metadata": {
    "ExecuteTime": {
     "end_time": "2024-11-27T10:30:10.580838Z",
     "start_time": "2024-11-27T10:30:10.573334Z"
    }
   },
   "cell_type": "code",
   "source": "re.findall(r'\\d+', x)",
   "id": "41cf02272b298e18",
   "outputs": [
    {
     "data": {
      "text/plain": [
       "['5', '8', '9', '10', '11']"
      ]
     },
     "execution_count": 14,
     "metadata": {},
     "output_type": "execute_result"
    }
   ],
   "execution_count": 14
  },
  {
   "metadata": {
    "ExecuteTime": {
     "end_time": "2024-11-27T10:30:31.826171Z",
     "start_time": "2024-11-27T10:30:31.818386Z"
    }
   },
   "cell_type": "code",
   "source": "re.findall(r'\\d+', x1)",
   "id": "455b04dc6aa3b392",
   "outputs": [
    {
     "data": {
      "text/plain": [
       "['5', '8', '9', '10', '11']"
      ]
     },
     "execution_count": 15,
     "metadata": {},
     "output_type": "execute_result"
    }
   ],
   "execution_count": 15
  },
  {
   "metadata": {
    "ExecuteTime": {
     "end_time": "2024-11-27T10:30:37.232470Z",
     "start_time": "2024-11-27T10:30:37.224632Z"
    }
   },
   "cell_type": "code",
   "source": "re.findall(r'\\d+', x2)",
   "id": "4e1d418643ae017f",
   "outputs": [
    {
     "data": {
      "text/plain": [
       "['5', '8', '9', '10', '11']"
      ]
     },
     "execution_count": 16,
     "metadata": {},
     "output_type": "execute_result"
    }
   ],
   "execution_count": 16
  },
  {
   "metadata": {
    "ExecuteTime": {
     "end_time": "2024-11-27T10:31:33.905356Z",
     "start_time": "2024-11-27T10:31:33.899299Z"
    }
   },
   "cell_type": "code",
   "source": "re.findall(r'\\d+', x3)",
   "id": "fa3b0002c8db8c4c",
   "outputs": [
    {
     "data": {
      "text/plain": [
       "['5', '8', '9', '10', '11']"
      ]
     },
     "execution_count": 18,
     "metadata": {},
     "output_type": "execute_result"
    }
   ],
   "execution_count": 18
  },
  {
   "metadata": {
    "ExecuteTime": {
     "end_time": "2024-11-27T12:02:24.991508Z",
     "start_time": "2024-11-27T12:02:24.985483Z"
    }
   },
   "cell_type": "code",
   "source": [
    "data = [1, 2, 3, 4, 5, 6, 7, 8, 9, 10]\n",
    "for index, number in enumerate(data):\n",
    "    print(data[index+1:])"
   ],
   "id": "d2c3af51e1ec614b",
   "outputs": [
    {
     "name": "stdout",
     "output_type": "stream",
     "text": [
      "[2, 3, 4, 5, 6, 7, 8, 9, 10]\n",
      "[3, 4, 5, 6, 7, 8, 9, 10]\n",
      "[4, 5, 6, 7, 8, 9, 10]\n",
      "[5, 6, 7, 8, 9, 10]\n",
      "[6, 7, 8, 9, 10]\n",
      "[7, 8, 9, 10]\n",
      "[8, 9, 10]\n",
      "[9, 10]\n",
      "[10]\n",
      "[]\n"
     ]
    }
   ],
   "execution_count": 21
  },
  {
   "metadata": {},
   "cell_type": "code",
   "outputs": [],
   "execution_count": null,
   "source": [
    "def is_not_redundant(numbers: Iterable[int]) -> bool:\n",
    "    for index, number in enumerate(numbers):\n",
    "        if number in numbers[index+1:]:\n",
    "            return False\n",
    "\n",
    "\n",
    "    return True"
   ],
   "id": "11c56ecc1d766567"
  },
  {
   "metadata": {
    "ExecuteTime": {
     "end_time": "2024-11-27T12:14:49.821364Z",
     "start_time": "2024-11-27T12:14:49.816926Z"
    }
   },
   "cell_type": "code",
   "source": "import random ",
   "id": "aa813c74eb99bf94",
   "outputs": [],
   "execution_count": 22
  },
  {
   "metadata": {
    "ExecuteTime": {
     "end_time": "2024-11-27T12:15:25.035485Z",
     "start_time": "2024-11-27T12:15:25.029252Z"
    }
   },
   "cell_type": "code",
   "source": "random.randint(1, 49)",
   "id": "3daa13a23368895c",
   "outputs": [
    {
     "data": {
      "text/plain": [
       "41"
      ]
     },
     "execution_count": 24,
     "metadata": {},
     "output_type": "execute_result"
    }
   ],
   "execution_count": 24
  },
  {
   "metadata": {
    "ExecuteTime": {
     "end_time": "2024-11-27T12:31:29.560089Z",
     "start_time": "2024-11-27T12:31:29.552266Z"
    }
   },
   "cell_type": "code",
   "source": [
    "def drawn_digits(quantity: int) -> list[int]:\n",
    "    num_list: list[int] = []\n",
    "    while len(num_list) < quantity:\n",
    "        drawn_num: int = random.randint(1, 49)\n",
    "        if drawn_num not in num_list:\n",
    "            num_list.append(drawn_num)\n",
    "    return num_list"
   ],
   "id": "822eacfd3837996e",
   "outputs": [],
   "execution_count": 25
  },
  {
   "metadata": {
    "ExecuteTime": {
     "end_time": "2024-11-27T12:31:50.048090Z",
     "start_time": "2024-11-27T12:31:50.037612Z"
    }
   },
   "cell_type": "code",
   "source": "drawn_digits(6)",
   "id": "c6f57a9849c23812",
   "outputs": [
    {
     "data": {
      "text/plain": [
       "[48, 31, 5, 12, 37, 8]"
      ]
     },
     "execution_count": 27,
     "metadata": {},
     "output_type": "execute_result"
    }
   ],
   "execution_count": 27
  },
  {
   "metadata": {},
   "cell_type": "code",
   "outputs": [],
   "execution_count": null,
   "source": [
    "def check_hits(user_digits: list[int], drawn_digits: list[int]) -> list[int]:\n",
    "    hits: list[int] = []\n",
    "    for num in user_digits:\n",
    "        if num in drawn_digits:\n",
    "            hits.append(num)\n",
    "    return hits"
   ],
   "id": "2069b6c094fc4a24"
  }
 ],
 "metadata": {
  "kernelspec": {
   "display_name": "Python 3",
   "language": "python",
   "name": "python3"
  },
  "language_info": {
   "codemirror_mode": {
    "name": "ipython",
    "version": 2
   },
   "file_extension": ".py",
   "mimetype": "text/x-python",
   "name": "python",
   "nbconvert_exporter": "python",
   "pygments_lexer": "ipython2",
   "version": "2.7.6"
  }
 },
 "nbformat": 4,
 "nbformat_minor": 5
}
