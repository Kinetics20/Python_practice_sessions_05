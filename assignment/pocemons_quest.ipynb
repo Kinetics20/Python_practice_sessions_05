{
 "cells": [
  {
   "metadata": {},
   "cell_type": "markdown",
   "source": "# Pocemons_Quest",
   "id": "d0b477e913d41392"
  },
  {
   "metadata": {},
   "cell_type": "markdown",
   "source": [
    "### Pytania:\n",
    "\n",
    "#### 1.Ile jest Pokemonów, które biją pokemony wodne(\"Water\") i mają atak większy niż 70?\n",
    "#### 2.Jaka jest średnia siła ataku Pokemonów, które biją co najmniej 3 typy pokemonów?\n",
    "#### 3.Który Pokémon ma największą sumę ataku i obrony wśród tych, które biją Pokemony trawiaste (\"Grass\")?"
   ],
   "id": "59275547019dc0"
  },
  {
   "metadata": {
    "ExecuteTime": {
     "end_time": "2024-11-20T12:18:47.928130Z",
     "start_time": "2024-11-20T12:18:47.912479Z"
    }
   },
   "cell_type": "code",
   "source": [
    "pokemons_data = [\n",
    "    {\n",
    "        \"name\": \"Bulbasaur\",\n",
    "        \"type\": [\"Grass\", \"Poison\"],\n",
    "        \"hp\": 45,\n",
    "        \"attack\": 49,\n",
    "        \"defense\": 49,\n",
    "        \"beats\": [\"Water\", \"Rock\", \"Ground\"],\n",
    "    },\n",
    "    {\n",
    "        \"name\": \"Ivysaur\",\n",
    "        \"type\": [\"Grass\", \"Poison\"],\n",
    "        \"hp\": 60,\n",
    "        \"attack\": 62,\n",
    "        \"defense\": 63,\n",
    "        \"beats\": [\"Water\", \"Rock\", \"Ground\"],\n",
    "    },\n",
    "    {\n",
    "        \"name\": \"Venusaur\",\n",
    "        \"type\": [\"Grass\", \"Poison\"],\n",
    "        \"hp\": 80,\n",
    "        \"attack\": 82,\n",
    "        \"defense\": 83,\n",
    "        \"beats\": [\"Water\", \"Rock\", \"Ground\"],\n",
    "    },\n",
    "    {\n",
    "        \"name\": \"Charmander\",\n",
    "        \"type\": [\"Fire\"],\n",
    "        \"hp\": 39,\n",
    "        \"attack\": 52,\n",
    "        \"defense\": 43,\n",
    "        \"beats\": [\"Grass\", \"Bug\", \"Ice\", \"Steel\"],\n",
    "    },\n",
    "    {\n",
    "        \"name\": \"Charmeleon\",\n",
    "        \"type\": [\"Fire\"],\n",
    "        \"hp\": 58,\n",
    "        \"attack\": 64,\n",
    "        \"defense\": 58,\n",
    "        \"beats\": [\"Grass\", \"Bug\", \"Ice\", \"Steel\"],\n",
    "    },\n",
    "    {\n",
    "        \"name\": \"Charizard\",\n",
    "        \"type\": [\"Fire\", \"Flying\"],\n",
    "        \"hp\": 78,\n",
    "        \"attack\": 84,\n",
    "        \"defense\": 78,\n",
    "        \"beats\": [\"Grass\", \"Bug\", \"Ice\", \"Steel\"],\n",
    "    },\n",
    "    {\n",
    "        \"name\": \"Squirtle\",\n",
    "        \"type\": [\"Water\"],\n",
    "        \"hp\": 44,\n",
    "        \"attack\": 48,\n",
    "        \"defense\": 65,\n",
    "        \"beats\": [\"Fire\", \"Rock\", \"Ground\"],\n",
    "    },\n",
    "    {\n",
    "        \"name\": \"Wartortle\",\n",
    "        \"type\": [\"Water\"],\n",
    "        \"hp\": 59,\n",
    "        \"attack\": 63,\n",
    "        \"defense\": 80,\n",
    "        \"beats\": [\"Fire\", \"Rock\", \"Ground\"],\n",
    "    },\n",
    "    {\n",
    "        \"name\": \"Blastoise\",\n",
    "        \"type\": [\"Water\"],\n",
    "        \"hp\": 79,\n",
    "        \"attack\": 83,\n",
    "        \"defense\": 100,\n",
    "        \"beats\": [\"Fire\", \"Rock\", \"Ground\"],\n",
    "    },\n",
    "    {\n",
    "        \"name\": \"Caterpie\",\n",
    "        \"type\": [\"Bug\"],\n",
    "        \"hp\": 45,\n",
    "        \"attack\": 30,\n",
    "        \"defense\": 35,\n",
    "        \"beats\": [\"Grass\", \"Psychic\", \"Dark\"],\n",
    "    },\n",
    "    {\n",
    "        \"name\": \"Metapod\",\n",
    "        \"type\": [\"Bug\"],\n",
    "        \"hp\": 50,\n",
    "        \"attack\": 20,\n",
    "        \"defense\": 55,\n",
    "        \"beats\": [\"Grass\", \"Psychic\", \"Dark\"],\n",
    "    },\n",
    "    {\n",
    "        \"name\": \"Butterfree\",\n",
    "        \"type\": [\"Bug\", \"Flying\"],\n",
    "        \"hp\": 60,\n",
    "        \"attack\": 45,\n",
    "        \"defense\": 50,\n",
    "        \"beats\": [\"Grass\", \"Fighting\", \"Bug\"],\n",
    "    },\n",
    "    {\n",
    "        \"name\": \"Weedle\",\n",
    "        \"type\": [\"Bug\", \"Poison\"],\n",
    "        \"hp\": 40,\n",
    "        \"attack\": 35,\n",
    "        \"defense\": 30,\n",
    "        \"beats\": [\"Grass\", \"Fairy\", \"Fighting\"],\n",
    "    },\n",
    "    {\n",
    "        \"name\": \"Kakuna\",\n",
    "        \"type\": [\"Bug\", \"Poison\"],\n",
    "        \"hp\": 45,\n",
    "        \"attack\": 25,\n",
    "        \"defense\": 50,\n",
    "        \"beats\": [\"Grass\", \"Fairy\", \"Fighting\"],\n",
    "    },\n",
    "    {\n",
    "        \"name\": \"Beedrill\",\n",
    "        \"type\": [\"Bug\", \"Poison\"],\n",
    "        \"hp\": 65,\n",
    "        \"attack\": 90,\n",
    "        \"defense\": 40,\n",
    "        \"beats\": [\"Grass\", \"Fairy\", \"Fighting\"],\n",
    "    },\n",
    "    {\n",
    "        \"name\": \"Pidgey\",\n",
    "        \"type\": [\"Normal\", \"Flying\"],\n",
    "        \"hp\": 40,\n",
    "        \"attack\": 45,\n",
    "        \"defense\": 40,\n",
    "        \"beats\": [\"Bug\", \"Grass\", \"Fighting\"],\n",
    "    },\n",
    "    {\n",
    "        \"name\": \"Pidgeotto\",\n",
    "        \"type\": [\"Normal\", \"Flying\"],\n",
    "        \"hp\": 63,\n",
    "        \"attack\": 60,\n",
    "        \"defense\": 55,\n",
    "        \"beats\": [\"Bug\", \"Grass\", \"Fighting\"],\n",
    "    },\n",
    "    {\n",
    "        \"name\": \"Pidgeot\",\n",
    "        \"type\": [\"Normal\", \"Flying\"],\n",
    "        \"hp\": 83,\n",
    "        \"attack\": 80,\n",
    "        \"defense\": 75,\n",
    "        \"beats\": [\"Bug\", \"Grass\", \"Fighting\"],\n",
    "    },\n",
    "    {\n",
    "        \"name\": \"Rattata\",\n",
    "        \"type\": [\"Normal\"],\n",
    "        \"hp\": 30,\n",
    "        \"attack\": 56,\n",
    "        \"defense\": 35,\n",
    "        \"beats\": [\"Ghost\"],\n",
    "    },\n",
    "    {\n",
    "        \"name\": \"Raticate\",\n",
    "        \"type\": [\"Normal\"],\n",
    "        \"hp\": 55,\n",
    "        \"attack\": 81,\n",
    "        \"defense\": 60,\n",
    "        \"beats\": [\"Ghost\"],\n",
    "    },\n",
    "    {\n",
    "        \"name\": \"Spearow\",\n",
    "        \"type\": [\"Normal\", \"Flying\"],\n",
    "        \"hp\": 40,\n",
    "        \"attack\": 60,\n",
    "        \"defense\": 30,\n",
    "        \"beats\": [\"Bug\", \"Grass\", \"Fighting\"],\n",
    "    },\n",
    "    {\n",
    "        \"name\": \"Fearow\",\n",
    "        \"type\": [\"Normal\", \"Flying\"],\n",
    "        \"hp\": 65,\n",
    "        \"attack\": 90,\n",
    "        \"defense\": 65,\n",
    "        \"beats\": [\"Bug\", \"Grass\", \"Fighting\"],\n",
    "    },\n",
    "    {\n",
    "        \"name\": \"Ekans\",\n",
    "        \"type\": [\"Poison\"],\n",
    "        \"hp\": 35,\n",
    "        \"attack\": 60,\n",
    "        \"defense\": 44,\n",
    "        \"beats\": [\"Grass\", \"Fairy\", \"Fighting\"],\n",
    "    },\n",
    "    {\n",
    "        \"name\": \"Arbok\",\n",
    "        \"type\": [\"Poison\"],\n",
    "        \"hp\": 60,\n",
    "        \"attack\": 95,\n",
    "        \"defense\": 69,\n",
    "        \"beats\": [\"Grass\", \"Fairy\", \"Fighting\"],\n",
    "    },\n",
    "    {\n",
    "        \"name\": \"Pikachu\",\n",
    "        \"type\": [\"Electric\"],\n",
    "        \"hp\": 35,\n",
    "        \"attack\": 55,\n",
    "        \"defense\": 40,\n",
    "        \"beats\": [\"Water\", \"Flying\"],\n",
    "    },\n",
    "    {\n",
    "        \"name\": \"Raichu\",\n",
    "        \"type\": [\"Electric\"],\n",
    "        \"hp\": 60,\n",
    "        \"attack\": 90,\n",
    "        \"defense\": 55,\n",
    "        \"beats\": [\"Water\", \"Flying\"],\n",
    "    },\n",
    "    {\n",
    "        \"name\": \"Sandshrew\",\n",
    "        \"type\": [\"Ground\"],\n",
    "        \"hp\": 50,\n",
    "        \"attack\": 75,\n",
    "        \"defense\": 85,\n",
    "        \"beats\": [\"Fire\", \"Electric\", \"Poison\"],\n",
    "    }\n",
    "]"
   ],
   "id": "10ef47ccc292d989",
   "outputs": [],
   "execution_count": 1
  },
  {
   "metadata": {
    "ExecuteTime": {
     "end_time": "2024-11-20T12:18:53.259128Z",
     "start_time": "2024-11-20T12:18:53.251348Z"
    }
   },
   "cell_type": "code",
   "source": [
    "def check_num_pok(data):\n",
    "    return len([name['name'] for name in data if 'Water' in name['beats'] and name['attack'] > 70])"
   ],
   "id": "e034aa75699f5e",
   "outputs": [],
   "execution_count": 2
  },
  {
   "metadata": {
    "ExecuteTime": {
     "end_time": "2024-11-20T12:18:55.996781Z",
     "start_time": "2024-11-20T12:18:55.975880Z"
    }
   },
   "cell_type": "code",
   "source": "check_num_pok(pokemons_data)",
   "id": "4c73f77d3a4a7e1",
   "outputs": [
    {
     "data": {
      "text/plain": [
       "2"
      ]
     },
     "execution_count": 3,
     "metadata": {},
     "output_type": "execute_result"
    }
   ],
   "execution_count": 3
  },
  {
   "metadata": {},
   "cell_type": "markdown",
   "source": "#### Average attack force value",
   "id": "22310d99819d5c4e"
  },
  {
   "metadata": {
    "ExecuteTime": {
     "end_time": "2024-11-20T12:19:06.897533Z",
     "start_time": "2024-11-20T12:19:06.880716Z"
    }
   },
   "cell_type": "code",
   "source": [
    "def average_attack_force_value(data):\n",
    "    values_lst = [a_value['attack'] for a_value in data if len(a_value['beats']) >= 3] \n",
    "    return round((sum(values_lst) / len(values_lst)), 3)"
   ],
   "id": "e3a5f983954acde1",
   "outputs": [],
   "execution_count": 4
  },
  {
   "metadata": {
    "ExecuteTime": {
     "end_time": "2024-11-20T12:19:09.532062Z",
     "start_time": "2024-11-20T12:19:09.522456Z"
    }
   },
   "cell_type": "code",
   "source": "average_attack_force_value(pokemons_data)",
   "id": "39acd7a8ea1aa89f",
   "outputs": [
    {
     "data": {
      "text/plain": [
       "60.739"
      ]
     },
     "execution_count": 5,
     "metadata": {},
     "output_type": "execute_result"
    }
   ],
   "execution_count": 5
  },
  {
   "metadata": {},
   "cell_type": "markdown",
   "source": "### Name of pokemon",
   "id": "3cdb63378871e4b5"
  },
  {
   "metadata": {
    "ExecuteTime": {
     "end_time": "2024-11-05T20:12:41.947136Z",
     "start_time": "2024-11-05T20:12:41.940697Z"
    }
   },
   "cell_type": "code",
   "source": [
    "def strongest_pokemon(data):\n",
    "    grass_beaters = [pokemon for pokemon in data if \"Grass\" in pokemon[\"beats\"]]\n",
    "    strongest = max(grass_beaters, key=lambda p: p[\"attack\"] + p[\"defense\"])\n",
    "    return strongest[\"name\"]"
   ],
   "id": "4b4d71f213b1483b",
   "outputs": [],
   "execution_count": 16
  },
  {
   "metadata": {
    "ExecuteTime": {
     "end_time": "2024-11-05T20:12:44.855051Z",
     "start_time": "2024-11-05T20:12:44.849534Z"
    }
   },
   "cell_type": "code",
   "source": "strongest_pokemon(pokemons_data)",
   "id": "931f025482a1d454",
   "outputs": [
    {
     "data": {
      "text/plain": [
       "'Arbok'"
      ]
     },
     "execution_count": 17,
     "metadata": {},
     "output_type": "execute_result"
    }
   ],
   "execution_count": 17
  },
  {
   "metadata": {
    "ExecuteTime": {
     "end_time": "2024-11-05T21:12:40.548223Z",
     "start_time": "2024-11-05T21:12:40.541505Z"
    }
   },
   "cell_type": "code",
   "source": [
    "def attack_defense_sum(pokemon):\n",
    "    return pokemon[\"attack\"] + pokemon[\"defense\"]\n",
    "\n",
    "def strongest_pokemon_2(data):\n",
    "    grass_beaters = [pokemon for pokemon in data if \"Grass\" in pokemon[\"beats\"]]\n",
    "    strongest = max(grass_beaters, key=attack_defense_sum)\n",
    "    return strongest[\"name\"]"
   ],
   "id": "cc9dd28b0a1cf0b0",
   "outputs": [],
   "execution_count": 18
  },
  {
   "metadata": {
    "ExecuteTime": {
     "end_time": "2024-11-05T21:12:54.427899Z",
     "start_time": "2024-11-05T21:12:54.422718Z"
    }
   },
   "cell_type": "code",
   "source": "strongest_pokemon_2(pokemons_data)",
   "id": "1ab7b50afeaed639",
   "outputs": [
    {
     "data": {
      "text/plain": [
       "'Arbok'"
      ]
     },
     "execution_count": 19,
     "metadata": {},
     "output_type": "execute_result"
    }
   ],
   "execution_count": 19
  },
  {
   "metadata": {},
   "cell_type": "code",
   "outputs": [],
   "execution_count": null,
   "source": "",
   "id": "5a1195e7bfdb7116"
  }
 ],
 "metadata": {
  "kernelspec": {
   "display_name": "Python 3",
   "language": "python",
   "name": "python3"
  },
  "language_info": {
   "codemirror_mode": {
    "name": "ipython",
    "version": 2
   },
   "file_extension": ".py",
   "mimetype": "text/x-python",
   "name": "python",
   "nbconvert_exporter": "python",
   "pygments_lexer": "ipython2",
   "version": "2.7.6"
  }
 },
 "nbformat": 4,
 "nbformat_minor": 5
}
