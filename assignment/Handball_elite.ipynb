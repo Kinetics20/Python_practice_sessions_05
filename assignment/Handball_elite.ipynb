{
 "cells": [
  {
   "cell_type": "code",
   "id": "deba1ee2-2b08-4a41-86fb-118860f6f8f9",
   "metadata": {
    "ExecuteTime": {
     "end_time": "2024-11-11T12:24:45.538131Z",
     "start_time": "2024-11-11T12:24:45.496615Z"
    }
   },
   "source": [
    "handball_elite = [\n",
    "    {\n",
    "        \"name\": \"FC Barcelona\",\n",
    "        \"country\": \"Spain\",\n",
    "        \"city\": \"Barcelona\",\n",
    "        \"founded\": 1942,\n",
    "        \"arena\": \"Palau Blaugrana\",\n",
    "        \"capacity\": 7500,\n",
    "        \"colors\": [\"burgundy\", \"navy blue\"],\n",
    "        \"successes_in_cl\": {\"1st\": 12, \"2nd\": 5, \"3rd\": 3},\t\t\n",
    "    },\n",
    "    {\n",
    "        \"name\": \"SC Magdeburg\",\n",
    "        \"country\": \"Germany\",\n",
    "        \"city\": \"Magdeburg\",\n",
    "        \"founded\": 1955,\n",
    "        \"arena\": \"GETEC Arena\",\n",
    "        \"capacity\": 8000,\n",
    "        \"colors\": [\"green\", \"red\"],\n",
    "        \"successes_in_cl\": {\"1st\": 4, \"2nd\": 0, \"3rd\": 0},\t\t\n",
    "    },\n",
    "    {\n",
    "        \"name\": \"THW Kiel\",\n",
    "        \"country\": \"Germany\",\n",
    "        \"city\": \"Kiel\",\n",
    "        \"founded\": 1904,\n",
    "        \"arena\": \"Sparkassen\",\n",
    "        \"capacity\": 10250,\n",
    "        \"colors\": [\"white\", \"black\"],\n",
    "        \"successes_in_cl\": {\"1st\": 4, \"2nd\": 4, \"3rd\": 3},\t\t\n",
    "    },\n",
    "    {\n",
    "        \"name\": \"AaB Handbold\",\n",
    "        \"country\": \"Denmark\",\n",
    "        \"city\": \"Aalborg\",\n",
    "        \"founded\": 2000,\n",
    "        \"arena\": \"Jutlander\",\n",
    "        \"capacity\": 5020,\n",
    "        \"colors\": [\"red\", \"white\"],\n",
    "        \"successes_in_cl\": {\"1st\": 0, \"2nd\": 2, \"3rd\": 0},\t\t\n",
    "    },\n",
    "    {\n",
    "        \"name\": \"Paris SG Handball\",\n",
    "        \"country\": \"France\",\n",
    "        \"city\": \"Paris\",\n",
    "        \"founded\": 1941,\n",
    "        \"arena\": \"Stade Pierre\",\n",
    "        \"capacity\": 4500,\n",
    "        \"colors\": [\"blue\", \"red\", \"white\"],\n",
    "        \"successes_in_cl\": {\"1st\": 0, \"2nd\": 1, \"3rd\": 4},\t\t\n",
    "    },\n",
    "    {\n",
    "        \"name\": \"KS Iskra Kielce\",\n",
    "        \"country\": \"Poland\",\n",
    "        \"city\": \"Kielce\",\n",
    "        \"founded\": 1965,\n",
    "        \"arena\": \"Hala Legionów\",\n",
    "        \"capacity\": 4200,\n",
    "        \"colors\": [\"yellow\", \"blue\", \"white\"],\n",
    "        \"successes_in_cl\": {\"1st\": 1, \"2nd\": 2, \"3rd\": 2},\t\t\n",
    "    },\n",
    "    {\n",
    "        \"name\": \"MKB Veszprem KC\",\n",
    "        \"country\": \"Hungary\",\n",
    "        \"city\": \"Veszprem\",\n",
    "        \"founded\": 1977,\n",
    "        \"arena\": \"Veszprém\",\n",
    "        \"capacity\": 5096,\n",
    "        \"colors\": [\"red\", \"white\"],\n",
    "        \"successes_in_cl\": {\"1st\": 0, \"2nd\": 4, \"3rd\": 1},\t\t\n",
    "    },\n",
    "    {\n",
    "        \"name\": \"Fuechse Berlin\",\n",
    "        \"country\": \"Germany\",\n",
    "        \"city\": \"Berlin\",\n",
    "        \"founded\": 1891,\n",
    "        \"arena\": \"Max Schmeling\",\n",
    "        \"capacity\": 8500,\n",
    "        \"colors\": [\"green\", \"black\", \"white\"],\n",
    "        \"successes_in_cl\": {\"1st\": 0, \"2nd\": 0, \"3rd\": 0},\t\t\n",
    "    },\n",
    "    {\n",
    "        \"name\": \"SG Flensburg-Handewitt\",\n",
    "        \"country\": \"Germany\",\n",
    "        \"city\": \"Flensburg-Handewitt\",\n",
    "        \"founded\": 1990,\n",
    "        \"arena\": \"Flens Arena\",\n",
    "        \"capacity\": 6300,\n",
    "        \"colors\": [\"blue\", \"red\", \"white\"],\n",
    "        \"successes_in_cl\": {\"1st\": 1, \"2nd\": 2, \"3rd\": 0},\t\t\n",
    "    },\n",
    "    {\n",
    "        \"name\": \"Sporting Clube de Portugal\",\n",
    "        \"country\": \"Portugal\",\n",
    "        \"city\": \"Lisbon\",\n",
    "        \"founded\": 1932,\n",
    "        \"arena\": \"Pavilhão\",\n",
    "        \"capacity\": 3000,\n",
    "        \"colors\": [\"green\", \"white\"],\n",
    "        \"successes_in_cl\": {\"1st\": 0, \"2nd\": 0, \"3rd\": 0},\t\t\n",
    "    },\n",
    "    {\n",
    "        \"name\": \"Montpellier HB\",\n",
    "        \"country\": \"France\",\n",
    "        \"city\": \"Montpellier\",\n",
    "        \"founded\": 1982,\n",
    "        \"arena\": \"FDI Stadium\",\n",
    "        \"capacity\": 9000,\n",
    "        \"colors\": [\"blue\", \"white\"],\n",
    "        \"successes_in_cl\": {\"1st\": 2, \"2nd\": 0, \"3rd\": 0},\t\t\n",
    "    },\n",
    "    {\n",
    "        \"name\": \"Wisla Plock\",\n",
    "        \"country\": \"Poland\",\n",
    "        \"city\": \"Płock\",\n",
    "        \"founded\": 1964,\n",
    "        \"arena\": \"Orlen Arena\",\n",
    "        \"capacity\": 5492,\n",
    "        \"colors\": [\"blue\", \"white\"],\n",
    "        \"successes_in_cl\": {\"1st\": 0, \"2nd\": 0, \"3rd\": 0},\t\t\n",
    "    },\n",
    "    {\n",
    "        \"name\": \"SC Pick Szeged\",\n",
    "        \"country\": \"Hungary\",\n",
    "        \"city\": \"Szeged\",\n",
    "        \"founded\": 1961,\n",
    "        \"arena\": \"Pick Aréna\",\n",
    "        \"capacity\": 8143,\n",
    "        \"colors\": [\"blue\", \"white\"],\n",
    "        \"successes_in_cl\": {\"1st\": 0, \"2nd\": 0, \"3rd\": 0},\t\t\n",
    "    },\n",
    "    {\n",
    "        \"name\": \"HBC Nantes\",\n",
    "        \"country\": \"France\",\n",
    "        \"city\": \"Nantes\",\n",
    "        \"founded\": 1953,\n",
    "        \"arena\": \"Palais des\",\n",
    "        \"capacity\": 10750,\n",
    "        \"colors\": [\"pink\", \"yellow\"],\n",
    "        \"successes_in_cl\": {\"1st\": 0, \"2nd\": 1, \"3rd\": 0},\t\t\n",
    "    },\n",
    "    {\n",
    "        \"name\": \"GOG Svendborg TGI\",\n",
    "        \"country\": \"Denmark\",\n",
    "        \"city\": \"Gudme\",\n",
    "        \"founded\": 1973,\n",
    "        \"arena\": \"Phønix Tag\",\n",
    "        \"capacity\": 2265,\n",
    "        \"colors\": [\"yellow\", \"red\"],\n",
    "        \"successes_in_cl\": {\"1st\": 0, \"2nd\": 0, \"3rd\": 0},\t\t\n",
    "    },\n",
    "    {\n",
    "        \"name\": \"Dinamo Bucarest\",\n",
    "        \"country\": \"Romania\",\n",
    "        \"city\": \"Bucarest\",\n",
    "        \"founded\": 1953,\n",
    "        \"arena\": \"Sala Polivalentă\",\n",
    "        \"capacity\": 5300,\n",
    "        \"colors\": [\"red\", \"white\"],\n",
    "        \"successes_in_cl\": {\"1st\": 1, \"2nd\": 1, \"3rd\": 0},\t\t\n",
    "    },\n",
    "    {\n",
    "        \"name\": \"RK Nexe Nasice\",\n",
    "        \"country\": \"Croatia\",\n",
    "        \"city\": \"Nasice\",\n",
    "        \"founded\": 1959,\n",
    "        \"arena\": \"Sportska\",\n",
    "        \"capacity\": 2500,\n",
    "        \"colors\": [\"green\", \"black\"],\n",
    "        \"successes_in_cl\": {\"1st\": 0, \"2nd\": 0, \"3rd\": 0},\t\t\n",
    "    },\n",
    "    {\n",
    "        \"name\": \"RK Croatia Zagreb\",\n",
    "        \"country\": \"Croatia\",\n",
    "        \"city\": \"Zagreb\",\n",
    "        \"founded\": 1922,\n",
    "        \"arena\": \"Arena Zagreb\",\n",
    "        \"capacity\": 15200,\n",
    "        \"colors\": [\"blue\", \"white\", \"red\"],\n",
    "        \"successes_in_cl\": {\"1st\": 2, \"2nd\": 4, \"3rd\": 0},\t\t\n",
    "    },\n",
    "    {\n",
    "        \"name\": \"Rhein Neckar Löwen\",\n",
    "        \"country\": \"Germany\",\n",
    "        \"city\": \"Lowen\",\n",
    "        \"founded\": 2002,\n",
    "        \"arena\": \"SAP Arena\",\n",
    "        \"capacity\": 14500,\n",
    "        \"colors\": [\"yellow\", \"navy blue\"],\n",
    "        \"successes_in_cl\": {\"1st\": 0, \"2nd\": 0, \"3rd\": 1},\t\t\n",
    "    },\n",
    "    {\n",
    "        \"name\": \"Valur\",\n",
    "        \"country\": \"Iceland\",\n",
    "        \"city\": \"Reykjavík\",\n",
    "        \"founded\": 1911,\n",
    "        \"arena\": \"N höllin\",\n",
    "        \"capacity\": 1300,\n",
    "        \"colors\": [\"red\", \"white\"],\n",
    "        \"successes_in_cl\": {\"1st\": 0, \"2nd\": 0, \"3rd\": 0},\t\t\n",
    "    }\n",
    "]"
   ],
   "outputs": [],
   "execution_count": 1
  },
  {
   "metadata": {},
   "cell_type": "markdown",
   "source": [
    "# Quest Handball\n",
    "1. Jakie są 3 najstarsze kluby (wśród wymienionych ) i ile lat temu powstały.\n",
    "2. Czy jakiś klub z Polski osiągnął sukcesy w lidze mistrzów (successes_in_cl), jeśli tak to wyświetl informacje na jego temat.\n",
    "3. Jakie państwa (wymień top 3) są najliczniej reprezentowane przez wymienione kluby w zestawieniu."
   ],
   "id": "31495650c0b62499"
  },
  {
   "metadata": {
    "ExecuteTime": {
     "end_time": "2024-11-11T12:26:17.312295Z",
     "start_time": "2024-11-11T12:26:17.301392Z"
    }
   },
   "cell_type": "code",
   "source": [
    "def three_oldest_club(data):\n",
    "    sorted_clubs = sorted(data, key=lambda x: x['founded'])\n",
    "    \n",
    "    oldest_clubs = sorted_clubs[:3]\n",
    "    \n",
    "    current_year = 2024\n",
    "    \n",
    "    result = [(club['name'], current_year - club['founded']) for club in oldest_clubs]\n",
    "    \n",
    "    return result"
   ],
   "id": "d39803d6c8cb982e",
   "outputs": [],
   "execution_count": 2
  },
  {
   "metadata": {
    "ExecuteTime": {
     "end_time": "2024-11-09T18:21:53.058621Z",
     "start_time": "2024-11-09T18:21:53.052177Z"
    }
   },
   "cell_type": "code",
   "source": "three_oldest_club(handball_elite)",
   "id": "24c37da665c88d10",
   "outputs": [
    {
     "data": {
      "text/plain": [
       "[('Fuechse Berlin', 133), ('THW Kiel', 120), ('Valur', 113)]"
      ]
     },
     "execution_count": 21,
     "metadata": {},
     "output_type": "execute_result"
    }
   ],
   "execution_count": 21
  },
  {
   "metadata": {
    "ExecuteTime": {
     "end_time": "2024-11-09T19:01:30.356134Z",
     "start_time": "2024-11-09T19:01:30.350120Z"
    }
   },
   "cell_type": "code",
   "source": [
    "def check_polish_clubs(data):\n",
    "    return [club for club in data if club['country']=='Poland' and (club['successes_in_cl']['1st'] > 0 or club['successes_in_cl']['2nd'] > 0 or club['successes_in_cl']['3rd'] > 0 ) ]"
   ],
   "id": "ace03ea3c76f2c19",
   "outputs": [],
   "execution_count": 9
  },
  {
   "metadata": {
    "ExecuteTime": {
     "end_time": "2024-11-09T19:01:34.050060Z",
     "start_time": "2024-11-09T19:01:34.042205Z"
    }
   },
   "cell_type": "code",
   "source": "check_polish_clubs(handball_elite)",
   "id": "91cbfd05785d795",
   "outputs": [
    {
     "data": {
      "text/plain": [
       "[{'name': 'KS Iskra Kielce',\n",
       "  'country': 'Poland',\n",
       "  'city': 'Kielce',\n",
       "  'founded': 1965,\n",
       "  'arena': 'Hala Legionów',\n",
       "  'capacity': 4200,\n",
       "  'colors': ['yellow', 'blue', 'white'],\n",
       "  'successes_in_cl': {'1st': 1, '2nd': 2, '3rd': 2}}]"
      ]
     },
     "execution_count": 10,
     "metadata": {},
     "output_type": "execute_result"
    }
   ],
   "execution_count": 10
  },
  {
   "metadata": {
    "ExecuteTime": {
     "end_time": "2024-11-09T19:22:16.300070Z",
     "start_time": "2024-11-09T19:22:16.294408Z"
    }
   },
   "cell_type": "code",
   "source": [
    "def check_amount_country(data):\n",
    "    country_counts = {}\n",
    " \n",
    "    for club in data:\n",
    "        country = club['country']\n",
    "        if country in country_counts:\n",
    "            country_counts[country] += 1\n",
    "        else:\n",
    "            country_counts[country] = 1\n",
    "    \n",
    "    sorted_country_counts = sorted(country_counts.items(), key=lambda x: x[1], reverse=True)\n",
    "    \n",
    "    return sorted_country_counts[:3]\n",
    "        "
   ],
   "id": "865c8e2d425f5fe6",
   "outputs": [],
   "execution_count": 21
  },
  {
   "metadata": {
    "ExecuteTime": {
     "end_time": "2024-11-09T19:22:18.889950Z",
     "start_time": "2024-11-09T19:22:18.883791Z"
    }
   },
   "cell_type": "code",
   "source": "check_amount_country(handball_elite)",
   "id": "2c77654f704641f8",
   "outputs": [
    {
     "data": {
      "text/plain": [
       "[('Germany', 5), ('France', 3), ('Denmark', 2)]"
      ]
     },
     "execution_count": 22,
     "metadata": {},
     "output_type": "execute_result"
    }
   ],
   "execution_count": 22
  },
  {
   "metadata": {},
   "cell_type": "code",
   "outputs": [],
   "execution_count": null,
   "source": "",
   "id": "b1f53863e5b42294"
  }
 ],
 "metadata": {
  "kernelspec": {
   "display_name": "Python 3 (ipykernel)",
   "language": "python",
   "name": "python3"
  },
  "language_info": {
   "codemirror_mode": {
    "name": "ipython",
    "version": 3
   },
   "file_extension": ".py",
   "mimetype": "text/x-python",
   "name": "python",
   "nbconvert_exporter": "python",
   "pygments_lexer": "ipython3",
   "version": "3.12.6"
  }
 },
 "nbformat": 4,
 "nbformat_minor": 5
}
