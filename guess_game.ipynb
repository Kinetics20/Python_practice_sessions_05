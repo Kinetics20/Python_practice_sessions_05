{
 "cells": [
  {
   "metadata": {},
   "cell_type": "markdown",
   "source": [
    "# Guess Game\n",
    "\n",
    "1. User gives 2 numbers create scope/range\n",
    "2. The computer draws the number\n",
    "3. User guesses numbers\n",
    "4. The computer says : too little, too much, you hit, displays how many attempts\n",
    "5. Would you like to play again"
   ],
   "id": "102fca416481730d"
  },
  {
   "metadata": {
    "ExecuteTime": {
     "end_time": "2024-10-23T14:35:02.807493Z",
     "start_time": "2024-10-23T14:34:56.300261Z"
    }
   },
   "cell_type": "code",
   "source": [
    "\n",
    "int(input('Put the minimum value :\\n'))\n",
    "int(input('Put the maximum value :\\n'))"
   ],
   "id": "7b6c941e93ba11b9",
   "outputs": [
    {
     "data": {
      "text/plain": [
       "8"
      ]
     },
     "execution_count": 1,
     "metadata": {},
     "output_type": "execute_result"
    }
   ],
   "execution_count": 1
  },
  {
   "metadata": {
    "ExecuteTime": {
     "end_time": "2024-10-23T14:35:03.361328Z",
     "start_time": "2024-10-23T14:35:03.345005Z"
    }
   },
   "cell_type": "code",
   "source": "import random",
   "id": "3f50ac70711fba39",
   "outputs": [],
   "execution_count": 2
  },
  {
   "metadata": {
    "ExecuteTime": {
     "end_time": "2024-10-23T11:31:21.847721Z",
     "start_time": "2024-10-23T11:31:21.840361Z"
    }
   },
   "cell_type": "code",
   "source": [
    "# descriptive names\n",
    "# single responsibility / function does only one thing /\n",
    "# simple is better then complex\n",
    "\n",
    "\n",
    "def get_user_range():\n",
    "    digit_min = int(input('Put the minimum value :\\n'))\n",
    "    digit_max = int(input('Put the maximum value :\\n'))\n",
    "    \n",
    "    return digit_min, digit_max"
   ],
   "id": "9108e82dd268ae3e",
   "outputs": [],
   "execution_count": 2
  },
  {
   "metadata": {
    "ExecuteTime": {
     "end_time": "2024-10-23T11:31:39.006124Z",
     "start_time": "2024-10-23T11:31:32.966346Z"
    }
   },
   "cell_type": "code",
   "source": [
    "result = get_user_range()\n",
    "print(result)"
   ],
   "id": "fffcbd0f9d50a2d5",
   "outputs": [
    {
     "name": "stdout",
     "output_type": "stream",
     "text": [
      "(2, 8)\n"
     ]
    }
   ],
   "execution_count": 3
  },
  {
   "metadata": {
    "ExecuteTime": {
     "end_time": "2024-10-23T11:32:06.015664Z",
     "start_time": "2024-10-23T11:32:06.000890Z"
    }
   },
   "cell_type": "code",
   "source": "type(result[0])",
   "id": "5593e3117850309a",
   "outputs": [
    {
     "data": {
      "text/plain": [
       "int"
      ]
     },
     "execution_count": 5,
     "metadata": {},
     "output_type": "execute_result"
    }
   ],
   "execution_count": 5
  },
  {
   "metadata": {
    "ExecuteTime": {
     "end_time": "2024-10-23T11:32:12.049587Z",
     "start_time": "2024-10-23T11:32:12.037614Z"
    }
   },
   "cell_type": "code",
   "source": [
    "# [item for item in iterable]\n",
    "# _ - dummy name\n",
    "\n",
    "sum(random.randint(0, 10) for _ in range(1, 101)) / 100"
   ],
   "id": "ecc152a6ba36f056",
   "outputs": [
    {
     "data": {
      "text/plain": [
       "5.31"
      ]
     },
     "execution_count": 6,
     "metadata": {},
     "output_type": "execute_result"
    }
   ],
   "execution_count": 6
  },
  {
   "metadata": {
    "ExecuteTime": {
     "end_time": "2024-10-23T11:32:21.867704Z",
     "start_time": "2024-10-23T11:32:21.863727Z"
    }
   },
   "cell_type": "code",
   "source": [
    "def draw_digit(min_d, max_d):\n",
    "    return random.randint(min_d, max_d)"
   ],
   "id": "439ab5c247f030f9",
   "outputs": [],
   "execution_count": 7
  },
  {
   "metadata": {
    "ExecuteTime": {
     "end_time": "2024-10-22T20:40:22.302933Z",
     "start_time": "2024-10-22T20:40:22.297170Z"
    }
   },
   "cell_type": "code",
   "source": "draw_digit(1, 10)",
   "id": "25bbad109ee57fe0",
   "outputs": [
    {
     "data": {
      "text/plain": [
       "7"
      ]
     },
     "execution_count": 38,
     "metadata": {},
     "output_type": "execute_result"
    }
   ],
   "execution_count": 38
  },
  {
   "metadata": {
    "ExecuteTime": {
     "end_time": "2024-10-22T20:43:48.317832Z",
     "start_time": "2024-10-22T20:43:41.855730Z"
    }
   },
   "cell_type": "code",
   "source": [
    "digit_1, digit_2 = get_user_range()\n",
    "draw_digit(digit_1, digit_2)"
   ],
   "id": "eed91854df462ea6",
   "outputs": [
    {
     "data": {
      "text/plain": [
       "4"
      ]
     },
     "execution_count": 40,
     "metadata": {},
     "output_type": "execute_result"
    }
   ],
   "execution_count": 40
  },
  {
   "metadata": {
    "ExecuteTime": {
     "end_time": "2024-10-22T20:48:37.097396Z",
     "start_time": "2024-10-22T20:48:28.182055Z"
    }
   },
   "cell_type": "code",
   "source": [
    "# this statement works but we don't use this way to code / it's not agree with \"Simple is better than complex\"\n",
    "draw_digit(*get_user_range())"
   ],
   "id": "c60e83f74ce2b5bb",
   "outputs": [
    {
     "data": {
      "text/plain": [
       "6"
      ]
     },
     "execution_count": 41,
     "metadata": {},
     "output_type": "execute_result"
    }
   ],
   "execution_count": 41
  },
  {
   "metadata": {
    "ExecuteTime": {
     "end_time": "2024-10-23T13:31:42.475451Z",
     "start_time": "2024-10-23T13:31:42.463880Z"
    }
   },
   "cell_type": "code",
   "source": [
    "def guess_number(number_min, number_max, number_to_guess):\n",
    "    print(f'Guess number from range {number_min} - {number_max}.')\n",
    "    counter = 0\n",
    "    \n",
    "    while True:\n",
    "        counter += 1\n",
    "        user_digit = int(input('Enter number: \\n'))\n",
    "        \n",
    "        if user_digit > number_to_guess:\n",
    "            print('Too much')\n",
    "            # continue\n",
    "        elif user_digit < number_to_guess:\n",
    "            print('Too low')\n",
    "        else:\n",
    "            print(f'you drew a number , you win on {counter}th attempt!!! ')\n",
    "            return\n",
    "    "
   ],
   "id": "691d5dbd07539396",
   "outputs": [],
   "execution_count": 14
  },
  {
   "metadata": {
    "ExecuteTime": {
     "end_time": "2024-10-23T13:31:58.937408Z",
     "start_time": "2024-10-23T13:31:46.615449Z"
    }
   },
   "cell_type": "code",
   "source": "# guess_number(1, 10, 5)",
   "id": "feb5dce05da4fc67",
   "outputs": [
    {
     "name": "stdout",
     "output_type": "stream",
     "text": [
      "Guess number from range 1 - 10. 5\n",
      "Too low\n",
      "Too much\n",
      "you drew a number , you win on 3th attempt!!! \n"
     ]
    }
   ],
   "execution_count": 15
  },
  {
   "metadata": {
    "ExecuteTime": {
     "end_time": "2024-10-23T13:45:03.605606Z",
     "start_time": "2024-10-23T13:45:03.595878Z"
    }
   },
   "cell_type": "code",
   "source": [
    "def play():\n",
    "    \n",
    "    n_min, n_max = get_user_range()\n",
    "    drawn_number = draw_digit(n_min, n_max)\n",
    "    guess_number(n_min, n_max, drawn_number)\n",
    "    \n",
    "    play_again = input('Do you want to play again? (y/n) ')\n",
    "    \n",
    "    if play_again == 'y':\n",
    "        play()\n",
    "    print('Thank you for playing! - GAME OVER -')\n",
    "    "
   ],
   "id": "7fe86065d5d7443",
   "outputs": [],
   "execution_count": 16
  },
  {
   "metadata": {
    "ExecuteTime": {
     "end_time": "2024-10-23T14:10:04.799468Z",
     "start_time": "2024-10-23T14:09:44.110392Z"
    }
   },
   "cell_type": "code",
   "source": "play()",
   "id": "7d901ad70480e96f",
   "outputs": [
    {
     "name": "stdout",
     "output_type": "stream",
     "text": [
      "Guess number from range 1 - 10. 1\n",
      "Too much\n",
      "Too much\n",
      "Too much\n",
      "Too much\n",
      "Too much\n",
      "Too much\n",
      "Too much\n",
      "Too much\n",
      "you drew a number , you win on 9th attempt!!! \n",
      "Thank you for playing! - GAME OVER -\n"
     ]
    }
   ],
   "execution_count": 21
  },
  {
   "metadata": {},
   "cell_type": "code",
   "outputs": [],
   "execution_count": null,
   "source": "",
   "id": "ab55707fbcd05030"
  }
 ],
 "metadata": {
  "kernelspec": {
   "display_name": "Python 3",
   "language": "python",
   "name": "python3"
  },
  "language_info": {
   "codemirror_mode": {
    "name": "ipython",
    "version": 2
   },
   "file_extension": ".py",
   "mimetype": "text/x-python",
   "name": "python",
   "nbconvert_exporter": "python",
   "pygments_lexer": "ipython2",
   "version": "2.7.6"
  }
 },
 "nbformat": 4,
 "nbformat_minor": 5
}
