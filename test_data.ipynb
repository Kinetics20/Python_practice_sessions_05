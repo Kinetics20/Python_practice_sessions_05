{
 "cells": [
  {
   "cell_type": "code",
   "id": "initial_id",
   "metadata": {
    "collapsed": true,
    "ExecuteTime": {
     "end_time": "2024-10-20T09:17:29.955820Z",
     "start_time": "2024-10-20T09:17:29.948607Z"
    }
   },
   "source": [
    "x = 42\n",
    "type(x)"
   ],
   "outputs": [
    {
     "data": {
      "text/plain": [
       "int"
      ]
     },
     "execution_count": 1,
     "metadata": {},
     "output_type": "execute_result"
    }
   ],
   "execution_count": 1
  },
  {
   "metadata": {},
   "cell_type": "markdown",
   "source": [
    "### **Python** *Data Types* :\n",
    "1. bool\n",
    "2. int\n",
    "3. float\n",
    "4. complex\n",
    "5. str\n",
    "6. list\n",
    "7. tuple\n",
    "8. set\n",
    "9. dict\n",
    "10. range\n"
   ],
   "id": "a7e30cae562ea270"
  },
  {
   "metadata": {
    "ExecuteTime": {
     "end_time": "2024-10-23T08:55:06.686955Z",
     "start_time": "2024-10-23T08:55:06.670061Z"
    }
   },
   "cell_type": "code",
   "source": "bool(42)",
   "id": "592f5dcd7d5a9e19",
   "outputs": [
    {
     "data": {
      "text/plain": [
       "True"
      ]
     },
     "execution_count": 1,
     "metadata": {},
     "output_type": "execute_result"
    }
   ],
   "execution_count": 1
  },
  {
   "metadata": {
    "ExecuteTime": {
     "end_time": "2024-10-20T15:41:37.190302Z",
     "start_time": "2024-10-20T15:41:37.184033Z"
    }
   },
   "cell_type": "code",
   "source": "42 == 0",
   "id": "781016c490ca0851",
   "outputs": [
    {
     "data": {
      "text/plain": [
       "False"
      ]
     },
     "execution_count": 3,
     "metadata": {},
     "output_type": "execute_result"
    }
   ],
   "execution_count": 3
  },
  {
   "metadata": {
    "ExecuteTime": {
     "end_time": "2024-10-20T15:42:42.425475Z",
     "start_time": "2024-10-20T15:42:42.418803Z"
    }
   },
   "cell_type": "code",
   "source": "bool(0.000000000000000000000000000000000000)",
   "id": "1e0397e2b35f9bc6",
   "outputs": [
    {
     "data": {
      "text/plain": [
       "False"
      ]
     },
     "execution_count": 4,
     "metadata": {},
     "output_type": "execute_result"
    }
   ],
   "execution_count": 4
  },
  {
   "metadata": {
    "ExecuteTime": {
     "end_time": "2024-10-20T15:45:52.708935Z",
     "start_time": "2024-10-20T15:45:52.704688Z"
    }
   },
   "cell_type": "code",
   "source": [
    "bool('')\n",
    "bool('sth')"
   ],
   "id": "edb567af252cdf5f",
   "outputs": [
    {
     "data": {
      "text/plain": [
       "True"
      ]
     },
     "execution_count": 7,
     "metadata": {},
     "output_type": "execute_result"
    }
   ],
   "execution_count": 7
  },
  {
   "metadata": {
    "ExecuteTime": {
     "end_time": "2024-10-20T15:45:36.092775Z",
     "start_time": "2024-10-20T15:45:36.088729Z"
    }
   },
   "cell_type": "code",
   "source": "bool([])",
   "id": "478c5c8a6d2f2872",
   "outputs": [
    {
     "data": {
      "text/plain": [
       "False"
      ]
     },
     "execution_count": 6,
     "metadata": {},
     "output_type": "execute_result"
    }
   ],
   "execution_count": 6
  },
  {
   "metadata": {
    "ExecuteTime": {
     "end_time": "2024-10-20T15:47:22.991935Z",
     "start_time": "2024-10-20T15:47:22.987008Z"
    }
   },
   "cell_type": "code",
   "source": "bool([''])",
   "id": "798736cedc0d3dec",
   "outputs": [
    {
     "data": {
      "text/plain": [
       "True"
      ]
     },
     "execution_count": 8,
     "metadata": {},
     "output_type": "execute_result"
    }
   ],
   "execution_count": 8
  },
  {
   "metadata": {
    "ExecuteTime": {
     "end_time": "2024-10-20T15:57:56.837488Z",
     "start_time": "2024-10-20T15:57:56.829702Z"
    }
   },
   "cell_type": "code",
   "source": [
    "from decimal import Decimal\n",
    "Decimal('0.1') + Decimal('0.2')\n",
    "Decimal('0.1') + Decimal('0.2') + 1050"
   ],
   "id": "3858710c9149fb81",
   "outputs": [
    {
     "data": {
      "text/plain": [
       "Decimal('1050.3')"
      ]
     },
     "execution_count": 11,
     "metadata": {},
     "output_type": "execute_result"
    }
   ],
   "execution_count": 11
  },
  {
   "metadata": {
    "ExecuteTime": {
     "end_time": "2024-10-20T16:15:29.827478Z",
     "start_time": "2024-10-20T16:15:29.822115Z"
    }
   },
   "cell_type": "code",
   "source": [
    "x= 'sth'\n",
    "id(x)\n",
    "x+='home'\n",
    "id(x)"
   ],
   "id": "c4fa7e2a521ce9fc",
   "outputs": [
    {
     "data": {
      "text/plain": [
       "140698499626784"
      ]
     },
     "execution_count": 15,
     "metadata": {},
     "output_type": "execute_result"
    }
   ],
   "execution_count": 15
  },
  {
   "metadata": {
    "ExecuteTime": {
     "end_time": "2024-10-20T16:15:44.376304Z",
     "start_time": "2024-10-20T16:15:44.363966Z"
    }
   },
   "cell_type": "code",
   "source": [
    "x+='home'\n",
    "id(x)"
   ],
   "id": "64238b3418a87472",
   "outputs": [
    {
     "data": {
      "text/plain": [
       "140698501878576"
      ]
     },
     "execution_count": 16,
     "metadata": {},
     "output_type": "execute_result"
    }
   ],
   "execution_count": 16
  },
  {
   "metadata": {},
   "cell_type": "markdown",
   "source": [
    "# **Python** data types\n",
    "\n",
    "### **primitive types**\n",
    "\n",
    "1. bool - logical value\n",
    "2. int -  integer number\n",
    "3. float - floating point number\n",
    "4. str - character point collection\n",
    "\n",
    "### **complex types**\n",
    "\n",
    "1. complex numbers\n",
    "2. list\n",
    "3. tuple\n",
    "4. set\n",
    "5. dict\n",
    "6. range - generator\n"
   ],
   "id": "165df582a3ac4896"
  },
  {
   "metadata": {},
   "cell_type": "markdown",
   "source": [
    "## Bool\n",
    "- logical value\n",
    "- truthy/falsy values / PL - dowolna wartosc ktora po skonertowaniu na wartosc logiczna da prawde lub falsz /\n",
    "- casting / official convertion any value on logical value /\n",
    "- coercion / incidental convertion on logical value /\n",
    "\n",
    "``` python\n",
    "x = True\n",
    "y = False\n",
    "type(x) # bool\n",
    "\n",
    "```"
   ],
   "id": "e421bc073a80602c"
  }
 ],
 "metadata": {
  "kernelspec": {
   "display_name": "Python 3",
   "language": "python",
   "name": "python3"
  },
  "language_info": {
   "codemirror_mode": {
    "name": "ipython",
    "version": 2
   },
   "file_extension": ".py",
   "mimetype": "text/x-python",
   "name": "python",
   "nbconvert_exporter": "python",
   "pygments_lexer": "ipython2",
   "version": "2.7.6"
  }
 },
 "nbformat": 4,
 "nbformat_minor": 5
}
