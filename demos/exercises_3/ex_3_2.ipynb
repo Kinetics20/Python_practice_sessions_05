{
 "cells": [
  {
   "metadata": {
    "ExecuteTime": {
     "end_time": "2025-06-30T15:39:57.933616Z",
     "start_time": "2025-06-30T15:39:57.912810Z"
    }
   },
   "cell_type": "code",
   "source": [
    "import hashlib\n",
    "\n",
    "def check_hash(candidate: str, target_hash: str, hash_type: str) -> bool:\n",
    "    h = getattr(hashlib, hash_type)()\n",
    "    h.update(candidate.encode())\n",
    "    return h.hexdigest() == target_hash\n"
   ],
   "id": "45f1531a800f9d69",
   "outputs": [],
   "execution_count": 2
  },
  {
   "cell_type": "code",
   "id": "initial_id",
   "metadata": {
    "collapsed": true,
    "ExecuteTime": {
     "end_time": "2025-06-30T15:42:07.003910Z",
     "start_time": "2025-06-30T15:40:02.308131Z"
    }
   },
   "source": [
    "import itertools\n",
    "\n",
    "target = \"ac3fbb3474801233a338e0f27af3477773ad8772d35c87f70d9489837babb35a\"\n",
    "\n",
    "for length in range(1, 9):\n",
    "    for p in itertools.product(\"0123456789\", repeat=length):\n",
    "        candidate = ''.join(p)\n",
    "        if check_hash(candidate, target, 'sha256'):\n",
    "            print(\"Found:\", candidate)\n",
    "            exit()\n"
   ],
   "outputs": [
    {
     "name": "stdout",
     "output_type": "stream",
     "text": [
      "Znaleziono: 13371337\n"
     ]
    }
   ],
   "execution_count": 3
  },
  {
   "metadata": {},
   "cell_type": "code",
   "outputs": [],
   "execution_count": null,
   "source": "",
   "id": "7d230a5aaf9a1680"
  }
 ],
 "metadata": {
  "kernelspec": {
   "display_name": "Python 3",
   "language": "python",
   "name": "python3"
  },
  "language_info": {
   "codemirror_mode": {
    "name": "ipython",
    "version": 2
   },
   "file_extension": ".py",
   "mimetype": "text/x-python",
   "name": "python",
   "nbconvert_exporter": "python",
   "pygments_lexer": "ipython2",
   "version": "2.7.6"
  }
 },
 "nbformat": 4,
 "nbformat_minor": 5
}
