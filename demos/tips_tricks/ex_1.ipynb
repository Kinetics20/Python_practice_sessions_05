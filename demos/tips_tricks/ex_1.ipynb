{
 "cells": [
  {
   "cell_type": "code",
   "id": "initial_id",
   "metadata": {
    "collapsed": true,
    "ExecuteTime": {
     "end_time": "2025-09-03T14:51:18.535482Z",
     "start_time": "2025-09-03T14:51:18.519715Z"
    }
   },
   "source": [
    "def sth():\n",
    "    print('Things are not always what they seem')\n",
    "\n",
    "print(sth)\n",
    "print(hex(id(sth)))"
   ],
   "outputs": [
    {
     "name": "stdout",
     "output_type": "stream",
     "text": [
      "<function sth at 0x7c4abf6a6980>\n",
      "0x7c4abf6a6980\n"
     ]
    }
   ],
   "execution_count": 1
  },
  {
   "metadata": {
    "ExecuteTime": {
     "end_time": "2025-09-03T14:51:19.133010Z",
     "start_time": "2025-09-03T14:51:19.121940Z"
    }
   },
   "cell_type": "code",
   "source": "print(dir(sth))",
   "id": "333fe3562aba3099",
   "outputs": [
    {
     "name": "stdout",
     "output_type": "stream",
     "text": [
      "['__annotations__', '__builtins__', '__call__', '__class__', '__closure__', '__code__', '__defaults__', '__delattr__', '__dict__', '__dir__', '__doc__', '__eq__', '__format__', '__ge__', '__get__', '__getattribute__', '__getstate__', '__globals__', '__gt__', '__hash__', '__init__', '__init_subclass__', '__kwdefaults__', '__le__', '__lt__', '__module__', '__name__', '__ne__', '__new__', '__qualname__', '__reduce__', '__reduce_ex__', '__repr__', '__setattr__', '__sizeof__', '__str__', '__subclasshook__', '__type_params__']\n"
     ]
    }
   ],
   "execution_count": 2
  },
  {
   "metadata": {
    "ExecuteTime": {
     "end_time": "2025-09-03T14:51:19.437731Z",
     "start_time": "2025-09-03T14:51:19.423947Z"
    }
   },
   "cell_type": "code",
   "source": [
    "for _ in dir(sth):\n",
    "    print(_)"
   ],
   "id": "ba89f1e0ba718d5f",
   "outputs": [
    {
     "name": "stdout",
     "output_type": "stream",
     "text": [
      "__annotations__\n",
      "__builtins__\n",
      "__call__\n",
      "__class__\n",
      "__closure__\n",
      "__code__\n",
      "__defaults__\n",
      "__delattr__\n",
      "__dict__\n",
      "__dir__\n",
      "__doc__\n",
      "__eq__\n",
      "__format__\n",
      "__ge__\n",
      "__get__\n",
      "__getattribute__\n",
      "__getstate__\n",
      "__globals__\n",
      "__gt__\n",
      "__hash__\n",
      "__init__\n",
      "__init_subclass__\n",
      "__kwdefaults__\n",
      "__le__\n",
      "__lt__\n",
      "__module__\n",
      "__name__\n",
      "__ne__\n",
      "__new__\n",
      "__qualname__\n",
      "__reduce__\n",
      "__reduce_ex__\n",
      "__repr__\n",
      "__setattr__\n",
      "__sizeof__\n",
      "__str__\n",
      "__subclasshook__\n",
      "__type_params__\n"
     ]
    }
   ],
   "execution_count": 3
  },
  {
   "metadata": {
    "ExecuteTime": {
     "end_time": "2025-09-03T14:51:19.717089Z",
     "start_time": "2025-09-03T14:51:19.701478Z"
    }
   },
   "cell_type": "code",
   "source": [
    "def sth(s='Things are not always what they seem'):\n",
    "    print('Things are not always what they seem')\n",
    "\n",
    "print(sth.__defaults__)"
   ],
   "id": "4e5af0609e8704e3",
   "outputs": [
    {
     "name": "stdout",
     "output_type": "stream",
     "text": [
      "('Things are not always what they seem',)\n"
     ]
    }
   ],
   "execution_count": 4
  },
  {
   "metadata": {
    "ExecuteTime": {
     "end_time": "2025-09-03T14:55:10.819070Z",
     "start_time": "2025-09-03T14:55:10.802242Z"
    }
   },
   "cell_type": "code",
   "source": [
    "import types\n",
    "my_sth = types.FunctionType(\n",
    "    sth.__code__,\n",
    "    globals(),\n",
    "    name='my_sth',\n",
    "    argdefs=('Things are always what they seem',)\n",
    ")\n",
    "my_sth()"
   ],
   "id": "4bb3e0717b023f8a",
   "outputs": [
    {
     "name": "stdout",
     "output_type": "stream",
     "text": [
      "Things are not always what they seem\n"
     ]
    }
   ],
   "execution_count": 8
  },
  {
   "metadata": {
    "ExecuteTime": {
     "end_time": "2025-09-03T15:00:41.873295Z",
     "start_time": "2025-09-03T15:00:41.853470Z"
    }
   },
   "cell_type": "code",
   "source": [
    "import random\n",
    "def give_str():\n",
    "    return random.choice([\n",
    "        'John', 'has', 'a cat'\n",
    "    ])\n",
    "\n",
    "def hello(s=give_str()):\n",
    "    print(s)\n",
    "\n",
    "hello()\n",
    "hello()\n",
    "hello()\n",
    "hello()"
   ],
   "id": "4d2974a78deb57bb",
   "outputs": [
    {
     "name": "stdout",
     "output_type": "stream",
     "text": [
      "John\n",
      "John\n",
      "John\n",
      "John\n"
     ]
    }
   ],
   "execution_count": 13
  },
  {
   "metadata": {
    "ExecuteTime": {
     "end_time": "2025-09-03T15:11:07.223448Z",
     "start_time": "2025-09-03T15:11:07.207509Z"
    }
   },
   "cell_type": "code",
   "source": [
    "def pront(s):\n",
    "    output = []\n",
    "    for ch in s:\n",
    "        c = ord(ch)\n",
    "        if c in range(ord('a'), ord('z') + 1):\n",
    "            c += 119945\n",
    "        elif ord('A') <= c <= ord('Z'):\n",
    "            c += 119951\n",
    "        output.append(chr(c))\n",
    "        output.append(' ')\n",
    "    print(''.join(output))\n",
    "\n",
    "def hello(s={}):\n",
    "    print(s)\n",
    "\n",
    "my_sth = types.FunctionType(\n",
    "    sth.__code__,\n",
    "    {\n",
    "        'print': pront,\n",
    "    },\n",
    "    name='my_sth',\n",
    "    argdefs=('Things are always what they seem',)\n",
    ")\n",
    "my_sth()"
   ],
   "id": "a7e32f7293024b47",
   "outputs": [
    {
     "name": "stdout",
     "output_type": "stream",
     "text": [
      "𝓣 𝓱 𝓲 𝓷 𝓰 𝓼   𝓪 𝓻 𝓮   𝓷 𝓸 𝓽   𝓪 𝓵 𝔀 𝓪 𝔂 𝓼   𝔀 𝓱 𝓪 𝓽   𝓽 𝓱 𝓮 𝔂   𝓼 𝓮 𝓮 𝓶 \n"
     ]
    }
   ],
   "execution_count": 14
  },
  {
   "metadata": {
    "ExecuteTime": {
     "end_time": "2025-09-03T15:50:40.187632Z",
     "start_time": "2025-09-03T15:50:40.179926Z"
    }
   },
   "cell_type": "code",
   "source": [
    "def ret():\n",
    "    return 'sth is wrong'\n",
    "\n",
    "def asdf(x: print([chr(x) for x in range(32, 126)])='asdf'):\n",
    "    # print(asdf.__annotations__['x'])\n",
    "    pass\n",
    "\n",
    "asdf()\n",
    "asdf()\n",
    "asdf()\n",
    "asdf()"
   ],
   "id": "c64d179557199018",
   "outputs": [
    {
     "name": "stdout",
     "output_type": "stream",
     "text": [
      "[' ', '!', '\"', '#', '$', '%', '&', \"'\", '(', ')', '*', '+', ',', '-', '.', '/', '0', '1', '2', '3', '4', '5', '6', '7', '8', '9', ':', ';', '<', '=', '>', '?', '@', 'A', 'B', 'C', 'D', 'E', 'F', 'G', 'H', 'I', 'J', 'K', 'L', 'M', 'N', 'O', 'P', 'Q', 'R', 'S', 'T', 'U', 'V', 'W', 'X', 'Y', 'Z', '[', '\\\\', ']', '^', '_', '`', 'a', 'b', 'c', 'd', 'e', 'f', 'g', 'h', 'i', 'j', 'k', 'l', 'm', 'n', 'o', 'p', 'q', 'r', 's', 't', 'u', 'v', 'w', 'x', 'y', 'z', '{', '|', '}']\n"
     ]
    }
   ],
   "execution_count": 18
  },
  {
   "metadata": {
    "ExecuteTime": {
     "end_time": "2025-09-03T16:04:20.179032Z",
     "start_time": "2025-09-03T16:04:20.169731Z"
    }
   },
   "cell_type": "code",
   "source": [
    "def pront(s):\n",
    "    output = []\n",
    "    for ch in s:\n",
    "        c = ord(ch)\n",
    "        if c in range(ord('a'), ord('z') + 1):\n",
    "            c += 119945\n",
    "        elif ord('A') <= c <= ord('Z'):\n",
    "            c += 119951\n",
    "        output.append(chr(c))\n",
    "        output.append(' ')\n",
    "    print(''.join(output))\n",
    "\n",
    "def hello(s={}):\n",
    "    print(s)\n",
    "\n",
    "\n",
    "\n",
    "my_sth = types.FunctionType(\n",
    "    sth.__code__.replace(\n",
    "        co_names=('pront',),\n",
    "    ),\n",
    "    globals(),\n",
    "    name='my_sth',\n",
    "    argdefs=('Things are always what they seem',)\n",
    ")\n",
    "my_sth()\n",
    "\n",
    "# for n in dir(my_sth.__code__):\n",
    "#     print(n, getattr(hello.__code__, n))"
   ],
   "id": "3dada2ca793cf116",
   "outputs": [
    {
     "name": "stdout",
     "output_type": "stream",
     "text": [
      "𝓣 𝓱 𝓲 𝓷 𝓰 𝓼   𝓪 𝓻 𝓮   𝓷 𝓸 𝓽   𝓪 𝓵 𝔀 𝓪 𝔂 𝓼   𝔀 𝓱 𝓪 𝓽   𝓽 𝓱 𝓮 𝔂   𝓼 𝓮 𝓮 𝓶 \n"
     ]
    }
   ],
   "execution_count": 24
  },
  {
   "metadata": {},
   "cell_type": "code",
   "outputs": [],
   "execution_count": null,
   "source": "",
   "id": "6a80c7d21a3a0996"
  }
 ],
 "metadata": {
  "kernelspec": {
   "display_name": "Python 3",
   "language": "python",
   "name": "python3"
  },
  "language_info": {
   "codemirror_mode": {
    "name": "ipython",
    "version": 2
   },
   "file_extension": ".py",
   "mimetype": "text/x-python",
   "name": "python",
   "nbconvert_exporter": "python",
   "pygments_lexer": "ipython2",
   "version": "2.7.6"
  }
 },
 "nbformat": 4,
 "nbformat_minor": 5
}
