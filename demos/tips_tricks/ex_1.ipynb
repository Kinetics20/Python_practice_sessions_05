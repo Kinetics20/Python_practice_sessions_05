{
 "cells": [
  {
   "cell_type": "code",
   "id": "initial_id",
   "metadata": {
    "collapsed": true,
    "ExecuteTime": {
     "end_time": "2025-09-04T13:38:18.065403Z",
     "start_time": "2025-09-04T13:38:18.056690Z"
    }
   },
   "source": [
    "def sth():\n",
    "    print('Things are not always what they seem')\n",
    "\n",
    "print(sth)\n",
    "print(hex(id(sth)))"
   ],
   "outputs": [
    {
     "name": "stdout",
     "output_type": "stream",
     "text": [
      "<function sth at 0x70cec42d2a20>\n",
      "0x70cec42d2a20\n"
     ]
    }
   ],
   "execution_count": 1
  },
  {
   "metadata": {
    "ExecuteTime": {
     "end_time": "2025-09-04T13:38:18.216314Z",
     "start_time": "2025-09-04T13:38:18.208057Z"
    }
   },
   "cell_type": "code",
   "source": "print(dir(sth))",
   "id": "333fe3562aba3099",
   "outputs": [
    {
     "name": "stdout",
     "output_type": "stream",
     "text": [
      "['__annotations__', '__builtins__', '__call__', '__class__', '__closure__', '__code__', '__defaults__', '__delattr__', '__dict__', '__dir__', '__doc__', '__eq__', '__format__', '__ge__', '__get__', '__getattribute__', '__getstate__', '__globals__', '__gt__', '__hash__', '__init__', '__init_subclass__', '__kwdefaults__', '__le__', '__lt__', '__module__', '__name__', '__ne__', '__new__', '__qualname__', '__reduce__', '__reduce_ex__', '__repr__', '__setattr__', '__sizeof__', '__str__', '__subclasshook__', '__type_params__']\n"
     ]
    }
   ],
   "execution_count": 2
  },
  {
   "metadata": {
    "ExecuteTime": {
     "end_time": "2025-09-04T13:38:18.310822Z",
     "start_time": "2025-09-04T13:38:18.291445Z"
    }
   },
   "cell_type": "code",
   "source": [
    "for _ in dir(sth):\n",
    "    print(_)"
   ],
   "id": "ba89f1e0ba718d5f",
   "outputs": [
    {
     "name": "stdout",
     "output_type": "stream",
     "text": [
      "__annotations__\n",
      "__builtins__\n",
      "__call__\n",
      "__class__\n",
      "__closure__\n",
      "__code__\n",
      "__defaults__\n",
      "__delattr__\n",
      "__dict__\n",
      "__dir__\n",
      "__doc__\n",
      "__eq__\n",
      "__format__\n",
      "__ge__\n",
      "__get__\n",
      "__getattribute__\n",
      "__getstate__\n",
      "__globals__\n",
      "__gt__\n",
      "__hash__\n",
      "__init__\n",
      "__init_subclass__\n",
      "__kwdefaults__\n",
      "__le__\n",
      "__lt__\n",
      "__module__\n",
      "__name__\n",
      "__ne__\n",
      "__new__\n",
      "__qualname__\n",
      "__reduce__\n",
      "__reduce_ex__\n",
      "__repr__\n",
      "__setattr__\n",
      "__sizeof__\n",
      "__str__\n",
      "__subclasshook__\n",
      "__type_params__\n"
     ]
    }
   ],
   "execution_count": 3
  },
  {
   "metadata": {
    "ExecuteTime": {
     "end_time": "2025-09-04T13:38:18.377526Z",
     "start_time": "2025-09-04T13:38:18.364479Z"
    }
   },
   "cell_type": "code",
   "source": [
    "def sth(s='Things are not always what they seem'):\n",
    "    print('Things are not always what they seem')\n",
    "\n",
    "print(sth.__defaults__)"
   ],
   "id": "4e5af0609e8704e3",
   "outputs": [
    {
     "name": "stdout",
     "output_type": "stream",
     "text": [
      "('Things are not always what they seem',)\n"
     ]
    }
   ],
   "execution_count": 4
  },
  {
   "metadata": {
    "ExecuteTime": {
     "end_time": "2025-09-04T13:38:18.492376Z",
     "start_time": "2025-09-04T13:38:18.475203Z"
    }
   },
   "cell_type": "code",
   "source": [
    "import types\n",
    "my_sth = types.FunctionType(\n",
    "    sth.__code__,\n",
    "    globals(),\n",
    "    name='my_sth',\n",
    "    argdefs=('Things are always what they seem',)\n",
    ")\n",
    "my_sth()"
   ],
   "id": "4bb3e0717b023f8a",
   "outputs": [
    {
     "name": "stdout",
     "output_type": "stream",
     "text": [
      "Things are not always what they seem\n"
     ]
    }
   ],
   "execution_count": 5
  },
  {
   "metadata": {
    "ExecuteTime": {
     "end_time": "2025-09-04T13:38:18.563550Z",
     "start_time": "2025-09-04T13:38:18.554132Z"
    }
   },
   "cell_type": "code",
   "source": [
    "import random\n",
    "def give_str():\n",
    "    return random.choice([\n",
    "        'John', 'has', 'a cat'\n",
    "    ])\n",
    "\n",
    "def hello(s=give_str()):\n",
    "    print(s)\n",
    "\n",
    "hello()\n",
    "hello()\n",
    "hello()\n",
    "hello()"
   ],
   "id": "4d2974a78deb57bb",
   "outputs": [
    {
     "name": "stdout",
     "output_type": "stream",
     "text": [
      "has\n",
      "has\n",
      "has\n",
      "has\n"
     ]
    }
   ],
   "execution_count": 6
  },
  {
   "metadata": {
    "ExecuteTime": {
     "end_time": "2025-09-04T13:38:18.653918Z",
     "start_time": "2025-09-04T13:38:18.629674Z"
    }
   },
   "cell_type": "code",
   "source": [
    "def pront(s):\n",
    "    output = []\n",
    "    for ch in s:\n",
    "        c = ord(ch)\n",
    "        if c in range(ord('a'), ord('z') + 1):\n",
    "            c += 119945\n",
    "        elif ord('A') <= c <= ord('Z'):\n",
    "            c += 119951\n",
    "        output.append(chr(c))\n",
    "        output.append(' ')\n",
    "    print(''.join(output))\n",
    "\n",
    "def hello(s={}):\n",
    "    print(s)\n",
    "\n",
    "my_sth = types.FunctionType(\n",
    "    sth.__code__,\n",
    "    {\n",
    "        'print': pront,\n",
    "    },\n",
    "    name='my_sth',\n",
    "    argdefs=('Things are always what they seem',)\n",
    ")\n",
    "my_sth()"
   ],
   "id": "a7e32f7293024b47",
   "outputs": [
    {
     "name": "stdout",
     "output_type": "stream",
     "text": [
      "𝓣 𝓱 𝓲 𝓷 𝓰 𝓼   𝓪 𝓻 𝓮   𝓷 𝓸 𝓽   𝓪 𝓵 𝔀 𝓪 𝔂 𝓼   𝔀 𝓱 𝓪 𝓽   𝓽 𝓱 𝓮 𝔂   𝓼 𝓮 𝓮 𝓶 \n"
     ]
    }
   ],
   "execution_count": 7
  },
  {
   "metadata": {
    "ExecuteTime": {
     "end_time": "2025-09-04T13:38:18.722484Z",
     "start_time": "2025-09-04T13:38:18.711222Z"
    }
   },
   "cell_type": "code",
   "source": [
    "def ret():\n",
    "    return 'sth is wrong'\n",
    "\n",
    "def asdf(x: print([chr(x) for x in range(32, 126)])='asdf'):\n",
    "    # print(asdf.__annotations__['x'])\n",
    "    pass\n",
    "\n",
    "asdf()\n",
    "asdf()\n",
    "asdf()\n",
    "asdf()"
   ],
   "id": "c64d179557199018",
   "outputs": [
    {
     "name": "stdout",
     "output_type": "stream",
     "text": [
      "[' ', '!', '\"', '#', '$', '%', '&', \"'\", '(', ')', '*', '+', ',', '-', '.', '/', '0', '1', '2', '3', '4', '5', '6', '7', '8', '9', ':', ';', '<', '=', '>', '?', '@', 'A', 'B', 'C', 'D', 'E', 'F', 'G', 'H', 'I', 'J', 'K', 'L', 'M', 'N', 'O', 'P', 'Q', 'R', 'S', 'T', 'U', 'V', 'W', 'X', 'Y', 'Z', '[', '\\\\', ']', '^', '_', '`', 'a', 'b', 'c', 'd', 'e', 'f', 'g', 'h', 'i', 'j', 'k', 'l', 'm', 'n', 'o', 'p', 'q', 'r', 's', 't', 'u', 'v', 'w', 'x', 'y', 'z', '{', '|', '}']\n"
     ]
    }
   ],
   "execution_count": 8
  },
  {
   "metadata": {
    "ExecuteTime": {
     "end_time": "2025-09-04T13:38:18.795102Z",
     "start_time": "2025-09-04T13:38:18.784054Z"
    }
   },
   "cell_type": "code",
   "source": [
    "def pront(s):\n",
    "    output = []\n",
    "    for ch in s:\n",
    "        c = ord(ch)\n",
    "        if c in range(ord('a'), ord('z') + 1):\n",
    "            c += 119945\n",
    "        elif ord('A') <= c <= ord('Z'):\n",
    "            c += 119951\n",
    "        output.append(chr(c))\n",
    "        output.append(' ')\n",
    "    print(''.join(output))\n",
    "\n",
    "def hello(s={}):\n",
    "    print(s)\n",
    "\n",
    "\n",
    "\n",
    "my_sth = types.FunctionType(\n",
    "    sth.__code__.replace(\n",
    "        co_names=('pront',),\n",
    "    ),\n",
    "    globals(),\n",
    "    name='my_sth',\n",
    "    argdefs=('Things are always what they seem',)\n",
    ")\n",
    "my_sth()\n",
    "\n",
    "# for n in dir(my_sth.__code__):\n",
    "#     print(n, getattr(hello.__code__, n))"
   ],
   "id": "3dada2ca793cf116",
   "outputs": [
    {
     "name": "stdout",
     "output_type": "stream",
     "text": [
      "𝓣 𝓱 𝓲 𝓷 𝓰 𝓼   𝓪 𝓻 𝓮   𝓷 𝓸 𝓽   𝓪 𝓵 𝔀 𝓪 𝔂 𝓼   𝔀 𝓱 𝓪 𝓽   𝓽 𝓱 𝓮 𝔂   𝓼 𝓮 𝓮 𝓶 \n"
     ]
    }
   ],
   "execution_count": 9
  },
  {
   "metadata": {
    "ExecuteTime": {
     "end_time": "2025-09-04T13:46:56.553913Z",
     "start_time": "2025-09-04T13:46:56.534727Z"
    }
   },
   "cell_type": "code",
   "source": [
    "a = 'John'\n",
    "\n",
    "def print_stuff():\n",
    "    b = 'has'\n",
    "    c = 'a cat'\n",
    "    print(' '.join([a, b, c]))\n",
    "\n",
    "print_stuff()"
   ],
   "id": "6a80c7d21a3a0996",
   "outputs": [
    {
     "name": "stdout",
     "output_type": "stream",
     "text": [
      "John has a cat\n"
     ]
    }
   ],
   "execution_count": 10
  },
  {
   "metadata": {},
   "cell_type": "code",
   "outputs": [],
   "execution_count": null,
   "source": "",
   "id": "d4bc7785c2bea785"
  }
 ],
 "metadata": {
  "kernelspec": {
   "display_name": "Python 3",
   "language": "python",
   "name": "python3"
  },
  "language_info": {
   "codemirror_mode": {
    "name": "ipython",
    "version": 2
   },
   "file_extension": ".py",
   "mimetype": "text/x-python",
   "name": "python",
   "nbconvert_exporter": "python",
   "pygments_lexer": "ipython2",
   "version": "2.7.6"
  }
 },
 "nbformat": 4,
 "nbformat_minor": 5
}
