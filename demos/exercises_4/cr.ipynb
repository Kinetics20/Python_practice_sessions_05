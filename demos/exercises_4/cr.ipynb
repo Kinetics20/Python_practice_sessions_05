{
 "cells": [
  {
   "cell_type": "code",
   "id": "initial_id",
   "metadata": {
    "collapsed": true,
    "ExecuteTime": {
     "end_time": "2025-07-01T15:00:44.158998Z",
     "start_time": "2025-07-01T15:00:44.151536Z"
    }
   },
   "source": [
    "import hashlib\n",
    "import zlib"
   ],
   "outputs": [],
   "execution_count": 1
  },
  {
   "metadata": {
    "ExecuteTime": {
     "end_time": "2025-07-01T15:01:51.057624Z",
     "start_time": "2025-07-01T15:01:51.045342Z"
    }
   },
   "cell_type": "code",
   "source": "hashlib.sha256(b'work').hexdigest()",
   "id": "e8a02a612b06f65d",
   "outputs": [
    {
     "data": {
      "text/plain": [
       "'00e13ed7af55b27622f1d6eab5bec0147e68efe28dc2b12461117afa1a5ed40e'"
      ]
     },
     "execution_count": 3,
     "metadata": {},
     "output_type": "execute_result"
    }
   ],
   "execution_count": 3
  },
  {
   "metadata": {
    "ExecuteTime": {
     "end_time": "2025-07-01T15:02:10.589644Z",
     "start_time": "2025-07-01T15:02:10.578527Z"
    }
   },
   "cell_type": "code",
   "source": "zlib.crc32(b'work')",
   "id": "7ee0e92d09c5723a",
   "outputs": [
    {
     "data": {
      "text/plain": [
       "1397647488"
      ]
     },
     "execution_count": 4,
     "metadata": {},
     "output_type": "execute_result"
    }
   ],
   "execution_count": 4
  },
  {
   "metadata": {
    "ExecuteTime": {
     "end_time": "2025-07-01T15:02:35.271647Z",
     "start_time": "2025-07-01T15:02:35.254820Z"
    }
   },
   "cell_type": "code",
   "source": "hex(zlib.crc32(b'work'))",
   "id": "92a07f9853f8e8d",
   "outputs": [
    {
     "data": {
      "text/plain": [
       "'0x534e6880'"
      ]
     },
     "execution_count": 5,
     "metadata": {},
     "output_type": "execute_result"
    }
   ],
   "execution_count": 5
  },
  {
   "metadata": {},
   "cell_type": "code",
   "outputs": [],
   "execution_count": null,
   "source": "",
   "id": "3fe366c40b37b2a0"
  }
 ],
 "metadata": {
  "kernelspec": {
   "display_name": "Python 3",
   "language": "python",
   "name": "python3"
  },
  "language_info": {
   "codemirror_mode": {
    "name": "ipython",
    "version": 2
   },
   "file_extension": ".py",
   "mimetype": "text/x-python",
   "name": "python",
   "nbconvert_exporter": "python",
   "pygments_lexer": "ipython2",
   "version": "2.7.6"
  }
 },
 "nbformat": 4,
 "nbformat_minor": 5
}
