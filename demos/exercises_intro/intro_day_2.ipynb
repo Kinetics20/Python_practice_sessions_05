{
 "cells": [
  {
   "cell_type": "code",
   "id": "initial_id",
   "metadata": {
    "collapsed": true,
    "ExecuteTime": {
     "end_time": "2025-06-05T19:01:02.691179Z",
     "start_time": "2025-06-05T19:01:02.686520Z"
    }
   },
   "source": "import os",
   "outputs": [],
   "execution_count": 1
  },
  {
   "metadata": {
    "ExecuteTime": {
     "end_time": "2025-06-05T19:01:20.997425Z",
     "start_time": "2025-06-05T19:01:20.979269Z"
    }
   },
   "cell_type": "code",
   "source": "os.system('date')",
   "id": "8015093298933c1b",
   "outputs": [
    {
     "name": "stdout",
     "output_type": "stream",
     "text": [
      "Thu Jun  5 09:01:20 PM CEST 2025\n"
     ]
    },
    {
     "data": {
      "text/plain": [
       "0"
      ]
     },
     "execution_count": 2,
     "metadata": {},
     "output_type": "execute_result"
    }
   ],
   "execution_count": 2
  },
  {
   "metadata": {
    "ExecuteTime": {
     "end_time": "2025-06-05T19:04:26.424901Z",
     "start_time": "2025-06-05T19:04:26.401674Z"
    }
   },
   "cell_type": "code",
   "source": "'NUL'.encode()",
   "id": "e896d4a5e491c004",
   "outputs": [
    {
     "data": {
      "text/plain": [
       "b'NUL'"
      ]
     },
     "execution_count": 4,
     "metadata": {},
     "output_type": "execute_result"
    }
   ],
   "execution_count": 4
  },
  {
   "metadata": {
    "ExecuteTime": {
     "end_time": "2025-06-05T19:04:46.257167Z",
     "start_time": "2025-06-05T19:04:46.249767Z"
    }
   },
   "cell_type": "code",
   "source": "b'NUL'.decode()",
   "id": "831b48008c67fdea",
   "outputs": [
    {
     "data": {
      "text/plain": [
       "'NUL'"
      ]
     },
     "execution_count": 5,
     "metadata": {},
     "output_type": "execute_result"
    }
   ],
   "execution_count": 5
  },
  {
   "metadata": {
    "ExecuteTime": {
     "end_time": "2025-06-05T19:05:13.699334Z",
     "start_time": "2025-06-05T19:05:13.693384Z"
    }
   },
   "cell_type": "code",
   "source": "'1925'.encode()",
   "id": "f8f026471ad77c54",
   "outputs": [
    {
     "data": {
      "text/plain": [
       "b'1925'"
      ]
     },
     "execution_count": 7,
     "metadata": {},
     "output_type": "execute_result"
    }
   ],
   "execution_count": 7
  },
  {
   "metadata": {
    "ExecuteTime": {
     "end_time": "2025-06-05T19:33:09.194059Z",
     "start_time": "2025-06-05T19:33:09.186608Z"
    }
   },
   "cell_type": "code",
   "source": "dir([])",
   "id": "1d5b831e0093e4d7",
   "outputs": [
    {
     "data": {
      "text/plain": [
       "['__add__',\n",
       " '__class__',\n",
       " '__class_getitem__',\n",
       " '__contains__',\n",
       " '__delattr__',\n",
       " '__delitem__',\n",
       " '__dir__',\n",
       " '__doc__',\n",
       " '__eq__',\n",
       " '__format__',\n",
       " '__ge__',\n",
       " '__getattribute__',\n",
       " '__getitem__',\n",
       " '__getstate__',\n",
       " '__gt__',\n",
       " '__hash__',\n",
       " '__iadd__',\n",
       " '__imul__',\n",
       " '__init__',\n",
       " '__init_subclass__',\n",
       " '__iter__',\n",
       " '__le__',\n",
       " '__len__',\n",
       " '__lt__',\n",
       " '__mul__',\n",
       " '__ne__',\n",
       " '__new__',\n",
       " '__reduce__',\n",
       " '__reduce_ex__',\n",
       " '__repr__',\n",
       " '__reversed__',\n",
       " '__rmul__',\n",
       " '__setattr__',\n",
       " '__setitem__',\n",
       " '__sizeof__',\n",
       " '__str__',\n",
       " '__subclasshook__',\n",
       " 'append',\n",
       " 'clear',\n",
       " 'copy',\n",
       " 'count',\n",
       " 'extend',\n",
       " 'index',\n",
       " 'insert',\n",
       " 'pop',\n",
       " 'remove',\n",
       " 'reverse',\n",
       " 'sort']"
      ]
     },
     "execution_count": 8,
     "metadata": {},
     "output_type": "execute_result"
    }
   ],
   "execution_count": 8
  },
  {
   "metadata": {
    "ExecuteTime": {
     "end_time": "2025-06-05T19:33:25.106336Z",
     "start_time": "2025-06-05T19:33:25.100828Z"
    }
   },
   "cell_type": "code",
   "source": "help([].clear)",
   "id": "bf47cc6aff586efd",
   "outputs": [
    {
     "name": "stdout",
     "output_type": "stream",
     "text": [
      "Help on built-in function clear:\n",
      "\n",
      "clear() method of builtins.list instance\n",
      "    Remove all items from list.\n",
      "\n"
     ]
    }
   ],
   "execution_count": 9
  },
  {
   "metadata": {
    "ExecuteTime": {
     "end_time": "2025-06-05T19:33:46.857991Z",
     "start_time": "2025-06-05T19:33:46.851798Z"
    }
   },
   "cell_type": "code",
   "source": "help([].index)",
   "id": "9b82dd03a08ce3f",
   "outputs": [
    {
     "name": "stdout",
     "output_type": "stream",
     "text": [
      "Help on built-in function index:\n",
      "\n",
      "index(value, start=0, stop=9223372036854775807, /) method of builtins.list instance\n",
      "    Return first index of value.\n",
      "\n",
      "    Raises ValueError if the value is not present.\n",
      "\n"
     ]
    }
   ],
   "execution_count": 10
  },
  {
   "metadata": {
    "ExecuteTime": {
     "end_time": "2025-06-05T19:40:31.842081Z",
     "start_time": "2025-06-05T19:40:31.829085Z"
    }
   },
   "cell_type": "code",
   "source": "dir({})",
   "id": "bd814807841c0cee",
   "outputs": [
    {
     "data": {
      "text/plain": [
       "['__class__',\n",
       " '__class_getitem__',\n",
       " '__contains__',\n",
       " '__delattr__',\n",
       " '__delitem__',\n",
       " '__dir__',\n",
       " '__doc__',\n",
       " '__eq__',\n",
       " '__format__',\n",
       " '__ge__',\n",
       " '__getattribute__',\n",
       " '__getitem__',\n",
       " '__getstate__',\n",
       " '__gt__',\n",
       " '__hash__',\n",
       " '__init__',\n",
       " '__init_subclass__',\n",
       " '__ior__',\n",
       " '__iter__',\n",
       " '__le__',\n",
       " '__len__',\n",
       " '__lt__',\n",
       " '__ne__',\n",
       " '__new__',\n",
       " '__or__',\n",
       " '__reduce__',\n",
       " '__reduce_ex__',\n",
       " '__repr__',\n",
       " '__reversed__',\n",
       " '__ror__',\n",
       " '__setattr__',\n",
       " '__setitem__',\n",
       " '__sizeof__',\n",
       " '__str__',\n",
       " '__subclasshook__',\n",
       " 'clear',\n",
       " 'copy',\n",
       " 'fromkeys',\n",
       " 'get',\n",
       " 'items',\n",
       " 'keys',\n",
       " 'pop',\n",
       " 'popitem',\n",
       " 'setdefault',\n",
       " 'update',\n",
       " 'values']"
      ]
     },
     "execution_count": 11,
     "metadata": {},
     "output_type": "execute_result"
    }
   ],
   "execution_count": 11
  },
  {
   "metadata": {
    "ExecuteTime": {
     "end_time": "2025-06-05T19:40:58.752934Z",
     "start_time": "2025-06-05T19:40:58.746537Z"
    }
   },
   "cell_type": "code",
   "source": "help({}.get)",
   "id": "8fb9bfac45d42472",
   "outputs": [
    {
     "name": "stdout",
     "output_type": "stream",
     "text": [
      "Help on built-in function get:\n",
      "\n",
      "get(key, default=None, /) method of builtins.dict instance\n",
      "    Return the value for key if key is in the dictionary, else default.\n",
      "\n"
     ]
    }
   ],
   "execution_count": 12
  },
  {
   "metadata": {
    "ExecuteTime": {
     "end_time": "2025-06-05T20:48:03.731622Z",
     "start_time": "2025-06-05T20:48:03.722527Z"
    }
   },
   "cell_type": "code",
   "source": [
    "b = []\n",
    "for _ in range(5):\n",
    "    b.append([])\n",
    "b"
   ],
   "id": "df2f48ce62633bcb",
   "outputs": [
    {
     "data": {
      "text/plain": [
       "[[], [], [], [], []]"
      ]
     },
     "execution_count": 13,
     "metadata": {},
     "output_type": "execute_result"
    }
   ],
   "execution_count": 13
  },
  {
   "metadata": {
    "ExecuteTime": {
     "end_time": "2025-06-05T20:48:54.824408Z",
     "start_time": "2025-06-05T20:48:54.812468Z"
    }
   },
   "cell_type": "code",
   "source": [
    "b[0].append(1)\n",
    "b[0].append('ala')\n",
    "b[0].append(1000)\n",
    "b"
   ],
   "id": "c43437146ae2f733",
   "outputs": [
    {
     "data": {
      "text/plain": [
       "[[1, 'ala', 1000], [], [], [], []]"
      ]
     },
     "execution_count": 14,
     "metadata": {},
     "output_type": "execute_result"
    }
   ],
   "execution_count": 14
  },
  {
   "metadata": {},
   "cell_type": "markdown",
   "source": "### Intro Day III",
   "id": "779959f3ab993737"
  },
  {
   "metadata": {
    "ExecuteTime": {
     "end_time": "2025-06-09T20:07:47.703580Z",
     "start_time": "2025-06-09T20:07:47.699046Z"
    }
   },
   "cell_type": "code",
   "source": [
    "def draw_triangle(n):\n",
    "    output = []\n",
    "    for i in range(n):\n",
    "        txt = '*' * (i + 1)\n",
    "        output.append(txt)\n",
    "    return output\n",
    "\n",
    "t = draw_triangle(10)\n",
    "print('\\n'.join(t))"
   ],
   "id": "d183bab52cf68070",
   "outputs": [
    {
     "name": "stdout",
     "output_type": "stream",
     "text": [
      "*\n",
      "**\n",
      "***\n",
      "****\n",
      "*****\n",
      "******\n",
      "*******\n",
      "********\n",
      "*********\n",
      "**********\n"
     ]
    }
   ],
   "execution_count": 3
  },
  {
   "metadata": {
    "ExecuteTime": {
     "end_time": "2025-06-09T20:14:48.102390Z",
     "start_time": "2025-06-09T20:14:48.094502Z"
    }
   },
   "cell_type": "code",
   "source": "globals().keys()",
   "id": "a2e456e0615ebf02",
   "outputs": [
    {
     "data": {
      "text/plain": [
       "dict_keys(['__name__', '__doc__', '__package__', '__loader__', '__spec__', '__builtin__', '__builtins__', '_ih', '_oh', '_dh', 'In', 'Out', 'get_ipython', 'exit', 'quit', 'open', '_', '__', '___', '__session__', '_i', '_ii', '_iii', '_i1', 'draw_triangle', 't', 'sys', 'remove_imported_pydev_package', '_pydevd_bundle', 'pydev_jupyter_vars', '_i2', '_i3', '_i4', '_4', '_i5'])"
      ]
     },
     "execution_count": 5,
     "metadata": {},
     "output_type": "execute_result"
    }
   ],
   "execution_count": 5
  },
  {
   "metadata": {
    "ExecuteTime": {
     "end_time": "2025-06-09T20:15:23.917569Z",
     "start_time": "2025-06-09T20:15:23.891920Z"
    }
   },
   "cell_type": "code",
   "source": "globals().items()",
   "id": "398e62fc6536c7d9",
   "outputs": [
    {
     "data": {
      "text/plain": [
       "dict_items([('__name__', '__main__'), ('__doc__', 'Automatically created module for IPython interactive environment'), ('__package__', None), ('__loader__', None), ('__spec__', None), ('__builtin__', <module 'builtins' (built-in)>), ('__builtins__', <module 'builtins' (built-in)>), ('_ih', ['', \"def draw_triangle(n):\\n    output = []\\n    for i in range(n):\\n        txt = '*' * (i + 1)\\n        output.append(txt)\\n    return output\\n\\nt = draw_triangle(10)\\nprint('\\\\n'.join(t))\", \"def draw_triangle(n):\\n    output = []\\n    for i in range(n):\\n        txt = '*' * (i)\\n        output.append(txt)\\n    return output\\n\\nt = draw_triangle(10)\\nprint('\\\\n'.join(t))\", \"def draw_triangle(n):\\n    output = []\\n    for i in range(n):\\n        txt = '*' * (i + 1)\\n        output.append(txt)\\n    return output\\n\\nt = draw_triangle(10)\\nprint('\\\\n'.join(t))\", 'globals()', 'globals().keys()', 'globals().values()', 'globals().items()']), ('_oh', {4: {'__name__': '__main__', '__doc__': 'Automatically created module for IPython interactive environment', '__package__': None, '__loader__': None, '__spec__': None, '__builtin__': <module 'builtins' (built-in)>, '__builtins__': <module 'builtins' (built-in)>, '_ih': ['', \"def draw_triangle(n):\\n    output = []\\n    for i in range(n):\\n        txt = '*' * (i + 1)\\n        output.append(txt)\\n    return output\\n\\nt = draw_triangle(10)\\nprint('\\\\n'.join(t))\", \"def draw_triangle(n):\\n    output = []\\n    for i in range(n):\\n        txt = '*' * (i)\\n        output.append(txt)\\n    return output\\n\\nt = draw_triangle(10)\\nprint('\\\\n'.join(t))\", \"def draw_triangle(n):\\n    output = []\\n    for i in range(n):\\n        txt = '*' * (i + 1)\\n        output.append(txt)\\n    return output\\n\\nt = draw_triangle(10)\\nprint('\\\\n'.join(t))\", 'globals()', 'globals().keys()', 'globals().values()', 'globals().items()'], '_oh': {...}, '_dh': [PosixPath('/home/lipov/projects/Python_practice_sessions_05/demos/exercises_intro')], 'In': ['', \"def draw_triangle(n):\\n    output = []\\n    for i in range(n):\\n        txt = '*' * (i + 1)\\n        output.append(txt)\\n    return output\\n\\nt = draw_triangle(10)\\nprint('\\\\n'.join(t))\", \"def draw_triangle(n):\\n    output = []\\n    for i in range(n):\\n        txt = '*' * (i)\\n        output.append(txt)\\n    return output\\n\\nt = draw_triangle(10)\\nprint('\\\\n'.join(t))\", \"def draw_triangle(n):\\n    output = []\\n    for i in range(n):\\n        txt = '*' * (i + 1)\\n        output.append(txt)\\n    return output\\n\\nt = draw_triangle(10)\\nprint('\\\\n'.join(t))\", 'globals()', 'globals().keys()', 'globals().values()', 'globals().items()'], 'Out': {...}, 'get_ipython': <bound method InteractiveShell.get_ipython of <ipykernel.zmqshell.ZMQInteractiveShell object at 0x7f84f41241a0>>, 'exit': <IPython.core.autocall.ZMQExitAutocall object at 0x7f84f4126a50>, 'quit': <IPython.core.autocall.ZMQExitAutocall object at 0x7f84f4126a50>, 'open': <function open at 0x7f84f8813ba0>, '_': dict_values(['__main__', 'Automatically created module for IPython interactive environment', None, None, None, <module 'builtins' (built-in)>, <module 'builtins' (built-in)>, ['', \"def draw_triangle(n):\\n    output = []\\n    for i in range(n):\\n        txt = '*' * (i + 1)\\n        output.append(txt)\\n    return output\\n\\nt = draw_triangle(10)\\nprint('\\\\n'.join(t))\", \"def draw_triangle(n):\\n    output = []\\n    for i in range(n):\\n        txt = '*' * (i)\\n        output.append(txt)\\n    return output\\n\\nt = draw_triangle(10)\\nprint('\\\\n'.join(t))\", \"def draw_triangle(n):\\n    output = []\\n    for i in range(n):\\n        txt = '*' * (i + 1)\\n        output.append(txt)\\n    return output\\n\\nt = draw_triangle(10)\\nprint('\\\\n'.join(t))\", 'globals()', 'globals().keys()', 'globals().values()', 'globals().items()'], {...}, [PosixPath('/home/lipov/projects/Python_practice_sessions_05/demos/exercises_intro')], ['', \"def draw_triangle(n):\\n    output = []\\n    for i in range(n):\\n        txt = '*' * (i + 1)\\n        output.append(txt)\\n    return output\\n\\nt = draw_triangle(10)\\nprint('\\\\n'.join(t))\", \"def draw_triangle(n):\\n    output = []\\n    for i in range(n):\\n        txt = '*' * (i)\\n        output.append(txt)\\n    return output\\n\\nt = draw_triangle(10)\\nprint('\\\\n'.join(t))\", \"def draw_triangle(n):\\n    output = []\\n    for i in range(n):\\n        txt = '*' * (i + 1)\\n        output.append(txt)\\n    return output\\n\\nt = draw_triangle(10)\\nprint('\\\\n'.join(t))\", 'globals()', 'globals().keys()', 'globals().values()', 'globals().items()'], {...}, <bound method InteractiveShell.get_ipython of <ipykernel.zmqshell.ZMQInteractiveShell object at 0x7f84f41241a0>>, <IPython.core.autocall.ZMQExitAutocall object at 0x7f84f4126a50>, <IPython.core.autocall.ZMQExitAutocall object at 0x7f84f4126a50>, <function open at 0x7f84f8813ba0>, ..., dict_keys(['__name__', '__doc__', '__package__', '__loader__', '__spec__', '__builtin__', '__builtins__', '_ih', '_oh', '_dh', 'In', 'Out', 'get_ipython', 'exit', 'quit', 'open', '_', '__', '___', '__session__', '_i', '_ii', '_iii', '_i1', 'draw_triangle', 't', 'sys', 'remove_imported_pydev_package', '_pydevd_bundle', 'pydev_jupyter_vars', '_i2', '_i3', '_i4', '_4', '_i5', '_5', '_i6', '_6', '_i7']), {...}, 'demos/exercises_intro/intro_day_2.ipynb', 'globals().values()', 'globals().keys()', 'globals()', \"def draw_triangle(n):\\n    output = []\\n    for i in range(n):\\n        txt = '*' * (i + 1)\\n        output.append(txt)\\n    return output\\n\\nt = draw_triangle(10)\\nprint('\\\\n'.join(t))\", <function draw_triangle at 0x7f84ddcef600>, ['*', '**', '***', '****', '*****', '******', '*******', '********', '*********', '**********'], <module 'sys' (built-in)>, <function remove_imported_pydev_package at 0x7f84dee8ef20>, <module '_pydevd_bundle' from '/snap/pycharm-professional/484/plugins/python-ce/helpers/pydev/_pydevd_bundle/__init__.py'>, <module 'pydev_jupyter_vars' from '/snap/pycharm-professional/484/plugins/python-ce/helpers/jupyter_debug/pydev_jupyter_vars.py'>, \"def draw_triangle(n):\\n    output = []\\n    for i in range(n):\\n        txt = '*' * (i)\\n        output.append(txt)\\n    return output\\n\\nt = draw_triangle(10)\\nprint('\\\\n'.join(t))\", \"def draw_triangle(n):\\n    output = []\\n    for i in range(n):\\n        txt = '*' * (i + 1)\\n        output.append(txt)\\n    return output\\n\\nt = draw_triangle(10)\\nprint('\\\\n'.join(t))\", 'globals()', {...}, 'globals().keys()', dict_keys(['__name__', '__doc__', '__package__', '__loader__', '__spec__', '__builtin__', '__builtins__', '_ih', '_oh', '_dh', 'In', 'Out', 'get_ipython', 'exit', 'quit', 'open', '_', '__', '___', '__session__', '_i', '_ii', '_iii', '_i1', 'draw_triangle', 't', 'sys', 'remove_imported_pydev_package', '_pydevd_bundle', 'pydev_jupyter_vars', '_i2', '_i3', '_i4', '_4', '_i5', '_5', '_i6', '_6', '_i7']), 'globals().values()', ..., 'globals().items()']), '__': dict_keys(['__name__', '__doc__', '__package__', '__loader__', '__spec__', '__builtin__', '__builtins__', '_ih', '_oh', '_dh', 'In', 'Out', 'get_ipython', 'exit', 'quit', 'open', '_', '__', '___', '__session__', '_i', '_ii', '_iii', '_i1', 'draw_triangle', 't', 'sys', 'remove_imported_pydev_package', '_pydevd_bundle', 'pydev_jupyter_vars', '_i2', '_i3', '_i4', '_4', '_i5', '_5', '_i6', '_6', '_i7']), '___': {...}, '__session__': 'demos/exercises_intro/intro_day_2.ipynb', '_i': 'globals().values()', '_ii': 'globals().keys()', '_iii': 'globals()', '_i1': \"def draw_triangle(n):\\n    output = []\\n    for i in range(n):\\n        txt = '*' * (i + 1)\\n        output.append(txt)\\n    return output\\n\\nt = draw_triangle(10)\\nprint('\\\\n'.join(t))\", 'draw_triangle': <function draw_triangle at 0x7f84ddcef600>, 't': ['*', '**', '***', '****', '*****', '******', '*******', '********', '*********', '**********'], 'sys': <module 'sys' (built-in)>, 'remove_imported_pydev_package': <function remove_imported_pydev_package at 0x7f84dee8ef20>, '_pydevd_bundle': <module '_pydevd_bundle' from '/snap/pycharm-professional/484/plugins/python-ce/helpers/pydev/_pydevd_bundle/__init__.py'>, 'pydev_jupyter_vars': <module 'pydev_jupyter_vars' from '/snap/pycharm-professional/484/plugins/python-ce/helpers/jupyter_debug/pydev_jupyter_vars.py'>, '_i2': \"def draw_triangle(n):\\n    output = []\\n    for i in range(n):\\n        txt = '*' * (i)\\n        output.append(txt)\\n    return output\\n\\nt = draw_triangle(10)\\nprint('\\\\n'.join(t))\", '_i3': \"def draw_triangle(n):\\n    output = []\\n    for i in range(n):\\n        txt = '*' * (i + 1)\\n        output.append(txt)\\n    return output\\n\\nt = draw_triangle(10)\\nprint('\\\\n'.join(t))\", '_i4': 'globals()', '_4': {...}, '_i5': 'globals().keys()', '_5': dict_keys(['__name__', '__doc__', '__package__', '__loader__', '__spec__', '__builtin__', '__builtins__', '_ih', '_oh', '_dh', 'In', 'Out', 'get_ipython', 'exit', 'quit', 'open', '_', '__', '___', '__session__', '_i', '_ii', '_iii', '_i1', 'draw_triangle', 't', 'sys', 'remove_imported_pydev_package', '_pydevd_bundle', 'pydev_jupyter_vars', '_i2', '_i3', '_i4', '_4', '_i5', '_5', '_i6', '_6', '_i7']), '_i6': 'globals().values()', '_6': dict_values(['__main__', 'Automatically created module for IPython interactive environment', None, None, None, <module 'builtins' (built-in)>, <module 'builtins' (built-in)>, ['', \"def draw_triangle(n):\\n    output = []\\n    for i in range(n):\\n        txt = '*' * (i + 1)\\n        output.append(txt)\\n    return output\\n\\nt = draw_triangle(10)\\nprint('\\\\n'.join(t))\", \"def draw_triangle(n):\\n    output = []\\n    for i in range(n):\\n        txt = '*' * (i)\\n        output.append(txt)\\n    return output\\n\\nt = draw_triangle(10)\\nprint('\\\\n'.join(t))\", \"def draw_triangle(n):\\n    output = []\\n    for i in range(n):\\n        txt = '*' * (i + 1)\\n        output.append(txt)\\n    return output\\n\\nt = draw_triangle(10)\\nprint('\\\\n'.join(t))\", 'globals()', 'globals().keys()', 'globals().values()', 'globals().items()'], {...}, [PosixPath('/home/lipov/projects/Python_practice_sessions_05/demos/exercises_intro')], ['', \"def draw_triangle(n):\\n    output = []\\n    for i in range(n):\\n        txt = '*' * (i + 1)\\n        output.append(txt)\\n    return output\\n\\nt = draw_triangle(10)\\nprint('\\\\n'.join(t))\", \"def draw_triangle(n):\\n    output = []\\n    for i in range(n):\\n        txt = '*' * (i)\\n        output.append(txt)\\n    return output\\n\\nt = draw_triangle(10)\\nprint('\\\\n'.join(t))\", \"def draw_triangle(n):\\n    output = []\\n    for i in range(n):\\n        txt = '*' * (i + 1)\\n        output.append(txt)\\n    return output\\n\\nt = draw_triangle(10)\\nprint('\\\\n'.join(t))\", 'globals()', 'globals().keys()', 'globals().values()', 'globals().items()'], {...}, <bound method InteractiveShell.get_ipython of <ipykernel.zmqshell.ZMQInteractiveShell object at 0x7f84f41241a0>>, <IPython.core.autocall.ZMQExitAutocall object at 0x7f84f4126a50>, <IPython.core.autocall.ZMQExitAutocall object at 0x7f84f4126a50>, <function open at 0x7f84f8813ba0>, ..., dict_keys(['__name__', '__doc__', '__package__', '__loader__', '__spec__', '__builtin__', '__builtins__', '_ih', '_oh', '_dh', 'In', 'Out', 'get_ipython', 'exit', 'quit', 'open', '_', '__', '___', '__session__', '_i', '_ii', '_iii', '_i1', 'draw_triangle', 't', 'sys', 'remove_imported_pydev_package', '_pydevd_bundle', 'pydev_jupyter_vars', '_i2', '_i3', '_i4', '_4', '_i5', '_5', '_i6', '_6', '_i7']), {...}, 'demos/exercises_intro/intro_day_2.ipynb', 'globals().values()', 'globals().keys()', 'globals()', \"def draw_triangle(n):\\n    output = []\\n    for i in range(n):\\n        txt = '*' * (i + 1)\\n        output.append(txt)\\n    return output\\n\\nt = draw_triangle(10)\\nprint('\\\\n'.join(t))\", <function draw_triangle at 0x7f84ddcef600>, ['*', '**', '***', '****', '*****', '******', '*******', '********', '*********', '**********'], <module 'sys' (built-in)>, <function remove_imported_pydev_package at 0x7f84dee8ef20>, <module '_pydevd_bundle' from '/snap/pycharm-professional/484/plugins/python-ce/helpers/pydev/_pydevd_bundle/__init__.py'>, <module 'pydev_jupyter_vars' from '/snap/pycharm-professional/484/plugins/python-ce/helpers/jupyter_debug/pydev_jupyter_vars.py'>, \"def draw_triangle(n):\\n    output = []\\n    for i in range(n):\\n        txt = '*' * (i)\\n        output.append(txt)\\n    return output\\n\\nt = draw_triangle(10)\\nprint('\\\\n'.join(t))\", \"def draw_triangle(n):\\n    output = []\\n    for i in range(n):\\n        txt = '*' * (i + 1)\\n        output.append(txt)\\n    return output\\n\\nt = draw_triangle(10)\\nprint('\\\\n'.join(t))\", 'globals()', {...}, 'globals().keys()', dict_keys(['__name__', '__doc__', '__package__', '__loader__', '__spec__', '__builtin__', '__builtins__', '_ih', '_oh', '_dh', 'In', 'Out', 'get_ipython', 'exit', 'quit', 'open', '_', '__', '___', '__session__', '_i', '_ii', '_iii', '_i1', 'draw_triangle', 't', 'sys', 'remove_imported_pydev_package', '_pydevd_bundle', 'pydev_jupyter_vars', '_i2', '_i3', '_i4', '_4', '_i5', '_5', '_i6', '_6', '_i7']), 'globals().values()', ..., 'globals().items()']), '_i7': 'globals().items()'}, 5: dict_keys(['__name__', '__doc__', '__package__', '__loader__', '__spec__', '__builtin__', '__builtins__', '_ih', '_oh', '_dh', 'In', 'Out', 'get_ipython', 'exit', 'quit', 'open', '_', '__', '___', '__session__', '_i', '_ii', '_iii', '_i1', 'draw_triangle', 't', 'sys', 'remove_imported_pydev_package', '_pydevd_bundle', 'pydev_jupyter_vars', '_i2', '_i3', '_i4', '_4', '_i5', '_5', '_i6', '_6', '_i7']), 6: dict_values(['__main__', 'Automatically created module for IPython interactive environment', None, None, None, <module 'builtins' (built-in)>, <module 'builtins' (built-in)>, ['', \"def draw_triangle(n):\\n    output = []\\n    for i in range(n):\\n        txt = '*' * (i + 1)\\n        output.append(txt)\\n    return output\\n\\nt = draw_triangle(10)\\nprint('\\\\n'.join(t))\", \"def draw_triangle(n):\\n    output = []\\n    for i in range(n):\\n        txt = '*' * (i)\\n        output.append(txt)\\n    return output\\n\\nt = draw_triangle(10)\\nprint('\\\\n'.join(t))\", \"def draw_triangle(n):\\n    output = []\\n    for i in range(n):\\n        txt = '*' * (i + 1)\\n        output.append(txt)\\n    return output\\n\\nt = draw_triangle(10)\\nprint('\\\\n'.join(t))\", 'globals()', 'globals().keys()', 'globals().values()', 'globals().items()'], {...}, [PosixPath('/home/lipov/projects/Python_practice_sessions_05/demos/exercises_intro')], ['', \"def draw_triangle(n):\\n    output = []\\n    for i in range(n):\\n        txt = '*' * (i + 1)\\n        output.append(txt)\\n    return output\\n\\nt = draw_triangle(10)\\nprint('\\\\n'.join(t))\", \"def draw_triangle(n):\\n    output = []\\n    for i in range(n):\\n        txt = '*' * (i)\\n        output.append(txt)\\n    return output\\n\\nt = draw_triangle(10)\\nprint('\\\\n'.join(t))\", \"def draw_triangle(n):\\n    output = []\\n    for i in range(n):\\n        txt = '*' * (i + 1)\\n        output.append(txt)\\n    return output\\n\\nt = draw_triangle(10)\\nprint('\\\\n'.join(t))\", 'globals()', 'globals().keys()', 'globals().values()', 'globals().items()'], {...}, <bound method InteractiveShell.get_ipython of <ipykernel.zmqshell.ZMQInteractiveShell object at 0x7f84f41241a0>>, <IPython.core.autocall.ZMQExitAutocall object at 0x7f84f4126a50>, <IPython.core.autocall.ZMQExitAutocall object at 0x7f84f4126a50>, <function open at 0x7f84f8813ba0>, ..., dict_keys(['__name__', '__doc__', '__package__', '__loader__', '__spec__', '__builtin__', '__builtins__', '_ih', '_oh', '_dh', 'In', 'Out', 'get_ipython', 'exit', 'quit', 'open', '_', '__', '___', '__session__', '_i', '_ii', '_iii', '_i1', 'draw_triangle', 't', 'sys', 'remove_imported_pydev_package', '_pydevd_bundle', 'pydev_jupyter_vars', '_i2', '_i3', '_i4', '_4', '_i5', '_5', '_i6', '_6', '_i7']), {'__name__': '__main__', '__doc__': 'Automatically created module for IPython interactive environment', '__package__': None, '__loader__': None, '__spec__': None, '__builtin__': <module 'builtins' (built-in)>, '__builtins__': <module 'builtins' (built-in)>, '_ih': ['', \"def draw_triangle(n):\\n    output = []\\n    for i in range(n):\\n        txt = '*' * (i + 1)\\n        output.append(txt)\\n    return output\\n\\nt = draw_triangle(10)\\nprint('\\\\n'.join(t))\", \"def draw_triangle(n):\\n    output = []\\n    for i in range(n):\\n        txt = '*' * (i)\\n        output.append(txt)\\n    return output\\n\\nt = draw_triangle(10)\\nprint('\\\\n'.join(t))\", \"def draw_triangle(n):\\n    output = []\\n    for i in range(n):\\n        txt = '*' * (i + 1)\\n        output.append(txt)\\n    return output\\n\\nt = draw_triangle(10)\\nprint('\\\\n'.join(t))\", 'globals()', 'globals().keys()', 'globals().values()', 'globals().items()'], '_oh': {...}, '_dh': [PosixPath('/home/lipov/projects/Python_practice_sessions_05/demos/exercises_intro')], 'In': ['', \"def draw_triangle(n):\\n    output = []\\n    for i in range(n):\\n        txt = '*' * (i + 1)\\n        output.append(txt)\\n    return output\\n\\nt = draw_triangle(10)\\nprint('\\\\n'.join(t))\", \"def draw_triangle(n):\\n    output = []\\n    for i in range(n):\\n        txt = '*' * (i)\\n        output.append(txt)\\n    return output\\n\\nt = draw_triangle(10)\\nprint('\\\\n'.join(t))\", \"def draw_triangle(n):\\n    output = []\\n    for i in range(n):\\n        txt = '*' * (i + 1)\\n        output.append(txt)\\n    return output\\n\\nt = draw_triangle(10)\\nprint('\\\\n'.join(t))\", 'globals()', 'globals().keys()', 'globals().values()', 'globals().items()'], 'Out': {...}, 'get_ipython': <bound method InteractiveShell.get_ipython of <ipykernel.zmqshell.ZMQInteractiveShell object at 0x7f84f41241a0>>, 'exit': <IPython.core.autocall.ZMQExitAutocall object at 0x7f84f4126a50>, 'quit': <IPython.core.autocall.ZMQExitAutocall object at 0x7f84f4126a50>, 'open': <function open at 0x7f84f8813ba0>, '_': ..., '__': dict_keys(['__name__', '__doc__', '__package__', '__loader__', '__spec__', '__builtin__', '__builtins__', '_ih', '_oh', '_dh', 'In', 'Out', 'get_ipython', 'exit', 'quit', 'open', '_', '__', '___', '__session__', '_i', '_ii', '_iii', '_i1', 'draw_triangle', 't', 'sys', 'remove_imported_pydev_package', '_pydevd_bundle', 'pydev_jupyter_vars', '_i2', '_i3', '_i4', '_4', '_i5', '_5', '_i6', '_6', '_i7']), '___': {...}, '__session__': 'demos/exercises_intro/intro_day_2.ipynb', '_i': 'globals().values()', '_ii': 'globals().keys()', '_iii': 'globals()', '_i1': \"def draw_triangle(n):\\n    output = []\\n    for i in range(n):\\n        txt = '*' * (i + 1)\\n        output.append(txt)\\n    return output\\n\\nt = draw_triangle(10)\\nprint('\\\\n'.join(t))\", 'draw_triangle': <function draw_triangle at 0x7f84ddcef600>, 't': ['*', '**', '***', '****', '*****', '******', '*******', '********', '*********', '**********'], 'sys': <module 'sys' (built-in)>, 'remove_imported_pydev_package': <function remove_imported_pydev_package at 0x7f84dee8ef20>, '_pydevd_bundle': <module '_pydevd_bundle' from '/snap/pycharm-professional/484/plugins/python-ce/helpers/pydev/_pydevd_bundle/__init__.py'>, 'pydev_jupyter_vars': <module 'pydev_jupyter_vars' from '/snap/pycharm-professional/484/plugins/python-ce/helpers/jupyter_debug/pydev_jupyter_vars.py'>, '_i2': \"def draw_triangle(n):\\n    output = []\\n    for i in range(n):\\n        txt = '*' * (i)\\n        output.append(txt)\\n    return output\\n\\nt = draw_triangle(10)\\nprint('\\\\n'.join(t))\", '_i3': \"def draw_triangle(n):\\n    output = []\\n    for i in range(n):\\n        txt = '*' * (i + 1)\\n        output.append(txt)\\n    return output\\n\\nt = draw_triangle(10)\\nprint('\\\\n'.join(t))\", '_i4': 'globals()', '_4': {...}, '_i5': 'globals().keys()', '_5': dict_keys(['__name__', '__doc__', '__package__', '__loader__', '__spec__', '__builtin__', '__builtins__', '_ih', '_oh', '_dh', 'In', 'Out', 'get_ipython', 'exit', 'quit', 'open', '_', '__', '___', '__session__', '_i', '_ii', '_iii', '_i1', 'draw_triangle', 't', 'sys', 'remove_imported_pydev_package', '_pydevd_bundle', 'pydev_jupyter_vars', '_i2', '_i3', '_i4', '_4', '_i5', '_5', '_i6', '_6', '_i7']), '_i6': 'globals().values()', '_6': ..., '_i7': 'globals().items()'}, 'demos/exercises_intro/intro_day_2.ipynb', 'globals().values()', 'globals().keys()', 'globals()', \"def draw_triangle(n):\\n    output = []\\n    for i in range(n):\\n        txt = '*' * (i + 1)\\n        output.append(txt)\\n    return output\\n\\nt = draw_triangle(10)\\nprint('\\\\n'.join(t))\", <function draw_triangle at 0x7f84ddcef600>, ['*', '**', '***', '****', '*****', '******', '*******', '********', '*********', '**********'], <module 'sys' (built-in)>, <function remove_imported_pydev_package at 0x7f84dee8ef20>, <module '_pydevd_bundle' from '/snap/pycharm-professional/484/plugins/python-ce/helpers/pydev/_pydevd_bundle/__init__.py'>, <module 'pydev_jupyter_vars' from '/snap/pycharm-professional/484/plugins/python-ce/helpers/jupyter_debug/pydev_jupyter_vars.py'>, \"def draw_triangle(n):\\n    output = []\\n    for i in range(n):\\n        txt = '*' * (i)\\n        output.append(txt)\\n    return output\\n\\nt = draw_triangle(10)\\nprint('\\\\n'.join(t))\", \"def draw_triangle(n):\\n    output = []\\n    for i in range(n):\\n        txt = '*' * (i + 1)\\n        output.append(txt)\\n    return output\\n\\nt = draw_triangle(10)\\nprint('\\\\n'.join(t))\", 'globals()', {'__name__': '__main__', '__doc__': 'Automatically created module for IPython interactive environment', '__package__': None, '__loader__': None, '__spec__': None, '__builtin__': <module 'builtins' (built-in)>, '__builtins__': <module 'builtins' (built-in)>, '_ih': ['', \"def draw_triangle(n):\\n    output = []\\n    for i in range(n):\\n        txt = '*' * (i + 1)\\n        output.append(txt)\\n    return output\\n\\nt = draw_triangle(10)\\nprint('\\\\n'.join(t))\", \"def draw_triangle(n):\\n    output = []\\n    for i in range(n):\\n        txt = '*' * (i)\\n        output.append(txt)\\n    return output\\n\\nt = draw_triangle(10)\\nprint('\\\\n'.join(t))\", \"def draw_triangle(n):\\n    output = []\\n    for i in range(n):\\n        txt = '*' * (i + 1)\\n        output.append(txt)\\n    return output\\n\\nt = draw_triangle(10)\\nprint('\\\\n'.join(t))\", 'globals()', 'globals().keys()', 'globals().values()', 'globals().items()'], '_oh': {...}, '_dh': [PosixPath('/home/lipov/projects/Python_practice_sessions_05/demos/exercises_intro')], 'In': ['', \"def draw_triangle(n):\\n    output = []\\n    for i in range(n):\\n        txt = '*' * (i + 1)\\n        output.append(txt)\\n    return output\\n\\nt = draw_triangle(10)\\nprint('\\\\n'.join(t))\", \"def draw_triangle(n):\\n    output = []\\n    for i in range(n):\\n        txt = '*' * (i)\\n        output.append(txt)\\n    return output\\n\\nt = draw_triangle(10)\\nprint('\\\\n'.join(t))\", \"def draw_triangle(n):\\n    output = []\\n    for i in range(n):\\n        txt = '*' * (i + 1)\\n        output.append(txt)\\n    return output\\n\\nt = draw_triangle(10)\\nprint('\\\\n'.join(t))\", 'globals()', 'globals().keys()', 'globals().values()', 'globals().items()'], 'Out': {...}, 'get_ipython': <bound method InteractiveShell.get_ipython of <ipykernel.zmqshell.ZMQInteractiveShell object at 0x7f84f41241a0>>, 'exit': <IPython.core.autocall.ZMQExitAutocall object at 0x7f84f4126a50>, 'quit': <IPython.core.autocall.ZMQExitAutocall object at 0x7f84f4126a50>, 'open': <function open at 0x7f84f8813ba0>, '_': ..., '__': dict_keys(['__name__', '__doc__', '__package__', '__loader__', '__spec__', '__builtin__', '__builtins__', '_ih', '_oh', '_dh', 'In', 'Out', 'get_ipython', 'exit', 'quit', 'open', '_', '__', '___', '__session__', '_i', '_ii', '_iii', '_i1', 'draw_triangle', 't', 'sys', 'remove_imported_pydev_package', '_pydevd_bundle', 'pydev_jupyter_vars', '_i2', '_i3', '_i4', '_4', '_i5', '_5', '_i6', '_6', '_i7']), '___': {...}, '__session__': 'demos/exercises_intro/intro_day_2.ipynb', '_i': 'globals().values()', '_ii': 'globals().keys()', '_iii': 'globals()', '_i1': \"def draw_triangle(n):\\n    output = []\\n    for i in range(n):\\n        txt = '*' * (i + 1)\\n        output.append(txt)\\n    return output\\n\\nt = draw_triangle(10)\\nprint('\\\\n'.join(t))\", 'draw_triangle': <function draw_triangle at 0x7f84ddcef600>, 't': ['*', '**', '***', '****', '*****', '******', '*******', '********', '*********', '**********'], 'sys': <module 'sys' (built-in)>, 'remove_imported_pydev_package': <function remove_imported_pydev_package at 0x7f84dee8ef20>, '_pydevd_bundle': <module '_pydevd_bundle' from '/snap/pycharm-professional/484/plugins/python-ce/helpers/pydev/_pydevd_bundle/__init__.py'>, 'pydev_jupyter_vars': <module 'pydev_jupyter_vars' from '/snap/pycharm-professional/484/plugins/python-ce/helpers/jupyter_debug/pydev_jupyter_vars.py'>, '_i2': \"def draw_triangle(n):\\n    output = []\\n    for i in range(n):\\n        txt = '*' * (i)\\n        output.append(txt)\\n    return output\\n\\nt = draw_triangle(10)\\nprint('\\\\n'.join(t))\", '_i3': \"def draw_triangle(n):\\n    output = []\\n    for i in range(n):\\n        txt = '*' * (i + 1)\\n        output.append(txt)\\n    return output\\n\\nt = draw_triangle(10)\\nprint('\\\\n'.join(t))\", '_i4': 'globals()', '_4': {...}, '_i5': 'globals().keys()', '_5': dict_keys(['__name__', '__doc__', '__package__', '__loader__', '__spec__', '__builtin__', '__builtins__', '_ih', '_oh', '_dh', 'In', 'Out', 'get_ipython', 'exit', 'quit', 'open', '_', '__', '___', '__session__', '_i', '_ii', '_iii', '_i1', 'draw_triangle', 't', 'sys', 'remove_imported_pydev_package', '_pydevd_bundle', 'pydev_jupyter_vars', '_i2', '_i3', '_i4', '_4', '_i5', '_5', '_i6', '_6', '_i7']), '_i6': 'globals().values()', '_6': ..., '_i7': 'globals().items()'}, 'globals().keys()', dict_keys(['__name__', '__doc__', '__package__', '__loader__', '__spec__', '__builtin__', '__builtins__', '_ih', '_oh', '_dh', 'In', 'Out', 'get_ipython', 'exit', 'quit', 'open', '_', '__', '___', '__session__', '_i', '_ii', '_iii', '_i1', 'draw_triangle', 't', 'sys', 'remove_imported_pydev_package', '_pydevd_bundle', 'pydev_jupyter_vars', '_i2', '_i3', '_i4', '_4', '_i5', '_5', '_i6', '_6', '_i7']), 'globals().values()', ..., 'globals().items()'])}), ('_dh', [PosixPath('/home/lipov/projects/Python_practice_sessions_05/demos/exercises_intro')]), ('In', ['', \"def draw_triangle(n):\\n    output = []\\n    for i in range(n):\\n        txt = '*' * (i + 1)\\n        output.append(txt)\\n    return output\\n\\nt = draw_triangle(10)\\nprint('\\\\n'.join(t))\", \"def draw_triangle(n):\\n    output = []\\n    for i in range(n):\\n        txt = '*' * (i)\\n        output.append(txt)\\n    return output\\n\\nt = draw_triangle(10)\\nprint('\\\\n'.join(t))\", \"def draw_triangle(n):\\n    output = []\\n    for i in range(n):\\n        txt = '*' * (i + 1)\\n        output.append(txt)\\n    return output\\n\\nt = draw_triangle(10)\\nprint('\\\\n'.join(t))\", 'globals()', 'globals().keys()', 'globals().values()', 'globals().items()']), ('Out', {4: {'__name__': '__main__', '__doc__': 'Automatically created module for IPython interactive environment', '__package__': None, '__loader__': None, '__spec__': None, '__builtin__': <module 'builtins' (built-in)>, '__builtins__': <module 'builtins' (built-in)>, '_ih': ['', \"def draw_triangle(n):\\n    output = []\\n    for i in range(n):\\n        txt = '*' * (i + 1)\\n        output.append(txt)\\n    return output\\n\\nt = draw_triangle(10)\\nprint('\\\\n'.join(t))\", \"def draw_triangle(n):\\n    output = []\\n    for i in range(n):\\n        txt = '*' * (i)\\n        output.append(txt)\\n    return output\\n\\nt = draw_triangle(10)\\nprint('\\\\n'.join(t))\", \"def draw_triangle(n):\\n    output = []\\n    for i in range(n):\\n        txt = '*' * (i + 1)\\n        output.append(txt)\\n    return output\\n\\nt = draw_triangle(10)\\nprint('\\\\n'.join(t))\", 'globals()', 'globals().keys()', 'globals().values()', 'globals().items()'], '_oh': {...}, '_dh': [PosixPath('/home/lipov/projects/Python_practice_sessions_05/demos/exercises_intro')], 'In': ['', \"def draw_triangle(n):\\n    output = []\\n    for i in range(n):\\n        txt = '*' * (i + 1)\\n        output.append(txt)\\n    return output\\n\\nt = draw_triangle(10)\\nprint('\\\\n'.join(t))\", \"def draw_triangle(n):\\n    output = []\\n    for i in range(n):\\n        txt = '*' * (i)\\n        output.append(txt)\\n    return output\\n\\nt = draw_triangle(10)\\nprint('\\\\n'.join(t))\", \"def draw_triangle(n):\\n    output = []\\n    for i in range(n):\\n        txt = '*' * (i + 1)\\n        output.append(txt)\\n    return output\\n\\nt = draw_triangle(10)\\nprint('\\\\n'.join(t))\", 'globals()', 'globals().keys()', 'globals().values()', 'globals().items()'], 'Out': {...}, 'get_ipython': <bound method InteractiveShell.get_ipython of <ipykernel.zmqshell.ZMQInteractiveShell object at 0x7f84f41241a0>>, 'exit': <IPython.core.autocall.ZMQExitAutocall object at 0x7f84f4126a50>, 'quit': <IPython.core.autocall.ZMQExitAutocall object at 0x7f84f4126a50>, 'open': <function open at 0x7f84f8813ba0>, '_': dict_values(['__main__', 'Automatically created module for IPython interactive environment', None, None, None, <module 'builtins' (built-in)>, <module 'builtins' (built-in)>, ['', \"def draw_triangle(n):\\n    output = []\\n    for i in range(n):\\n        txt = '*' * (i + 1)\\n        output.append(txt)\\n    return output\\n\\nt = draw_triangle(10)\\nprint('\\\\n'.join(t))\", \"def draw_triangle(n):\\n    output = []\\n    for i in range(n):\\n        txt = '*' * (i)\\n        output.append(txt)\\n    return output\\n\\nt = draw_triangle(10)\\nprint('\\\\n'.join(t))\", \"def draw_triangle(n):\\n    output = []\\n    for i in range(n):\\n        txt = '*' * (i + 1)\\n        output.append(txt)\\n    return output\\n\\nt = draw_triangle(10)\\nprint('\\\\n'.join(t))\", 'globals()', 'globals().keys()', 'globals().values()', 'globals().items()'], {...}, [PosixPath('/home/lipov/projects/Python_practice_sessions_05/demos/exercises_intro')], ['', \"def draw_triangle(n):\\n    output = []\\n    for i in range(n):\\n        txt = '*' * (i + 1)\\n        output.append(txt)\\n    return output\\n\\nt = draw_triangle(10)\\nprint('\\\\n'.join(t))\", \"def draw_triangle(n):\\n    output = []\\n    for i in range(n):\\n        txt = '*' * (i)\\n        output.append(txt)\\n    return output\\n\\nt = draw_triangle(10)\\nprint('\\\\n'.join(t))\", \"def draw_triangle(n):\\n    output = []\\n    for i in range(n):\\n        txt = '*' * (i + 1)\\n        output.append(txt)\\n    return output\\n\\nt = draw_triangle(10)\\nprint('\\\\n'.join(t))\", 'globals()', 'globals().keys()', 'globals().values()', 'globals().items()'], {...}, <bound method InteractiveShell.get_ipython of <ipykernel.zmqshell.ZMQInteractiveShell object at 0x7f84f41241a0>>, <IPython.core.autocall.ZMQExitAutocall object at 0x7f84f4126a50>, <IPython.core.autocall.ZMQExitAutocall object at 0x7f84f4126a50>, <function open at 0x7f84f8813ba0>, ..., dict_keys(['__name__', '__doc__', '__package__', '__loader__', '__spec__', '__builtin__', '__builtins__', '_ih', '_oh', '_dh', 'In', 'Out', 'get_ipython', 'exit', 'quit', 'open', '_', '__', '___', '__session__', '_i', '_ii', '_iii', '_i1', 'draw_triangle', 't', 'sys', 'remove_imported_pydev_package', '_pydevd_bundle', 'pydev_jupyter_vars', '_i2', '_i3', '_i4', '_4', '_i5', '_5', '_i6', '_6', '_i7']), {...}, 'demos/exercises_intro/intro_day_2.ipynb', 'globals().values()', 'globals().keys()', 'globals()', \"def draw_triangle(n):\\n    output = []\\n    for i in range(n):\\n        txt = '*' * (i + 1)\\n        output.append(txt)\\n    return output\\n\\nt = draw_triangle(10)\\nprint('\\\\n'.join(t))\", <function draw_triangle at 0x7f84ddcef600>, ['*', '**', '***', '****', '*****', '******', '*******', '********', '*********', '**********'], <module 'sys' (built-in)>, <function remove_imported_pydev_package at 0x7f84dee8ef20>, <module '_pydevd_bundle' from '/snap/pycharm-professional/484/plugins/python-ce/helpers/pydev/_pydevd_bundle/__init__.py'>, <module 'pydev_jupyter_vars' from '/snap/pycharm-professional/484/plugins/python-ce/helpers/jupyter_debug/pydev_jupyter_vars.py'>, \"def draw_triangle(n):\\n    output = []\\n    for i in range(n):\\n        txt = '*' * (i)\\n        output.append(txt)\\n    return output\\n\\nt = draw_triangle(10)\\nprint('\\\\n'.join(t))\", \"def draw_triangle(n):\\n    output = []\\n    for i in range(n):\\n        txt = '*' * (i + 1)\\n        output.append(txt)\\n    return output\\n\\nt = draw_triangle(10)\\nprint('\\\\n'.join(t))\", 'globals()', {...}, 'globals().keys()', dict_keys(['__name__', '__doc__', '__package__', '__loader__', '__spec__', '__builtin__', '__builtins__', '_ih', '_oh', '_dh', 'In', 'Out', 'get_ipython', 'exit', 'quit', 'open', '_', '__', '___', '__session__', '_i', '_ii', '_iii', '_i1', 'draw_triangle', 't', 'sys', 'remove_imported_pydev_package', '_pydevd_bundle', 'pydev_jupyter_vars', '_i2', '_i3', '_i4', '_4', '_i5', '_5', '_i6', '_6', '_i7']), 'globals().values()', ..., 'globals().items()']), '__': dict_keys(['__name__', '__doc__', '__package__', '__loader__', '__spec__', '__builtin__', '__builtins__', '_ih', '_oh', '_dh', 'In', 'Out', 'get_ipython', 'exit', 'quit', 'open', '_', '__', '___', '__session__', '_i', '_ii', '_iii', '_i1', 'draw_triangle', 't', 'sys', 'remove_imported_pydev_package', '_pydevd_bundle', 'pydev_jupyter_vars', '_i2', '_i3', '_i4', '_4', '_i5', '_5', '_i6', '_6', '_i7']), '___': {...}, '__session__': 'demos/exercises_intro/intro_day_2.ipynb', '_i': 'globals().values()', '_ii': 'globals().keys()', '_iii': 'globals()', '_i1': \"def draw_triangle(n):\\n    output = []\\n    for i in range(n):\\n        txt = '*' * (i + 1)\\n        output.append(txt)\\n    return output\\n\\nt = draw_triangle(10)\\nprint('\\\\n'.join(t))\", 'draw_triangle': <function draw_triangle at 0x7f84ddcef600>, 't': ['*', '**', '***', '****', '*****', '******', '*******', '********', '*********', '**********'], 'sys': <module 'sys' (built-in)>, 'remove_imported_pydev_package': <function remove_imported_pydev_package at 0x7f84dee8ef20>, '_pydevd_bundle': <module '_pydevd_bundle' from '/snap/pycharm-professional/484/plugins/python-ce/helpers/pydev/_pydevd_bundle/__init__.py'>, 'pydev_jupyter_vars': <module 'pydev_jupyter_vars' from '/snap/pycharm-professional/484/plugins/python-ce/helpers/jupyter_debug/pydev_jupyter_vars.py'>, '_i2': \"def draw_triangle(n):\\n    output = []\\n    for i in range(n):\\n        txt = '*' * (i)\\n        output.append(txt)\\n    return output\\n\\nt = draw_triangle(10)\\nprint('\\\\n'.join(t))\", '_i3': \"def draw_triangle(n):\\n    output = []\\n    for i in range(n):\\n        txt = '*' * (i + 1)\\n        output.append(txt)\\n    return output\\n\\nt = draw_triangle(10)\\nprint('\\\\n'.join(t))\", '_i4': 'globals()', '_4': {...}, '_i5': 'globals().keys()', '_5': dict_keys(['__name__', '__doc__', '__package__', '__loader__', '__spec__', '__builtin__', '__builtins__', '_ih', '_oh', '_dh', 'In', 'Out', 'get_ipython', 'exit', 'quit', 'open', '_', '__', '___', '__session__', '_i', '_ii', '_iii', '_i1', 'draw_triangle', 't', 'sys', 'remove_imported_pydev_package', '_pydevd_bundle', 'pydev_jupyter_vars', '_i2', '_i3', '_i4', '_4', '_i5', '_5', '_i6', '_6', '_i7']), '_i6': 'globals().values()', '_6': dict_values(['__main__', 'Automatically created module for IPython interactive environment', None, None, None, <module 'builtins' (built-in)>, <module 'builtins' (built-in)>, ['', \"def draw_triangle(n):\\n    output = []\\n    for i in range(n):\\n        txt = '*' * (i + 1)\\n        output.append(txt)\\n    return output\\n\\nt = draw_triangle(10)\\nprint('\\\\n'.join(t))\", \"def draw_triangle(n):\\n    output = []\\n    for i in range(n):\\n        txt = '*' * (i)\\n        output.append(txt)\\n    return output\\n\\nt = draw_triangle(10)\\nprint('\\\\n'.join(t))\", \"def draw_triangle(n):\\n    output = []\\n    for i in range(n):\\n        txt = '*' * (i + 1)\\n        output.append(txt)\\n    return output\\n\\nt = draw_triangle(10)\\nprint('\\\\n'.join(t))\", 'globals()', 'globals().keys()', 'globals().values()', 'globals().items()'], {...}, [PosixPath('/home/lipov/projects/Python_practice_sessions_05/demos/exercises_intro')], ['', \"def draw_triangle(n):\\n    output = []\\n    for i in range(n):\\n        txt = '*' * (i + 1)\\n        output.append(txt)\\n    return output\\n\\nt = draw_triangle(10)\\nprint('\\\\n'.join(t))\", \"def draw_triangle(n):\\n    output = []\\n    for i in range(n):\\n        txt = '*' * (i)\\n        output.append(txt)\\n    return output\\n\\nt = draw_triangle(10)\\nprint('\\\\n'.join(t))\", \"def draw_triangle(n):\\n    output = []\\n    for i in range(n):\\n        txt = '*' * (i + 1)\\n        output.append(txt)\\n    return output\\n\\nt = draw_triangle(10)\\nprint('\\\\n'.join(t))\", 'globals()', 'globals().keys()', 'globals().values()', 'globals().items()'], {...}, <bound method InteractiveShell.get_ipython of <ipykernel.zmqshell.ZMQInteractiveShell object at 0x7f84f41241a0>>, <IPython.core.autocall.ZMQExitAutocall object at 0x7f84f4126a50>, <IPython.core.autocall.ZMQExitAutocall object at 0x7f84f4126a50>, <function open at 0x7f84f8813ba0>, ..., dict_keys(['__name__', '__doc__', '__package__', '__loader__', '__spec__', '__builtin__', '__builtins__', '_ih', '_oh', '_dh', 'In', 'Out', 'get_ipython', 'exit', 'quit', 'open', '_', '__', '___', '__session__', '_i', '_ii', '_iii', '_i1', 'draw_triangle', 't', 'sys', 'remove_imported_pydev_package', '_pydevd_bundle', 'pydev_jupyter_vars', '_i2', '_i3', '_i4', '_4', '_i5', '_5', '_i6', '_6', '_i7']), {...}, 'demos/exercises_intro/intro_day_2.ipynb', 'globals().values()', 'globals().keys()', 'globals()', \"def draw_triangle(n):\\n    output = []\\n    for i in range(n):\\n        txt = '*' * (i + 1)\\n        output.append(txt)\\n    return output\\n\\nt = draw_triangle(10)\\nprint('\\\\n'.join(t))\", <function draw_triangle at 0x7f84ddcef600>, ['*', '**', '***', '****', '*****', '******', '*******', '********', '*********', '**********'], <module 'sys' (built-in)>, <function remove_imported_pydev_package at 0x7f84dee8ef20>, <module '_pydevd_bundle' from '/snap/pycharm-professional/484/plugins/python-ce/helpers/pydev/_pydevd_bundle/__init__.py'>, <module 'pydev_jupyter_vars' from '/snap/pycharm-professional/484/plugins/python-ce/helpers/jupyter_debug/pydev_jupyter_vars.py'>, \"def draw_triangle(n):\\n    output = []\\n    for i in range(n):\\n        txt = '*' * (i)\\n        output.append(txt)\\n    return output\\n\\nt = draw_triangle(10)\\nprint('\\\\n'.join(t))\", \"def draw_triangle(n):\\n    output = []\\n    for i in range(n):\\n        txt = '*' * (i + 1)\\n        output.append(txt)\\n    return output\\n\\nt = draw_triangle(10)\\nprint('\\\\n'.join(t))\", 'globals()', {...}, 'globals().keys()', dict_keys(['__name__', '__doc__', '__package__', '__loader__', '__spec__', '__builtin__', '__builtins__', '_ih', '_oh', '_dh', 'In', 'Out', 'get_ipython', 'exit', 'quit', 'open', '_', '__', '___', '__session__', '_i', '_ii', '_iii', '_i1', 'draw_triangle', 't', 'sys', 'remove_imported_pydev_package', '_pydevd_bundle', 'pydev_jupyter_vars', '_i2', '_i3', '_i4', '_4', '_i5', '_5', '_i6', '_6', '_i7']), 'globals().values()', ..., 'globals().items()']), '_i7': 'globals().items()'}, 5: dict_keys(['__name__', '__doc__', '__package__', '__loader__', '__spec__', '__builtin__', '__builtins__', '_ih', '_oh', '_dh', 'In', 'Out', 'get_ipython', 'exit', 'quit', 'open', '_', '__', '___', '__session__', '_i', '_ii', '_iii', '_i1', 'draw_triangle', 't', 'sys', 'remove_imported_pydev_package', '_pydevd_bundle', 'pydev_jupyter_vars', '_i2', '_i3', '_i4', '_4', '_i5', '_5', '_i6', '_6', '_i7']), 6: dict_values(['__main__', 'Automatically created module for IPython interactive environment', None, None, None, <module 'builtins' (built-in)>, <module 'builtins' (built-in)>, ['', \"def draw_triangle(n):\\n    output = []\\n    for i in range(n):\\n        txt = '*' * (i + 1)\\n        output.append(txt)\\n    return output\\n\\nt = draw_triangle(10)\\nprint('\\\\n'.join(t))\", \"def draw_triangle(n):\\n    output = []\\n    for i in range(n):\\n        txt = '*' * (i)\\n        output.append(txt)\\n    return output\\n\\nt = draw_triangle(10)\\nprint('\\\\n'.join(t))\", \"def draw_triangle(n):\\n    output = []\\n    for i in range(n):\\n        txt = '*' * (i + 1)\\n        output.append(txt)\\n    return output\\n\\nt = draw_triangle(10)\\nprint('\\\\n'.join(t))\", 'globals()', 'globals().keys()', 'globals().values()', 'globals().items()'], {...}, [PosixPath('/home/lipov/projects/Python_practice_sessions_05/demos/exercises_intro')], ['', \"def draw_triangle(n):\\n    output = []\\n    for i in range(n):\\n        txt = '*' * (i + 1)\\n        output.append(txt)\\n    return output\\n\\nt = draw_triangle(10)\\nprint('\\\\n'.join(t))\", \"def draw_triangle(n):\\n    output = []\\n    for i in range(n):\\n        txt = '*' * (i)\\n        output.append(txt)\\n    return output\\n\\nt = draw_triangle(10)\\nprint('\\\\n'.join(t))\", \"def draw_triangle(n):\\n    output = []\\n    for i in range(n):\\n        txt = '*' * (i + 1)\\n        output.append(txt)\\n    return output\\n\\nt = draw_triangle(10)\\nprint('\\\\n'.join(t))\", 'globals()', 'globals().keys()', 'globals().values()', 'globals().items()'], {...}, <bound method InteractiveShell.get_ipython of <ipykernel.zmqshell.ZMQInteractiveShell object at 0x7f84f41241a0>>, <IPython.core.autocall.ZMQExitAutocall object at 0x7f84f4126a50>, <IPython.core.autocall.ZMQExitAutocall object at 0x7f84f4126a50>, <function open at 0x7f84f8813ba0>, ..., dict_keys(['__name__', '__doc__', '__package__', '__loader__', '__spec__', '__builtin__', '__builtins__', '_ih', '_oh', '_dh', 'In', 'Out', 'get_ipython', 'exit', 'quit', 'open', '_', '__', '___', '__session__', '_i', '_ii', '_iii', '_i1', 'draw_triangle', 't', 'sys', 'remove_imported_pydev_package', '_pydevd_bundle', 'pydev_jupyter_vars', '_i2', '_i3', '_i4', '_4', '_i5', '_5', '_i6', '_6', '_i7']), {'__name__': '__main__', '__doc__': 'Automatically created module for IPython interactive environment', '__package__': None, '__loader__': None, '__spec__': None, '__builtin__': <module 'builtins' (built-in)>, '__builtins__': <module 'builtins' (built-in)>, '_ih': ['', \"def draw_triangle(n):\\n    output = []\\n    for i in range(n):\\n        txt = '*' * (i + 1)\\n        output.append(txt)\\n    return output\\n\\nt = draw_triangle(10)\\nprint('\\\\n'.join(t))\", \"def draw_triangle(n):\\n    output = []\\n    for i in range(n):\\n        txt = '*' * (i)\\n        output.append(txt)\\n    return output\\n\\nt = draw_triangle(10)\\nprint('\\\\n'.join(t))\", \"def draw_triangle(n):\\n    output = []\\n    for i in range(n):\\n        txt = '*' * (i + 1)\\n        output.append(txt)\\n    return output\\n\\nt = draw_triangle(10)\\nprint('\\\\n'.join(t))\", 'globals()', 'globals().keys()', 'globals().values()', 'globals().items()'], '_oh': {...}, '_dh': [PosixPath('/home/lipov/projects/Python_practice_sessions_05/demos/exercises_intro')], 'In': ['', \"def draw_triangle(n):\\n    output = []\\n    for i in range(n):\\n        txt = '*' * (i + 1)\\n        output.append(txt)\\n    return output\\n\\nt = draw_triangle(10)\\nprint('\\\\n'.join(t))\", \"def draw_triangle(n):\\n    output = []\\n    for i in range(n):\\n        txt = '*' * (i)\\n        output.append(txt)\\n    return output\\n\\nt = draw_triangle(10)\\nprint('\\\\n'.join(t))\", \"def draw_triangle(n):\\n    output = []\\n    for i in range(n):\\n        txt = '*' * (i + 1)\\n        output.append(txt)\\n    return output\\n\\nt = draw_triangle(10)\\nprint('\\\\n'.join(t))\", 'globals()', 'globals().keys()', 'globals().values()', 'globals().items()'], 'Out': {...}, 'get_ipython': <bound method InteractiveShell.get_ipython of <ipykernel.zmqshell.ZMQInteractiveShell object at 0x7f84f41241a0>>, 'exit': <IPython.core.autocall.ZMQExitAutocall object at 0x7f84f4126a50>, 'quit': <IPython.core.autocall.ZMQExitAutocall object at 0x7f84f4126a50>, 'open': <function open at 0x7f84f8813ba0>, '_': ..., '__': dict_keys(['__name__', '__doc__', '__package__', '__loader__', '__spec__', '__builtin__', '__builtins__', '_ih', '_oh', '_dh', 'In', 'Out', 'get_ipython', 'exit', 'quit', 'open', '_', '__', '___', '__session__', '_i', '_ii', '_iii', '_i1', 'draw_triangle', 't', 'sys', 'remove_imported_pydev_package', '_pydevd_bundle', 'pydev_jupyter_vars', '_i2', '_i3', '_i4', '_4', '_i5', '_5', '_i6', '_6', '_i7']), '___': {...}, '__session__': 'demos/exercises_intro/intro_day_2.ipynb', '_i': 'globals().values()', '_ii': 'globals().keys()', '_iii': 'globals()', '_i1': \"def draw_triangle(n):\\n    output = []\\n    for i in range(n):\\n        txt = '*' * (i + 1)\\n        output.append(txt)\\n    return output\\n\\nt = draw_triangle(10)\\nprint('\\\\n'.join(t))\", 'draw_triangle': <function draw_triangle at 0x7f84ddcef600>, 't': ['*', '**', '***', '****', '*****', '******', '*******', '********', '*********', '**********'], 'sys': <module 'sys' (built-in)>, 'remove_imported_pydev_package': <function remove_imported_pydev_package at 0x7f84dee8ef20>, '_pydevd_bundle': <module '_pydevd_bundle' from '/snap/pycharm-professional/484/plugins/python-ce/helpers/pydev/_pydevd_bundle/__init__.py'>, 'pydev_jupyter_vars': <module 'pydev_jupyter_vars' from '/snap/pycharm-professional/484/plugins/python-ce/helpers/jupyter_debug/pydev_jupyter_vars.py'>, '_i2': \"def draw_triangle(n):\\n    output = []\\n    for i in range(n):\\n        txt = '*' * (i)\\n        output.append(txt)\\n    return output\\n\\nt = draw_triangle(10)\\nprint('\\\\n'.join(t))\", '_i3': \"def draw_triangle(n):\\n    output = []\\n    for i in range(n):\\n        txt = '*' * (i + 1)\\n        output.append(txt)\\n    return output\\n\\nt = draw_triangle(10)\\nprint('\\\\n'.join(t))\", '_i4': 'globals()', '_4': {...}, '_i5': 'globals().keys()', '_5': dict_keys(['__name__', '__doc__', '__package__', '__loader__', '__spec__', '__builtin__', '__builtins__', '_ih', '_oh', '_dh', 'In', 'Out', 'get_ipython', 'exit', 'quit', 'open', '_', '__', '___', '__session__', '_i', '_ii', '_iii', '_i1', 'draw_triangle', 't', 'sys', 'remove_imported_pydev_package', '_pydevd_bundle', 'pydev_jupyter_vars', '_i2', '_i3', '_i4', '_4', '_i5', '_5', '_i6', '_6', '_i7']), '_i6': 'globals().values()', '_6': ..., '_i7': 'globals().items()'}, 'demos/exercises_intro/intro_day_2.ipynb', 'globals().values()', 'globals().keys()', 'globals()', \"def draw_triangle(n):\\n    output = []\\n    for i in range(n):\\n        txt = '*' * (i + 1)\\n        output.append(txt)\\n    return output\\n\\nt = draw_triangle(10)\\nprint('\\\\n'.join(t))\", <function draw_triangle at 0x7f84ddcef600>, ['*', '**', '***', '****', '*****', '******', '*******', '********', '*********', '**********'], <module 'sys' (built-in)>, <function remove_imported_pydev_package at 0x7f84dee8ef20>, <module '_pydevd_bundle' from '/snap/pycharm-professional/484/plugins/python-ce/helpers/pydev/_pydevd_bundle/__init__.py'>, <module 'pydev_jupyter_vars' from '/snap/pycharm-professional/484/plugins/python-ce/helpers/jupyter_debug/pydev_jupyter_vars.py'>, \"def draw_triangle(n):\\n    output = []\\n    for i in range(n):\\n        txt = '*' * (i)\\n        output.append(txt)\\n    return output\\n\\nt = draw_triangle(10)\\nprint('\\\\n'.join(t))\", \"def draw_triangle(n):\\n    output = []\\n    for i in range(n):\\n        txt = '*' * (i + 1)\\n        output.append(txt)\\n    return output\\n\\nt = draw_triangle(10)\\nprint('\\\\n'.join(t))\", 'globals()', {'__name__': '__main__', '__doc__': 'Automatically created module for IPython interactive environment', '__package__': None, '__loader__': None, '__spec__': None, '__builtin__': <module 'builtins' (built-in)>, '__builtins__': <module 'builtins' (built-in)>, '_ih': ['', \"def draw_triangle(n):\\n    output = []\\n    for i in range(n):\\n        txt = '*' * (i + 1)\\n        output.append(txt)\\n    return output\\n\\nt = draw_triangle(10)\\nprint('\\\\n'.join(t))\", \"def draw_triangle(n):\\n    output = []\\n    for i in range(n):\\n        txt = '*' * (i)\\n        output.append(txt)\\n    return output\\n\\nt = draw_triangle(10)\\nprint('\\\\n'.join(t))\", \"def draw_triangle(n):\\n    output = []\\n    for i in range(n):\\n        txt = '*' * (i + 1)\\n        output.append(txt)\\n    return output\\n\\nt = draw_triangle(10)\\nprint('\\\\n'.join(t))\", 'globals()', 'globals().keys()', 'globals().values()', 'globals().items()'], '_oh': {...}, '_dh': [PosixPath('/home/lipov/projects/Python_practice_sessions_05/demos/exercises_intro')], 'In': ['', \"def draw_triangle(n):\\n    output = []\\n    for i in range(n):\\n        txt = '*' * (i + 1)\\n        output.append(txt)\\n    return output\\n\\nt = draw_triangle(10)\\nprint('\\\\n'.join(t))\", \"def draw_triangle(n):\\n    output = []\\n    for i in range(n):\\n        txt = '*' * (i)\\n        output.append(txt)\\n    return output\\n\\nt = draw_triangle(10)\\nprint('\\\\n'.join(t))\", \"def draw_triangle(n):\\n    output = []\\n    for i in range(n):\\n        txt = '*' * (i + 1)\\n        output.append(txt)\\n    return output\\n\\nt = draw_triangle(10)\\nprint('\\\\n'.join(t))\", 'globals()', 'globals().keys()', 'globals().values()', 'globals().items()'], 'Out': {...}, 'get_ipython': <bound method InteractiveShell.get_ipython of <ipykernel.zmqshell.ZMQInteractiveShell object at 0x7f84f41241a0>>, 'exit': <IPython.core.autocall.ZMQExitAutocall object at 0x7f84f4126a50>, 'quit': <IPython.core.autocall.ZMQExitAutocall object at 0x7f84f4126a50>, 'open': <function open at 0x7f84f8813ba0>, '_': ..., '__': dict_keys(['__name__', '__doc__', '__package__', '__loader__', '__spec__', '__builtin__', '__builtins__', '_ih', '_oh', '_dh', 'In', 'Out', 'get_ipython', 'exit', 'quit', 'open', '_', '__', '___', '__session__', '_i', '_ii', '_iii', '_i1', 'draw_triangle', 't', 'sys', 'remove_imported_pydev_package', '_pydevd_bundle', 'pydev_jupyter_vars', '_i2', '_i3', '_i4', '_4', '_i5', '_5', '_i6', '_6', '_i7']), '___': {...}, '__session__': 'demos/exercises_intro/intro_day_2.ipynb', '_i': 'globals().values()', '_ii': 'globals().keys()', '_iii': 'globals()', '_i1': \"def draw_triangle(n):\\n    output = []\\n    for i in range(n):\\n        txt = '*' * (i + 1)\\n        output.append(txt)\\n    return output\\n\\nt = draw_triangle(10)\\nprint('\\\\n'.join(t))\", 'draw_triangle': <function draw_triangle at 0x7f84ddcef600>, 't': ['*', '**', '***', '****', '*****', '******', '*******', '********', '*********', '**********'], 'sys': <module 'sys' (built-in)>, 'remove_imported_pydev_package': <function remove_imported_pydev_package at 0x7f84dee8ef20>, '_pydevd_bundle': <module '_pydevd_bundle' from '/snap/pycharm-professional/484/plugins/python-ce/helpers/pydev/_pydevd_bundle/__init__.py'>, 'pydev_jupyter_vars': <module 'pydev_jupyter_vars' from '/snap/pycharm-professional/484/plugins/python-ce/helpers/jupyter_debug/pydev_jupyter_vars.py'>, '_i2': \"def draw_triangle(n):\\n    output = []\\n    for i in range(n):\\n        txt = '*' * (i)\\n        output.append(txt)\\n    return output\\n\\nt = draw_triangle(10)\\nprint('\\\\n'.join(t))\", '_i3': \"def draw_triangle(n):\\n    output = []\\n    for i in range(n):\\n        txt = '*' * (i + 1)\\n        output.append(txt)\\n    return output\\n\\nt = draw_triangle(10)\\nprint('\\\\n'.join(t))\", '_i4': 'globals()', '_4': {...}, '_i5': 'globals().keys()', '_5': dict_keys(['__name__', '__doc__', '__package__', '__loader__', '__spec__', '__builtin__', '__builtins__', '_ih', '_oh', '_dh', 'In', 'Out', 'get_ipython', 'exit', 'quit', 'open', '_', '__', '___', '__session__', '_i', '_ii', '_iii', '_i1', 'draw_triangle', 't', 'sys', 'remove_imported_pydev_package', '_pydevd_bundle', 'pydev_jupyter_vars', '_i2', '_i3', '_i4', '_4', '_i5', '_5', '_i6', '_6', '_i7']), '_i6': 'globals().values()', '_6': ..., '_i7': 'globals().items()'}, 'globals().keys()', dict_keys(['__name__', '__doc__', '__package__', '__loader__', '__spec__', '__builtin__', '__builtins__', '_ih', '_oh', '_dh', 'In', 'Out', 'get_ipython', 'exit', 'quit', 'open', '_', '__', '___', '__session__', '_i', '_ii', '_iii', '_i1', 'draw_triangle', 't', 'sys', 'remove_imported_pydev_package', '_pydevd_bundle', 'pydev_jupyter_vars', '_i2', '_i3', '_i4', '_4', '_i5', '_5', '_i6', '_6', '_i7']), 'globals().values()', ..., 'globals().items()'])}), ('get_ipython', <bound method InteractiveShell.get_ipython of <ipykernel.zmqshell.ZMQInteractiveShell object at 0x7f84f41241a0>>), ('exit', <IPython.core.autocall.ZMQExitAutocall object at 0x7f84f4126a50>), ('quit', <IPython.core.autocall.ZMQExitAutocall object at 0x7f84f4126a50>), ('open', <function open at 0x7f84f8813ba0>), ('_', dict_values(['__main__', 'Automatically created module for IPython interactive environment', None, None, None, <module 'builtins' (built-in)>, <module 'builtins' (built-in)>, ['', \"def draw_triangle(n):\\n    output = []\\n    for i in range(n):\\n        txt = '*' * (i + 1)\\n        output.append(txt)\\n    return output\\n\\nt = draw_triangle(10)\\nprint('\\\\n'.join(t))\", \"def draw_triangle(n):\\n    output = []\\n    for i in range(n):\\n        txt = '*' * (i)\\n        output.append(txt)\\n    return output\\n\\nt = draw_triangle(10)\\nprint('\\\\n'.join(t))\", \"def draw_triangle(n):\\n    output = []\\n    for i in range(n):\\n        txt = '*' * (i + 1)\\n        output.append(txt)\\n    return output\\n\\nt = draw_triangle(10)\\nprint('\\\\n'.join(t))\", 'globals()', 'globals().keys()', 'globals().values()', 'globals().items()'], {4: {'__name__': '__main__', '__doc__': 'Automatically created module for IPython interactive environment', '__package__': None, '__loader__': None, '__spec__': None, '__builtin__': <module 'builtins' (built-in)>, '__builtins__': <module 'builtins' (built-in)>, '_ih': ['', \"def draw_triangle(n):\\n    output = []\\n    for i in range(n):\\n        txt = '*' * (i + 1)\\n        output.append(txt)\\n    return output\\n\\nt = draw_triangle(10)\\nprint('\\\\n'.join(t))\", \"def draw_triangle(n):\\n    output = []\\n    for i in range(n):\\n        txt = '*' * (i)\\n        output.append(txt)\\n    return output\\n\\nt = draw_triangle(10)\\nprint('\\\\n'.join(t))\", \"def draw_triangle(n):\\n    output = []\\n    for i in range(n):\\n        txt = '*' * (i + 1)\\n        output.append(txt)\\n    return output\\n\\nt = draw_triangle(10)\\nprint('\\\\n'.join(t))\", 'globals()', 'globals().keys()', 'globals().values()', 'globals().items()'], '_oh': {...}, '_dh': [PosixPath('/home/lipov/projects/Python_practice_sessions_05/demos/exercises_intro')], 'In': ['', \"def draw_triangle(n):\\n    output = []\\n    for i in range(n):\\n        txt = '*' * (i + 1)\\n        output.append(txt)\\n    return output\\n\\nt = draw_triangle(10)\\nprint('\\\\n'.join(t))\", \"def draw_triangle(n):\\n    output = []\\n    for i in range(n):\\n        txt = '*' * (i)\\n        output.append(txt)\\n    return output\\n\\nt = draw_triangle(10)\\nprint('\\\\n'.join(t))\", \"def draw_triangle(n):\\n    output = []\\n    for i in range(n):\\n        txt = '*' * (i + 1)\\n        output.append(txt)\\n    return output\\n\\nt = draw_triangle(10)\\nprint('\\\\n'.join(t))\", 'globals()', 'globals().keys()', 'globals().values()', 'globals().items()'], 'Out': {...}, 'get_ipython': <bound method InteractiveShell.get_ipython of <ipykernel.zmqshell.ZMQInteractiveShell object at 0x7f84f41241a0>>, 'exit': <IPython.core.autocall.ZMQExitAutocall object at 0x7f84f4126a50>, 'quit': <IPython.core.autocall.ZMQExitAutocall object at 0x7f84f4126a50>, 'open': <function open at 0x7f84f8813ba0>, '_': ..., '__': dict_keys(['__name__', '__doc__', '__package__', '__loader__', '__spec__', '__builtin__', '__builtins__', '_ih', '_oh', '_dh', 'In', 'Out', 'get_ipython', 'exit', 'quit', 'open', '_', '__', '___', '__session__', '_i', '_ii', '_iii', '_i1', 'draw_triangle', 't', 'sys', 'remove_imported_pydev_package', '_pydevd_bundle', 'pydev_jupyter_vars', '_i2', '_i3', '_i4', '_4', '_i5', '_5', '_i6', '_6', '_i7']), '___': {...}, '__session__': 'demos/exercises_intro/intro_day_2.ipynb', '_i': 'globals().values()', '_ii': 'globals().keys()', '_iii': 'globals()', '_i1': \"def draw_triangle(n):\\n    output = []\\n    for i in range(n):\\n        txt = '*' * (i + 1)\\n        output.append(txt)\\n    return output\\n\\nt = draw_triangle(10)\\nprint('\\\\n'.join(t))\", 'draw_triangle': <function draw_triangle at 0x7f84ddcef600>, 't': ['*', '**', '***', '****', '*****', '******', '*******', '********', '*********', '**********'], 'sys': <module 'sys' (built-in)>, 'remove_imported_pydev_package': <function remove_imported_pydev_package at 0x7f84dee8ef20>, '_pydevd_bundle': <module '_pydevd_bundle' from '/snap/pycharm-professional/484/plugins/python-ce/helpers/pydev/_pydevd_bundle/__init__.py'>, 'pydev_jupyter_vars': <module 'pydev_jupyter_vars' from '/snap/pycharm-professional/484/plugins/python-ce/helpers/jupyter_debug/pydev_jupyter_vars.py'>, '_i2': \"def draw_triangle(n):\\n    output = []\\n    for i in range(n):\\n        txt = '*' * (i)\\n        output.append(txt)\\n    return output\\n\\nt = draw_triangle(10)\\nprint('\\\\n'.join(t))\", '_i3': \"def draw_triangle(n):\\n    output = []\\n    for i in range(n):\\n        txt = '*' * (i + 1)\\n        output.append(txt)\\n    return output\\n\\nt = draw_triangle(10)\\nprint('\\\\n'.join(t))\", '_i4': 'globals()', '_4': {...}, '_i5': 'globals().keys()', '_5': dict_keys(['__name__', '__doc__', '__package__', '__loader__', '__spec__', '__builtin__', '__builtins__', '_ih', '_oh', '_dh', 'In', 'Out', 'get_ipython', 'exit', 'quit', 'open', '_', '__', '___', '__session__', '_i', '_ii', '_iii', '_i1', 'draw_triangle', 't', 'sys', 'remove_imported_pydev_package', '_pydevd_bundle', 'pydev_jupyter_vars', '_i2', '_i3', '_i4', '_4', '_i5', '_5', '_i6', '_6', '_i7']), '_i6': 'globals().values()', '_6': ..., '_i7': 'globals().items()'}, 5: dict_keys(['__name__', '__doc__', '__package__', '__loader__', '__spec__', '__builtin__', '__builtins__', '_ih', '_oh', '_dh', 'In', 'Out', 'get_ipython', 'exit', 'quit', 'open', '_', '__', '___', '__session__', '_i', '_ii', '_iii', '_i1', 'draw_triangle', 't', 'sys', 'remove_imported_pydev_package', '_pydevd_bundle', 'pydev_jupyter_vars', '_i2', '_i3', '_i4', '_4', '_i5', '_5', '_i6', '_6', '_i7']), 6: ...}, [PosixPath('/home/lipov/projects/Python_practice_sessions_05/demos/exercises_intro')], ['', \"def draw_triangle(n):\\n    output = []\\n    for i in range(n):\\n        txt = '*' * (i + 1)\\n        output.append(txt)\\n    return output\\n\\nt = draw_triangle(10)\\nprint('\\\\n'.join(t))\", \"def draw_triangle(n):\\n    output = []\\n    for i in range(n):\\n        txt = '*' * (i)\\n        output.append(txt)\\n    return output\\n\\nt = draw_triangle(10)\\nprint('\\\\n'.join(t))\", \"def draw_triangle(n):\\n    output = []\\n    for i in range(n):\\n        txt = '*' * (i + 1)\\n        output.append(txt)\\n    return output\\n\\nt = draw_triangle(10)\\nprint('\\\\n'.join(t))\", 'globals()', 'globals().keys()', 'globals().values()', 'globals().items()'], {4: {'__name__': '__main__', '__doc__': 'Automatically created module for IPython interactive environment', '__package__': None, '__loader__': None, '__spec__': None, '__builtin__': <module 'builtins' (built-in)>, '__builtins__': <module 'builtins' (built-in)>, '_ih': ['', \"def draw_triangle(n):\\n    output = []\\n    for i in range(n):\\n        txt = '*' * (i + 1)\\n        output.append(txt)\\n    return output\\n\\nt = draw_triangle(10)\\nprint('\\\\n'.join(t))\", \"def draw_triangle(n):\\n    output = []\\n    for i in range(n):\\n        txt = '*' * (i)\\n        output.append(txt)\\n    return output\\n\\nt = draw_triangle(10)\\nprint('\\\\n'.join(t))\", \"def draw_triangle(n):\\n    output = []\\n    for i in range(n):\\n        txt = '*' * (i + 1)\\n        output.append(txt)\\n    return output\\n\\nt = draw_triangle(10)\\nprint('\\\\n'.join(t))\", 'globals()', 'globals().keys()', 'globals().values()', 'globals().items()'], '_oh': {...}, '_dh': [PosixPath('/home/lipov/projects/Python_practice_sessions_05/demos/exercises_intro')], 'In': ['', \"def draw_triangle(n):\\n    output = []\\n    for i in range(n):\\n        txt = '*' * (i + 1)\\n        output.append(txt)\\n    return output\\n\\nt = draw_triangle(10)\\nprint('\\\\n'.join(t))\", \"def draw_triangle(n):\\n    output = []\\n    for i in range(n):\\n        txt = '*' * (i)\\n        output.append(txt)\\n    return output\\n\\nt = draw_triangle(10)\\nprint('\\\\n'.join(t))\", \"def draw_triangle(n):\\n    output = []\\n    for i in range(n):\\n        txt = '*' * (i + 1)\\n        output.append(txt)\\n    return output\\n\\nt = draw_triangle(10)\\nprint('\\\\n'.join(t))\", 'globals()', 'globals().keys()', 'globals().values()', 'globals().items()'], 'Out': {...}, 'get_ipython': <bound method InteractiveShell.get_ipython of <ipykernel.zmqshell.ZMQInteractiveShell object at 0x7f84f41241a0>>, 'exit': <IPython.core.autocall.ZMQExitAutocall object at 0x7f84f4126a50>, 'quit': <IPython.core.autocall.ZMQExitAutocall object at 0x7f84f4126a50>, 'open': <function open at 0x7f84f8813ba0>, '_': ..., '__': dict_keys(['__name__', '__doc__', '__package__', '__loader__', '__spec__', '__builtin__', '__builtins__', '_ih', '_oh', '_dh', 'In', 'Out', 'get_ipython', 'exit', 'quit', 'open', '_', '__', '___', '__session__', '_i', '_ii', '_iii', '_i1', 'draw_triangle', 't', 'sys', 'remove_imported_pydev_package', '_pydevd_bundle', 'pydev_jupyter_vars', '_i2', '_i3', '_i4', '_4', '_i5', '_5', '_i6', '_6', '_i7']), '___': {...}, '__session__': 'demos/exercises_intro/intro_day_2.ipynb', '_i': 'globals().values()', '_ii': 'globals().keys()', '_iii': 'globals()', '_i1': \"def draw_triangle(n):\\n    output = []\\n    for i in range(n):\\n        txt = '*' * (i + 1)\\n        output.append(txt)\\n    return output\\n\\nt = draw_triangle(10)\\nprint('\\\\n'.join(t))\", 'draw_triangle': <function draw_triangle at 0x7f84ddcef600>, 't': ['*', '**', '***', '****', '*****', '******', '*******', '********', '*********', '**********'], 'sys': <module 'sys' (built-in)>, 'remove_imported_pydev_package': <function remove_imported_pydev_package at 0x7f84dee8ef20>, '_pydevd_bundle': <module '_pydevd_bundle' from '/snap/pycharm-professional/484/plugins/python-ce/helpers/pydev/_pydevd_bundle/__init__.py'>, 'pydev_jupyter_vars': <module 'pydev_jupyter_vars' from '/snap/pycharm-professional/484/plugins/python-ce/helpers/jupyter_debug/pydev_jupyter_vars.py'>, '_i2': \"def draw_triangle(n):\\n    output = []\\n    for i in range(n):\\n        txt = '*' * (i)\\n        output.append(txt)\\n    return output\\n\\nt = draw_triangle(10)\\nprint('\\\\n'.join(t))\", '_i3': \"def draw_triangle(n):\\n    output = []\\n    for i in range(n):\\n        txt = '*' * (i + 1)\\n        output.append(txt)\\n    return output\\n\\nt = draw_triangle(10)\\nprint('\\\\n'.join(t))\", '_i4': 'globals()', '_4': {...}, '_i5': 'globals().keys()', '_5': dict_keys(['__name__', '__doc__', '__package__', '__loader__', '__spec__', '__builtin__', '__builtins__', '_ih', '_oh', '_dh', 'In', 'Out', 'get_ipython', 'exit', 'quit', 'open', '_', '__', '___', '__session__', '_i', '_ii', '_iii', '_i1', 'draw_triangle', 't', 'sys', 'remove_imported_pydev_package', '_pydevd_bundle', 'pydev_jupyter_vars', '_i2', '_i3', '_i4', '_4', '_i5', '_5', '_i6', '_6', '_i7']), '_i6': 'globals().values()', '_6': ..., '_i7': 'globals().items()'}, 5: dict_keys(['__name__', '__doc__', '__package__', '__loader__', '__spec__', '__builtin__', '__builtins__', '_ih', '_oh', '_dh', 'In', 'Out', 'get_ipython', 'exit', 'quit', 'open', '_', '__', '___', '__session__', '_i', '_ii', '_iii', '_i1', 'draw_triangle', 't', 'sys', 'remove_imported_pydev_package', '_pydevd_bundle', 'pydev_jupyter_vars', '_i2', '_i3', '_i4', '_4', '_i5', '_5', '_i6', '_6', '_i7']), 6: ...}, <bound method InteractiveShell.get_ipython of <ipykernel.zmqshell.ZMQInteractiveShell object at 0x7f84f41241a0>>, <IPython.core.autocall.ZMQExitAutocall object at 0x7f84f4126a50>, <IPython.core.autocall.ZMQExitAutocall object at 0x7f84f4126a50>, <function open at 0x7f84f8813ba0>, ..., dict_keys(['__name__', '__doc__', '__package__', '__loader__', '__spec__', '__builtin__', '__builtins__', '_ih', '_oh', '_dh', 'In', 'Out', 'get_ipython', 'exit', 'quit', 'open', '_', '__', '___', '__session__', '_i', '_ii', '_iii', '_i1', 'draw_triangle', 't', 'sys', 'remove_imported_pydev_package', '_pydevd_bundle', 'pydev_jupyter_vars', '_i2', '_i3', '_i4', '_4', '_i5', '_5', '_i6', '_6', '_i7']), {'__name__': '__main__', '__doc__': 'Automatically created module for IPython interactive environment', '__package__': None, '__loader__': None, '__spec__': None, '__builtin__': <module 'builtins' (built-in)>, '__builtins__': <module 'builtins' (built-in)>, '_ih': ['', \"def draw_triangle(n):\\n    output = []\\n    for i in range(n):\\n        txt = '*' * (i + 1)\\n        output.append(txt)\\n    return output\\n\\nt = draw_triangle(10)\\nprint('\\\\n'.join(t))\", \"def draw_triangle(n):\\n    output = []\\n    for i in range(n):\\n        txt = '*' * (i)\\n        output.append(txt)\\n    return output\\n\\nt = draw_triangle(10)\\nprint('\\\\n'.join(t))\", \"def draw_triangle(n):\\n    output = []\\n    for i in range(n):\\n        txt = '*' * (i + 1)\\n        output.append(txt)\\n    return output\\n\\nt = draw_triangle(10)\\nprint('\\\\n'.join(t))\", 'globals()', 'globals().keys()', 'globals().values()', 'globals().items()'], '_oh': {4: {...}, 5: dict_keys(['__name__', '__doc__', '__package__', '__loader__', '__spec__', '__builtin__', '__builtins__', '_ih', '_oh', '_dh', 'In', 'Out', 'get_ipython', 'exit', 'quit', 'open', '_', '__', '___', '__session__', '_i', '_ii', '_iii', '_i1', 'draw_triangle', 't', 'sys', 'remove_imported_pydev_package', '_pydevd_bundle', 'pydev_jupyter_vars', '_i2', '_i3', '_i4', '_4', '_i5', '_5', '_i6', '_6', '_i7']), 6: ...}, '_dh': [PosixPath('/home/lipov/projects/Python_practice_sessions_05/demos/exercises_intro')], 'In': ['', \"def draw_triangle(n):\\n    output = []\\n    for i in range(n):\\n        txt = '*' * (i + 1)\\n        output.append(txt)\\n    return output\\n\\nt = draw_triangle(10)\\nprint('\\\\n'.join(t))\", \"def draw_triangle(n):\\n    output = []\\n    for i in range(n):\\n        txt = '*' * (i)\\n        output.append(txt)\\n    return output\\n\\nt = draw_triangle(10)\\nprint('\\\\n'.join(t))\", \"def draw_triangle(n):\\n    output = []\\n    for i in range(n):\\n        txt = '*' * (i + 1)\\n        output.append(txt)\\n    return output\\n\\nt = draw_triangle(10)\\nprint('\\\\n'.join(t))\", 'globals()', 'globals().keys()', 'globals().values()', 'globals().items()'], 'Out': {4: {...}, 5: dict_keys(['__name__', '__doc__', '__package__', '__loader__', '__spec__', '__builtin__', '__builtins__', '_ih', '_oh', '_dh', 'In', 'Out', 'get_ipython', 'exit', 'quit', 'open', '_', '__', '___', '__session__', '_i', '_ii', '_iii', '_i1', 'draw_triangle', 't', 'sys', 'remove_imported_pydev_package', '_pydevd_bundle', 'pydev_jupyter_vars', '_i2', '_i3', '_i4', '_4', '_i5', '_5', '_i6', '_6', '_i7']), 6: ...}, 'get_ipython': <bound method InteractiveShell.get_ipython of <ipykernel.zmqshell.ZMQInteractiveShell object at 0x7f84f41241a0>>, 'exit': <IPython.core.autocall.ZMQExitAutocall object at 0x7f84f4126a50>, 'quit': <IPython.core.autocall.ZMQExitAutocall object at 0x7f84f4126a50>, 'open': <function open at 0x7f84f8813ba0>, '_': ..., '__': dict_keys(['__name__', '__doc__', '__package__', '__loader__', '__spec__', '__builtin__', '__builtins__', '_ih', '_oh', '_dh', 'In', 'Out', 'get_ipython', 'exit', 'quit', 'open', '_', '__', '___', '__session__', '_i', '_ii', '_iii', '_i1', 'draw_triangle', 't', 'sys', 'remove_imported_pydev_package', '_pydevd_bundle', 'pydev_jupyter_vars', '_i2', '_i3', '_i4', '_4', '_i5', '_5', '_i6', '_6', '_i7']), '___': {...}, '__session__': 'demos/exercises_intro/intro_day_2.ipynb', '_i': 'globals().values()', '_ii': 'globals().keys()', '_iii': 'globals()', '_i1': \"def draw_triangle(n):\\n    output = []\\n    for i in range(n):\\n        txt = '*' * (i + 1)\\n        output.append(txt)\\n    return output\\n\\nt = draw_triangle(10)\\nprint('\\\\n'.join(t))\", 'draw_triangle': <function draw_triangle at 0x7f84ddcef600>, 't': ['*', '**', '***', '****', '*****', '******', '*******', '********', '*********', '**********'], 'sys': <module 'sys' (built-in)>, 'remove_imported_pydev_package': <function remove_imported_pydev_package at 0x7f84dee8ef20>, '_pydevd_bundle': <module '_pydevd_bundle' from '/snap/pycharm-professional/484/plugins/python-ce/helpers/pydev/_pydevd_bundle/__init__.py'>, 'pydev_jupyter_vars': <module 'pydev_jupyter_vars' from '/snap/pycharm-professional/484/plugins/python-ce/helpers/jupyter_debug/pydev_jupyter_vars.py'>, '_i2': \"def draw_triangle(n):\\n    output = []\\n    for i in range(n):\\n        txt = '*' * (i)\\n        output.append(txt)\\n    return output\\n\\nt = draw_triangle(10)\\nprint('\\\\n'.join(t))\", '_i3': \"def draw_triangle(n):\\n    output = []\\n    for i in range(n):\\n        txt = '*' * (i + 1)\\n        output.append(txt)\\n    return output\\n\\nt = draw_triangle(10)\\nprint('\\\\n'.join(t))\", '_i4': 'globals()', '_4': {...}, '_i5': 'globals().keys()', '_5': dict_keys(['__name__', '__doc__', '__package__', '__loader__', '__spec__', '__builtin__', '__builtins__', '_ih', '_oh', '_dh', 'In', 'Out', 'get_ipython', 'exit', 'quit', 'open', '_', '__', '___', '__session__', '_i', '_ii', '_iii', '_i1', 'draw_triangle', 't', 'sys', 'remove_imported_pydev_package', '_pydevd_bundle', 'pydev_jupyter_vars', '_i2', '_i3', '_i4', '_4', '_i5', '_5', '_i6', '_6', '_i7']), '_i6': 'globals().values()', '_6': ..., '_i7': 'globals().items()'}, 'demos/exercises_intro/intro_day_2.ipynb', 'globals().values()', 'globals().keys()', 'globals()', \"def draw_triangle(n):\\n    output = []\\n    for i in range(n):\\n        txt = '*' * (i + 1)\\n        output.append(txt)\\n    return output\\n\\nt = draw_triangle(10)\\nprint('\\\\n'.join(t))\", <function draw_triangle at 0x7f84ddcef600>, ['*', '**', '***', '****', '*****', '******', '*******', '********', '*********', '**********'], <module 'sys' (built-in)>, <function remove_imported_pydev_package at 0x7f84dee8ef20>, <module '_pydevd_bundle' from '/snap/pycharm-professional/484/plugins/python-ce/helpers/pydev/_pydevd_bundle/__init__.py'>, <module 'pydev_jupyter_vars' from '/snap/pycharm-professional/484/plugins/python-ce/helpers/jupyter_debug/pydev_jupyter_vars.py'>, \"def draw_triangle(n):\\n    output = []\\n    for i in range(n):\\n        txt = '*' * (i)\\n        output.append(txt)\\n    return output\\n\\nt = draw_triangle(10)\\nprint('\\\\n'.join(t))\", \"def draw_triangle(n):\\n    output = []\\n    for i in range(n):\\n        txt = '*' * (i + 1)\\n        output.append(txt)\\n    return output\\n\\nt = draw_triangle(10)\\nprint('\\\\n'.join(t))\", 'globals()', {'__name__': '__main__', '__doc__': 'Automatically created module for IPython interactive environment', '__package__': None, '__loader__': None, '__spec__': None, '__builtin__': <module 'builtins' (built-in)>, '__builtins__': <module 'builtins' (built-in)>, '_ih': ['', \"def draw_triangle(n):\\n    output = []\\n    for i in range(n):\\n        txt = '*' * (i + 1)\\n        output.append(txt)\\n    return output\\n\\nt = draw_triangle(10)\\nprint('\\\\n'.join(t))\", \"def draw_triangle(n):\\n    output = []\\n    for i in range(n):\\n        txt = '*' * (i)\\n        output.append(txt)\\n    return output\\n\\nt = draw_triangle(10)\\nprint('\\\\n'.join(t))\", \"def draw_triangle(n):\\n    output = []\\n    for i in range(n):\\n        txt = '*' * (i + 1)\\n        output.append(txt)\\n    return output\\n\\nt = draw_triangle(10)\\nprint('\\\\n'.join(t))\", 'globals()', 'globals().keys()', 'globals().values()', 'globals().items()'], '_oh': {4: {...}, 5: dict_keys(['__name__', '__doc__', '__package__', '__loader__', '__spec__', '__builtin__', '__builtins__', '_ih', '_oh', '_dh', 'In', 'Out', 'get_ipython', 'exit', 'quit', 'open', '_', '__', '___', '__session__', '_i', '_ii', '_iii', '_i1', 'draw_triangle', 't', 'sys', 'remove_imported_pydev_package', '_pydevd_bundle', 'pydev_jupyter_vars', '_i2', '_i3', '_i4', '_4', '_i5', '_5', '_i6', '_6', '_i7']), 6: ...}, '_dh': [PosixPath('/home/lipov/projects/Python_practice_sessions_05/demos/exercises_intro')], 'In': ['', \"def draw_triangle(n):\\n    output = []\\n    for i in range(n):\\n        txt = '*' * (i + 1)\\n        output.append(txt)\\n    return output\\n\\nt = draw_triangle(10)\\nprint('\\\\n'.join(t))\", \"def draw_triangle(n):\\n    output = []\\n    for i in range(n):\\n        txt = '*' * (i)\\n        output.append(txt)\\n    return output\\n\\nt = draw_triangle(10)\\nprint('\\\\n'.join(t))\", \"def draw_triangle(n):\\n    output = []\\n    for i in range(n):\\n        txt = '*' * (i + 1)\\n        output.append(txt)\\n    return output\\n\\nt = draw_triangle(10)\\nprint('\\\\n'.join(t))\", 'globals()', 'globals().keys()', 'globals().values()', 'globals().items()'], 'Out': {4: {...}, 5: dict_keys(['__name__', '__doc__', '__package__', '__loader__', '__spec__', '__builtin__', '__builtins__', '_ih', '_oh', '_dh', 'In', 'Out', 'get_ipython', 'exit', 'quit', 'open', '_', '__', '___', '__session__', '_i', '_ii', '_iii', '_i1', 'draw_triangle', 't', 'sys', 'remove_imported_pydev_package', '_pydevd_bundle', 'pydev_jupyter_vars', '_i2', '_i3', '_i4', '_4', '_i5', '_5', '_i6', '_6', '_i7']), 6: ...}, 'get_ipython': <bound method InteractiveShell.get_ipython of <ipykernel.zmqshell.ZMQInteractiveShell object at 0x7f84f41241a0>>, 'exit': <IPython.core.autocall.ZMQExitAutocall object at 0x7f84f4126a50>, 'quit': <IPython.core.autocall.ZMQExitAutocall object at 0x7f84f4126a50>, 'open': <function open at 0x7f84f8813ba0>, '_': ..., '__': dict_keys(['__name__', '__doc__', '__package__', '__loader__', '__spec__', '__builtin__', '__builtins__', '_ih', '_oh', '_dh', 'In', 'Out', 'get_ipython', 'exit', 'quit', 'open', '_', '__', '___', '__session__', '_i', '_ii', '_iii', '_i1', 'draw_triangle', 't', 'sys', 'remove_imported_pydev_package', '_pydevd_bundle', 'pydev_jupyter_vars', '_i2', '_i3', '_i4', '_4', '_i5', '_5', '_i6', '_6', '_i7']), '___': {...}, '__session__': 'demos/exercises_intro/intro_day_2.ipynb', '_i': 'globals().values()', '_ii': 'globals().keys()', '_iii': 'globals()', '_i1': \"def draw_triangle(n):\\n    output = []\\n    for i in range(n):\\n        txt = '*' * (i + 1)\\n        output.append(txt)\\n    return output\\n\\nt = draw_triangle(10)\\nprint('\\\\n'.join(t))\", 'draw_triangle': <function draw_triangle at 0x7f84ddcef600>, 't': ['*', '**', '***', '****', '*****', '******', '*******', '********', '*********', '**********'], 'sys': <module 'sys' (built-in)>, 'remove_imported_pydev_package': <function remove_imported_pydev_package at 0x7f84dee8ef20>, '_pydevd_bundle': <module '_pydevd_bundle' from '/snap/pycharm-professional/484/plugins/python-ce/helpers/pydev/_pydevd_bundle/__init__.py'>, 'pydev_jupyter_vars': <module 'pydev_jupyter_vars' from '/snap/pycharm-professional/484/plugins/python-ce/helpers/jupyter_debug/pydev_jupyter_vars.py'>, '_i2': \"def draw_triangle(n):\\n    output = []\\n    for i in range(n):\\n        txt = '*' * (i)\\n        output.append(txt)\\n    return output\\n\\nt = draw_triangle(10)\\nprint('\\\\n'.join(t))\", '_i3': \"def draw_triangle(n):\\n    output = []\\n    for i in range(n):\\n        txt = '*' * (i + 1)\\n        output.append(txt)\\n    return output\\n\\nt = draw_triangle(10)\\nprint('\\\\n'.join(t))\", '_i4': 'globals()', '_4': {...}, '_i5': 'globals().keys()', '_5': dict_keys(['__name__', '__doc__', '__package__', '__loader__', '__spec__', '__builtin__', '__builtins__', '_ih', '_oh', '_dh', 'In', 'Out', 'get_ipython', 'exit', 'quit', 'open', '_', '__', '___', '__session__', '_i', '_ii', '_iii', '_i1', 'draw_triangle', 't', 'sys', 'remove_imported_pydev_package', '_pydevd_bundle', 'pydev_jupyter_vars', '_i2', '_i3', '_i4', '_4', '_i5', '_5', '_i6', '_6', '_i7']), '_i6': 'globals().values()', '_6': ..., '_i7': 'globals().items()'}, 'globals().keys()', dict_keys(['__name__', '__doc__', '__package__', '__loader__', '__spec__', '__builtin__', '__builtins__', '_ih', '_oh', '_dh', 'In', 'Out', 'get_ipython', 'exit', 'quit', 'open', '_', '__', '___', '__session__', '_i', '_ii', '_iii', '_i1', 'draw_triangle', 't', 'sys', 'remove_imported_pydev_package', '_pydevd_bundle', 'pydev_jupyter_vars', '_i2', '_i3', '_i4', '_4', '_i5', '_5', '_i6', '_6', '_i7']), 'globals().values()', ..., 'globals().items()'])), ('__', dict_keys(['__name__', '__doc__', '__package__', '__loader__', '__spec__', '__builtin__', '__builtins__', '_ih', '_oh', '_dh', 'In', 'Out', 'get_ipython', 'exit', 'quit', 'open', '_', '__', '___', '__session__', '_i', '_ii', '_iii', '_i1', 'draw_triangle', 't', 'sys', 'remove_imported_pydev_package', '_pydevd_bundle', 'pydev_jupyter_vars', '_i2', '_i3', '_i4', '_4', '_i5', '_5', '_i6', '_6', '_i7'])), ('___', {'__name__': '__main__', '__doc__': 'Automatically created module for IPython interactive environment', '__package__': None, '__loader__': None, '__spec__': None, '__builtin__': <module 'builtins' (built-in)>, '__builtins__': <module 'builtins' (built-in)>, '_ih': ['', \"def draw_triangle(n):\\n    output = []\\n    for i in range(n):\\n        txt = '*' * (i + 1)\\n        output.append(txt)\\n    return output\\n\\nt = draw_triangle(10)\\nprint('\\\\n'.join(t))\", \"def draw_triangle(n):\\n    output = []\\n    for i in range(n):\\n        txt = '*' * (i)\\n        output.append(txt)\\n    return output\\n\\nt = draw_triangle(10)\\nprint('\\\\n'.join(t))\", \"def draw_triangle(n):\\n    output = []\\n    for i in range(n):\\n        txt = '*' * (i + 1)\\n        output.append(txt)\\n    return output\\n\\nt = draw_triangle(10)\\nprint('\\\\n'.join(t))\", 'globals()', 'globals().keys()', 'globals().values()', 'globals().items()'], '_oh': {4: {...}, 5: dict_keys(['__name__', '__doc__', '__package__', '__loader__', '__spec__', '__builtin__', '__builtins__', '_ih', '_oh', '_dh', 'In', 'Out', 'get_ipython', 'exit', 'quit', 'open', '_', '__', '___', '__session__', '_i', '_ii', '_iii', '_i1', 'draw_triangle', 't', 'sys', 'remove_imported_pydev_package', '_pydevd_bundle', 'pydev_jupyter_vars', '_i2', '_i3', '_i4', '_4', '_i5', '_5', '_i6', '_6', '_i7']), 6: dict_values(['__main__', 'Automatically created module for IPython interactive environment', None, None, None, <module 'builtins' (built-in)>, <module 'builtins' (built-in)>, ['', \"def draw_triangle(n):\\n    output = []\\n    for i in range(n):\\n        txt = '*' * (i + 1)\\n        output.append(txt)\\n    return output\\n\\nt = draw_triangle(10)\\nprint('\\\\n'.join(t))\", \"def draw_triangle(n):\\n    output = []\\n    for i in range(n):\\n        txt = '*' * (i)\\n        output.append(txt)\\n    return output\\n\\nt = draw_triangle(10)\\nprint('\\\\n'.join(t))\", \"def draw_triangle(n):\\n    output = []\\n    for i in range(n):\\n        txt = '*' * (i + 1)\\n        output.append(txt)\\n    return output\\n\\nt = draw_triangle(10)\\nprint('\\\\n'.join(t))\", 'globals()', 'globals().keys()', 'globals().values()', 'globals().items()'], {...}, [PosixPath('/home/lipov/projects/Python_practice_sessions_05/demos/exercises_intro')], ['', \"def draw_triangle(n):\\n    output = []\\n    for i in range(n):\\n        txt = '*' * (i + 1)\\n        output.append(txt)\\n    return output\\n\\nt = draw_triangle(10)\\nprint('\\\\n'.join(t))\", \"def draw_triangle(n):\\n    output = []\\n    for i in range(n):\\n        txt = '*' * (i)\\n        output.append(txt)\\n    return output\\n\\nt = draw_triangle(10)\\nprint('\\\\n'.join(t))\", \"def draw_triangle(n):\\n    output = []\\n    for i in range(n):\\n        txt = '*' * (i + 1)\\n        output.append(txt)\\n    return output\\n\\nt = draw_triangle(10)\\nprint('\\\\n'.join(t))\", 'globals()', 'globals().keys()', 'globals().values()', 'globals().items()'], {...}, <bound method InteractiveShell.get_ipython of <ipykernel.zmqshell.ZMQInteractiveShell object at 0x7f84f41241a0>>, <IPython.core.autocall.ZMQExitAutocall object at 0x7f84f4126a50>, <IPython.core.autocall.ZMQExitAutocall object at 0x7f84f4126a50>, <function open at 0x7f84f8813ba0>, ..., dict_keys(['__name__', '__doc__', '__package__', '__loader__', '__spec__', '__builtin__', '__builtins__', '_ih', '_oh', '_dh', 'In', 'Out', 'get_ipython', 'exit', 'quit', 'open', '_', '__', '___', '__session__', '_i', '_ii', '_iii', '_i1', 'draw_triangle', 't', 'sys', 'remove_imported_pydev_package', '_pydevd_bundle', 'pydev_jupyter_vars', '_i2', '_i3', '_i4', '_4', '_i5', '_5', '_i6', '_6', '_i7']), {...}, 'demos/exercises_intro/intro_day_2.ipynb', 'globals().values()', 'globals().keys()', 'globals()', \"def draw_triangle(n):\\n    output = []\\n    for i in range(n):\\n        txt = '*' * (i + 1)\\n        output.append(txt)\\n    return output\\n\\nt = draw_triangle(10)\\nprint('\\\\n'.join(t))\", <function draw_triangle at 0x7f84ddcef600>, ['*', '**', '***', '****', '*****', '******', '*******', '********', '*********', '**********'], <module 'sys' (built-in)>, <function remove_imported_pydev_package at 0x7f84dee8ef20>, <module '_pydevd_bundle' from '/snap/pycharm-professional/484/plugins/python-ce/helpers/pydev/_pydevd_bundle/__init__.py'>, <module 'pydev_jupyter_vars' from '/snap/pycharm-professional/484/plugins/python-ce/helpers/jupyter_debug/pydev_jupyter_vars.py'>, \"def draw_triangle(n):\\n    output = []\\n    for i in range(n):\\n        txt = '*' * (i)\\n        output.append(txt)\\n    return output\\n\\nt = draw_triangle(10)\\nprint('\\\\n'.join(t))\", \"def draw_triangle(n):\\n    output = []\\n    for i in range(n):\\n        txt = '*' * (i + 1)\\n        output.append(txt)\\n    return output\\n\\nt = draw_triangle(10)\\nprint('\\\\n'.join(t))\", 'globals()', {...}, 'globals().keys()', dict_keys(['__name__', '__doc__', '__package__', '__loader__', '__spec__', '__builtin__', '__builtins__', '_ih', '_oh', '_dh', 'In', 'Out', 'get_ipython', 'exit', 'quit', 'open', '_', '__', '___', '__session__', '_i', '_ii', '_iii', '_i1', 'draw_triangle', 't', 'sys', 'remove_imported_pydev_package', '_pydevd_bundle', 'pydev_jupyter_vars', '_i2', '_i3', '_i4', '_4', '_i5', '_5', '_i6', '_6', '_i7']), 'globals().values()', ..., 'globals().items()'])}, '_dh': [PosixPath('/home/lipov/projects/Python_practice_sessions_05/demos/exercises_intro')], 'In': ['', \"def draw_triangle(n):\\n    output = []\\n    for i in range(n):\\n        txt = '*' * (i + 1)\\n        output.append(txt)\\n    return output\\n\\nt = draw_triangle(10)\\nprint('\\\\n'.join(t))\", \"def draw_triangle(n):\\n    output = []\\n    for i in range(n):\\n        txt = '*' * (i)\\n        output.append(txt)\\n    return output\\n\\nt = draw_triangle(10)\\nprint('\\\\n'.join(t))\", \"def draw_triangle(n):\\n    output = []\\n    for i in range(n):\\n        txt = '*' * (i + 1)\\n        output.append(txt)\\n    return output\\n\\nt = draw_triangle(10)\\nprint('\\\\n'.join(t))\", 'globals()', 'globals().keys()', 'globals().values()', 'globals().items()'], 'Out': {4: {...}, 5: dict_keys(['__name__', '__doc__', '__package__', '__loader__', '__spec__', '__builtin__', '__builtins__', '_ih', '_oh', '_dh', 'In', 'Out', 'get_ipython', 'exit', 'quit', 'open', '_', '__', '___', '__session__', '_i', '_ii', '_iii', '_i1', 'draw_triangle', 't', 'sys', 'remove_imported_pydev_package', '_pydevd_bundle', 'pydev_jupyter_vars', '_i2', '_i3', '_i4', '_4', '_i5', '_5', '_i6', '_6', '_i7']), 6: dict_values(['__main__', 'Automatically created module for IPython interactive environment', None, None, None, <module 'builtins' (built-in)>, <module 'builtins' (built-in)>, ['', \"def draw_triangle(n):\\n    output = []\\n    for i in range(n):\\n        txt = '*' * (i + 1)\\n        output.append(txt)\\n    return output\\n\\nt = draw_triangle(10)\\nprint('\\\\n'.join(t))\", \"def draw_triangle(n):\\n    output = []\\n    for i in range(n):\\n        txt = '*' * (i)\\n        output.append(txt)\\n    return output\\n\\nt = draw_triangle(10)\\nprint('\\\\n'.join(t))\", \"def draw_triangle(n):\\n    output = []\\n    for i in range(n):\\n        txt = '*' * (i + 1)\\n        output.append(txt)\\n    return output\\n\\nt = draw_triangle(10)\\nprint('\\\\n'.join(t))\", 'globals()', 'globals().keys()', 'globals().values()', 'globals().items()'], {...}, [PosixPath('/home/lipov/projects/Python_practice_sessions_05/demos/exercises_intro')], ['', \"def draw_triangle(n):\\n    output = []\\n    for i in range(n):\\n        txt = '*' * (i + 1)\\n        output.append(txt)\\n    return output\\n\\nt = draw_triangle(10)\\nprint('\\\\n'.join(t))\", \"def draw_triangle(n):\\n    output = []\\n    for i in range(n):\\n        txt = '*' * (i)\\n        output.append(txt)\\n    return output\\n\\nt = draw_triangle(10)\\nprint('\\\\n'.join(t))\", \"def draw_triangle(n):\\n    output = []\\n    for i in range(n):\\n        txt = '*' * (i + 1)\\n        output.append(txt)\\n    return output\\n\\nt = draw_triangle(10)\\nprint('\\\\n'.join(t))\", 'globals()', 'globals().keys()', 'globals().values()', 'globals().items()'], {...}, <bound method InteractiveShell.get_ipython of <ipykernel.zmqshell.ZMQInteractiveShell object at 0x7f84f41241a0>>, <IPython.core.autocall.ZMQExitAutocall object at 0x7f84f4126a50>, <IPython.core.autocall.ZMQExitAutocall object at 0x7f84f4126a50>, <function open at 0x7f84f8813ba0>, ..., dict_keys(['__name__', '__doc__', '__package__', '__loader__', '__spec__', '__builtin__', '__builtins__', '_ih', '_oh', '_dh', 'In', 'Out', 'get_ipython', 'exit', 'quit', 'open', '_', '__', '___', '__session__', '_i', '_ii', '_iii', '_i1', 'draw_triangle', 't', 'sys', 'remove_imported_pydev_package', '_pydevd_bundle', 'pydev_jupyter_vars', '_i2', '_i3', '_i4', '_4', '_i5', '_5', '_i6', '_6', '_i7']), {...}, 'demos/exercises_intro/intro_day_2.ipynb', 'globals().values()', 'globals().keys()', 'globals()', \"def draw_triangle(n):\\n    output = []\\n    for i in range(n):\\n        txt = '*' * (i + 1)\\n        output.append(txt)\\n    return output\\n\\nt = draw_triangle(10)\\nprint('\\\\n'.join(t))\", <function draw_triangle at 0x7f84ddcef600>, ['*', '**', '***', '****', '*****', '******', '*******', '********', '*********', '**********'], <module 'sys' (built-in)>, <function remove_imported_pydev_package at 0x7f84dee8ef20>, <module '_pydevd_bundle' from '/snap/pycharm-professional/484/plugins/python-ce/helpers/pydev/_pydevd_bundle/__init__.py'>, <module 'pydev_jupyter_vars' from '/snap/pycharm-professional/484/plugins/python-ce/helpers/jupyter_debug/pydev_jupyter_vars.py'>, \"def draw_triangle(n):\\n    output = []\\n    for i in range(n):\\n        txt = '*' * (i)\\n        output.append(txt)\\n    return output\\n\\nt = draw_triangle(10)\\nprint('\\\\n'.join(t))\", \"def draw_triangle(n):\\n    output = []\\n    for i in range(n):\\n        txt = '*' * (i + 1)\\n        output.append(txt)\\n    return output\\n\\nt = draw_triangle(10)\\nprint('\\\\n'.join(t))\", 'globals()', {...}, 'globals().keys()', dict_keys(['__name__', '__doc__', '__package__', '__loader__', '__spec__', '__builtin__', '__builtins__', '_ih', '_oh', '_dh', 'In', 'Out', 'get_ipython', 'exit', 'quit', 'open', '_', '__', '___', '__session__', '_i', '_ii', '_iii', '_i1', 'draw_triangle', 't', 'sys', 'remove_imported_pydev_package', '_pydevd_bundle', 'pydev_jupyter_vars', '_i2', '_i3', '_i4', '_4', '_i5', '_5', '_i6', '_6', '_i7']), 'globals().values()', ..., 'globals().items()'])}, 'get_ipython': <bound method InteractiveShell.get_ipython of <ipykernel.zmqshell.ZMQInteractiveShell object at 0x7f84f41241a0>>, 'exit': <IPython.core.autocall.ZMQExitAutocall object at 0x7f84f4126a50>, 'quit': <IPython.core.autocall.ZMQExitAutocall object at 0x7f84f4126a50>, 'open': <function open at 0x7f84f8813ba0>, '_': dict_values(['__main__', 'Automatically created module for IPython interactive environment', None, None, None, <module 'builtins' (built-in)>, <module 'builtins' (built-in)>, ['', \"def draw_triangle(n):\\n    output = []\\n    for i in range(n):\\n        txt = '*' * (i + 1)\\n        output.append(txt)\\n    return output\\n\\nt = draw_triangle(10)\\nprint('\\\\n'.join(t))\", \"def draw_triangle(n):\\n    output = []\\n    for i in range(n):\\n        txt = '*' * (i)\\n        output.append(txt)\\n    return output\\n\\nt = draw_triangle(10)\\nprint('\\\\n'.join(t))\", \"def draw_triangle(n):\\n    output = []\\n    for i in range(n):\\n        txt = '*' * (i + 1)\\n        output.append(txt)\\n    return output\\n\\nt = draw_triangle(10)\\nprint('\\\\n'.join(t))\", 'globals()', 'globals().keys()', 'globals().values()', 'globals().items()'], {4: {...}, 5: dict_keys(['__name__', '__doc__', '__package__', '__loader__', '__spec__', '__builtin__', '__builtins__', '_ih', '_oh', '_dh', 'In', 'Out', 'get_ipython', 'exit', 'quit', 'open', '_', '__', '___', '__session__', '_i', '_ii', '_iii', '_i1', 'draw_triangle', 't', 'sys', 'remove_imported_pydev_package', '_pydevd_bundle', 'pydev_jupyter_vars', '_i2', '_i3', '_i4', '_4', '_i5', '_5', '_i6', '_6', '_i7']), 6: ...}, [PosixPath('/home/lipov/projects/Python_practice_sessions_05/demos/exercises_intro')], ['', \"def draw_triangle(n):\\n    output = []\\n    for i in range(n):\\n        txt = '*' * (i + 1)\\n        output.append(txt)\\n    return output\\n\\nt = draw_triangle(10)\\nprint('\\\\n'.join(t))\", \"def draw_triangle(n):\\n    output = []\\n    for i in range(n):\\n        txt = '*' * (i)\\n        output.append(txt)\\n    return output\\n\\nt = draw_triangle(10)\\nprint('\\\\n'.join(t))\", \"def draw_triangle(n):\\n    output = []\\n    for i in range(n):\\n        txt = '*' * (i + 1)\\n        output.append(txt)\\n    return output\\n\\nt = draw_triangle(10)\\nprint('\\\\n'.join(t))\", 'globals()', 'globals().keys()', 'globals().values()', 'globals().items()'], {4: {...}, 5: dict_keys(['__name__', '__doc__', '__package__', '__loader__', '__spec__', '__builtin__', '__builtins__', '_ih', '_oh', '_dh', 'In', 'Out', 'get_ipython', 'exit', 'quit', 'open', '_', '__', '___', '__session__', '_i', '_ii', '_iii', '_i1', 'draw_triangle', 't', 'sys', 'remove_imported_pydev_package', '_pydevd_bundle', 'pydev_jupyter_vars', '_i2', '_i3', '_i4', '_4', '_i5', '_5', '_i6', '_6', '_i7']), 6: ...}, <bound method InteractiveShell.get_ipython of <ipykernel.zmqshell.ZMQInteractiveShell object at 0x7f84f41241a0>>, <IPython.core.autocall.ZMQExitAutocall object at 0x7f84f4126a50>, <IPython.core.autocall.ZMQExitAutocall object at 0x7f84f4126a50>, <function open at 0x7f84f8813ba0>, ..., dict_keys(['__name__', '__doc__', '__package__', '__loader__', '__spec__', '__builtin__', '__builtins__', '_ih', '_oh', '_dh', 'In', 'Out', 'get_ipython', 'exit', 'quit', 'open', '_', '__', '___', '__session__', '_i', '_ii', '_iii', '_i1', 'draw_triangle', 't', 'sys', 'remove_imported_pydev_package', '_pydevd_bundle', 'pydev_jupyter_vars', '_i2', '_i3', '_i4', '_4', '_i5', '_5', '_i6', '_6', '_i7']), {...}, 'demos/exercises_intro/intro_day_2.ipynb', 'globals().values()', 'globals().keys()', 'globals()', \"def draw_triangle(n):\\n    output = []\\n    for i in range(n):\\n        txt = '*' * (i + 1)\\n        output.append(txt)\\n    return output\\n\\nt = draw_triangle(10)\\nprint('\\\\n'.join(t))\", <function draw_triangle at 0x7f84ddcef600>, ['*', '**', '***', '****', '*****', '******', '*******', '********', '*********', '**********'], <module 'sys' (built-in)>, <function remove_imported_pydev_package at 0x7f84dee8ef20>, <module '_pydevd_bundle' from '/snap/pycharm-professional/484/plugins/python-ce/helpers/pydev/_pydevd_bundle/__init__.py'>, <module 'pydev_jupyter_vars' from '/snap/pycharm-professional/484/plugins/python-ce/helpers/jupyter_debug/pydev_jupyter_vars.py'>, \"def draw_triangle(n):\\n    output = []\\n    for i in range(n):\\n        txt = '*' * (i)\\n        output.append(txt)\\n    return output\\n\\nt = draw_triangle(10)\\nprint('\\\\n'.join(t))\", \"def draw_triangle(n):\\n    output = []\\n    for i in range(n):\\n        txt = '*' * (i + 1)\\n        output.append(txt)\\n    return output\\n\\nt = draw_triangle(10)\\nprint('\\\\n'.join(t))\", 'globals()', {...}, 'globals().keys()', dict_keys(['__name__', '__doc__', '__package__', '__loader__', '__spec__', '__builtin__', '__builtins__', '_ih', '_oh', '_dh', 'In', 'Out', 'get_ipython', 'exit', 'quit', 'open', '_', '__', '___', '__session__', '_i', '_ii', '_iii', '_i1', 'draw_triangle', 't', 'sys', 'remove_imported_pydev_package', '_pydevd_bundle', 'pydev_jupyter_vars', '_i2', '_i3', '_i4', '_4', '_i5', '_5', '_i6', '_6', '_i7']), 'globals().values()', ..., 'globals().items()']), '__': dict_keys(['__name__', '__doc__', '__package__', '__loader__', '__spec__', '__builtin__', '__builtins__', '_ih', '_oh', '_dh', 'In', 'Out', 'get_ipython', 'exit', 'quit', 'open', '_', '__', '___', '__session__', '_i', '_ii', '_iii', '_i1', 'draw_triangle', 't', 'sys', 'remove_imported_pydev_package', '_pydevd_bundle', 'pydev_jupyter_vars', '_i2', '_i3', '_i4', '_4', '_i5', '_5', '_i6', '_6', '_i7']), '___': {...}, '__session__': 'demos/exercises_intro/intro_day_2.ipynb', '_i': 'globals().values()', '_ii': 'globals().keys()', '_iii': 'globals()', '_i1': \"def draw_triangle(n):\\n    output = []\\n    for i in range(n):\\n        txt = '*' * (i + 1)\\n        output.append(txt)\\n    return output\\n\\nt = draw_triangle(10)\\nprint('\\\\n'.join(t))\", 'draw_triangle': <function draw_triangle at 0x7f84ddcef600>, 't': ['*', '**', '***', '****', '*****', '******', '*******', '********', '*********', '**********'], 'sys': <module 'sys' (built-in)>, 'remove_imported_pydev_package': <function remove_imported_pydev_package at 0x7f84dee8ef20>, '_pydevd_bundle': <module '_pydevd_bundle' from '/snap/pycharm-professional/484/plugins/python-ce/helpers/pydev/_pydevd_bundle/__init__.py'>, 'pydev_jupyter_vars': <module 'pydev_jupyter_vars' from '/snap/pycharm-professional/484/plugins/python-ce/helpers/jupyter_debug/pydev_jupyter_vars.py'>, '_i2': \"def draw_triangle(n):\\n    output = []\\n    for i in range(n):\\n        txt = '*' * (i)\\n        output.append(txt)\\n    return output\\n\\nt = draw_triangle(10)\\nprint('\\\\n'.join(t))\", '_i3': \"def draw_triangle(n):\\n    output = []\\n    for i in range(n):\\n        txt = '*' * (i + 1)\\n        output.append(txt)\\n    return output\\n\\nt = draw_triangle(10)\\nprint('\\\\n'.join(t))\", '_i4': 'globals()', '_4': {...}, '_i5': 'globals().keys()', '_5': dict_keys(['__name__', '__doc__', '__package__', '__loader__', '__spec__', '__builtin__', '__builtins__', '_ih', '_oh', '_dh', 'In', 'Out', 'get_ipython', 'exit', 'quit', 'open', '_', '__', '___', '__session__', '_i', '_ii', '_iii', '_i1', 'draw_triangle', 't', 'sys', 'remove_imported_pydev_package', '_pydevd_bundle', 'pydev_jupyter_vars', '_i2', '_i3', '_i4', '_4', '_i5', '_5', '_i6', '_6', '_i7']), '_i6': 'globals().values()', '_6': dict_values(['__main__', 'Automatically created module for IPython interactive environment', None, None, None, <module 'builtins' (built-in)>, <module 'builtins' (built-in)>, ['', \"def draw_triangle(n):\\n    output = []\\n    for i in range(n):\\n        txt = '*' * (i + 1)\\n        output.append(txt)\\n    return output\\n\\nt = draw_triangle(10)\\nprint('\\\\n'.join(t))\", \"def draw_triangle(n):\\n    output = []\\n    for i in range(n):\\n        txt = '*' * (i)\\n        output.append(txt)\\n    return output\\n\\nt = draw_triangle(10)\\nprint('\\\\n'.join(t))\", \"def draw_triangle(n):\\n    output = []\\n    for i in range(n):\\n        txt = '*' * (i + 1)\\n        output.append(txt)\\n    return output\\n\\nt = draw_triangle(10)\\nprint('\\\\n'.join(t))\", 'globals()', 'globals().keys()', 'globals().values()', 'globals().items()'], {4: {...}, 5: dict_keys(['__name__', '__doc__', '__package__', '__loader__', '__spec__', '__builtin__', '__builtins__', '_ih', '_oh', '_dh', 'In', 'Out', 'get_ipython', 'exit', 'quit', 'open', '_', '__', '___', '__session__', '_i', '_ii', '_iii', '_i1', 'draw_triangle', 't', 'sys', 'remove_imported_pydev_package', '_pydevd_bundle', 'pydev_jupyter_vars', '_i2', '_i3', '_i4', '_4', '_i5', '_5', '_i6', '_6', '_i7']), 6: ...}, [PosixPath('/home/lipov/projects/Python_practice_sessions_05/demos/exercises_intro')], ['', \"def draw_triangle(n):\\n    output = []\\n    for i in range(n):\\n        txt = '*' * (i + 1)\\n        output.append(txt)\\n    return output\\n\\nt = draw_triangle(10)\\nprint('\\\\n'.join(t))\", \"def draw_triangle(n):\\n    output = []\\n    for i in range(n):\\n        txt = '*' * (i)\\n        output.append(txt)\\n    return output\\n\\nt = draw_triangle(10)\\nprint('\\\\n'.join(t))\", \"def draw_triangle(n):\\n    output = []\\n    for i in range(n):\\n        txt = '*' * (i + 1)\\n        output.append(txt)\\n    return output\\n\\nt = draw_triangle(10)\\nprint('\\\\n'.join(t))\", 'globals()', 'globals().keys()', 'globals().values()', 'globals().items()'], {4: {...}, 5: dict_keys(['__name__', '__doc__', '__package__', '__loader__', '__spec__', '__builtin__', '__builtins__', '_ih', '_oh', '_dh', 'In', 'Out', 'get_ipython', 'exit', 'quit', 'open', '_', '__', '___', '__session__', '_i', '_ii', '_iii', '_i1', 'draw_triangle', 't', 'sys', 'remove_imported_pydev_package', '_pydevd_bundle', 'pydev_jupyter_vars', '_i2', '_i3', '_i4', '_4', '_i5', '_5', '_i6', '_6', '_i7']), 6: ...}, <bound method InteractiveShell.get_ipython of <ipykernel.zmqshell.ZMQInteractiveShell object at 0x7f84f41241a0>>, <IPython.core.autocall.ZMQExitAutocall object at 0x7f84f4126a50>, <IPython.core.autocall.ZMQExitAutocall object at 0x7f84f4126a50>, <function open at 0x7f84f8813ba0>, ..., dict_keys(['__name__', '__doc__', '__package__', '__loader__', '__spec__', '__builtin__', '__builtins__', '_ih', '_oh', '_dh', 'In', 'Out', 'get_ipython', 'exit', 'quit', 'open', '_', '__', '___', '__session__', '_i', '_ii', '_iii', '_i1', 'draw_triangle', 't', 'sys', 'remove_imported_pydev_package', '_pydevd_bundle', 'pydev_jupyter_vars', '_i2', '_i3', '_i4', '_4', '_i5', '_5', '_i6', '_6', '_i7']), {...}, 'demos/exercises_intro/intro_day_2.ipynb', 'globals().values()', 'globals().keys()', 'globals()', \"def draw_triangle(n):\\n    output = []\\n    for i in range(n):\\n        txt = '*' * (i + 1)\\n        output.append(txt)\\n    return output\\n\\nt = draw_triangle(10)\\nprint('\\\\n'.join(t))\", <function draw_triangle at 0x7f84ddcef600>, ['*', '**', '***', '****', '*****', '******', '*******', '********', '*********', '**********'], <module 'sys' (built-in)>, <function remove_imported_pydev_package at 0x7f84dee8ef20>, <module '_pydevd_bundle' from '/snap/pycharm-professional/484/plugins/python-ce/helpers/pydev/_pydevd_bundle/__init__.py'>, <module 'pydev_jupyter_vars' from '/snap/pycharm-professional/484/plugins/python-ce/helpers/jupyter_debug/pydev_jupyter_vars.py'>, \"def draw_triangle(n):\\n    output = []\\n    for i in range(n):\\n        txt = '*' * (i)\\n        output.append(txt)\\n    return output\\n\\nt = draw_triangle(10)\\nprint('\\\\n'.join(t))\", \"def draw_triangle(n):\\n    output = []\\n    for i in range(n):\\n        txt = '*' * (i + 1)\\n        output.append(txt)\\n    return output\\n\\nt = draw_triangle(10)\\nprint('\\\\n'.join(t))\", 'globals()', {...}, 'globals().keys()', dict_keys(['__name__', '__doc__', '__package__', '__loader__', '__spec__', '__builtin__', '__builtins__', '_ih', '_oh', '_dh', 'In', 'Out', 'get_ipython', 'exit', 'quit', 'open', '_', '__', '___', '__session__', '_i', '_ii', '_iii', '_i1', 'draw_triangle', 't', 'sys', 'remove_imported_pydev_package', '_pydevd_bundle', 'pydev_jupyter_vars', '_i2', '_i3', '_i4', '_4', '_i5', '_5', '_i6', '_6', '_i7']), 'globals().values()', ..., 'globals().items()']), '_i7': 'globals().items()'}), ('__session__', 'demos/exercises_intro/intro_day_2.ipynb'), ('_i', 'globals().values()'), ('_ii', 'globals().keys()'), ('_iii', 'globals()'), ('_i1', \"def draw_triangle(n):\\n    output = []\\n    for i in range(n):\\n        txt = '*' * (i + 1)\\n        output.append(txt)\\n    return output\\n\\nt = draw_triangle(10)\\nprint('\\\\n'.join(t))\"), ('draw_triangle', <function draw_triangle at 0x7f84ddcef600>), ('t', ['*', '**', '***', '****', '*****', '******', '*******', '********', '*********', '**********']), ('sys', <module 'sys' (built-in)>), ('remove_imported_pydev_package', <function remove_imported_pydev_package at 0x7f84dee8ef20>), ('_pydevd_bundle', <module '_pydevd_bundle' from '/snap/pycharm-professional/484/plugins/python-ce/helpers/pydev/_pydevd_bundle/__init__.py'>), ('pydev_jupyter_vars', <module 'pydev_jupyter_vars' from '/snap/pycharm-professional/484/plugins/python-ce/helpers/jupyter_debug/pydev_jupyter_vars.py'>), ('_i2', \"def draw_triangle(n):\\n    output = []\\n    for i in range(n):\\n        txt = '*' * (i)\\n        output.append(txt)\\n    return output\\n\\nt = draw_triangle(10)\\nprint('\\\\n'.join(t))\"), ('_i3', \"def draw_triangle(n):\\n    output = []\\n    for i in range(n):\\n        txt = '*' * (i + 1)\\n        output.append(txt)\\n    return output\\n\\nt = draw_triangle(10)\\nprint('\\\\n'.join(t))\"), ('_i4', 'globals()'), ('_4', {'__name__': '__main__', '__doc__': 'Automatically created module for IPython interactive environment', '__package__': None, '__loader__': None, '__spec__': None, '__builtin__': <module 'builtins' (built-in)>, '__builtins__': <module 'builtins' (built-in)>, '_ih': ['', \"def draw_triangle(n):\\n    output = []\\n    for i in range(n):\\n        txt = '*' * (i + 1)\\n        output.append(txt)\\n    return output\\n\\nt = draw_triangle(10)\\nprint('\\\\n'.join(t))\", \"def draw_triangle(n):\\n    output = []\\n    for i in range(n):\\n        txt = '*' * (i)\\n        output.append(txt)\\n    return output\\n\\nt = draw_triangle(10)\\nprint('\\\\n'.join(t))\", \"def draw_triangle(n):\\n    output = []\\n    for i in range(n):\\n        txt = '*' * (i + 1)\\n        output.append(txt)\\n    return output\\n\\nt = draw_triangle(10)\\nprint('\\\\n'.join(t))\", 'globals()', 'globals().keys()', 'globals().values()', 'globals().items()'], '_oh': {4: {...}, 5: dict_keys(['__name__', '__doc__', '__package__', '__loader__', '__spec__', '__builtin__', '__builtins__', '_ih', '_oh', '_dh', 'In', 'Out', 'get_ipython', 'exit', 'quit', 'open', '_', '__', '___', '__session__', '_i', '_ii', '_iii', '_i1', 'draw_triangle', 't', 'sys', 'remove_imported_pydev_package', '_pydevd_bundle', 'pydev_jupyter_vars', '_i2', '_i3', '_i4', '_4', '_i5', '_5', '_i6', '_6', '_i7']), 6: dict_values(['__main__', 'Automatically created module for IPython interactive environment', None, None, None, <module 'builtins' (built-in)>, <module 'builtins' (built-in)>, ['', \"def draw_triangle(n):\\n    output = []\\n    for i in range(n):\\n        txt = '*' * (i + 1)\\n        output.append(txt)\\n    return output\\n\\nt = draw_triangle(10)\\nprint('\\\\n'.join(t))\", \"def draw_triangle(n):\\n    output = []\\n    for i in range(n):\\n        txt = '*' * (i)\\n        output.append(txt)\\n    return output\\n\\nt = draw_triangle(10)\\nprint('\\\\n'.join(t))\", \"def draw_triangle(n):\\n    output = []\\n    for i in range(n):\\n        txt = '*' * (i + 1)\\n        output.append(txt)\\n    return output\\n\\nt = draw_triangle(10)\\nprint('\\\\n'.join(t))\", 'globals()', 'globals().keys()', 'globals().values()', 'globals().items()'], {...}, [PosixPath('/home/lipov/projects/Python_practice_sessions_05/demos/exercises_intro')], ['', \"def draw_triangle(n):\\n    output = []\\n    for i in range(n):\\n        txt = '*' * (i + 1)\\n        output.append(txt)\\n    return output\\n\\nt = draw_triangle(10)\\nprint('\\\\n'.join(t))\", \"def draw_triangle(n):\\n    output = []\\n    for i in range(n):\\n        txt = '*' * (i)\\n        output.append(txt)\\n    return output\\n\\nt = draw_triangle(10)\\nprint('\\\\n'.join(t))\", \"def draw_triangle(n):\\n    output = []\\n    for i in range(n):\\n        txt = '*' * (i + 1)\\n        output.append(txt)\\n    return output\\n\\nt = draw_triangle(10)\\nprint('\\\\n'.join(t))\", 'globals()', 'globals().keys()', 'globals().values()', 'globals().items()'], {...}, <bound method InteractiveShell.get_ipython of <ipykernel.zmqshell.ZMQInteractiveShell object at 0x7f84f41241a0>>, <IPython.core.autocall.ZMQExitAutocall object at 0x7f84f4126a50>, <IPython.core.autocall.ZMQExitAutocall object at 0x7f84f4126a50>, <function open at 0x7f84f8813ba0>, ..., dict_keys(['__name__', '__doc__', '__package__', '__loader__', '__spec__', '__builtin__', '__builtins__', '_ih', '_oh', '_dh', 'In', 'Out', 'get_ipython', 'exit', 'quit', 'open', '_', '__', '___', '__session__', '_i', '_ii', '_iii', '_i1', 'draw_triangle', 't', 'sys', 'remove_imported_pydev_package', '_pydevd_bundle', 'pydev_jupyter_vars', '_i2', '_i3', '_i4', '_4', '_i5', '_5', '_i6', '_6', '_i7']), {...}, 'demos/exercises_intro/intro_day_2.ipynb', 'globals().values()', 'globals().keys()', 'globals()', \"def draw_triangle(n):\\n    output = []\\n    for i in range(n):\\n        txt = '*' * (i + 1)\\n        output.append(txt)\\n    return output\\n\\nt = draw_triangle(10)\\nprint('\\\\n'.join(t))\", <function draw_triangle at 0x7f84ddcef600>, ['*', '**', '***', '****', '*****', '******', '*******', '********', '*********', '**********'], <module 'sys' (built-in)>, <function remove_imported_pydev_package at 0x7f84dee8ef20>, <module '_pydevd_bundle' from '/snap/pycharm-professional/484/plugins/python-ce/helpers/pydev/_pydevd_bundle/__init__.py'>, <module 'pydev_jupyter_vars' from '/snap/pycharm-professional/484/plugins/python-ce/helpers/jupyter_debug/pydev_jupyter_vars.py'>, \"def draw_triangle(n):\\n    output = []\\n    for i in range(n):\\n        txt = '*' * (i)\\n        output.append(txt)\\n    return output\\n\\nt = draw_triangle(10)\\nprint('\\\\n'.join(t))\", \"def draw_triangle(n):\\n    output = []\\n    for i in range(n):\\n        txt = '*' * (i + 1)\\n        output.append(txt)\\n    return output\\n\\nt = draw_triangle(10)\\nprint('\\\\n'.join(t))\", 'globals()', {...}, 'globals().keys()', dict_keys(['__name__', '__doc__', '__package__', '__loader__', '__spec__', '__builtin__', '__builtins__', '_ih', '_oh', '_dh', 'In', 'Out', 'get_ipython', 'exit', 'quit', 'open', '_', '__', '___', '__session__', '_i', '_ii', '_iii', '_i1', 'draw_triangle', 't', 'sys', 'remove_imported_pydev_package', '_pydevd_bundle', 'pydev_jupyter_vars', '_i2', '_i3', '_i4', '_4', '_i5', '_5', '_i6', '_6', '_i7']), 'globals().values()', ..., 'globals().items()'])}, '_dh': [PosixPath('/home/lipov/projects/Python_practice_sessions_05/demos/exercises_intro')], 'In': ['', \"def draw_triangle(n):\\n    output = []\\n    for i in range(n):\\n        txt = '*' * (i + 1)\\n        output.append(txt)\\n    return output\\n\\nt = draw_triangle(10)\\nprint('\\\\n'.join(t))\", \"def draw_triangle(n):\\n    output = []\\n    for i in range(n):\\n        txt = '*' * (i)\\n        output.append(txt)\\n    return output\\n\\nt = draw_triangle(10)\\nprint('\\\\n'.join(t))\", \"def draw_triangle(n):\\n    output = []\\n    for i in range(n):\\n        txt = '*' * (i + 1)\\n        output.append(txt)\\n    return output\\n\\nt = draw_triangle(10)\\nprint('\\\\n'.join(t))\", 'globals()', 'globals().keys()', 'globals().values()', 'globals().items()'], 'Out': {4: {...}, 5: dict_keys(['__name__', '__doc__', '__package__', '__loader__', '__spec__', '__builtin__', '__builtins__', '_ih', '_oh', '_dh', 'In', 'Out', 'get_ipython', 'exit', 'quit', 'open', '_', '__', '___', '__session__', '_i', '_ii', '_iii', '_i1', 'draw_triangle', 't', 'sys', 'remove_imported_pydev_package', '_pydevd_bundle', 'pydev_jupyter_vars', '_i2', '_i3', '_i4', '_4', '_i5', '_5', '_i6', '_6', '_i7']), 6: dict_values(['__main__', 'Automatically created module for IPython interactive environment', None, None, None, <module 'builtins' (built-in)>, <module 'builtins' (built-in)>, ['', \"def draw_triangle(n):\\n    output = []\\n    for i in range(n):\\n        txt = '*' * (i + 1)\\n        output.append(txt)\\n    return output\\n\\nt = draw_triangle(10)\\nprint('\\\\n'.join(t))\", \"def draw_triangle(n):\\n    output = []\\n    for i in range(n):\\n        txt = '*' * (i)\\n        output.append(txt)\\n    return output\\n\\nt = draw_triangle(10)\\nprint('\\\\n'.join(t))\", \"def draw_triangle(n):\\n    output = []\\n    for i in range(n):\\n        txt = '*' * (i + 1)\\n        output.append(txt)\\n    return output\\n\\nt = draw_triangle(10)\\nprint('\\\\n'.join(t))\", 'globals()', 'globals().keys()', 'globals().values()', 'globals().items()'], {...}, [PosixPath('/home/lipov/projects/Python_practice_sessions_05/demos/exercises_intro')], ['', \"def draw_triangle(n):\\n    output = []\\n    for i in range(n):\\n        txt = '*' * (i + 1)\\n        output.append(txt)\\n    return output\\n\\nt = draw_triangle(10)\\nprint('\\\\n'.join(t))\", \"def draw_triangle(n):\\n    output = []\\n    for i in range(n):\\n        txt = '*' * (i)\\n        output.append(txt)\\n    return output\\n\\nt = draw_triangle(10)\\nprint('\\\\n'.join(t))\", \"def draw_triangle(n):\\n    output = []\\n    for i in range(n):\\n        txt = '*' * (i + 1)\\n        output.append(txt)\\n    return output\\n\\nt = draw_triangle(10)\\nprint('\\\\n'.join(t))\", 'globals()', 'globals().keys()', 'globals().values()', 'globals().items()'], {...}, <bound method InteractiveShell.get_ipython of <ipykernel.zmqshell.ZMQInteractiveShell object at 0x7f84f41241a0>>, <IPython.core.autocall.ZMQExitAutocall object at 0x7f84f4126a50>, <IPython.core.autocall.ZMQExitAutocall object at 0x7f84f4126a50>, <function open at 0x7f84f8813ba0>, ..., dict_keys(['__name__', '__doc__', '__package__', '__loader__', '__spec__', '__builtin__', '__builtins__', '_ih', '_oh', '_dh', 'In', 'Out', 'get_ipython', 'exit', 'quit', 'open', '_', '__', '___', '__session__', '_i', '_ii', '_iii', '_i1', 'draw_triangle', 't', 'sys', 'remove_imported_pydev_package', '_pydevd_bundle', 'pydev_jupyter_vars', '_i2', '_i3', '_i4', '_4', '_i5', '_5', '_i6', '_6', '_i7']), {...}, 'demos/exercises_intro/intro_day_2.ipynb', 'globals().values()', 'globals().keys()', 'globals()', \"def draw_triangle(n):\\n    output = []\\n    for i in range(n):\\n        txt = '*' * (i + 1)\\n        output.append(txt)\\n    return output\\n\\nt = draw_triangle(10)\\nprint('\\\\n'.join(t))\", <function draw_triangle at 0x7f84ddcef600>, ['*', '**', '***', '****', '*****', '******', '*******', '********', '*********', '**********'], <module 'sys' (built-in)>, <function remove_imported_pydev_package at 0x7f84dee8ef20>, <module '_pydevd_bundle' from '/snap/pycharm-professional/484/plugins/python-ce/helpers/pydev/_pydevd_bundle/__init__.py'>, <module 'pydev_jupyter_vars' from '/snap/pycharm-professional/484/plugins/python-ce/helpers/jupyter_debug/pydev_jupyter_vars.py'>, \"def draw_triangle(n):\\n    output = []\\n    for i in range(n):\\n        txt = '*' * (i)\\n        output.append(txt)\\n    return output\\n\\nt = draw_triangle(10)\\nprint('\\\\n'.join(t))\", \"def draw_triangle(n):\\n    output = []\\n    for i in range(n):\\n        txt = '*' * (i + 1)\\n        output.append(txt)\\n    return output\\n\\nt = draw_triangle(10)\\nprint('\\\\n'.join(t))\", 'globals()', {...}, 'globals().keys()', dict_keys(['__name__', '__doc__', '__package__', '__loader__', '__spec__', '__builtin__', '__builtins__', '_ih', '_oh', '_dh', 'In', 'Out', 'get_ipython', 'exit', 'quit', 'open', '_', '__', '___', '__session__', '_i', '_ii', '_iii', '_i1', 'draw_triangle', 't', 'sys', 'remove_imported_pydev_package', '_pydevd_bundle', 'pydev_jupyter_vars', '_i2', '_i3', '_i4', '_4', '_i5', '_5', '_i6', '_6', '_i7']), 'globals().values()', ..., 'globals().items()'])}, 'get_ipython': <bound method InteractiveShell.get_ipython of <ipykernel.zmqshell.ZMQInteractiveShell object at 0x7f84f41241a0>>, 'exit': <IPython.core.autocall.ZMQExitAutocall object at 0x7f84f4126a50>, 'quit': <IPython.core.autocall.ZMQExitAutocall object at 0x7f84f4126a50>, 'open': <function open at 0x7f84f8813ba0>, '_': dict_values(['__main__', 'Automatically created module for IPython interactive environment', None, None, None, <module 'builtins' (built-in)>, <module 'builtins' (built-in)>, ['', \"def draw_triangle(n):\\n    output = []\\n    for i in range(n):\\n        txt = '*' * (i + 1)\\n        output.append(txt)\\n    return output\\n\\nt = draw_triangle(10)\\nprint('\\\\n'.join(t))\", \"def draw_triangle(n):\\n    output = []\\n    for i in range(n):\\n        txt = '*' * (i)\\n        output.append(txt)\\n    return output\\n\\nt = draw_triangle(10)\\nprint('\\\\n'.join(t))\", \"def draw_triangle(n):\\n    output = []\\n    for i in range(n):\\n        txt = '*' * (i + 1)\\n        output.append(txt)\\n    return output\\n\\nt = draw_triangle(10)\\nprint('\\\\n'.join(t))\", 'globals()', 'globals().keys()', 'globals().values()', 'globals().items()'], {4: {...}, 5: dict_keys(['__name__', '__doc__', '__package__', '__loader__', '__spec__', '__builtin__', '__builtins__', '_ih', '_oh', '_dh', 'In', 'Out', 'get_ipython', 'exit', 'quit', 'open', '_', '__', '___', '__session__', '_i', '_ii', '_iii', '_i1', 'draw_triangle', 't', 'sys', 'remove_imported_pydev_package', '_pydevd_bundle', 'pydev_jupyter_vars', '_i2', '_i3', '_i4', '_4', '_i5', '_5', '_i6', '_6', '_i7']), 6: ...}, [PosixPath('/home/lipov/projects/Python_practice_sessions_05/demos/exercises_intro')], ['', \"def draw_triangle(n):\\n    output = []\\n    for i in range(n):\\n        txt = '*' * (i + 1)\\n        output.append(txt)\\n    return output\\n\\nt = draw_triangle(10)\\nprint('\\\\n'.join(t))\", \"def draw_triangle(n):\\n    output = []\\n    for i in range(n):\\n        txt = '*' * (i)\\n        output.append(txt)\\n    return output\\n\\nt = draw_triangle(10)\\nprint('\\\\n'.join(t))\", \"def draw_triangle(n):\\n    output = []\\n    for i in range(n):\\n        txt = '*' * (i + 1)\\n        output.append(txt)\\n    return output\\n\\nt = draw_triangle(10)\\nprint('\\\\n'.join(t))\", 'globals()', 'globals().keys()', 'globals().values()', 'globals().items()'], {4: {...}, 5: dict_keys(['__name__', '__doc__', '__package__', '__loader__', '__spec__', '__builtin__', '__builtins__', '_ih', '_oh', '_dh', 'In', 'Out', 'get_ipython', 'exit', 'quit', 'open', '_', '__', '___', '__session__', '_i', '_ii', '_iii', '_i1', 'draw_triangle', 't', 'sys', 'remove_imported_pydev_package', '_pydevd_bundle', 'pydev_jupyter_vars', '_i2', '_i3', '_i4', '_4', '_i5', '_5', '_i6', '_6', '_i7']), 6: ...}, <bound method InteractiveShell.get_ipython of <ipykernel.zmqshell.ZMQInteractiveShell object at 0x7f84f41241a0>>, <IPython.core.autocall.ZMQExitAutocall object at 0x7f84f4126a50>, <IPython.core.autocall.ZMQExitAutocall object at 0x7f84f4126a50>, <function open at 0x7f84f8813ba0>, ..., dict_keys(['__name__', '__doc__', '__package__', '__loader__', '__spec__', '__builtin__', '__builtins__', '_ih', '_oh', '_dh', 'In', 'Out', 'get_ipython', 'exit', 'quit', 'open', '_', '__', '___', '__session__', '_i', '_ii', '_iii', '_i1', 'draw_triangle', 't', 'sys', 'remove_imported_pydev_package', '_pydevd_bundle', 'pydev_jupyter_vars', '_i2', '_i3', '_i4', '_4', '_i5', '_5', '_i6', '_6', '_i7']), {...}, 'demos/exercises_intro/intro_day_2.ipynb', 'globals().values()', 'globals().keys()', 'globals()', \"def draw_triangle(n):\\n    output = []\\n    for i in range(n):\\n        txt = '*' * (i + 1)\\n        output.append(txt)\\n    return output\\n\\nt = draw_triangle(10)\\nprint('\\\\n'.join(t))\", <function draw_triangle at 0x7f84ddcef600>, ['*', '**', '***', '****', '*****', '******', '*******', '********', '*********', '**********'], <module 'sys' (built-in)>, <function remove_imported_pydev_package at 0x7f84dee8ef20>, <module '_pydevd_bundle' from '/snap/pycharm-professional/484/plugins/python-ce/helpers/pydev/_pydevd_bundle/__init__.py'>, <module 'pydev_jupyter_vars' from '/snap/pycharm-professional/484/plugins/python-ce/helpers/jupyter_debug/pydev_jupyter_vars.py'>, \"def draw_triangle(n):\\n    output = []\\n    for i in range(n):\\n        txt = '*' * (i)\\n        output.append(txt)\\n    return output\\n\\nt = draw_triangle(10)\\nprint('\\\\n'.join(t))\", \"def draw_triangle(n):\\n    output = []\\n    for i in range(n):\\n        txt = '*' * (i + 1)\\n        output.append(txt)\\n    return output\\n\\nt = draw_triangle(10)\\nprint('\\\\n'.join(t))\", 'globals()', {...}, 'globals().keys()', dict_keys(['__name__', '__doc__', '__package__', '__loader__', '__spec__', '__builtin__', '__builtins__', '_ih', '_oh', '_dh', 'In', 'Out', 'get_ipython', 'exit', 'quit', 'open', '_', '__', '___', '__session__', '_i', '_ii', '_iii', '_i1', 'draw_triangle', 't', 'sys', 'remove_imported_pydev_package', '_pydevd_bundle', 'pydev_jupyter_vars', '_i2', '_i3', '_i4', '_4', '_i5', '_5', '_i6', '_6', '_i7']), 'globals().values()', ..., 'globals().items()']), '__': dict_keys(['__name__', '__doc__', '__package__', '__loader__', '__spec__', '__builtin__', '__builtins__', '_ih', '_oh', '_dh', 'In', 'Out', 'get_ipython', 'exit', 'quit', 'open', '_', '__', '___', '__session__', '_i', '_ii', '_iii', '_i1', 'draw_triangle', 't', 'sys', 'remove_imported_pydev_package', '_pydevd_bundle', 'pydev_jupyter_vars', '_i2', '_i3', '_i4', '_4', '_i5', '_5', '_i6', '_6', '_i7']), '___': {...}, '__session__': 'demos/exercises_intro/intro_day_2.ipynb', '_i': 'globals().values()', '_ii': 'globals().keys()', '_iii': 'globals()', '_i1': \"def draw_triangle(n):\\n    output = []\\n    for i in range(n):\\n        txt = '*' * (i + 1)\\n        output.append(txt)\\n    return output\\n\\nt = draw_triangle(10)\\nprint('\\\\n'.join(t))\", 'draw_triangle': <function draw_triangle at 0x7f84ddcef600>, 't': ['*', '**', '***', '****', '*****', '******', '*******', '********', '*********', '**********'], 'sys': <module 'sys' (built-in)>, 'remove_imported_pydev_package': <function remove_imported_pydev_package at 0x7f84dee8ef20>, '_pydevd_bundle': <module '_pydevd_bundle' from '/snap/pycharm-professional/484/plugins/python-ce/helpers/pydev/_pydevd_bundle/__init__.py'>, 'pydev_jupyter_vars': <module 'pydev_jupyter_vars' from '/snap/pycharm-professional/484/plugins/python-ce/helpers/jupyter_debug/pydev_jupyter_vars.py'>, '_i2': \"def draw_triangle(n):\\n    output = []\\n    for i in range(n):\\n        txt = '*' * (i)\\n        output.append(txt)\\n    return output\\n\\nt = draw_triangle(10)\\nprint('\\\\n'.join(t))\", '_i3': \"def draw_triangle(n):\\n    output = []\\n    for i in range(n):\\n        txt = '*' * (i + 1)\\n        output.append(txt)\\n    return output\\n\\nt = draw_triangle(10)\\nprint('\\\\n'.join(t))\", '_i4': 'globals()', '_4': {...}, '_i5': 'globals().keys()', '_5': dict_keys(['__name__', '__doc__', '__package__', '__loader__', '__spec__', '__builtin__', '__builtins__', '_ih', '_oh', '_dh', 'In', 'Out', 'get_ipython', 'exit', 'quit', 'open', '_', '__', '___', '__session__', '_i', '_ii', '_iii', '_i1', 'draw_triangle', 't', 'sys', 'remove_imported_pydev_package', '_pydevd_bundle', 'pydev_jupyter_vars', '_i2', '_i3', '_i4', '_4', '_i5', '_5', '_i6', '_6', '_i7']), '_i6': 'globals().values()', '_6': dict_values(['__main__', 'Automatically created module for IPython interactive environment', None, None, None, <module 'builtins' (built-in)>, <module 'builtins' (built-in)>, ['', \"def draw_triangle(n):\\n    output = []\\n    for i in range(n):\\n        txt = '*' * (i + 1)\\n        output.append(txt)\\n    return output\\n\\nt = draw_triangle(10)\\nprint('\\\\n'.join(t))\", \"def draw_triangle(n):\\n    output = []\\n    for i in range(n):\\n        txt = '*' * (i)\\n        output.append(txt)\\n    return output\\n\\nt = draw_triangle(10)\\nprint('\\\\n'.join(t))\", \"def draw_triangle(n):\\n    output = []\\n    for i in range(n):\\n        txt = '*' * (i + 1)\\n        output.append(txt)\\n    return output\\n\\nt = draw_triangle(10)\\nprint('\\\\n'.join(t))\", 'globals()', 'globals().keys()', 'globals().values()', 'globals().items()'], {4: {...}, 5: dict_keys(['__name__', '__doc__', '__package__', '__loader__', '__spec__', '__builtin__', '__builtins__', '_ih', '_oh', '_dh', 'In', 'Out', 'get_ipython', 'exit', 'quit', 'open', '_', '__', '___', '__session__', '_i', '_ii', '_iii', '_i1', 'draw_triangle', 't', 'sys', 'remove_imported_pydev_package', '_pydevd_bundle', 'pydev_jupyter_vars', '_i2', '_i3', '_i4', '_4', '_i5', '_5', '_i6', '_6', '_i7']), 6: ...}, [PosixPath('/home/lipov/projects/Python_practice_sessions_05/demos/exercises_intro')], ['', \"def draw_triangle(n):\\n    output = []\\n    for i in range(n):\\n        txt = '*' * (i + 1)\\n        output.append(txt)\\n    return output\\n\\nt = draw_triangle(10)\\nprint('\\\\n'.join(t))\", \"def draw_triangle(n):\\n    output = []\\n    for i in range(n):\\n        txt = '*' * (i)\\n        output.append(txt)\\n    return output\\n\\nt = draw_triangle(10)\\nprint('\\\\n'.join(t))\", \"def draw_triangle(n):\\n    output = []\\n    for i in range(n):\\n        txt = '*' * (i + 1)\\n        output.append(txt)\\n    return output\\n\\nt = draw_triangle(10)\\nprint('\\\\n'.join(t))\", 'globals()', 'globals().keys()', 'globals().values()', 'globals().items()'], {4: {...}, 5: dict_keys(['__name__', '__doc__', '__package__', '__loader__', '__spec__', '__builtin__', '__builtins__', '_ih', '_oh', '_dh', 'In', 'Out', 'get_ipython', 'exit', 'quit', 'open', '_', '__', '___', '__session__', '_i', '_ii', '_iii', '_i1', 'draw_triangle', 't', 'sys', 'remove_imported_pydev_package', '_pydevd_bundle', 'pydev_jupyter_vars', '_i2', '_i3', '_i4', '_4', '_i5', '_5', '_i6', '_6', '_i7']), 6: ...}, <bound method InteractiveShell.get_ipython of <ipykernel.zmqshell.ZMQInteractiveShell object at 0x7f84f41241a0>>, <IPython.core.autocall.ZMQExitAutocall object at 0x7f84f4126a50>, <IPython.core.autocall.ZMQExitAutocall object at 0x7f84f4126a50>, <function open at 0x7f84f8813ba0>, ..., dict_keys(['__name__', '__doc__', '__package__', '__loader__', '__spec__', '__builtin__', '__builtins__', '_ih', '_oh', '_dh', 'In', 'Out', 'get_ipython', 'exit', 'quit', 'open', '_', '__', '___', '__session__', '_i', '_ii', '_iii', '_i1', 'draw_triangle', 't', 'sys', 'remove_imported_pydev_package', '_pydevd_bundle', 'pydev_jupyter_vars', '_i2', '_i3', '_i4', '_4', '_i5', '_5', '_i6', '_6', '_i7']), {...}, 'demos/exercises_intro/intro_day_2.ipynb', 'globals().values()', 'globals().keys()', 'globals()', \"def draw_triangle(n):\\n    output = []\\n    for i in range(n):\\n        txt = '*' * (i + 1)\\n        output.append(txt)\\n    return output\\n\\nt = draw_triangle(10)\\nprint('\\\\n'.join(t))\", <function draw_triangle at 0x7f84ddcef600>, ['*', '**', '***', '****', '*****', '******', '*******', '********', '*********', '**********'], <module 'sys' (built-in)>, <function remove_imported_pydev_package at 0x7f84dee8ef20>, <module '_pydevd_bundle' from '/snap/pycharm-professional/484/plugins/python-ce/helpers/pydev/_pydevd_bundle/__init__.py'>, <module 'pydev_jupyter_vars' from '/snap/pycharm-professional/484/plugins/python-ce/helpers/jupyter_debug/pydev_jupyter_vars.py'>, \"def draw_triangle(n):\\n    output = []\\n    for i in range(n):\\n        txt = '*' * (i)\\n        output.append(txt)\\n    return output\\n\\nt = draw_triangle(10)\\nprint('\\\\n'.join(t))\", \"def draw_triangle(n):\\n    output = []\\n    for i in range(n):\\n        txt = '*' * (i + 1)\\n        output.append(txt)\\n    return output\\n\\nt = draw_triangle(10)\\nprint('\\\\n'.join(t))\", 'globals()', {...}, 'globals().keys()', dict_keys(['__name__', '__doc__', '__package__', '__loader__', '__spec__', '__builtin__', '__builtins__', '_ih', '_oh', '_dh', 'In', 'Out', 'get_ipython', 'exit', 'quit', 'open', '_', '__', '___', '__session__', '_i', '_ii', '_iii', '_i1', 'draw_triangle', 't', 'sys', 'remove_imported_pydev_package', '_pydevd_bundle', 'pydev_jupyter_vars', '_i2', '_i3', '_i4', '_4', '_i5', '_5', '_i6', '_6', '_i7']), 'globals().values()', ..., 'globals().items()']), '_i7': 'globals().items()'}), ('_i5', 'globals().keys()'), ('_5', dict_keys(['__name__', '__doc__', '__package__', '__loader__', '__spec__', '__builtin__', '__builtins__', '_ih', '_oh', '_dh', 'In', 'Out', 'get_ipython', 'exit', 'quit', 'open', '_', '__', '___', '__session__', '_i', '_ii', '_iii', '_i1', 'draw_triangle', 't', 'sys', 'remove_imported_pydev_package', '_pydevd_bundle', 'pydev_jupyter_vars', '_i2', '_i3', '_i4', '_4', '_i5', '_5', '_i6', '_6', '_i7'])), ('_i6', 'globals().values()'), ('_6', dict_values(['__main__', 'Automatically created module for IPython interactive environment', None, None, None, <module 'builtins' (built-in)>, <module 'builtins' (built-in)>, ['', \"def draw_triangle(n):\\n    output = []\\n    for i in range(n):\\n        txt = '*' * (i + 1)\\n        output.append(txt)\\n    return output\\n\\nt = draw_triangle(10)\\nprint('\\\\n'.join(t))\", \"def draw_triangle(n):\\n    output = []\\n    for i in range(n):\\n        txt = '*' * (i)\\n        output.append(txt)\\n    return output\\n\\nt = draw_triangle(10)\\nprint('\\\\n'.join(t))\", \"def draw_triangle(n):\\n    output = []\\n    for i in range(n):\\n        txt = '*' * (i + 1)\\n        output.append(txt)\\n    return output\\n\\nt = draw_triangle(10)\\nprint('\\\\n'.join(t))\", 'globals()', 'globals().keys()', 'globals().values()', 'globals().items()'], {4: {'__name__': '__main__', '__doc__': 'Automatically created module for IPython interactive environment', '__package__': None, '__loader__': None, '__spec__': None, '__builtin__': <module 'builtins' (built-in)>, '__builtins__': <module 'builtins' (built-in)>, '_ih': ['', \"def draw_triangle(n):\\n    output = []\\n    for i in range(n):\\n        txt = '*' * (i + 1)\\n        output.append(txt)\\n    return output\\n\\nt = draw_triangle(10)\\nprint('\\\\n'.join(t))\", \"def draw_triangle(n):\\n    output = []\\n    for i in range(n):\\n        txt = '*' * (i)\\n        output.append(txt)\\n    return output\\n\\nt = draw_triangle(10)\\nprint('\\\\n'.join(t))\", \"def draw_triangle(n):\\n    output = []\\n    for i in range(n):\\n        txt = '*' * (i + 1)\\n        output.append(txt)\\n    return output\\n\\nt = draw_triangle(10)\\nprint('\\\\n'.join(t))\", 'globals()', 'globals().keys()', 'globals().values()', 'globals().items()'], '_oh': {...}, '_dh': [PosixPath('/home/lipov/projects/Python_practice_sessions_05/demos/exercises_intro')], 'In': ['', \"def draw_triangle(n):\\n    output = []\\n    for i in range(n):\\n        txt = '*' * (i + 1)\\n        output.append(txt)\\n    return output\\n\\nt = draw_triangle(10)\\nprint('\\\\n'.join(t))\", \"def draw_triangle(n):\\n    output = []\\n    for i in range(n):\\n        txt = '*' * (i)\\n        output.append(txt)\\n    return output\\n\\nt = draw_triangle(10)\\nprint('\\\\n'.join(t))\", \"def draw_triangle(n):\\n    output = []\\n    for i in range(n):\\n        txt = '*' * (i + 1)\\n        output.append(txt)\\n    return output\\n\\nt = draw_triangle(10)\\nprint('\\\\n'.join(t))\", 'globals()', 'globals().keys()', 'globals().values()', 'globals().items()'], 'Out': {...}, 'get_ipython': <bound method InteractiveShell.get_ipython of <ipykernel.zmqshell.ZMQInteractiveShell object at 0x7f84f41241a0>>, 'exit': <IPython.core.autocall.ZMQExitAutocall object at 0x7f84f4126a50>, 'quit': <IPython.core.autocall.ZMQExitAutocall object at 0x7f84f4126a50>, 'open': <function open at 0x7f84f8813ba0>, '_': ..., '__': dict_keys(['__name__', '__doc__', '__package__', '__loader__', '__spec__', '__builtin__', '__builtins__', '_ih', '_oh', '_dh', 'In', 'Out', 'get_ipython', 'exit', 'quit', 'open', '_', '__', '___', '__session__', '_i', '_ii', '_iii', '_i1', 'draw_triangle', 't', 'sys', 'remove_imported_pydev_package', '_pydevd_bundle', 'pydev_jupyter_vars', '_i2', '_i3', '_i4', '_4', '_i5', '_5', '_i6', '_6', '_i7']), '___': {...}, '__session__': 'demos/exercises_intro/intro_day_2.ipynb', '_i': 'globals().values()', '_ii': 'globals().keys()', '_iii': 'globals()', '_i1': \"def draw_triangle(n):\\n    output = []\\n    for i in range(n):\\n        txt = '*' * (i + 1)\\n        output.append(txt)\\n    return output\\n\\nt = draw_triangle(10)\\nprint('\\\\n'.join(t))\", 'draw_triangle': <function draw_triangle at 0x7f84ddcef600>, 't': ['*', '**', '***', '****', '*****', '******', '*******', '********', '*********', '**********'], 'sys': <module 'sys' (built-in)>, 'remove_imported_pydev_package': <function remove_imported_pydev_package at 0x7f84dee8ef20>, '_pydevd_bundle': <module '_pydevd_bundle' from '/snap/pycharm-professional/484/plugins/python-ce/helpers/pydev/_pydevd_bundle/__init__.py'>, 'pydev_jupyter_vars': <module 'pydev_jupyter_vars' from '/snap/pycharm-professional/484/plugins/python-ce/helpers/jupyter_debug/pydev_jupyter_vars.py'>, '_i2': \"def draw_triangle(n):\\n    output = []\\n    for i in range(n):\\n        txt = '*' * (i)\\n        output.append(txt)\\n    return output\\n\\nt = draw_triangle(10)\\nprint('\\\\n'.join(t))\", '_i3': \"def draw_triangle(n):\\n    output = []\\n    for i in range(n):\\n        txt = '*' * (i + 1)\\n        output.append(txt)\\n    return output\\n\\nt = draw_triangle(10)\\nprint('\\\\n'.join(t))\", '_i4': 'globals()', '_4': {...}, '_i5': 'globals().keys()', '_5': dict_keys(['__name__', '__doc__', '__package__', '__loader__', '__spec__', '__builtin__', '__builtins__', '_ih', '_oh', '_dh', 'In', 'Out', 'get_ipython', 'exit', 'quit', 'open', '_', '__', '___', '__session__', '_i', '_ii', '_iii', '_i1', 'draw_triangle', 't', 'sys', 'remove_imported_pydev_package', '_pydevd_bundle', 'pydev_jupyter_vars', '_i2', '_i3', '_i4', '_4', '_i5', '_5', '_i6', '_6', '_i7']), '_i6': 'globals().values()', '_6': ..., '_i7': 'globals().items()'}, 5: dict_keys(['__name__', '__doc__', '__package__', '__loader__', '__spec__', '__builtin__', '__builtins__', '_ih', '_oh', '_dh', 'In', 'Out', 'get_ipython', 'exit', 'quit', 'open', '_', '__', '___', '__session__', '_i', '_ii', '_iii', '_i1', 'draw_triangle', 't', 'sys', 'remove_imported_pydev_package', '_pydevd_bundle', 'pydev_jupyter_vars', '_i2', '_i3', '_i4', '_4', '_i5', '_5', '_i6', '_6', '_i7']), 6: ...}, [PosixPath('/home/lipov/projects/Python_practice_sessions_05/demos/exercises_intro')], ['', \"def draw_triangle(n):\\n    output = []\\n    for i in range(n):\\n        txt = '*' * (i + 1)\\n        output.append(txt)\\n    return output\\n\\nt = draw_triangle(10)\\nprint('\\\\n'.join(t))\", \"def draw_triangle(n):\\n    output = []\\n    for i in range(n):\\n        txt = '*' * (i)\\n        output.append(txt)\\n    return output\\n\\nt = draw_triangle(10)\\nprint('\\\\n'.join(t))\", \"def draw_triangle(n):\\n    output = []\\n    for i in range(n):\\n        txt = '*' * (i + 1)\\n        output.append(txt)\\n    return output\\n\\nt = draw_triangle(10)\\nprint('\\\\n'.join(t))\", 'globals()', 'globals().keys()', 'globals().values()', 'globals().items()'], {4: {'__name__': '__main__', '__doc__': 'Automatically created module for IPython interactive environment', '__package__': None, '__loader__': None, '__spec__': None, '__builtin__': <module 'builtins' (built-in)>, '__builtins__': <module 'builtins' (built-in)>, '_ih': ['', \"def draw_triangle(n):\\n    output = []\\n    for i in range(n):\\n        txt = '*' * (i + 1)\\n        output.append(txt)\\n    return output\\n\\nt = draw_triangle(10)\\nprint('\\\\n'.join(t))\", \"def draw_triangle(n):\\n    output = []\\n    for i in range(n):\\n        txt = '*' * (i)\\n        output.append(txt)\\n    return output\\n\\nt = draw_triangle(10)\\nprint('\\\\n'.join(t))\", \"def draw_triangle(n):\\n    output = []\\n    for i in range(n):\\n        txt = '*' * (i + 1)\\n        output.append(txt)\\n    return output\\n\\nt = draw_triangle(10)\\nprint('\\\\n'.join(t))\", 'globals()', 'globals().keys()', 'globals().values()', 'globals().items()'], '_oh': {...}, '_dh': [PosixPath('/home/lipov/projects/Python_practice_sessions_05/demos/exercises_intro')], 'In': ['', \"def draw_triangle(n):\\n    output = []\\n    for i in range(n):\\n        txt = '*' * (i + 1)\\n        output.append(txt)\\n    return output\\n\\nt = draw_triangle(10)\\nprint('\\\\n'.join(t))\", \"def draw_triangle(n):\\n    output = []\\n    for i in range(n):\\n        txt = '*' * (i)\\n        output.append(txt)\\n    return output\\n\\nt = draw_triangle(10)\\nprint('\\\\n'.join(t))\", \"def draw_triangle(n):\\n    output = []\\n    for i in range(n):\\n        txt = '*' * (i + 1)\\n        output.append(txt)\\n    return output\\n\\nt = draw_triangle(10)\\nprint('\\\\n'.join(t))\", 'globals()', 'globals().keys()', 'globals().values()', 'globals().items()'], 'Out': {...}, 'get_ipython': <bound method InteractiveShell.get_ipython of <ipykernel.zmqshell.ZMQInteractiveShell object at 0x7f84f41241a0>>, 'exit': <IPython.core.autocall.ZMQExitAutocall object at 0x7f84f4126a50>, 'quit': <IPython.core.autocall.ZMQExitAutocall object at 0x7f84f4126a50>, 'open': <function open at 0x7f84f8813ba0>, '_': ..., '__': dict_keys(['__name__', '__doc__', '__package__', '__loader__', '__spec__', '__builtin__', '__builtins__', '_ih', '_oh', '_dh', 'In', 'Out', 'get_ipython', 'exit', 'quit', 'open', '_', '__', '___', '__session__', '_i', '_ii', '_iii', '_i1', 'draw_triangle', 't', 'sys', 'remove_imported_pydev_package', '_pydevd_bundle', 'pydev_jupyter_vars', '_i2', '_i3', '_i4', '_4', '_i5', '_5', '_i6', '_6', '_i7']), '___': {...}, '__session__': 'demos/exercises_intro/intro_day_2.ipynb', '_i': 'globals().values()', '_ii': 'globals().keys()', '_iii': 'globals()', '_i1': \"def draw_triangle(n):\\n    output = []\\n    for i in range(n):\\n        txt = '*' * (i + 1)\\n        output.append(txt)\\n    return output\\n\\nt = draw_triangle(10)\\nprint('\\\\n'.join(t))\", 'draw_triangle': <function draw_triangle at 0x7f84ddcef600>, 't': ['*', '**', '***', '****', '*****', '******', '*******', '********', '*********', '**********'], 'sys': <module 'sys' (built-in)>, 'remove_imported_pydev_package': <function remove_imported_pydev_package at 0x7f84dee8ef20>, '_pydevd_bundle': <module '_pydevd_bundle' from '/snap/pycharm-professional/484/plugins/python-ce/helpers/pydev/_pydevd_bundle/__init__.py'>, 'pydev_jupyter_vars': <module 'pydev_jupyter_vars' from '/snap/pycharm-professional/484/plugins/python-ce/helpers/jupyter_debug/pydev_jupyter_vars.py'>, '_i2': \"def draw_triangle(n):\\n    output = []\\n    for i in range(n):\\n        txt = '*' * (i)\\n        output.append(txt)\\n    return output\\n\\nt = draw_triangle(10)\\nprint('\\\\n'.join(t))\", '_i3': \"def draw_triangle(n):\\n    output = []\\n    for i in range(n):\\n        txt = '*' * (i + 1)\\n        output.append(txt)\\n    return output\\n\\nt = draw_triangle(10)\\nprint('\\\\n'.join(t))\", '_i4': 'globals()', '_4': {...}, '_i5': 'globals().keys()', '_5': dict_keys(['__name__', '__doc__', '__package__', '__loader__', '__spec__', '__builtin__', '__builtins__', '_ih', '_oh', '_dh', 'In', 'Out', 'get_ipython', 'exit', 'quit', 'open', '_', '__', '___', '__session__', '_i', '_ii', '_iii', '_i1', 'draw_triangle', 't', 'sys', 'remove_imported_pydev_package', '_pydevd_bundle', 'pydev_jupyter_vars', '_i2', '_i3', '_i4', '_4', '_i5', '_5', '_i6', '_6', '_i7']), '_i6': 'globals().values()', '_6': ..., '_i7': 'globals().items()'}, 5: dict_keys(['__name__', '__doc__', '__package__', '__loader__', '__spec__', '__builtin__', '__builtins__', '_ih', '_oh', '_dh', 'In', 'Out', 'get_ipython', 'exit', 'quit', 'open', '_', '__', '___', '__session__', '_i', '_ii', '_iii', '_i1', 'draw_triangle', 't', 'sys', 'remove_imported_pydev_package', '_pydevd_bundle', 'pydev_jupyter_vars', '_i2', '_i3', '_i4', '_4', '_i5', '_5', '_i6', '_6', '_i7']), 6: ...}, <bound method InteractiveShell.get_ipython of <ipykernel.zmqshell.ZMQInteractiveShell object at 0x7f84f41241a0>>, <IPython.core.autocall.ZMQExitAutocall object at 0x7f84f4126a50>, <IPython.core.autocall.ZMQExitAutocall object at 0x7f84f4126a50>, <function open at 0x7f84f8813ba0>, ..., dict_keys(['__name__', '__doc__', '__package__', '__loader__', '__spec__', '__builtin__', '__builtins__', '_ih', '_oh', '_dh', 'In', 'Out', 'get_ipython', 'exit', 'quit', 'open', '_', '__', '___', '__session__', '_i', '_ii', '_iii', '_i1', 'draw_triangle', 't', 'sys', 'remove_imported_pydev_package', '_pydevd_bundle', 'pydev_jupyter_vars', '_i2', '_i3', '_i4', '_4', '_i5', '_5', '_i6', '_6', '_i7']), {'__name__': '__main__', '__doc__': 'Automatically created module for IPython interactive environment', '__package__': None, '__loader__': None, '__spec__': None, '__builtin__': <module 'builtins' (built-in)>, '__builtins__': <module 'builtins' (built-in)>, '_ih': ['', \"def draw_triangle(n):\\n    output = []\\n    for i in range(n):\\n        txt = '*' * (i + 1)\\n        output.append(txt)\\n    return output\\n\\nt = draw_triangle(10)\\nprint('\\\\n'.join(t))\", \"def draw_triangle(n):\\n    output = []\\n    for i in range(n):\\n        txt = '*' * (i)\\n        output.append(txt)\\n    return output\\n\\nt = draw_triangle(10)\\nprint('\\\\n'.join(t))\", \"def draw_triangle(n):\\n    output = []\\n    for i in range(n):\\n        txt = '*' * (i + 1)\\n        output.append(txt)\\n    return output\\n\\nt = draw_triangle(10)\\nprint('\\\\n'.join(t))\", 'globals()', 'globals().keys()', 'globals().values()', 'globals().items()'], '_oh': {4: {...}, 5: dict_keys(['__name__', '__doc__', '__package__', '__loader__', '__spec__', '__builtin__', '__builtins__', '_ih', '_oh', '_dh', 'In', 'Out', 'get_ipython', 'exit', 'quit', 'open', '_', '__', '___', '__session__', '_i', '_ii', '_iii', '_i1', 'draw_triangle', 't', 'sys', 'remove_imported_pydev_package', '_pydevd_bundle', 'pydev_jupyter_vars', '_i2', '_i3', '_i4', '_4', '_i5', '_5', '_i6', '_6', '_i7']), 6: ...}, '_dh': [PosixPath('/home/lipov/projects/Python_practice_sessions_05/demos/exercises_intro')], 'In': ['', \"def draw_triangle(n):\\n    output = []\\n    for i in range(n):\\n        txt = '*' * (i + 1)\\n        output.append(txt)\\n    return output\\n\\nt = draw_triangle(10)\\nprint('\\\\n'.join(t))\", \"def draw_triangle(n):\\n    output = []\\n    for i in range(n):\\n        txt = '*' * (i)\\n        output.append(txt)\\n    return output\\n\\nt = draw_triangle(10)\\nprint('\\\\n'.join(t))\", \"def draw_triangle(n):\\n    output = []\\n    for i in range(n):\\n        txt = '*' * (i + 1)\\n        output.append(txt)\\n    return output\\n\\nt = draw_triangle(10)\\nprint('\\\\n'.join(t))\", 'globals()', 'globals().keys()', 'globals().values()', 'globals().items()'], 'Out': {4: {...}, 5: dict_keys(['__name__', '__doc__', '__package__', '__loader__', '__spec__', '__builtin__', '__builtins__', '_ih', '_oh', '_dh', 'In', 'Out', 'get_ipython', 'exit', 'quit', 'open', '_', '__', '___', '__session__', '_i', '_ii', '_iii', '_i1', 'draw_triangle', 't', 'sys', 'remove_imported_pydev_package', '_pydevd_bundle', 'pydev_jupyter_vars', '_i2', '_i3', '_i4', '_4', '_i5', '_5', '_i6', '_6', '_i7']), 6: ...}, 'get_ipython': <bound method InteractiveShell.get_ipython of <ipykernel.zmqshell.ZMQInteractiveShell object at 0x7f84f41241a0>>, 'exit': <IPython.core.autocall.ZMQExitAutocall object at 0x7f84f4126a50>, 'quit': <IPython.core.autocall.ZMQExitAutocall object at 0x7f84f4126a50>, 'open': <function open at 0x7f84f8813ba0>, '_': ..., '__': dict_keys(['__name__', '__doc__', '__package__', '__loader__', '__spec__', '__builtin__', '__builtins__', '_ih', '_oh', '_dh', 'In', 'Out', 'get_ipython', 'exit', 'quit', 'open', '_', '__', '___', '__session__', '_i', '_ii', '_iii', '_i1', 'draw_triangle', 't', 'sys', 'remove_imported_pydev_package', '_pydevd_bundle', 'pydev_jupyter_vars', '_i2', '_i3', '_i4', '_4', '_i5', '_5', '_i6', '_6', '_i7']), '___': {...}, '__session__': 'demos/exercises_intro/intro_day_2.ipynb', '_i': 'globals().values()', '_ii': 'globals().keys()', '_iii': 'globals()', '_i1': \"def draw_triangle(n):\\n    output = []\\n    for i in range(n):\\n        txt = '*' * (i + 1)\\n        output.append(txt)\\n    return output\\n\\nt = draw_triangle(10)\\nprint('\\\\n'.join(t))\", 'draw_triangle': <function draw_triangle at 0x7f84ddcef600>, 't': ['*', '**', '***', '****', '*****', '******', '*******', '********', '*********', '**********'], 'sys': <module 'sys' (built-in)>, 'remove_imported_pydev_package': <function remove_imported_pydev_package at 0x7f84dee8ef20>, '_pydevd_bundle': <module '_pydevd_bundle' from '/snap/pycharm-professional/484/plugins/python-ce/helpers/pydev/_pydevd_bundle/__init__.py'>, 'pydev_jupyter_vars': <module 'pydev_jupyter_vars' from '/snap/pycharm-professional/484/plugins/python-ce/helpers/jupyter_debug/pydev_jupyter_vars.py'>, '_i2': \"def draw_triangle(n):\\n    output = []\\n    for i in range(n):\\n        txt = '*' * (i)\\n        output.append(txt)\\n    return output\\n\\nt = draw_triangle(10)\\nprint('\\\\n'.join(t))\", '_i3': \"def draw_triangle(n):\\n    output = []\\n    for i in range(n):\\n        txt = '*' * (i + 1)\\n        output.append(txt)\\n    return output\\n\\nt = draw_triangle(10)\\nprint('\\\\n'.join(t))\", '_i4': 'globals()', '_4': {...}, '_i5': 'globals().keys()', '_5': dict_keys(['__name__', '__doc__', '__package__', '__loader__', '__spec__', '__builtin__', '__builtins__', '_ih', '_oh', '_dh', 'In', 'Out', 'get_ipython', 'exit', 'quit', 'open', '_', '__', '___', '__session__', '_i', '_ii', '_iii', '_i1', 'draw_triangle', 't', 'sys', 'remove_imported_pydev_package', '_pydevd_bundle', 'pydev_jupyter_vars', '_i2', '_i3', '_i4', '_4', '_i5', '_5', '_i6', '_6', '_i7']), '_i6': 'globals().values()', '_6': ..., '_i7': 'globals().items()'}, 'demos/exercises_intro/intro_day_2.ipynb', 'globals().values()', 'globals().keys()', 'globals()', \"def draw_triangle(n):\\n    output = []\\n    for i in range(n):\\n        txt = '*' * (i + 1)\\n        output.append(txt)\\n    return output\\n\\nt = draw_triangle(10)\\nprint('\\\\n'.join(t))\", <function draw_triangle at 0x7f84ddcef600>, ['*', '**', '***', '****', '*****', '******', '*******', '********', '*********', '**********'], <module 'sys' (built-in)>, <function remove_imported_pydev_package at 0x7f84dee8ef20>, <module '_pydevd_bundle' from '/snap/pycharm-professional/484/plugins/python-ce/helpers/pydev/_pydevd_bundle/__init__.py'>, <module 'pydev_jupyter_vars' from '/snap/pycharm-professional/484/plugins/python-ce/helpers/jupyter_debug/pydev_jupyter_vars.py'>, \"def draw_triangle(n):\\n    output = []\\n    for i in range(n):\\n        txt = '*' * (i)\\n        output.append(txt)\\n    return output\\n\\nt = draw_triangle(10)\\nprint('\\\\n'.join(t))\", \"def draw_triangle(n):\\n    output = []\\n    for i in range(n):\\n        txt = '*' * (i + 1)\\n        output.append(txt)\\n    return output\\n\\nt = draw_triangle(10)\\nprint('\\\\n'.join(t))\", 'globals()', {'__name__': '__main__', '__doc__': 'Automatically created module for IPython interactive environment', '__package__': None, '__loader__': None, '__spec__': None, '__builtin__': <module 'builtins' (built-in)>, '__builtins__': <module 'builtins' (built-in)>, '_ih': ['', \"def draw_triangle(n):\\n    output = []\\n    for i in range(n):\\n        txt = '*' * (i + 1)\\n        output.append(txt)\\n    return output\\n\\nt = draw_triangle(10)\\nprint('\\\\n'.join(t))\", \"def draw_triangle(n):\\n    output = []\\n    for i in range(n):\\n        txt = '*' * (i)\\n        output.append(txt)\\n    return output\\n\\nt = draw_triangle(10)\\nprint('\\\\n'.join(t))\", \"def draw_triangle(n):\\n    output = []\\n    for i in range(n):\\n        txt = '*' * (i + 1)\\n        output.append(txt)\\n    return output\\n\\nt = draw_triangle(10)\\nprint('\\\\n'.join(t))\", 'globals()', 'globals().keys()', 'globals().values()', 'globals().items()'], '_oh': {4: {...}, 5: dict_keys(['__name__', '__doc__', '__package__', '__loader__', '__spec__', '__builtin__', '__builtins__', '_ih', '_oh', '_dh', 'In', 'Out', 'get_ipython', 'exit', 'quit', 'open', '_', '__', '___', '__session__', '_i', '_ii', '_iii', '_i1', 'draw_triangle', 't', 'sys', 'remove_imported_pydev_package', '_pydevd_bundle', 'pydev_jupyter_vars', '_i2', '_i3', '_i4', '_4', '_i5', '_5', '_i6', '_6', '_i7']), 6: ...}, '_dh': [PosixPath('/home/lipov/projects/Python_practice_sessions_05/demos/exercises_intro')], 'In': ['', \"def draw_triangle(n):\\n    output = []\\n    for i in range(n):\\n        txt = '*' * (i + 1)\\n        output.append(txt)\\n    return output\\n\\nt = draw_triangle(10)\\nprint('\\\\n'.join(t))\", \"def draw_triangle(n):\\n    output = []\\n    for i in range(n):\\n        txt = '*' * (i)\\n        output.append(txt)\\n    return output\\n\\nt = draw_triangle(10)\\nprint('\\\\n'.join(t))\", \"def draw_triangle(n):\\n    output = []\\n    for i in range(n):\\n        txt = '*' * (i + 1)\\n        output.append(txt)\\n    return output\\n\\nt = draw_triangle(10)\\nprint('\\\\n'.join(t))\", 'globals()', 'globals().keys()', 'globals().values()', 'globals().items()'], 'Out': {4: {...}, 5: dict_keys(['__name__', '__doc__', '__package__', '__loader__', '__spec__', '__builtin__', '__builtins__', '_ih', '_oh', '_dh', 'In', 'Out', 'get_ipython', 'exit', 'quit', 'open', '_', '__', '___', '__session__', '_i', '_ii', '_iii', '_i1', 'draw_triangle', 't', 'sys', 'remove_imported_pydev_package', '_pydevd_bundle', 'pydev_jupyter_vars', '_i2', '_i3', '_i4', '_4', '_i5', '_5', '_i6', '_6', '_i7']), 6: ...}, 'get_ipython': <bound method InteractiveShell.get_ipython of <ipykernel.zmqshell.ZMQInteractiveShell object at 0x7f84f41241a0>>, 'exit': <IPython.core.autocall.ZMQExitAutocall object at 0x7f84f4126a50>, 'quit': <IPython.core.autocall.ZMQExitAutocall object at 0x7f84f4126a50>, 'open': <function open at 0x7f84f8813ba0>, '_': ..., '__': dict_keys(['__name__', '__doc__', '__package__', '__loader__', '__spec__', '__builtin__', '__builtins__', '_ih', '_oh', '_dh', 'In', 'Out', 'get_ipython', 'exit', 'quit', 'open', '_', '__', '___', '__session__', '_i', '_ii', '_iii', '_i1', 'draw_triangle', 't', 'sys', 'remove_imported_pydev_package', '_pydevd_bundle', 'pydev_jupyter_vars', '_i2', '_i3', '_i4', '_4', '_i5', '_5', '_i6', '_6', '_i7']), '___': {...}, '__session__': 'demos/exercises_intro/intro_day_2.ipynb', '_i': 'globals().values()', '_ii': 'globals().keys()', '_iii': 'globals()', '_i1': \"def draw_triangle(n):\\n    output = []\\n    for i in range(n):\\n        txt = '*' * (i + 1)\\n        output.append(txt)\\n    return output\\n\\nt = draw_triangle(10)\\nprint('\\\\n'.join(t))\", 'draw_triangle': <function draw_triangle at 0x7f84ddcef600>, 't': ['*', '**', '***', '****', '*****', '******', '*******', '********', '*********', '**********'], 'sys': <module 'sys' (built-in)>, 'remove_imported_pydev_package': <function remove_imported_pydev_package at 0x7f84dee8ef20>, '_pydevd_bundle': <module '_pydevd_bundle' from '/snap/pycharm-professional/484/plugins/python-ce/helpers/pydev/_pydevd_bundle/__init__.py'>, 'pydev_jupyter_vars': <module 'pydev_jupyter_vars' from '/snap/pycharm-professional/484/plugins/python-ce/helpers/jupyter_debug/pydev_jupyter_vars.py'>, '_i2': \"def draw_triangle(n):\\n    output = []\\n    for i in range(n):\\n        txt = '*' * (i)\\n        output.append(txt)\\n    return output\\n\\nt = draw_triangle(10)\\nprint('\\\\n'.join(t))\", '_i3': \"def draw_triangle(n):\\n    output = []\\n    for i in range(n):\\n        txt = '*' * (i + 1)\\n        output.append(txt)\\n    return output\\n\\nt = draw_triangle(10)\\nprint('\\\\n'.join(t))\", '_i4': 'globals()', '_4': {...}, '_i5': 'globals().keys()', '_5': dict_keys(['__name__', '__doc__', '__package__', '__loader__', '__spec__', '__builtin__', '__builtins__', '_ih', '_oh', '_dh', 'In', 'Out', 'get_ipython', 'exit', 'quit', 'open', '_', '__', '___', '__session__', '_i', '_ii', '_iii', '_i1', 'draw_triangle', 't', 'sys', 'remove_imported_pydev_package', '_pydevd_bundle', 'pydev_jupyter_vars', '_i2', '_i3', '_i4', '_4', '_i5', '_5', '_i6', '_6', '_i7']), '_i6': 'globals().values()', '_6': ..., '_i7': 'globals().items()'}, 'globals().keys()', dict_keys(['__name__', '__doc__', '__package__', '__loader__', '__spec__', '__builtin__', '__builtins__', '_ih', '_oh', '_dh', 'In', 'Out', 'get_ipython', 'exit', 'quit', 'open', '_', '__', '___', '__session__', '_i', '_ii', '_iii', '_i1', 'draw_triangle', 't', 'sys', 'remove_imported_pydev_package', '_pydevd_bundle', 'pydev_jupyter_vars', '_i2', '_i3', '_i4', '_4', '_i5', '_5', '_i6', '_6', '_i7']), 'globals().values()', ..., 'globals().items()'])), ('_i7', 'globals().items()')])"
      ]
     },
     "execution_count": 7,
     "metadata": {},
     "output_type": "execute_result"
    }
   ],
   "execution_count": 7
  },
  {
   "metadata": {
    "ExecuteTime": {
     "end_time": "2025-06-09T20:15:50.992950Z",
     "start_time": "2025-06-09T20:15:50.986394Z"
    }
   },
   "cell_type": "code",
   "source": "len(globals().keys())",
   "id": "b4abc76fc4b42c7",
   "outputs": [
    {
     "data": {
      "text/plain": [
       "41"
      ]
     },
     "execution_count": 8,
     "metadata": {},
     "output_type": "execute_result"
    }
   ],
   "execution_count": 8
  },
  {
   "metadata": {
    "ExecuteTime": {
     "end_time": "2025-06-09T20:27:56.405032Z",
     "start_time": "2025-06-09T20:27:56.398263Z"
    }
   },
   "cell_type": "code",
   "source": "locals().keys()",
   "id": "ee7278dd3792f887",
   "outputs": [
    {
     "data": {
      "text/plain": [
       "dict_keys(['__name__', '__doc__', '__package__', '__loader__', '__spec__', '__builtin__', '__builtins__', '_ih', '_oh', '_dh', 'In', 'Out', 'get_ipython', 'exit', 'quit', 'open', '_', '__', '___', '__session__', '_i', '_ii', '_iii', '_i1', 'draw_triangle', 't', 'sys', 'remove_imported_pydev_package', '_pydevd_bundle', 'pydev_jupyter_vars', '_i2', '_i3', '_i4', '_4', '_i5', '_5', '_i6', '_6', '_i7', '_7', '_i8', '_8', '_i9', '_9', '_i10'])"
      ]
     },
     "execution_count": 10,
     "metadata": {},
     "output_type": "execute_result"
    }
   ],
   "execution_count": 10
  },
  {
   "metadata": {
    "ExecuteTime": {
     "end_time": "2025-06-09T20:36:21.808084Z",
     "start_time": "2025-06-09T20:36:21.803133Z"
    }
   },
   "cell_type": "code",
   "source": [
    "def draw_triangle_2(n):\n",
    "    output = []\n",
    "    for i in range(n):\n",
    "        if i % 2 == 1:\n",
    "            continue\n",
    "        txt =  (' ' * (n-i//2)) + ('*' * (i + 1))\n",
    "        output.append(txt)\n",
    "    return output\n",
    "\n",
    "t = draw_triangle_2(10)\n",
    "print('\\n'.join(t))"
   ],
   "id": "d6daf1bc8351ae22",
   "outputs": [
    {
     "name": "stdout",
     "output_type": "stream",
     "text": [
      "          *\n",
      "         ***\n",
      "        *****\n",
      "       *******\n",
      "      *********\n"
     ]
    }
   ],
   "execution_count": 13
  },
  {
   "metadata": {
    "ExecuteTime": {
     "end_time": "2025-06-09T20:39:38.433049Z",
     "start_time": "2025-06-09T20:39:38.423708Z"
    }
   },
   "cell_type": "code",
   "source": [
    "def draw_triangle(n):\n",
    "    output = []\n",
    "    for i in range(n):\n",
    "        txt = (' ' * (n - i - 1)) + ('*' * (2 * i + 1))\n",
    "        output.append(txt)\n",
    "    return output\n",
    "\n",
    "t = draw_triangle(5)\n",
    "print('\\n'.join(t))"
   ],
   "id": "b7d12668e889bb51",
   "outputs": [
    {
     "name": "stdout",
     "output_type": "stream",
     "text": [
      "    *\n",
      "   ***\n",
      "  *****\n",
      " *******\n",
      "*********\n"
     ]
    }
   ],
   "execution_count": 14
  },
  {
   "metadata": {
    "ExecuteTime": {
     "end_time": "2025-06-09T20:41:09.191247Z",
     "start_time": "2025-06-09T20:41:09.185500Z"
    }
   },
   "cell_type": "code",
   "source": [
    "def full_triangle(n):\n",
    "    output = []\n",
    "    for i in range(n):\n",
    "        txt = ' ' * (n - i - 1) + '*' * (2 * i + 1)\n",
    "        output.append(txt)\n",
    "    return output\n",
    "\n",
    "t = full_triangle(10)\n",
    "print('\\n'.join(t))"
   ],
   "id": "31536186d4efd30f",
   "outputs": [
    {
     "name": "stdout",
     "output_type": "stream",
     "text": [
      "         *\n",
      "        ***\n",
      "       *****\n",
      "      *******\n",
      "     *********\n",
      "    ***********\n",
      "   *************\n",
      "  ***************\n",
      " *****************\n",
      "*******************\n"
     ]
    }
   ],
   "execution_count": 15
  },
  {
   "metadata": {
    "ExecuteTime": {
     "end_time": "2025-06-09T20:41:59.675019Z",
     "start_time": "2025-06-09T20:41:59.668190Z"
    }
   },
   "cell_type": "code",
   "source": [
    "def hollow_triangle(n):\n",
    "    output = []\n",
    "    for i in range(n):\n",
    "        if i == n - 1:\n",
    "            line = '*' * (2 * i + 1)\n",
    "        elif i == 0:\n",
    "            line = ' ' * (n - 1) + '*'\n",
    "        else:\n",
    "            space_inside = 2 * i - 1\n",
    "            line = ' ' * (n - i - 1) + '*' + ' ' * space_inside + '*'\n",
    "        output.append(line)\n",
    "    return output\n",
    "\n",
    "\n",
    "t = hollow_triangle(10)\n",
    "print('\\n'.join(t))"
   ],
   "id": "e458df3becb41128",
   "outputs": [
    {
     "name": "stdout",
     "output_type": "stream",
     "text": [
      "         *\n",
      "        * *\n",
      "       *   *\n",
      "      *     *\n",
      "     *       *\n",
      "    *         *\n",
      "   *           *\n",
      "  *             *\n",
      " *               *\n",
      "*******************\n"
     ]
    }
   ],
   "execution_count": 16
  },
  {
   "metadata": {
    "ExecuteTime": {
     "end_time": "2025-06-09T20:42:33.189023Z",
     "start_time": "2025-06-09T20:42:33.182621Z"
    }
   },
   "cell_type": "code",
   "source": [
    "def inverted_triangle(n):\n",
    "    output = []\n",
    "    for i in range(n):\n",
    "        txt = ' ' * i + '*' * (2 * (n - i) - 1)\n",
    "        output.append(txt)\n",
    "    return output\n",
    "\n",
    "\n",
    "t = inverted_triangle(10)\n",
    "print('\\n'.join(t))"
   ],
   "id": "9690922e562f9918",
   "outputs": [
    {
     "name": "stdout",
     "output_type": "stream",
     "text": [
      "*******************\n",
      " *****************\n",
      "  ***************\n",
      "   *************\n",
      "    ***********\n",
      "     *********\n",
      "      *******\n",
      "       *****\n",
      "        ***\n",
      "         *\n"
     ]
    }
   ],
   "execution_count": 17
  },
  {
   "metadata": {
    "ExecuteTime": {
     "end_time": "2025-06-09T20:46:00.722962Z",
     "start_time": "2025-06-09T20:46:00.718326Z"
    }
   },
   "cell_type": "code",
   "source": [
    "def custom_triangle(n):\n",
    "    output = []\n",
    "    for i in range(n):\n",
    "        txt = ' ' * (n - i - 1) + '❄️' * (2 * i + 1)\n",
    "        output.append(txt)\n",
    "    return output\n",
    "\n",
    "t = custom_triangle(10)\n",
    "print('\\n'.join(t))"
   ],
   "id": "f830c44f5990ae40",
   "outputs": [
    {
     "name": "stdout",
     "output_type": "stream",
     "text": [
      "         ❄️\n",
      "        ❄️❄️❄️\n",
      "       ❄️❄️❄️❄️❄️\n",
      "      ❄️❄️❄️❄️❄️❄️❄️\n",
      "     ❄️❄️❄️❄️❄️❄️❄️❄️❄️\n",
      "    ❄️❄️❄️❄️❄️❄️❄️❄️❄️❄️❄️\n",
      "   ❄️❄️❄️❄️❄️❄️❄️❄️❄️❄️❄️❄️❄️\n",
      "  ❄️❄️❄️❄️❄️❄️❄️❄️❄️❄️❄️❄️❄️❄️❄️\n",
      " ❄️❄️❄️❄️❄️❄️❄️❄️❄️❄️❄️❄️❄️❄️❄️❄️❄️\n",
      "❄️❄️❄️❄️❄️❄️❄️❄️❄️❄️❄️❄️❄️❄️❄️❄️❄️❄️❄️\n"
     ]
    }
   ],
   "execution_count": 19
  },
  {
   "metadata": {
    "ExecuteTime": {
     "end_time": "2025-06-09T20:47:52.216208Z",
     "start_time": "2025-06-09T20:47:52.209030Z"
    }
   },
   "cell_type": "code",
   "source": [
    "import random\n",
    "\n",
    "\n",
    "def festive_tree(height):\n",
    "    decorations = ['🎄', '⭐', '❄️', '🎁', '🎅', '🦌', '🍬', '🔔']\n",
    "    output = []\n",
    "    for i in range(height):\n",
    "        width = 2 * i + 1\n",
    "        row = ''.join(random.choice(decorations) for _ in range(width))\n",
    "        line = ' ' * (height - i - 1) + row\n",
    "        output.append(line)\n",
    "\n",
    "    stump = ' ' * (height - 1) + '🪵'\n",
    "    output.append(stump)\n",
    "    return output\n",
    "\n",
    "\n",
    "for line in festive_tree(10):\n",
    "    print(line)"
   ],
   "id": "de7760e2be5f764a",
   "outputs": [
    {
     "name": "stdout",
     "output_type": "stream",
     "text": [
      "         🔔\n",
      "        ❄️🎁⭐\n",
      "       ⭐🎁🍬🎄🔔\n",
      "      🎅❄️🎅🍬🍬❄️🦌\n",
      "     🍬🎅⭐⭐🎄🎅❄️🎁🔔\n",
      "    🔔🦌❄️⭐🎄⭐🦌🍬🔔🎄🦌\n",
      "   ❄️🎁🎅🍬🎁⭐🎅🎄❄️⭐🎁🦌🎁\n",
      "  🎄🔔🎄🎄🎁🎅⭐🎄🍬🎁🎁🎁🎄🎄❄️\n",
      " 🎅🦌🦌🍬🎅🎅🎄🎁⭐🦌🔔❄️⭐⭐⭐🎅🔔\n",
      "🔔🎅🎁🍬🍬🔔🦌❄️❄️🎁🍬🍬🎅🎄🎁🍬🦌🎁🎅\n",
      "         🪵\n"
     ]
    }
   ],
   "execution_count": 20
  },
  {
   "metadata": {
    "ExecuteTime": {
     "end_time": "2025-06-09T20:49:55.040702Z",
     "start_time": "2025-06-09T20:49:47.413063Z"
    }
   },
   "cell_type": "code",
   "source": [
    "import random\n",
    "\n",
    "def festive_tree(height):\n",
    "    decorations = ['🎄', '⭐', '❄️', '🎁', '🎅', '🦌', '🍬', '🔔']\n",
    "    output = []\n",
    "    for i in range(height):\n",
    "        width = 2 * i + 1\n",
    "        row = ''.join(random.choice(decorations) for _ in range(width))\n",
    "        line = ' ' * (height - i - 1) + row\n",
    "        output.append(line)\n",
    "    output.append(' ' * (height - 1) + '🪵')\n",
    "    return output\n",
    "\n",
    "\n",
    "try:\n",
    "    h = int(input(\"🎄 Enter the height of Christmas tree: \"))\n",
    "    tree = festive_tree(h)\n",
    "    print(\"\\n\".join(tree))\n",
    "except ValueError:\n",
    "    print(\"❗ Please enter correct primary number.\")\n"
   ],
   "id": "711d9430d980d1d1",
   "outputs": [
    {
     "name": "stdout",
     "output_type": "stream",
     "text": [
      "         🎁\n",
      "        🔔🔔🦌\n",
      "       ❄️🔔❄️🎄🍬\n",
      "      ❄️🎅🔔🦌🎁⭐🔔\n",
      "     🔔🦌🦌⭐🍬🎅🔔❄️🎄\n",
      "    🍬🔔🎁🎅❄️🎁🔔⭐🦌❄️🔔\n",
      "   🍬🔔🎁🎄⭐🎅🎅🔔🎄⭐🍬🎅🔔\n",
      "  🦌🎁🔔🎄🍬⭐🦌🍬🦌🔔🍬🍬🔔❄️🍬\n",
      " 🎁🎅🎁🎄🔔🔔🦌❄️🦌🎄🎅🎁🎁🔔🦌🔔❄️\n",
      "🔔🎅⭐🔔🎄🎅🔔❄️⭐🍬🔔🦌🎄⭐🎁🎄⭐🍬🍬\n",
      "         🪵\n"
     ]
    }
   ],
   "execution_count": 21
  },
  {
   "metadata": {
    "ExecuteTime": {
     "end_time": "2025-06-09T20:52:32.651406Z",
     "start_time": "2025-06-09T20:52:32.638195Z"
    }
   },
   "cell_type": "code",
   "source": [
    "import random\n",
    "\n",
    "def festive_tree(height):\n",
    "    decorations = ['🎄', '⭐', '❄️', '🎁', '🎅', '🦌', '🍬', '🔔']\n",
    "    output = []\n",
    "    for i in range(height):\n",
    "        width = 2 * i + 1\n",
    "        row = ''.join(random.choice(decorations) for _ in range(width))\n",
    "        line = ' ' * (height - i - 1) + row\n",
    "        output.append(line)\n",
    "    output.append(' ' * (height - 1) + '🪵')\n",
    "    return output\n",
    "\n",
    "\n",
    "height = 12\n",
    "tree = festive_tree(height)\n",
    "with open(\"tree.txt\", \"w\", encoding=\"utf-8\") as file:\n",
    "    file.write('\\n'.join(tree))\n",
    "\n",
    "print(\"✅ tree saved to file 'tree.txt'!\")\n"
   ],
   "id": "59c6518e8898f1b7",
   "outputs": [
    {
     "name": "stdout",
     "output_type": "stream",
     "text": [
      "✅ tree saved to file 'tree.txt'!\n"
     ]
    }
   ],
   "execution_count": 22
  },
  {
   "metadata": {
    "ExecuteTime": {
     "end_time": "2025-06-09T20:59:51.745457Z",
     "start_time": "2025-06-09T20:59:46.730665Z"
    }
   },
   "cell_type": "code",
   "source": [
    "import random\n",
    "import time\n",
    "import os\n",
    "\n",
    "def clear():\n",
    "\n",
    "    print(\"\\n\" * 50)\n",
    "\n",
    "def festive_tree(height):\n",
    "    decorations = ['🎄', '⭐', '❄️', '🎁', '🎅', '🦌', '🍬', '🔔']\n",
    "    tree = []\n",
    "    for i in range(height):\n",
    "        width = 2 * i + 1\n",
    "        row = ''.join(random.choice(decorations) for _ in range(width))\n",
    "        line = ' ' * (height - i - 1) + row\n",
    "        tree.append(line)\n",
    "    tree.append(' ' * (height - 1) + '🪵')\n",
    "    return tree\n",
    "\n",
    "def animate_tree(height=12, frames=10, delay=0.5):\n",
    "    for _ in range(frames):\n",
    "        clear()\n",
    "        tree = festive_tree(height)\n",
    "        print('\\n'.join(tree))\n",
    "        time.sleep(delay)\n",
    "\n",
    "animate_tree()\n"
   ],
   "id": "9a362a727df08c6a",
   "outputs": [
    {
     "name": "stdout",
     "output_type": "stream",
     "text": [
      "\n",
      "\n",
      "\n",
      "\n",
      "\n",
      "\n",
      "\n",
      "\n",
      "\n",
      "\n",
      "\n",
      "\n",
      "\n",
      "\n",
      "\n",
      "\n",
      "\n",
      "\n",
      "\n",
      "\n",
      "\n",
      "\n",
      "\n",
      "\n",
      "\n",
      "\n",
      "\n",
      "\n",
      "\n",
      "\n",
      "\n",
      "\n",
      "\n",
      "\n",
      "\n",
      "\n",
      "\n",
      "\n",
      "\n",
      "\n",
      "\n",
      "\n",
      "\n",
      "\n",
      "\n",
      "\n",
      "\n",
      "\n",
      "\n",
      "\n",
      "\n",
      "           🎅\n",
      "          🎁🦌⭐\n",
      "         ❄️🎄🍬❄️🎄\n",
      "        🍬🎄❄️🍬🔔🦌🔔\n",
      "       🎅🎁🎄🍬⭐⭐❄️🎄🔔\n",
      "      ⭐⭐🎄❄️❄️🎁⭐🔔🦌🍬🔔\n",
      "     🦌🦌🦌⭐🎅🎅🦌🍬⭐🎁🔔🍬🎁\n",
      "    🍬🎁🎄🎄❄️🎄🔔🎁🎄❄️🎅⭐🦌🦌🎄\n",
      "   🎁🎅🎅🎁⭐🎁🎄🎅⭐🎅🎅🍬🔔🍬⭐🔔🔔\n",
      "  🍬🎅🎄🎄⭐🦌🔔🦌🍬🍬🎄❄️❄️🎁🎅🎅🍬🎄🎁\n",
      " 🦌🎄❄️🎅⭐🍬❄️🎅🔔🎄🔔🍬🦌🎅🎅❄️❄️🎁🎄🍬🦌\n",
      "🎅🔔🎄❄️⭐🎁🍬🔔❄️🔔🍬⭐🎄🔔🎄🎅🔔🎁🎄❄️🎄❄️🎅\n",
      "           🪵\n",
      "\n",
      "\n",
      "\n",
      "\n",
      "\n",
      "\n",
      "\n",
      "\n",
      "\n",
      "\n",
      "\n",
      "\n",
      "\n",
      "\n",
      "\n",
      "\n",
      "\n",
      "\n",
      "\n",
      "\n",
      "\n",
      "\n",
      "\n",
      "\n",
      "\n",
      "\n",
      "\n",
      "\n",
      "\n",
      "\n",
      "\n",
      "\n",
      "\n",
      "\n",
      "\n",
      "\n",
      "\n",
      "\n",
      "\n",
      "\n",
      "\n",
      "\n",
      "\n",
      "\n",
      "\n",
      "\n",
      "\n",
      "\n",
      "\n",
      "\n",
      "\n",
      "           🦌\n",
      "          🎁🍬❄️\n",
      "         🎁🎁🔔🎄🦌\n",
      "        ❄️🍬🎅⭐🎄⭐🦌\n",
      "       🎁🔔🎄🍬🎄🎄🔔🎁🎄\n",
      "      🎄🍬🍬🎄🍬🍬🦌🦌🎁🎄🍬\n",
      "     🎄🎁❄️🔔❄️🎄🎁⭐🦌🦌🍬🔔🎁\n",
      "    🎄🔔❄️🍬🔔🎁🔔🍬🎄🍬🎁🍬🦌🔔🍬\n",
      "   🍬❄️🍬🎄🔔🍬🎁🔔🍬⭐🦌🦌🦌🦌🎁❄️🍬\n",
      "  🦌🦌⭐🦌🦌🍬🔔🔔🎁🔔🎁🎄🎁🦌🍬❄️🔔🎄⭐\n",
      " 🎅🎄🔔❄️⭐🎅🔔🎄🍬🔔🎁🦌🍬🦌🎅🔔🦌🔔🎄🎁🎄\n",
      "🎄🦌🔔🎅⭐🦌🎄❄️🍬🍬🍬🎅❄️⭐⭐❄️❄️🎁🎄⭐⭐⭐❄️\n",
      "           🪵\n",
      "\n",
      "\n",
      "\n",
      "\n",
      "\n",
      "\n",
      "\n",
      "\n",
      "\n",
      "\n",
      "\n",
      "\n",
      "\n",
      "\n",
      "\n",
      "\n",
      "\n",
      "\n",
      "\n",
      "\n",
      "\n",
      "\n",
      "\n",
      "\n",
      "\n",
      "\n",
      "\n",
      "\n",
      "\n",
      "\n",
      "\n",
      "\n",
      "\n",
      "\n",
      "\n",
      "\n",
      "\n",
      "\n",
      "\n",
      "\n",
      "\n",
      "\n",
      "\n",
      "\n",
      "\n",
      "\n",
      "\n",
      "\n",
      "\n",
      "\n",
      "\n",
      "           🦌\n",
      "          🦌⭐⭐\n",
      "         🎄🎅🦌🎄🦌\n",
      "        ❄️🎁🎅🎄🎁🎁🎅\n",
      "       🍬🎅🔔❄️🎁❄️⭐🦌🎅\n",
      "      🦌❄️🦌🍬❄️⭐🦌🦌🎅🎅🎄\n",
      "     ⭐🎁🔔🔔🎄🎄❄️🍬🦌🔔🎁⭐🔔\n",
      "    ⭐❄️🎄🦌🎅🦌🔔🍬⭐🔔⭐🎅🍬⭐🦌\n",
      "   🎅🎁🦌🎄🎁🔔🎅🎄🎄🎄❄️🎁⭐🍬🔔🔔🎄\n",
      "  🦌⭐🔔🍬🎅❄️🎄🎅🎅🎄🎄🎁❄️🦌❄️❄️🔔🍬🍬\n",
      " ⭐❄️⭐🎄🎄🎄❄️❄️🎄🍬⭐🔔🎁🎁⭐🦌⭐❄️❄️🔔🍬\n",
      "🎁⭐🔔🦌🔔🍬🎅🍬🔔❄️🔔🎄🎅🦌⭐🎄🎄⭐🎁🔔🎄🎄🍬\n",
      "           🪵\n",
      "\n",
      "\n",
      "\n",
      "\n",
      "\n",
      "\n",
      "\n",
      "\n",
      "\n",
      "\n",
      "\n",
      "\n",
      "\n",
      "\n",
      "\n",
      "\n",
      "\n",
      "\n",
      "\n",
      "\n",
      "\n",
      "\n",
      "\n",
      "\n",
      "\n",
      "\n",
      "\n",
      "\n",
      "\n",
      "\n",
      "\n",
      "\n",
      "\n",
      "\n",
      "\n",
      "\n",
      "\n",
      "\n",
      "\n",
      "\n",
      "\n",
      "\n",
      "\n",
      "\n",
      "\n",
      "\n",
      "\n",
      "\n",
      "\n",
      "\n",
      "\n",
      "           🎅\n",
      "          🦌🔔🔔\n",
      "         🦌🦌🔔🦌🦌\n",
      "        🎁🎄🎁🎄🦌🍬🎁\n",
      "       🍬⭐🍬🎄🎁🎄🍬🎅❄️\n",
      "      ❄️🎅🦌⭐🔔🔔🍬🍬🎁🎄🍬\n",
      "     🔔🎁⭐🎅🎅🎅🔔🍬🦌🦌🦌🎁🦌\n",
      "    ❄️🔔🦌🦌🔔🍬⭐🎄🎁🔔🎅🦌🎁🎅🎅\n",
      "   🎁❄️❄️❄️🎅⭐🔔🎁🎁❄️🍬⭐🍬❄️🎁❄️❄️\n",
      "  🦌🦌🔔🎅🎁🎄🎁🎄🦌🎄🔔🦌🎄🎅🎅🍬🎄🎅⭐\n",
      " 🍬🍬❄️🦌❄️🍬❄️🔔🎅🔔🍬❄️🍬🎁🍬🔔❄️🎅🍬🦌❄️\n",
      "🎄🦌🦌🔔🔔🦌⭐🎄🎁🔔🍬🦌🎄🔔⭐🎁🍬⭐🍬⭐🎁🦌🍬\n",
      "           🪵\n",
      "\n",
      "\n",
      "\n",
      "\n",
      "\n",
      "\n",
      "\n",
      "\n",
      "\n",
      "\n",
      "\n",
      "\n",
      "\n",
      "\n",
      "\n",
      "\n",
      "\n",
      "\n",
      "\n",
      "\n",
      "\n",
      "\n",
      "\n",
      "\n",
      "\n",
      "\n",
      "\n",
      "\n",
      "\n",
      "\n",
      "\n",
      "\n",
      "\n",
      "\n",
      "\n",
      "\n",
      "\n",
      "\n",
      "\n",
      "\n",
      "\n",
      "\n",
      "\n",
      "\n",
      "\n",
      "\n",
      "\n",
      "\n",
      "\n",
      "\n",
      "\n",
      "           🔔\n",
      "          🍬🔔❄️\n",
      "         🎁❄️🎅❄️🎅\n",
      "        🎅🍬🦌🎅🎅🎁🍬\n",
      "       🎁🦌🍬🎁⭐🎅🎅❄️🍬\n",
      "      🎁🍬🍬🔔⭐🍬🍬⭐🍬❄️🎅\n",
      "     🦌⭐🎄🎅🍬🔔🎁🎁🎄⭐🔔⭐🦌\n",
      "    🎁🍬🍬🎁🦌🍬🦌❄️🎄🎁🎅🍬🎅❄️🎄\n",
      "   ⭐🍬❄️🎁⭐⭐🔔🎁⭐🔔🍬🎄🎁⭐⭐🎄🎁\n",
      "  🔔🎄❄️🎅🦌🎁🦌⭐⭐⭐🎅🎅🎅🍬🎅🦌🔔🔔🎁\n",
      " 🍬🦌🎅🎅🔔🍬🎅🦌❄️🔔🔔❄️🎁❄️🎁🎄⭐🎅🍬🎄🦌\n",
      "🎄❄️⭐⭐🔔🍬🎄🎁🎅🎁🦌🎁🦌❄️⭐🔔🍬🎁🎁🍬🦌🦌🎁\n",
      "           🪵\n",
      "\n",
      "\n",
      "\n",
      "\n",
      "\n",
      "\n",
      "\n",
      "\n",
      "\n",
      "\n",
      "\n",
      "\n",
      "\n",
      "\n",
      "\n",
      "\n",
      "\n",
      "\n",
      "\n",
      "\n",
      "\n",
      "\n",
      "\n",
      "\n",
      "\n",
      "\n",
      "\n",
      "\n",
      "\n",
      "\n",
      "\n",
      "\n",
      "\n",
      "\n",
      "\n",
      "\n",
      "\n",
      "\n",
      "\n",
      "\n",
      "\n",
      "\n",
      "\n",
      "\n",
      "\n",
      "\n",
      "\n",
      "\n",
      "\n",
      "\n",
      "\n",
      "           🎄\n",
      "          🎅🍬🎄\n",
      "         ❄️🎅🦌🎄❄️\n",
      "        🎁🍬🎁🎁🎅❄️🦌\n",
      "       🎄🔔🎁⭐🎁🎅🦌🔔🎁\n",
      "      🎅🎄⭐🔔❄️🔔❄️🎅⭐🍬⭐\n",
      "     🍬❄️🎄🎁🎁🍬🎁🎅🎁🎄❄️❄️🎄\n",
      "    🎁⭐🎁🦌❄️🦌🦌🔔🍬🎅⭐🦌🦌🍬🎄\n",
      "   🎅🔔🎄⭐🎄🦌🦌🎄⭐🔔🎅🔔🔔🎁🎄🎅🍬\n",
      "  🔔🍬🦌🎄🦌🔔⭐❄️🦌❄️❄️🎁🍬🎄🎄🎅🔔🎅🎁\n",
      " 🎄🎁⭐🎁🍬🦌🍬⭐🦌🎄🔔🎅🎁🎅🎅🎄❄️🎄🔔🎁⭐\n",
      "🔔🔔🎄🍬🎅❄️🦌⭐🦌🔔⭐🎅🎄🎅🔔🔔🔔🦌🎅🍬🎄🎄❄️\n",
      "           🪵\n",
      "\n",
      "\n",
      "\n",
      "\n",
      "\n",
      "\n",
      "\n",
      "\n",
      "\n",
      "\n",
      "\n",
      "\n",
      "\n",
      "\n",
      "\n",
      "\n",
      "\n",
      "\n",
      "\n",
      "\n",
      "\n",
      "\n",
      "\n",
      "\n",
      "\n",
      "\n",
      "\n",
      "\n",
      "\n",
      "\n",
      "\n",
      "\n",
      "\n",
      "\n",
      "\n",
      "\n",
      "\n",
      "\n",
      "\n",
      "\n",
      "\n",
      "\n",
      "\n",
      "\n",
      "\n",
      "\n",
      "\n",
      "\n",
      "\n",
      "\n",
      "\n",
      "           🎅\n",
      "          ⭐🎅🦌\n",
      "         🎄⭐⭐🍬🍬\n",
      "        🎁🎁🍬🔔🎁🎁🎁\n",
      "       ⭐🎅🦌⭐🍬⭐🍬❄️🍬\n",
      "      🎁❄️⭐🎄❄️⭐🎁🔔🎄🔔🦌\n",
      "     🦌🦌🍬🔔🍬❄️❄️🍬🍬🍬🍬❄️🦌\n",
      "    ⭐🔔❄️🦌⭐❄️⭐🔔🎁🎄🎁🍬🎅❄️❄️\n",
      "   ⭐❄️🦌🦌⭐🎅🦌🎄⭐🎅🦌⭐🎄🎄🦌⭐🔔\n",
      "  🔔🎅🔔🎄🎄🎄🍬🍬🎄❄️🦌🔔🎅🔔🦌🔔🦌🎁🍬\n",
      " 🎄🎅🔔🦌🎁🎁❄️🔔🍬🔔🍬🦌🎅🎄🔔🎅🎅🎅🎅⭐🎁\n",
      "🎅🎅⭐🎁🎄🎅❄️🍬❄️🎁🦌🎅🎄🍬🎁🎁🔔🎄🍬❄️⭐🍬🔔\n",
      "           🪵\n",
      "\n",
      "\n",
      "\n",
      "\n",
      "\n",
      "\n",
      "\n",
      "\n",
      "\n",
      "\n",
      "\n",
      "\n",
      "\n",
      "\n",
      "\n",
      "\n",
      "\n",
      "\n",
      "\n",
      "\n",
      "\n",
      "\n",
      "\n",
      "\n",
      "\n",
      "\n",
      "\n",
      "\n",
      "\n",
      "\n",
      "\n",
      "\n",
      "\n",
      "\n",
      "\n",
      "\n",
      "\n",
      "\n",
      "\n",
      "\n",
      "\n",
      "\n",
      "\n",
      "\n",
      "\n",
      "\n",
      "\n",
      "\n",
      "\n",
      "\n",
      "\n",
      "           🔔\n",
      "          🔔🎄🎅\n",
      "         🎄🔔🔔🎅🦌\n",
      "        🔔🎄❄️🦌🍬🔔🍬\n",
      "       🔔🎅🎄🔔🎁❄️🔔🔔🔔\n",
      "      🎁🎁🔔🎁⭐⭐🎄🔔🎁🔔🎅\n",
      "     🎄⭐⭐⭐🎁🦌🎅🦌🍬❄️⭐🎄⭐\n",
      "    🎄⭐❄️🎁🎅🔔❄️❄️❄️🦌🎅🍬🦌🎅🎅\n",
      "   🎄❄️❄️🍬🎅🎁🍬⭐❄️❄️❄️🍬⭐🍬🔔🎅🔔\n",
      "  🍬🔔🎁🔔🎄⭐🔔🎅🔔🎁❄️🎅🔔🎅❄️🎅🔔❄️🦌\n",
      " 🍬⭐⭐❄️🦌⭐🎅🍬⭐🦌🎁🍬🔔🔔🦌🎄🔔⭐❄️❄️🎄\n",
      "🦌⭐❄️⭐🔔⭐🎄❄️🔔🎅🎁🦌🔔⭐🦌⭐⭐🍬🦌❄️🎅🎁🍬\n",
      "           🪵\n",
      "\n",
      "\n",
      "\n",
      "\n",
      "\n",
      "\n",
      "\n",
      "\n",
      "\n",
      "\n",
      "\n",
      "\n",
      "\n",
      "\n",
      "\n",
      "\n",
      "\n",
      "\n",
      "\n",
      "\n",
      "\n",
      "\n",
      "\n",
      "\n",
      "\n",
      "\n",
      "\n",
      "\n",
      "\n",
      "\n",
      "\n",
      "\n",
      "\n",
      "\n",
      "\n",
      "\n",
      "\n",
      "\n",
      "\n",
      "\n",
      "\n",
      "\n",
      "\n",
      "\n",
      "\n",
      "\n",
      "\n",
      "\n",
      "\n",
      "\n",
      "\n",
      "           🎄\n",
      "          🔔⭐🎁\n",
      "         🎅🍬🎅🔔🎄\n",
      "        🎄🍬❄️🎅🎁🎁🦌\n",
      "       ❄️🎁❄️🎁🦌🍬🍬🎁⭐\n",
      "      🎄⭐🍬🦌🎄🔔⭐🎅🍬🎄🎁\n",
      "     🍬🍬❄️❄️🎅🎄❄️🎅🎁❄️🔔❄️🎄\n",
      "    🎄🦌❄️🎅🔔🍬🔔🍬🎁🔔🍬❄️🦌🎅🔔\n",
      "   🎅🔔🎄🎅🍬⭐🎅🎄🎅🍬❄️🍬⭐🎄❄️⭐❄️\n",
      "  🎄🎄🍬🍬❄️🎁⭐🎄🍬🍬🎅🦌❄️🦌❄️❄️🦌❄️🎁\n",
      " 🎅🎅🍬🦌🦌🎅⭐🎁🦌🍬🎁❄️🎁🍬🔔🔔🎅🦌🍬⭐🎅\n",
      "🦌🎁🦌🎅🔔🎁⭐🦌❄️🍬🎁🎄🔔🎄⭐🎅🔔⭐🎁🎄🔔🎅🎄\n",
      "           🪵\n",
      "\n",
      "\n",
      "\n",
      "\n",
      "\n",
      "\n",
      "\n",
      "\n",
      "\n",
      "\n",
      "\n",
      "\n",
      "\n",
      "\n",
      "\n",
      "\n",
      "\n",
      "\n",
      "\n",
      "\n",
      "\n",
      "\n",
      "\n",
      "\n",
      "\n",
      "\n",
      "\n",
      "\n",
      "\n",
      "\n",
      "\n",
      "\n",
      "\n",
      "\n",
      "\n",
      "\n",
      "\n",
      "\n",
      "\n",
      "\n",
      "\n",
      "\n",
      "\n",
      "\n",
      "\n",
      "\n",
      "\n",
      "\n",
      "\n",
      "\n",
      "\n",
      "           🍬\n",
      "          ⭐🦌🎅\n",
      "         🦌🎅🔔🦌🍬\n",
      "        🦌🦌🎅🍬⭐🎅🎄\n",
      "       🎁🎅🎅🍬⭐🎅🎁⭐🎅\n",
      "      🎅🍬🦌❄️🦌🎅🦌🔔⭐❄️🍬\n",
      "     ⭐❄️🎁🎄🦌🍬❄️🦌🦌⭐❄️🦌🍬\n",
      "    🦌🍬🔔⭐🎅🍬🎅❄️🦌🎅🦌⭐❄️🔔🦌\n",
      "   🔔🔔⭐🎅⭐🎅🎅🎅🎄🎅⭐❄️❄️🎁🍬❄️🎁\n",
      "  🍬🎅🔔🎅🎅🦌⭐🎄🔔❄️🔔🎄🎁🎅🎄🎁🎄❄️🎅\n",
      " 🎄🦌❄️🎁🍬❄️🔔🦌🎄🔔❄️🎅🎄❄️🎁🦌🎅🎄🎁⭐🎅\n",
      "🍬🦌🍬❄️🎁🍬⭐❄️🎁🔔🎄❄️🎅🦌🔔🎅🎅🎅🎅🔔🦌❄️🎅\n",
      "           🪵\n"
     ]
    }
   ],
   "execution_count": 23
  },
  {
   "metadata": {
    "ExecuteTime": {
     "end_time": "2025-06-09T21:11:17.465010Z",
     "start_time": "2025-06-09T21:11:17.458202Z"
    }
   },
   "cell_type": "code",
   "source": [
    "a = 10\n",
    "def sth():\n",
    "    global a\n",
    "    a = 20\n",
    "    print(a)\n",
    "\n",
    "print(a)\n",
    "sth()\n",
    "print(a)"
   ],
   "id": "6cbfa8a267942b8b",
   "outputs": [
    {
     "name": "stdout",
     "output_type": "stream",
     "text": [
      "10\n",
      "20\n",
      "20\n"
     ]
    }
   ],
   "execution_count": 25
  },
  {
   "metadata": {},
   "cell_type": "code",
   "outputs": [],
   "execution_count": null,
   "source": "",
   "id": "b5c5bdcbba75571"
  },
  {
   "metadata": {},
   "cell_type": "code",
   "outputs": [],
   "execution_count": null,
   "source": "",
   "id": "5e480f5cd3648b92"
  },
  {
   "metadata": {},
   "cell_type": "code",
   "outputs": [],
   "execution_count": null,
   "source": "",
   "id": "9c9542d65f42445b"
  },
  {
   "metadata": {},
   "cell_type": "code",
   "outputs": [],
   "execution_count": null,
   "source": "",
   "id": "90772973539f7ce1"
  },
  {
   "metadata": {},
   "cell_type": "code",
   "outputs": [],
   "execution_count": null,
   "source": "",
   "id": "daf8f6abc962ecc1"
  }
 ],
 "metadata": {
  "kernelspec": {
   "display_name": "Python 3",
   "language": "python",
   "name": "python3"
  },
  "language_info": {
   "codemirror_mode": {
    "name": "ipython",
    "version": 2
   },
   "file_extension": ".py",
   "mimetype": "text/x-python",
   "name": "python",
   "nbconvert_exporter": "python",
   "pygments_lexer": "ipython2",
   "version": "2.7.6"
  }
 },
 "nbformat": 4,
 "nbformat_minor": 5
}
