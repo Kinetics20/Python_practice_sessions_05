{
 "cells": [
  {
   "metadata": {},
   "cell_type": "markdown",
   "source": [
    "# Python Data types features comparision\n",
    "\n",
    "| Data Type    | Iterable | Hashable | Mutable | Immutable | Heterogeneous | Homogeneous | Ordered | Sequence Protocol | Unordered | Packing - Unpacking |\n",
    "|--------------|----------|----------|---------|-----------|---------------|-------------|---------|-------------------|-----------|---------------------|\n",
    "| `int`        |    -     |    +     |    -    |     +     |       -       |      +      |    -    |         -         |     -     |          -          |\n",
    "| `float`      |    -     |    +     |    -    |     +     |       -       |      +      |    -    |         -         |     -     |          -          |\n",
    "| `complex`    |    -     |    +     |    -    |     +     |       -       |      +      |    -    |         -         |     -     |          -          |\n",
    "| `bool`       |    -     |    +     |    -    |     +     |       -       |      +      |    -    |         -         |     -     |          -          |\n",
    "| `NoneType`   |    -     |    +     |    -    |     +     |       -       |      +      |    -    |         -         |     -     |          -          |\n",
    "| `str`        |    +     |    +     |    -    |     +     |       -       |      +      |    +    |         +         |     -     |          -          |\n",
    "| `bytes`      |    +     |    +     |    -    |     +     |       -       |      +      |    +    |         +         |     -     |          -          |\n",
    "| `bytearray`  |    +     |    -     |    +    |     -     |       -       |      +      |    +    |         +         |     -     |          -          |\n",
    "| `range`      |    +     |    +     |    -    |     +     |       -       |      +      |    +    |         +         |     -     |          -          |\n",
    "| `list`       |    +     |    -     |    +    |     -     |       +       |      -      |    +    |         +         |     -     |          +          |\n",
    "| `tuple`      |    +     |    +     |    -    |     +     |       +       |      -      |    +    |         +         |     -     |          +          |\n",
    "| `set`        |    +     |    -     |    +    |     -     |       +       |      -      |    -    |         -         |     +     |          -          |\n",
    "| `frozenset`  |    +     |    +     |    -    |     +     |       +       |      -      |    -    |         -         |     +     |          -          |\n",
    "| `dict`       |    +     |    -     |    +    |     -     |       +       |      -      |    +    |         -         |     -     |          -          |\n"
   ],
   "id": "94af30585bc200f0"
  },
  {
   "metadata": {},
   "cell_type": "code",
   "outputs": [],
   "execution_count": null,
   "source": "",
   "id": "770396e9d485ff8b"
  }
 ],
 "metadata": {
  "kernelspec": {
   "display_name": "Python 3",
   "language": "python",
   "name": "python3"
  },
  "language_info": {
   "codemirror_mode": {
    "name": "ipython",
    "version": 2
   },
   "file_extension": ".py",
   "mimetype": "text/x-python",
   "name": "python",
   "nbconvert_exporter": "python",
   "pygments_lexer": "ipython2",
   "version": "2.7.6"
  }
 },
 "nbformat": 4,
 "nbformat_minor": 5
}
